{
 "cells": [
  {
   "cell_type": "markdown",
   "metadata": {},
   "source": [
    "1. 사용자로부터 변수 x, 변수 y를 입력받아 더하고 곱하는 프로그램을 작성하세요.\n",
    "실행 :\n",
    "* x 값을 입력해주세요 : 20\n",
    "* y 값을 입력해주세요 : 30\n",
    "* 결과 :\n",
    "50\n",
    "600"
   ]
  },
  {
   "cell_type": "code",
   "execution_count": 3,
   "metadata": {},
   "outputs": [
    {
     "name": "stdout",
     "output_type": "stream",
     "text": [
      "50\n",
      "600\n"
     ]
    }
   ],
   "source": [
    "x = input('x 값을 입력해주세요:')\n",
    "y = input('y 값을 입력해주세요:')\n",
    "\n",
    "x = int(x)\n",
    "y = int(y)\n",
    "\n",
    "print(x+y)\n",
    "print(x*y)"
   ]
  },
  {
   "cell_type": "markdown",
   "metadata": {},
   "source": [
    "2. 사용자로부터 5개의 값을 입력 받아 리스트에 넣고 생성된 리스트에서 두번째, 네번째 값을 삭제한 뒤 출력하세요.\n",
    "* 실행:\n",
    "    * 첫번째 값을 입력해주세요 : 10\n",
    "    * 두번째 값을 입력해주세요 : 20\n",
    "    * 세번째 값을 입력해주세요 : 30\n",
    "    * 네번째 값을 입력해주세요 : 40\n",
    "    * 다섯번째 값을 입력해주세요 : 50\n",
    "    * 결과 : [10, 30, 50]"
   ]
  },
  {
   "cell_type": "code",
   "execution_count": 10,
   "metadata": {},
   "outputs": [
    {
     "data": {
      "text/plain": [
       "['10', '30', '50']"
      ]
     },
     "execution_count": 10,
     "metadata": {},
     "output_type": "execute_result"
    }
   ],
   "source": [
    "user_input1 = input('첫번째 값을 입력해주세요')\n",
    "user_input2 = input('두번째 값을 입력해주세요')\n",
    "user_input3 = input('세번째 값을 입력해주세요')\n",
    "user_input4 = input('네번째 값을 입력해주세요')\n",
    "user_input5 = input('다섯번째 값을 입력해주세요')\n",
    "\n",
    "my_list = [user_input1,user_input2,user_input3,user_input4,user_input5]\n",
    "\n",
    "my_list.pop(3)\n",
    "my_list.pop(1)\n",
    "\n",
    "my_list\n",
    "\n"
   ]
  },
  {
   "cell_type": "markdown",
   "metadata": {},
   "source": [
    "3. 다음과 같은 number = [[1,2,3],[4,5,[7,8]]] 리스트를 만들고 모든값에 직접 접근하여 값을\n",
    "모두 0으로 변경한 뒤 출력하세요.\n",
    "* 실행:\n",
    "     * [[0,0,0],[0,0,[0,0]]]"
   ]
  },
  {
   "cell_type": "code",
   "execution_count": 98,
   "metadata": {},
   "outputs": [
    {
     "data": {
      "text/plain": [
       "[[0, 0, 0], [0, 0, [0, 0]]]"
      ]
     },
     "execution_count": 98,
     "metadata": {},
     "output_type": "execute_result"
    }
   ],
   "source": [
    "number = [[1,2,3],[4,5,[7,8]]]\n",
    "\n",
    "# number[1][2]\n",
    "# for key in range(0, len(number)):\n",
    "#     print(number[key])\n",
    "#     if key >= 1:\n",
    "#         for num in range(0, len(number[key])):\n",
    "#             print(number[key])\n",
    "# number\n",
    "\n",
    "\n",
    "# for nums in number:\n",
    "#     print(nums)\n",
    "\n",
    "# for key in range(0, len(number)):\n",
    "#     if key>= 1:\n",
    "#     for num in range(0, len(number)):\n",
    "#         number[key][num] = 0\n",
    "# number\n",
    "\n",
    "number[0][0] =0\n",
    "number[0][1] =0\n",
    "number[0][2] =0\n",
    "number[1][0] =0\n",
    "number[1][1] =0\n",
    "number[1][2][0] =0\n",
    "number[1][2][1] =0\n",
    "\n",
    "\n",
    "number\n",
    "\n"
   ]
  },
  {
   "cell_type": "markdown",
   "metadata": {},
   "source": [
    "4. 다음과 같은 fruit = [\"사과\",\"배\",\"딸기\",\"옥수수\"] 리스트를 만들고 유저에게 두가지 과일을\n",
    "입력 받아 첫번째 입력한 과일을 찾아 두번째 입력한 과일로 변경한 뒤 출력하세요.\n",
    "* 실행 :\n",
    "    * 바꿀 과일을 입력하세요 : 배\n",
    "    * 어떤 과일로 바꾸실래요 : 복숭아\n",
    "    * ['사과', '복숭아', '딸기', '옥수수']"
   ]
  },
  {
   "cell_type": "code",
   "execution_count": 113,
   "metadata": {},
   "outputs": [
    {
     "data": {
      "text/plain": [
       "1"
      ]
     },
     "execution_count": 113,
     "metadata": {},
     "output_type": "execute_result"
    }
   ],
   "source": [
    "fruit= ['사과', '배', '딸기', '옥수수']\n",
    "\n",
    "user_input1 = input('바꿀 과일을 입력하세요: ')\n",
    "user_input2 = input('어떤 과일로 바꾸실래요: ')\n",
    "\n",
    "\n",
    "fruit_idx = fruit.index(user_input1)\n",
    "fruit_idx"
   ]
  },
  {
   "cell_type": "code",
   "execution_count": 111,
   "metadata": {},
   "outputs": [
    {
     "ename": "ValueError",
     "evalue": "'복숭아' is not in list",
     "output_type": "error",
     "traceback": [
      "\u001b[1;31m---------------------------------------------------------------------------\u001b[0m",
      "\u001b[1;31mValueError\u001b[0m                                Traceback (most recent call last)",
      "\u001b[1;32mc:\\Users\\seoyj\\바탕 화면\\python_selfstudy\\review.ipynb 셀 9\u001b[0m in \u001b[0;36m<cell line: 1>\u001b[1;34m()\u001b[0m\n\u001b[1;32m----> <a href='vscode-notebook-cell:/c%3A/Users/seoyj/%EB%B0%94%ED%83%95%20%ED%99%94%EB%A9%B4/python_selfstudy/review.ipynb#X15sZmlsZQ%3D%3D?line=0'>1</a>\u001b[0m fruit_idx \u001b[39m=\u001b[39m fruit\u001b[39m.\u001b[39;49mindex(user_input1)\n\u001b[0;32m      <a href='vscode-notebook-cell:/c%3A/Users/seoyj/%EB%B0%94%ED%83%95%20%ED%99%94%EB%A9%B4/python_selfstudy/review.ipynb#X15sZmlsZQ%3D%3D?line=1'>2</a>\u001b[0m fruit_idx\n",
      "\u001b[1;31mValueError\u001b[0m: '복숭아' is not in list"
     ]
    }
   ],
   "source": []
  }
 ],
 "metadata": {
  "kernelspec": {
   "display_name": "Python 3.10.4 ('study')",
   "language": "python",
   "name": "python3"
  },
  "language_info": {
   "codemirror_mode": {
    "name": "ipython",
    "version": 3
   },
   "file_extension": ".py",
   "mimetype": "text/x-python",
   "name": "python",
   "nbconvert_exporter": "python",
   "pygments_lexer": "ipython3",
   "version": "3.10.4"
  },
  "orig_nbformat": 4,
  "vscode": {
   "interpreter": {
    "hash": "0366d95cfe3e294a9405a60bcbbb3d4cd1344975bbb420614b4c3178f22fa862"
   }
  }
 },
 "nbformat": 4,
 "nbformat_minor": 2
}
