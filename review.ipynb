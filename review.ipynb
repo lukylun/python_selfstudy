{
 "cells": [
  {
   "cell_type": "markdown",
   "metadata": {},
   "source": [
    "1. 사용자로부터 변수 x, 변수 y를 입력받아 더하고 곱하는 프로그램을 작성하세요.\n",
    "실행 :\n",
    "* x 값을 입력해주세요 : 20\n",
    "* y 값을 입력해주세요 : 30\n",
    "* 결과 :\n",
    "50\n",
    "600"
   ]
  },
  {
   "cell_type": "code",
   "execution_count": 3,
   "metadata": {},
   "outputs": [
    {
     "name": "stdout",
     "output_type": "stream",
     "text": [
      "50\n",
      "600\n"
     ]
    }
   ],
   "source": [
    "x = input('x 값을 입력해주세요:')\n",
    "y = input('y 값을 입력해주세요:')\n",
    "\n",
    "x = int(x)\n",
    "y = int(y)\n",
    "\n",
    "print(x+y)\n",
    "print(x*y)"
   ]
  },
  {
   "cell_type": "markdown",
   "metadata": {},
   "source": [
    "2. 사용자로부터 5개의 값을 입력 받아 리스트에 넣고 생성된 리스트에서 두번째, 네번째 값을 삭제한 뒤 출력하세요.\n",
    "* 실행:\n",
    "    * 첫번째 값을 입력해주세요 : 10\n",
    "    * 두번째 값을 입력해주세요 : 20\n",
    "    * 세번째 값을 입력해주세요 : 30\n",
    "    * 네번째 값을 입력해주세요 : 40\n",
    "    * 다섯번째 값을 입력해주세요 : 50\n",
    "    * 결과 : [10, 30, 50]"
   ]
  },
  {
   "cell_type": "code",
   "execution_count": 10,
   "metadata": {},
   "outputs": [
    {
     "data": {
      "text/plain": [
       "['10', '30', '50']"
      ]
     },
     "execution_count": 10,
     "metadata": {},
     "output_type": "execute_result"
    }
   ],
   "source": [
    "user_input1 = input('첫번째 값을 입력해주세요')\n",
    "user_input2 = input('두번째 값을 입력해주세요')\n",
    "user_input3 = input('세번째 값을 입력해주세요')\n",
    "user_input4 = input('네번째 값을 입력해주세요')\n",
    "user_input5 = input('다섯번째 값을 입력해주세요')\n",
    "\n",
    "my_list = [user_input1,user_input2,user_input3,user_input4,user_input5]\n",
    "\n",
    "my_list.pop(3)\n",
    "my_list.pop(1)\n",
    "\n",
    "my_list\n",
    "\n"
   ]
  },
  {
   "cell_type": "markdown",
   "metadata": {},
   "source": [
    "3. 다음과 같은 number = [[1,2,3],[4,5,[7,8]]] 리스트를 만들고 모든값에 직접 접근하여 값을\n",
    "모두 0으로 변경한 뒤 출력하세요.\n",
    "* 실행:\n",
    "     * [[0,0,0],[0,0,[0,0]]]"
   ]
  },
  {
   "cell_type": "code",
   "execution_count": 98,
   "metadata": {},
   "outputs": [
    {
     "data": {
      "text/plain": [
       "[[0, 0, 0], [0, 0, [0, 0]]]"
      ]
     },
     "execution_count": 98,
     "metadata": {},
     "output_type": "execute_result"
    }
   ],
   "source": [
    "number = [[1,2,3],[4,5,[7,8]]]\n",
    "\n",
    "# number[1][2]\n",
    "# for key in range(0, len(number)):\n",
    "#     print(number[key])\n",
    "#     if key >= 1:\n",
    "#         for num in range(0, len(number[key])):\n",
    "#             print(number[key])\n",
    "# number\n",
    "\n",
    "\n",
    "# for nums in number:\n",
    "#     print(nums)\n",
    "\n",
    "# for key in range(0, len(number)):\n",
    "#     if key>= 1:\n",
    "#     for num in range(0, len(number)):\n",
    "#         number[key][num] = 0\n",
    "# number\n",
    "\n",
    "number[0][0] =0\n",
    "number[0][1] =0\n",
    "number[0][2] =0\n",
    "number[1][0] =0\n",
    "number[1][1] =0\n",
    "number[1][2][0] =0\n",
    "number[1][2][1] =0\n",
    "\n",
    "\n",
    "number\n",
    "\n"
   ]
  },
  {
   "cell_type": "markdown",
   "metadata": {},
   "source": [
    "4. 다음과 같은 fruit = [\"사과\",\"배\",\"딸기\",\"옥수수\"] 리스트를 만들고 유저에게 두가지 과일을\n",
    "입력 받아 첫번째 입력한 과일을 찾아 두번째 입력한 과일로 변경한 뒤 출력하세요.\n",
    "* 실행 :\n",
    "    * 바꿀 과일을 입력하세요 : 배\n",
    "    * 어떤 과일로 바꾸실래요 : 복숭아\n",
    "    * ['사과', '복숭아', '딸기', '옥수수']"
   ]
  },
  {
   "cell_type": "code",
   "execution_count": 113,
   "metadata": {},
   "outputs": [
    {
     "data": {
      "text/plain": [
       "1"
      ]
     },
     "execution_count": 113,
     "metadata": {},
     "output_type": "execute_result"
    }
   ],
   "source": [
    "fruit= ['사과', '배', '딸기', '옥수수']\n",
    "\n",
    "user_input1 = input('바꿀 과일을 입력하세요: ')\n",
    "user_input2 = input('어떤 과일로 바꾸실래요: ')\n",
    "\n",
    "\n",
    "fruit_idx = fruit.index(user_input1)\n",
    "fruit_idx"
   ]
  },
  {
   "cell_type": "markdown",
   "metadata": {},
   "source": [
    "5. 문자를 입력받아 공백을 모두 제거하고 출력하세요.\n",
    "* 실행 :\n",
    "    * 아무 문자나 입력해주세요 : 안녕하세요 반갑습니다.\n",
    "    * 안녕하세요반갑습니다."
   ]
  },
  {
   "cell_type": "code",
   "execution_count": 3,
   "metadata": {},
   "outputs": [
    {
     "name": "stdout",
     "output_type": "stream",
     "text": [
      "안녕하세요반갑습니다.\n"
     ]
    }
   ],
   "source": [
    "user_input = input('아무 문자나 입력해주세요')\n",
    "\n",
    "user1 = user_input.replace(' ','')\n",
    "\n",
    "print(user1)\n",
    "\n"
   ]
  },
  {
   "cell_type": "markdown",
   "metadata": {},
   "source": [
    "6. 이름과 점수 3개를 입력 받아 아래와 같이 출력하세요.\n",
    "* 실행 :\n",
    "    * 이름을 입력해 주세요 : 홍길동\n",
    "    * 첫번째 점수를 입력해 주세요 : 80\n",
    "    * 두번째 점수를 입력해 주세요 : 70\n",
    "    * 세번째 점수를 입력해 주세요 : 60\n",
    "    * 저의 이름은 홍길동 이고 총점은 210 입니다."
   ]
  },
  {
   "cell_type": "code",
   "execution_count": 7,
   "metadata": {},
   "outputs": [
    {
     "name": "stdout",
     "output_type": "stream",
     "text": [
      "저의 이름은 홍길동이고 총점은 210입니다.\n",
      "저의 이름은 홍길동이고 총점은 210입니다.\n",
      "저의 이름은 홍길동이고 총점은 210입니다.\n"
     ]
    }
   ],
   "source": [
    "user_name = input('이름을 입력해 주세요')\n",
    "user_first = int(input('첫번째 점수를 입력해주세요:'))\n",
    "user_second = int(input('두번째 점수를 입력해주세요:'))\n",
    "user_third = int(input('세번째 점수를 입력해주세요:'))\n",
    "\n",
    "user_total = user_first + user_second + user_third\n",
    "\n",
    "print(f'저의 이름은 {user_name}이고 총점은 {user_total}입니다.')\n",
    "print('저의 이름은 {}이고 총점은 {}입니다.'.format(user_name, user_total))\n",
    "print('저의 이름은 %s이고 총점은 %d입니다.'%(user_name, user_total))"
   ]
  },
  {
   "cell_type": "markdown",
   "metadata": {},
   "source": [
    "7. range 함수를 이용하여 사용자가 입력한 수까지 2의 배수 값을 넣은 리스트를 만들고 리\n",
    "스트의 맨 마지막에 사용자가 입력한 추가해 주세요\n",
    "* 실행 :\n",
    "    * 숫자를 입력해주세요 : 10\n",
    "    * [2, 4, 6, 8, 10, 10]\n",
    "* 실행 :\n",
    "    * 숫자를 입력해주세요 : 20\n",
    "    * [2, 4, 6, 8, 10, 12, 14, 16, 18, 20, 20]"
   ]
  },
  {
   "cell_type": "code",
   "execution_count": 15,
   "metadata": {},
   "outputs": [
    {
     "data": {
      "text/plain": [
       "[2, 4, 6, 8, 10, 12, 14, 16, 18, 20, 20]"
      ]
     },
     "execution_count": 15,
     "metadata": {},
     "output_type": "execute_result"
    }
   ],
   "source": [
    "user_input = int(input('숫자를 입력해주세요'))\n",
    "\n",
    "result = []\n",
    "for i in range(1, user_input+1):\n",
    "    if i % 2 == 0:\n",
    "        result.append(i)\n",
    "\n",
    "\n",
    "results = result + [user_input]\n",
    "results"
   ]
  },
  {
   "cell_type": "markdown",
   "metadata": {},
   "source": [
    "8. 이름, 나이, 연락처를 입력받아 딕셔터리를 만들어 출력해주세요\n",
    "* 실행 :\n",
    "    * 이름을 입력해주세요 : 홍길동\n",
    "    * 나이를 입력해주세요 : 27\n",
    "    * 연락처를 입력해주세요 : 010-3023-1223\n",
    "    * {'이름': '홍길동', '나이': '27', '연락처': '010-3023-1223'}"
   ]
  },
  {
   "cell_type": "code",
   "execution_count": 17,
   "metadata": {},
   "outputs": [
    {
     "data": {
      "text/plain": [
       "{'이름': '홍길동', '나이': '27', '연락처': '010-3023-1223'}"
      ]
     },
     "execution_count": 17,
     "metadata": {},
     "output_type": "execute_result"
    }
   ],
   "source": [
    "name_input = input('이름을 입력해주세요: ')\n",
    "age_input = input(\"나이를 입력해주세요: \")\n",
    "phone_input = input(\"연락처를 입력해주세요: \")\n",
    "\n",
    "dict= {\"이름\": name_input, \"나이\": age_input, \"연락처\": phone_input}\n",
    "\n",
    "dict"
   ]
  },
  {
   "cell_type": "markdown",
   "metadata": {},
   "source": [
    "9. 두사람의 이름, 나이, 연락처를 입력받아 각각 딕셔너리를 만들어 리스트에 넣어주세요\n",
    "* 실행 :\n",
    "    * 이름을 입력해주세요 : 홍길동\n",
    "    * 나이를 입력해주세요 : 27\n",
    "    * 연락처를 입력해주세요 : 010-3023-1223\n",
    "    * 이름을 입력해주세요 : 이몽룡\n",
    "    * 나이를 입력해주세요 : 30\n",
    "    * 연락처를 입력해주세요 : 010-3030-4434\n",
    "    * [{'이름': '홍길동', '나이': '27', '연락처': '010-3023-1223'}, {'이름': '이몽룡', '나이': '30',\n",
    "'연락처': '010-3030-4434'}]"
   ]
  },
  {
   "cell_type": "code",
   "execution_count": 20,
   "metadata": {},
   "outputs": [
    {
     "data": {
      "text/plain": [
       "[{'이름': '홍길동', '나이': '27', '연락처': '010-3023-1223'},\n",
       " {'이름': '이몽룡', '나이': '30', '연락처': '010-3030-4434'}]"
      ]
     },
     "execution_count": 20,
     "metadata": {},
     "output_type": "execute_result"
    }
   ],
   "source": [
    "first_user = {\"이름\": input(\"이름을 입력해주세요: \"), '나이': input('나이를 입력해주세요:'), '연락처': input(\"연락처를 입력해주세요:\")}\n",
    "second_user = {\"이름\": input(\"이름을 입력해주세요: \"), '나이': input('나이를 입력해주세요:'), '연락처': input(\"연락처를 입력해주세요:\")}\n",
    "\n",
    "dict = [first_user, second_user]\n",
    "\n",
    "dict\n",
    "\n"
   ]
  },
  {
   "cell_type": "markdown",
   "metadata": {},
   "source": [
    "10. 사용자로부터 점수를 3개 입력 받아 모든 점수가 65점보다 클 경우 합격 아닐 경우 불합격\n",
    "을 출력하세요\n",
    "* 단, 0~100이 아닌 숫자가 입력된 경우 “잘못된 점수가 입력되었습니다“를 출력하세요\n",
    "* 실행 :\n",
    "    * 첫번째 점수를 입력해주세요 : 120\n",
    "    * 두번째 점수를 입력해주세요 : 90\n",
    "    * 세번째 점수를 입력해주세요 : 80\n",
    "    * 잘못된 점수가 입력되었습니다\n",
    "* 실행 :\n",
    "    * 첫번째 점수를 입력해주세요 : 80\n",
    "    * 두번째 점수를 입력해주세요 : 90\n",
    "    * 세번째 점수를 입력해주세요 : 75\n",
    "    * 합격\n",
    "* 실행 :\n",
    "    * 첫번째 점수를 입력해주세요 : 50\n",
    "    * 두번째 점수를 입력해주세요 : 60\n",
    "    * 세번째 점수를 입력해주세요 : 90\n",
    "    * 불합격"
   ]
  },
  {
   "cell_type": "code",
   "execution_count": 30,
   "metadata": {},
   "outputs": [
    {
     "name": "stdout",
     "output_type": "stream",
     "text": [
      "잘못된 점수가 입력되었습니다.\n"
     ]
    }
   ],
   "source": [
    "score1 =  int(input(\"첫번째 점수를 입력해주세요\"))\n",
    "score2 =  int(input(\"두번째 점수를 입력해주세요\"))\n",
    "score3 =  int(input(\"세번째 점수를 입력해주세요\"))\n",
    "\n",
    "if 0 <= score1 <= 100 and 0 <= score2 <= 100 and 0 <= score3 <= 100 :\n",
    "    if score1 >= 65 and score2 >=65 and score3 >= 65:\n",
    "        print(\"합격\")\n",
    "    else:\n",
    "        print(\"불합격\")\n",
    "\n",
    "else:\n",
    "    print(\"잘못된 점수가 입력되었습니다.\")"
   ]
  },
  {
   "cell_type": "markdown",
   "metadata": {},
   "source": [
    "10.\n",
    "* fruit = ['사과','오렌지’]\n",
    "* vegetable = ['당근','호박']\n",
    "* 위와 같은 리스트 두개를 만들고 유저로부터 카테고리와 상품명을 입력 받아 카테고리가 과일일때는 fruit 리스\n",
    "트에 카테고리가 채소일때는 vegetable 리스트에 상품을 추가하고 리스트의 모든 내용을 출력해주세요.\n",
    "* 단, 카테고리명이 채소나 과일이 아닐경우 “존재하지 않는 카테고리입니다.“\n",
    "이미 등록되어있는 경우 “이미 등록된 과일입니다.” or “이미 등록된 채소입니다“를 출력해주세요.\n",
    "* 실행 :\n",
    "    * 등록할 카테고리를 선택해주세요 (과일, 채소) : 채소\n",
    "    * 등록할 채소을 입력해주세요 : 당근\n",
    "    * 이미 등록된 채소 입니다.\n",
    "* 실행 :\n",
    "    * 등록할 카테고리를 선택해주세요 (과일, 채소) : 야채\n",
    "    * 등록할 야채를 입력해주세요 : 당근\n",
    "    * 존재하지 않는 카테고리입니다.\n",
    "* 실행 :\n",
    "    * 등록할 카테고리를 선택해주세요 (과일, 채소) : 과일\n",
    "    * 등록할 과일을 입력해주세요 : 바나나\n",
    "* ['사과', '오렌지', '바나나']"
   ]
  },
  {
   "cell_type": "code",
   "execution_count": 33,
   "metadata": {},
   "outputs": [
    {
     "name": "stdout",
     "output_type": "stream",
     "text": [
      "['사과', '오렌지', '바나나']\n"
     ]
    }
   ],
   "source": [
    "fruit = ['사과', '오렌지']\n",
    "vegetable = ['당근', '호박']\n",
    "\n",
    "user_category= input(\"등록할 카테고리를 선택해주세요(과일, 채소): \")\n",
    "user_input = input(\"등록할 채소를 입력해주세요: \")\n",
    "\n",
    "if user_category == '채소':\n",
    "    if user_input not in vegetable:\n",
    "        vegetable.append(user_input)\n",
    "        print(vegetable)\n",
    "    else:\n",
    "        print('이미 등록된 채소입니다.')\n",
    "        \n",
    "elif user_category == '과일':\n",
    "    if user_input not in fruit:\n",
    "        fruit.append(user_input)\n",
    "        print(fruit)\n",
    "    else:\n",
    "        print('이미 등록된 과일입니다.')\n",
    "\n",
    "else:\n",
    "    print(\"존재하지 않는 카테고리입니다.\")\n",
    "        "
   ]
  },
  {
   "cell_type": "markdown",
   "metadata": {},
   "source": [
    "11. \n",
    "* (1) x = [3, 6, 9, 20, -7, 5]의 값의 모든 요소에 10을 곱하여 저장한 뒤 출력하세요\n",
    "* 실행 :\n",
    "    * [30, 60, 90, 200, -70, 50]\n",
    "* (2) y = {“math”: 70, “science”: 80, “english”: 20} 의 값의 모든 요소에 10을 더하여 저장한 뒤 출력하세요\n",
    "    * 실행 :\n",
    "    * {'math': 80, 'science': 90, 'english': 30}\n",
    "* (3) 숫자를 입력 받고 입력 받은 수의 구구단을 출력하세요\n",
    "    * 실행 :\n",
    "    * 몇단을 출력하시겠습니까? 3\n",
    "    *  3 * 1 = 3\n",
    "    * 3 * 2 = 6\n",
    "    * ...\n",
    "    * 3 * 9 = 27"
   ]
  },
  {
   "cell_type": "code",
   "execution_count": 49,
   "metadata": {},
   "outputs": [
    {
     "name": "stdout",
     "output_type": "stream",
     "text": [
      "[30, 60, 90, 200, -70, 50]\n",
      "{'math': 80, 'science': 90, 'english': 30}\n",
      "3 * 1 = 3\n",
      "3 * 2 = 6\n",
      "3 * 3 = 9\n",
      "3 * 4 = 12\n",
      "3 * 5 = 15\n",
      "3 * 6 = 18\n",
      "3 * 7 = 21\n",
      "3 * 8 = 24\n",
      "3 * 9 = 27\n"
     ]
    }
   ],
   "source": [
    "# (1)\n",
    "x = [3,6,9,20,-7,5]\n",
    "\n",
    "for i in range(len(x)):\n",
    "    x[i] = x[i] *10\n",
    "    \n",
    "print(x)\n",
    "# (2)\n",
    "\n",
    "y = {'math': 70, 'science': 80, 'english': 20}\n",
    "for key in y:\n",
    "    y[key] = y[key] + 10\n",
    "print(y)\n",
    "\n",
    "# (3)\n",
    "user_input = int(input('몇단을 출력하시겠습니까?'))\n",
    "\n",
    "for i in range(1,10):\n",
    "    print(user_input,'*', i, '=',  user_input*i)\n"
   ]
  },
  {
   "cell_type": "markdown",
   "metadata": {},
   "source": []
  }
 ],
 "metadata": {
  "kernelspec": {
   "display_name": "Python 3.10.4 ('study')",
   "language": "python",
   "name": "python3"
  },
  "language_info": {
   "codemirror_mode": {
    "name": "ipython",
    "version": 3
   },
   "file_extension": ".py",
   "mimetype": "text/x-python",
   "name": "python",
   "nbconvert_exporter": "python",
   "pygments_lexer": "ipython3",
   "version": "3.10.4"
  },
  "orig_nbformat": 4,
  "vscode": {
   "interpreter": {
    "hash": "0366d95cfe3e294a9405a60bcbbb3d4cd1344975bbb420614b4c3178f22fa862"
   }
  }
 },
 "nbformat": 4,
 "nbformat_minor": 2
}
