{
 "cells": [
  {
   "cell_type": "markdown",
   "metadata": {},
   "source": [
    "### 가위바위보를 하는 프로그램을 만듭니다.\n",
    "- 가위바위보는 여러 번 진행할 수 있으며, 커맨드에 따라 다양한 동작을 합니다.\n",
    "- 단, 가위바위보를 진행할 시 결과는 기록되어야 하며 단순하게 승리, 무승부, 패배 횟수만\n",
    "기록하면 됩니다.\n",
    "- 재 실행 시, 기록한 데이터를 불러옵니다.\n",
    "- 사용자의 커맨드에 따라 다양한 역할도 수행해야합니다.\n",
    "    - “승률”을 입력하면 지금까지의 승률을 보여줍니다. (XX.X%)\n",
    "    - “그래프”를 입력하면 승률을 그래프로 보여줍니다.\n",
    "    - “종료”를 입력하면, 프로그램을 종료합니다.\n",
    "- 가위바위보는 입력은 자유롭게 받아, 정해진 규칙에 따라 진행되기만 하면 됩니다."
   ]
  },
  {
   "cell_type": "code",
   "execution_count": 1,
   "metadata": {},
   "outputs": [
    {
     "name": "stdout",
     "output_type": "stream",
     "text": [
      "Player: 보, Computer: 가위, 플레이어 패배\n",
      "Player: 바위, Computer: 보, 플레이어 패배\n",
      "Player: 가위, Computer: 가위, 무승부\n"
     ]
    },
    {
     "data": {
      "image/png": "[encoded data removed]",
      "text/plain": [
       "<Figure size 640x480 with 1 Axes>"
      ]
     },
     "metadata": {},
     "output_type": "display_data"
    }
   ],
   "source": [
    "import random # 컴퓨터 input 값을 랜덤으로 설정하기 위해 사용\n",
    "import numpy as np # 그래프 그리기 위해서 numpy 사용\n",
    "import matplotlib.pyplot as plt # 그래프 그리기\n",
    "\n",
    "rcp_dict = {1: '가위', 2: '바위', 3:'보'} # 가위바위보 딕셔너리\n",
    "\n",
    "# 초기값 생성\n",
    "total_count = 0\n",
    "win_count = 0\n",
    "lose_count = 0\n",
    "draw_count = 0\n",
    "\n",
    "# 파일 불러오기: 있으면 기존 데이터 불러오고 없으면 except 탈출.\n",
    "try: \n",
    "    with open('rcp_game.txt','r') as f:\n",
    "        total, win, draw, lose, rate = f.readlines()\n",
    "        total_count = int(total.rstrip())\n",
    "        win_count = int(win.rstrip())\n",
    "        draw_count = int(draw.rstrip())\n",
    "        lose_count = int(lose.rstrip())\n",
    "        win_rate = float(rate.rstrip())\n",
    "except:\n",
    "    pass\n",
    "\n",
    "\n",
    "# 반복문\n",
    "while True:\n",
    "    user_input = input(\"가위(1), 바위(2), 보(3), '종료', '승률', '그래프'를 입력해주세요.: \")\n",
    "\n",
    "    if user_input == '종료':\n",
    "        print(\"현재까지 승률 : {:.1f}\".format(win_rate) + '\\n' +\"게임을 종료합니다.\")\n",
    "        break\n",
    "    # rcp_dict의 key값을 사용하기 위해 + computer input값을 랜덤으로 생성하기 위해 randint함수 사용\n",
    "    com_input = random.randint(1,3)\n",
    "\n",
    "    # 게임수 카운트\n",
    "    total_count += 1\n",
    "    \n",
    "    # 가위바위보 시작\n",
    "    if user_input in ['1','2','3']: # 숫자 1,2,3 중 하나 입력\n",
    "        # 이길 경우: 바위(2)-가위(1), 보(3)-바위(2) -> 1, 가위(1)-보(3) -> -2 \n",
    "        if int(user_input) - int(com_input) == 1 or int(user_input) - int(com_input) == -2: \n",
    "            # 1승 추가\n",
    "            win_count += 1\n",
    "            # 결과 출력\n",
    "            print('Player: '+ rcp_dict[int(user_input)]+', '+ 'Computer: '+ rcp_dict[int(com_input)]+', ' + \"플레이어 승리\")\n",
    "        \n",
    "        # 비길 경우는 숫자가 같을 경우\n",
    "        elif int(user_input) - int(com_input) == 0:\n",
    "            # 무승부 1번 추가\n",
    "            draw_count += 1\n",
    "            print('Player: '+ rcp_dict[int(user_input)]+', '+ 'Computer: '+ rcp_dict[int(com_input)]+', ' + \"무승부\")\n",
    "        # 나머지는 질 경우\n",
    "        else:\n",
    "            lose_count += 1\n",
    "            print('Player: '+ rcp_dict[int(user_input)]+', '+ 'Computer: '+ rcp_dict[int(com_input)]+', ' + \"플레이어 패배\")\n",
    "\n",
    "    # 승률 구하기\n",
    "    win_rate = win_count/total_count\n",
    "    win_rate\n",
    "\n",
    "    # 승률 출력\n",
    "    if user_input == '승률':\n",
    "        print(\"현재까지 승률: {:.1f}\".format(win_rate), '%') # 소수점 첫째자리까지 출력\n",
    "        print(\"게임을 종료합니다.\")\n",
    "        break\n",
    "    \n",
    "    # 그래프 출력\n",
    "    if user_input == '그래프':\n",
    "        # numpy 실행 \n",
    "        x = np.arange(3) # x축 값 3개 생성\n",
    "        shoubus =['win', 'draw', 'lose'] # x축 값의 이름 설정\n",
    "        values = [win_count, draw_count, lose_count] # y축 값\n",
    "\n",
    "        plt.bar(x, values) # x축, y축 값 입력\n",
    "        plt.xticks(x, shoubus) # x축 값을 shoubus list로 변경\n",
    "\n",
    "        plt.show() # 그래프 생성\n",
    "\n",
    "        break \n",
    "    \n",
    "\n",
    "# 파일 생성\n",
    "with open('rcp_game.txt', 'w') as f:\n",
    "    f.write(str(total_count)+'\\n')\n",
    "    f.write(str(win_count)+'\\n')\n",
    "    f.write(str(draw_count)+'\\n')\n",
    "    f.write(str(lose_count)+'\\n')\n",
    "    f.write(str(win_rate)+'\\n')\n",
    "\n",
    "\n",
    "\n",
    "\n",
    "\n",
    "\n"
   ]
  }
 ],
 "metadata": {
  "kernelspec": {
   "display_name": "Python 3.10.4 ('study')",
   "language": "python",
   "name": "python3"
  },
  "language_info": {
   "codemirror_mode": {
    "name": "ipython",
    "version": 3
   },
   "file_extension": ".py",
   "mimetype": "text/x-python",
   "name": "python",
   "nbconvert_exporter": "python",
   "pygments_lexer": "ipython3",
   "version": "3.10.4"
  },
  "orig_nbformat": 4,
  "vscode": {
   "interpreter": {
    "hash": "0366d95cfe3e294a9405a60bcbbb3d4cd1344975bbb420614b4c3178f22fa862"
   }
  }
 },
 "nbformat": 4,
 "nbformat_minor": 2
}
