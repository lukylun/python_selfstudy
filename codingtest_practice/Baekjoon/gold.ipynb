{
 "cells": [
  {
   "attachments": {},
   "cell_type": "markdown",
   "metadata": {},
   "source": [
    "## 9935번 문자열 폭발(스택, 문자열) 골드IV\n",
    "### 문제\n",
    "- 상근이는 문자열에 폭발 문자열을 심어 놓았다.\n",
    "- 폭발 문자열이 폭발하면 그 문자는 문자열에서 사라지며, 남은 문자열은 합쳐지게 된다.\n",
    "\n",
    "- 폭발은 다음과 같은 과정으로 진행된다.\n",
    "\n",
    "    - 문자열이 폭발 문자열을 포함하고 있는 경우에, 모든 폭발 문자열이 폭발하게 된다.\n",
    "    - 남은 문자열을 순서대로 이어 붙여 새로운 문자열을 만든다.\n",
    "    - 새로 생긴 문자열에 폭발 문자열이 포함되어 있을 수도 있다.\n",
    "    - 폭발은 폭발 문자열이 문자열에 없을 때까지 계속된다.\n",
    "    - 상근이는 모든 폭발이 끝난 후에 어떤 문자열이 남는지 구해보려고 한다.\n",
    "    - 남아있는 문자가 없는 경우가 있다. 이때는 \"FRULA\"를 출력한다.\n",
    "\n",
    "- 폭발 문자열은 같은 문자를 두 개 이상 포함하지 않는다"
   ]
  },
  {
   "cell_type": "code",
   "execution_count": null,
   "metadata": {},
   "outputs": [],
   "source": [
    "s = input()\n",
    "t = input()\n",
    "\n",
    "len_t = len(t)\n",
    "last_t = t[-1]\n",
    "\n",
    "stack = []\n",
    "for chr in s:\n",
    "    stack.append(chr)\n",
    "    if chr == last_t and ''.join(stack[-len_t:]) == t:\n",
    "        del stack[-len_t:]\n",
    "\n",
    "if len(stack) == 0:\n",
    "    print('FRULA')\n",
    "else:\n",
    "    print(''.join(stack))  \n"
   ]
  },
  {
   "cell_type": "code",
   "execution_count": 31,
   "metadata": {},
   "outputs": [
    {
     "name": "stdout",
     "output_type": "stream",
     "text": [
      "mirkovniz\n"
     ]
    }
   ],
   "source": [
    "# 시간초과 -> 100만개에서 줄여나감\n",
    "s = 'mirkovC4nizCC44'\n",
    "t = 'C4'\n",
    "\n",
    "def explosion(a, b):\n",
    "    while True: \n",
    "        i = ''.join(a.split(b))\n",
    "        a = i \n",
    "        if b not in i:\n",
    "            break\n",
    "    return i\n",
    "\n",
    "if explosion(s, t):\n",
    "    print(explosion(s, t))\n",
    "else:\n",
    "    print('FRULA')"
   ]
  },
  {
   "cell_type": "code",
   "execution_count": 48,
   "metadata": {},
   "outputs": [
    {
     "name": "stdout",
     "output_type": "stream",
     "text": [
      "mirkovniz\n"
     ]
    }
   ],
   "source": [
    "# stack 0에서 부터 쌓기\n",
    "s = 'mirkovC4nizCC44'\n",
    "t = 'C4'\n",
    "\n",
    "len_t = len(t)\n",
    "last_t = t[-1]\n",
    "\n",
    "stack = []\n",
    "for chr in s:\n",
    "    stack.append(chr)\n",
    "    if stack[-1] == last_t and ''.join(stack[-len_t:]) == t:\n",
    "        del stack[-len_t:]\n",
    "\n",
    "if stack:\n",
    "    print(''.join(stack))\n",
    "else:\n",
    "    print('FRULA')\n"
   ]
  },
  {
   "cell_type": "code",
   "execution_count": null,
   "metadata": {},
   "outputs": [],
   "source": [
    "s = 'mirkovC4nizCC44'\n",
    "t = 'C4'\n",
    "\n",
    "len_t = len(t)\n",
    "last_t = t[-1]\n",
    "\n",
    "stack = ''\n",
    "for chr in s:\n",
    "    stack += chr\n",
    "    if chr == last_t and stack[-len_t:] == t:\n",
    "        stack = stack.rstrip(t)\n",
    "        print(stack)\n",
    "\n",
    "if stack:\n",
    "    print(stack)\n",
    "else:\n",
    "    print('FRULA')"
   ]
  },
  {
   "cell_type": "code",
   "execution_count": 15,
   "metadata": {},
   "outputs": [
    {
     "data": {
      "text/plain": [
       "937501"
      ]
     },
     "execution_count": 15,
     "metadata": {},
     "output_type": "execute_result"
    }
   ],
   "source": [
    "def f(n):\n",
    "    a, b = 0, 1\n",
    "    if b > 1000000:\n",
    "        for i in range(n):\n",
    "            a,b = b, a + b\n",
    "        return b\n",
    "    else:\n",
    "        for i in range()\n",
    "f(1000000)"
   ]
  },
  {
   "cell_type": "markdown",
   "metadata": {},
   "source": [
    "## AC 골드 V(구현)\n",
    "### 문제\n",
    "- 선영이는 주말에 할 일이 없어서 새로운 언어 AC를 만들었다.\n",
    "- AC는 정수 배열에 연산을 하기 위해 만든 언어이다.\n",
    "- 이 언어에는 두 가지 함수 R(뒤집기)과 D(버리기)가 있다.\n",
    "\n",
    "- 함수 R은 배열에 있는 수의 순서를 뒤집는 함수이고, D는 첫 번째 수를 버리는 함수이다. 배열이 비어있는데 D를 사용한 경우에는 에러가 발생한다.\n",
    "\n",
    "- 함수는 조합해서 한 번에 사용할 수 있다.\n",
    "- 예를 들어, \"AB\"는 A를 수행한 다음에 바로 이어서 B를 수행하는 함수이다.\n",
    "- 예를 들어, \"RDD\"는 배열을 뒤집은 다음 처음 두 수를 버리는 함수이다.\n",
    "\n",
    "- 배열의 초기값과 수행할 함수가 주어졌을 때, 최종 결과를 구하는 프로그램을 작성하시오."
   ]
  },
  {
   "cell_type": "code",
   "execution_count": null,
   "metadata": {},
   "outputs": [],
   "source": [
    "T = int(input())\n",
    "\n",
    "for tc in range(T):\n",
    "    func = input().replace('RR', '')\n",
    "    nums = int(input())\n",
    "    arr = input()[1:-1]\n",
    "    if nums != 0 :\n",
    "        arr_list = arr.split(',')\n",
    "    else:\n",
    "        arr_list = []\n",
    "\n",
    "    reverse = 0\n",
    "    error = 0\n",
    "    for i in range(len(func)):\n",
    "        if func[i] == 'R' and reverse == 0:\n",
    "            reverse = 1\n",
    "        elif func[i] == 'R' and reverse == 1:\n",
    "            reverse = 0\n",
    "        elif func[i] == 'D' and len(arr_list) == 0:\n",
    "            error = 1\n",
    "        elif func[i] == 'D' and reverse == 0:\n",
    "            arr_list.pop(0)\n",
    "        elif func[i] == 'D' and reverse == 1:\n",
    "            arr_list.pop(-1)\n",
    "\n",
    "    if error == 1:\n",
    "        print('error')\n",
    "    elif reverse == 0:\n",
    "        print('[', \", \".join(arr_list), ']', sep=\"\")\n",
    "    else:\n",
    "        print('[', \", \".join(arr_list[::-1]), ']', sep=\"\")"
   ]
  },
  {
   "cell_type": "code",
   "execution_count": null,
   "metadata": {},
   "outputs": [],
   "source": [
    "## 14719번 빗물 골드V\n",
    "\n",
    "h, w = 4,8\n",
    "rain = [3,1,2,3,4,1,1,2]\n",
    "cnt = 0\n",
    "for i in range(w-1):\n",
    "    if rain[i] <= rain[i+1]:\n",
    "        continue\n",
    "    elif \n",
    "                \n",
    "            \n",
    "print(cnt)"
   ]
  },
  {
   "cell_type": "code",
   "execution_count": null,
   "metadata": {},
   "outputs": [],
   "source": [
    "n = int(input())\n",
    "questions = [list(map(str,input().split())) for _ in range(n)]\n",
    "strikes = [str(i) for i in range(111,999) if len(set(str(i))) == 3 and ('0' not in set(str(i)))]\n",
    "cnt = 0 \n",
    "for question in questions:\n",
    "    for strike in strikes:\n",
    "        s = 0\n",
    "        b = 0\n",
    "        for i in range(3):\n",
    "            if strike[i] == question[0][i]:\n",
    "                s += 1\n",
    "            if strike[i] != question[0][i] and strike[i] in question[0]:\n",
    "                b += 1\n",
    "        if question[1] == int(s) and question[2] == int(b):\n",
    "            cnt += 1\n",
    "print(cnt)"
   ]
  },
  {
   "cell_type": "code",
   "execution_count": 81,
   "metadata": {},
   "outputs": [
    {
     "data": {
      "text/plain": [
       "1"
      ]
     },
     "execution_count": 81,
     "metadata": {},
     "output_type": "execute_result"
    }
   ],
   "source": [
    "a = input().strip()\n",
    "b = input().strip()\n",
    "temp = []\n",
    "for i in range(len(a)):\n",
    "    str1 = ''\n",
    "    idx_b = i\n",
    "    idx_a = i\n",
    "    while idx_a < len(a):\n",
    "        if idx_b < len(b) and a[idx_a] == b[idx_b]:\n",
    "            str1 += a[idx_a]\n",
    "            idx_a += 1\n",
    "            idx_b += 1\n",
    "        elif idx_b < len(b) and a[idx_a] != b[idx_b]:\n",
    "            idx_b += 1\n",
    "        elif idx_b == len(b) and idx_a != len(a)-1:\n",
    "            idx_b = idx_a\n",
    "            idx_a += 1\n",
    "        else:\n",
    "            idx_a += 1\n",
    "\n",
    "    temp.append(len(str1))\n",
    "\n",
    "max(temp)\n",
    "\n",
    "\n"
   ]
  },
  {
   "cell_type": "markdown",
   "metadata": {},
   "source": []
  },
  {
   "cell_type": "code",
   "execution_count": null,
   "metadata": {},
   "outputs": [],
   "source": [
    "# 5052 전화번호 목록 골드IV\n",
    "\n",
    "T = int(input())\n"
   ]
  },
  {
   "cell_type": "markdown",
   "metadata": {},
   "source": [
    "## 2493번 탑 골드V(스택)\n",
    "### 문제\n",
    "- KOI 통신연구소는 레이저를 이용한 새로운 비밀 통신 시스템 개발을 위한 실험을 하고 있다.\n",
    "- 실험을 위하여 일직선 위에 N개의 높이가 서로 다른 탑을 수평 직선의 왼쪽부터 오른쪽 방향으로 차례로 세우고, 각 탑의 꼭대기에 레이저 송신기를 설치하였다.\n",
    "- 모든 탑의 레이저 송신기는 레이저 신호를 지표면과 평행하게 수평 직선의 왼쪽 방향으로 발사하고, 탑의 기둥 모두에는 레이저 신호를 수신하는 장치가 설치되어 있다.\n",
    "- 하나의 탑에서 발사된 레이저 신호는 가장 먼저 만나는 단 하나의 탑에서만 수신이 가능하다. \n",
    "\n",
    "- 예를 들어 높이가 6, 9, 5, 7, 4인 다섯 개의 탑이 수평 직선에 일렬로 서 있고,\n",
    "- 모든 탑에서는 주어진 탑 순서의 반대 방향(왼쪽 방향)으로 동시에 레이저 신호를 발사한다고 하자.\n",
    "- 그러면, 높이가 4인 다섯 번째 탑에서 발사한 레이저 신호는 높이가 7인 네 번째 탑이 수신을 하고,\n",
    "- 높이가 7인 네 번째 탑의 신호는 높이가 9인 두 번째 탑이, 높이가 5인 세 번째 탑의 신호도 높이가 9인 두 번째 탑이 수신을 한다.\n",
    "- 높이가 9인 두 번째 탑과 높이가 6인 첫 번째 탑이 보낸 레이저 신호는 어떤 탑에서도 수신을 하지 못한다.\n",
    "\n",
    "- 탑들의 개수 N과 탑들의 높이가 주어질 때, 각각의 탑에서 발사한 레이저 신호를 어느 탑에서 수신하는지를 알아내는 프로그램을 작성하라. \n",
    "\n"
   ]
  },
  {
   "cell_type": "code",
   "execution_count": null,
   "metadata": {},
   "outputs": [],
   "source": [
    "# 통과\n",
    "n = int(input())\n",
    "nums = list(map(int, input().split()))\n",
    "stack = []\n",
    "ans = [0 for _ in range(n)]\n",
    "\n",
    "for i in range(n):\n",
    "    while stack:\n",
    "        if stack[-1][1] > nums[i]:\n",
    "            print(stack)\n",
    "            ans[i] = stack[-1][0] + 1\n",
    "            break\n",
    "        else:\n",
    "            stack.pop()\n",
    "    \n",
    "    stack.append((i, nums[i]))\n",
    "\n",
    "print(' '.join(map(str, ans)))"
   ]
  },
  {
   "cell_type": "code",
   "execution_count": null,
   "metadata": {},
   "outputs": [],
   "source": [
    "# 시간 초과\n",
    "n = int(input())\n",
    "nums = list(map(int, input().split()))\n",
    "stack = [0]\n",
    "idx = 0\n",
    "\n",
    "for i in range(1,n):\n",
    "    j = i - 1\n",
    "    while j >= 0:\n",
    "        if nums[i] < nums[j]:\n",
    "            stack.append(j + 1)\n",
    "            idx = j + 1\n",
    "            break\n",
    "        elif nums[i] > nums[j] and j > 0:\n",
    "            j -= 1\n",
    "        else:\n",
    "            j -= 1\n",
    "            stack.append(idx)\n",
    "\n",
    "print(' '.join(map(str, stack)))"
   ]
  },
  {
   "cell_type": "markdown",
   "metadata": {},
   "source": [
    "## 오큰수\n",
    "### 문제\n",
    "- 크기가 N인 수열 A = A1, A2, ..., AN이 있다.\n",
    "- 수열의 각 원소 Ai에 대해서 오큰수 NGE(i)를 구하려고 한다.\n",
    "- Ai의 오큰수는 오른쪽에 있으면서 Ai보다 큰 수 중에서 가장 왼쪽에 있는 수를 의미한다.\n",
    "- 그러한 수가 없는 경우에 오큰수는 -1이다.\n",
    "\n",
    "- 예를 들어, A = [3, 5, 2, 7]인 경우 NGE(1) = 5, NGE(2) = 7, NGE(3) = 7, NGE(4) = -1이다.\n",
    "- A = [9, 5, 4, 8]인 경우에는 NGE(1) = -1, NGE(2) = 8, NGE(3) = 8, NGE(4) = -1이다."
   ]
  },
  {
   "cell_type": "code",
   "execution_count": 16,
   "metadata": {},
   "outputs": [
    {
     "name": "stdout",
     "output_type": "stream",
     "text": [
      "-1 8 8 -1\n"
     ]
    }
   ],
   "source": [
    "n = int(input())\n",
    "nums = list(map(int, input().split()))\n",
    "ans = [-1 for _ in range(n)]\n",
    "stack = []\n",
    "\n",
    "for i in range(n):\n",
    "    while stack:\n",
    "        if nums[i] > stack[-1][1]:\n",
    "            ans[stack[-1][0]] = nums[i]\n",
    "            stack.pop(-1)\n",
    "        else:\n",
    "            break\n",
    "\n",
    "    stack.append([i, nums[i]])\n",
    "\n",
    "print(' '.join(map(str, ans)))"
   ]
  },
  {
   "cell_type": "markdown",
   "metadata": {},
   "source": [
    "## 17299번 오등큰수 골드3\n",
    "### 문제\n",
    "- 크기가 N인 수열 A = A1, A2, ..., AN이 있다.\n",
    "- 수열의 각 원소 Ai에 대해서 오등큰수 NGF(i)를 구하려고 한다.\n",
    "\n",
    "- Ai가 수열 A에서 등장한 횟수를 F(Ai)라고 했을 때, Ai의 오등큰수는 오른쪽에 있으면서 수열 A에서 등장한 횟수가 F(Ai)보다 큰 수 중에서 가장 왼쪽에 있는 수를 의미한다.\n",
    "- 그러한 수가 없는 경우에 오등큰수는 -1이다.\n",
    "\n",
    "- 예를 들어, A = [1, 1, 2, 3, 4, 2, 1]인 경우 F(1) = 3, F(2) = 2, F(3) = 1, F(4) = 1이다.\n",
    "- A1의 오른쪽에 있으면서 등장한 횟수가 3보다 큰 수는 없기 때문에, NGF(1) = -1이다.\n",
    "- A3의 경우에는 A7이 오른쪽에 있으면서 F(A3=2) < F(A7=1) 이기 때문에, NGF(3) = 1이다.\n",
    "- NGF(4) = 2, NGF(5) = 2, NGF(6) = 1 이다."
   ]
  },
  {
   "cell_type": "code",
   "execution_count": null,
   "metadata": {},
   "outputs": [],
   "source": [
    "n = int(input())\n",
    "# 정답 출력, 오등큰수가 없을 때 -1이므로 \n",
    "# -1을 n개 생성\n",
    "ans = [-1 for _ in range(n)]\n",
    "# 숫자 등장횟수 카운팅(max = 1,000,000)\n",
    "cnt = [0] * 1000001\n",
    "nums = list(map(int, input().split()))\n",
    "# stack \n",
    "stack = []\n",
    "\n",
    "# 숫자 등장 횟수 counting\n",
    "for i in range(n):\n",
    "    cnt[nums[i]] += 1\n",
    "\n",
    "for i in range(n):\n",
    "    while stack:\n",
    "        # 현재값 nums[i]의 등장횟수가\n",
    "        # stack의 최근값의 등장횟수보다 크면\n",
    "        # ans의 stack[-1][0] index에 nums[i]값 저장하고 stack[-1] 제거\n",
    "        if cnt[nums[i]] > cnt[stack[-1][1]]:\n",
    "            ans[stack[-1][0]] = nums[i]\n",
    "            stack.pop()\n",
    "        # 큰 값 없으면 while문 탈출\n",
    "        else:\n",
    "            break\n",
    "    # 스택이 비어있으면 append\n",
    "    stack.append([i,nums[i]])\n",
    "\n",
    "print(' '.join(map(str, ans)))\n"
   ]
  },
  {
   "attachments": {},
   "cell_type": "markdown",
   "metadata": {},
   "source": [
    "## 9663번 N-Queen\n",
    "\n",
    "### 문제\n",
    "- N-Queen 문제는 크기가 N × N인 체스판 위에 퀸 N개를 서로 공격할 수 없게 놓는 문제이다.\n",
    "\n",
    "- N이 주어졌을 때, 퀸을 놓는 방법의 수를 구하는 프로그램을 작성하시오."
   ]
  },
  {
   "cell_type": "code",
   "execution_count": 14,
   "metadata": {},
   "outputs": [
    {
     "name": "stdout",
     "output_type": "stream",
     "text": [
      "2680\n"
     ]
    }
   ],
   "source": [
    "# 시간 초과 해결\n",
    "# 2차원 행렬로 풀면 시간 초과\n",
    "# 1차원 행렬로 분리해야함(대각선, 열)\n",
    "def backtracking(i):\n",
    "    global cnt  # cnt\n",
    "    if i == n:\n",
    "        cnt += 1 # 놓을 수 있으면 +1\n",
    "        return\n",
    "\n",
    "    else:\n",
    "        for j in range(n):\n",
    "            if not (rows[j] or left[i+j] or right[i-j+n-1]):\n",
    "                rows[j] = left[i+j] = right[i-j+n-1] = 1\n",
    "                backtracking(i+1)\n",
    "                rows[j] = left[i+j] = right[i-j+n-1] = 0\n",
    "\n",
    "\n",
    "n = int(input())\n",
    "# rows = 열확인(0 ~ n)의 값을 가지므로 n개 생성\n",
    "# left, right => 좌상향 대각선, 우상향 대각선 2종류 생성\n",
    "# 0 ~ (2(n -1))의 값을 가질 수 있으므로 2n -1 개 생성(표를 그려보자)\n",
    "rows, left, right = [0] * n, [0] * (2 * n - 1), [0] * (2 * n - 1)\n",
    "cnt = 0\n",
    "backtracking(0)\n",
    "print(cnt)"
   ]
  },
  {
   "attachments": {},
   "cell_type": "markdown",
   "metadata": {},
   "source": [
    "## 6198번 옥상 정원꾸미기 골드5\n",
    "### 문제\n",
    "- 도시에는 N개의 빌딩이 있다.\n",
    "\n",
    "- 빌딩 관리인들은 매우 성실 하기 때문에, 다른 빌딩의 옥상 정원을 벤치마킹 하고 싶어한다.\n",
    "\n",
    "- i번째 빌딩의 키가 hi이고, 모든 빌딩은 일렬로 서 있고 오른쪽으로만 볼 수 있다.\n",
    "\n",
    "- i번째 빌딩 관리인이 볼 수 있는 다른 빌딩의 옥상 정원은 i+1, i+2, .... , N이다.\n",
    "\n",
    "- 그런데 자신이 위치한 빌딩보다 높거나 같은 빌딩이 있으면 그 다음에 있는 모든 빌딩의 옥상은 보지 못한다.\n",
    "\n",
    "- 관리인들이 옥상정원을 확인할 수 있는 총 수를 계산하시오."
   ]
  },
  {
   "cell_type": "code",
   "execution_count": 3,
   "metadata": {},
   "outputs": [
    {
     "name": "stdout",
     "output_type": "stream",
     "text": [
      "12\n"
     ]
    }
   ],
   "source": [
    "N = int(input()) # 빌딩 수\n",
    "buildings = [int(input()) for _ in range(N)]\n",
    "stack = []\n",
    "ans = 0\n",
    "\n",
    "for building in buildings:\n",
    "    # 현재 빌딩 높이가 stack의 마지막보다 클 때 \n",
    "    while stack and stack[-1] <= building:\n",
    "        # stack[-1]은 다음 빌딩을 볼 수 없기 때문에 pop\n",
    "        stack.pop()\n",
    "    stack.append(building)\n",
    "    # 자기 자신은 빼고 stack의 길이만큼 ans에 더해줌\n",
    "    ans += len(stack) - 1\n",
    "\n",
    "print(ans)"
   ]
  },
  {
   "attachments": {},
   "cell_type": "markdown",
   "metadata": {},
   "source": [
    "## 1918번 후위 표기식 골드2\n",
    "https://www.acmicpc.net/problem/1918"
   ]
  },
  {
   "cell_type": "code",
   "execution_count": 19,
   "metadata": {},
   "outputs": [
    {
     "name": "stdout",
     "output_type": "stream",
     "text": [
      "AB+\n"
     ]
    }
   ],
   "source": [
    "\n",
    "\n",
    "isp = {'-': 1, '+': 1, '/': 2, '*': 2, '(': 0}\n",
    "icp = {'-': 1, '+': 1, '/': 2, '*': 2, '(': 3}\n",
    "\n",
    "midfix = list(input())\n",
    "postfix = ''\n",
    "stack = []\n",
    "for fix in midfix:\n",
    "    if \"A\" <= fix <= \"Z\":\n",
    "        postfix += fix\n",
    "    else:\n",
    "        if fix == ')':\n",
    "            while stack:\n",
    "                chr = stack.pop()\n",
    "                if chr != \"(\":\n",
    "                    postfix += chr\n",
    "                else:\n",
    "                    break\n",
    "        else:\n",
    "            while stack and isp[stack[-1]] >= icp[fix]:\n",
    "                postfix += stack.pop()\n",
    "       \n",
    "            stack.append(fix)\n",
    "\n",
    "while stack:\n",
    "    postfix += stack.pop()\n",
    "            \n",
    "\n",
    "print(postfix)\n",
    "\n",
    "    "
   ]
  },
  {
   "cell_type": "markdown",
   "metadata": {},
   "source": [
    "## 1662번 압축 골드5\n",
    "https://www.acmicpc.net/problem/1662"
   ]
  },
  {
   "cell_type": "code",
   "execution_count": 36,
   "metadata": {},
   "outputs": [
    {
     "name": "stdout",
     "output_type": "stream",
     "text": [
      "19\n"
     ]
    }
   ],
   "source": [
    "# 메모리 초과\n",
    "string = ''\n",
    "stack = []\n",
    "lst = list(input())\n",
    "\n",
    "for l in lst:\n",
    "    if l != \")\":\n",
    "        stack.append(l)\n",
    "    else:\n",
    "        while stack:\n",
    "            chr = stack.pop()\n",
    "            if chr != \"(\":\n",
    "                string += chr\n",
    "            else:\n",
    "                string *= int(stack.pop())\n",
    "                break\n",
    "\n",
    "while stack:\n",
    "    string += stack.pop()\n",
    "\n",
    "print(len(string))"
   ]
  },
  {
   "cell_type": "code",
   "execution_count": 46,
   "metadata": {},
   "outputs": [
    {
     "name": "stdout",
     "output_type": "stream",
     "text": [
      "275\n"
     ]
    }
   ],
   "source": [
    "# 틀렸음\n",
    "# counter 5(5(52(3)33(2))), answer: 175\n",
    "string = 0\n",
    "stack = []\n",
    "lst = list(input())\n",
    "\n",
    "for l in lst:\n",
    "    if l != \")\":\n",
    "        stack.append(l)\n",
    "    else:\n",
    "        while stack:\n",
    "            chr = stack.pop()\n",
    "            if chr != \"(\":\n",
    "                string += 1\n",
    "            else:\n",
    "                string *= int(stack.pop())\n",
    "                break\n",
    "\n",
    "while stack:\n",
    "    string += 1\n",
    "    stack.pop()\n",
    "\n",
    "print(string)"
   ]
  },
  {
   "cell_type": "markdown",
   "metadata": {},
   "source": [
    "## 7576번 토마토 골드5\n",
    "https://www.acmicpc.net/problem/7576"
   ]
  },
  {
   "cell_type": "code",
   "execution_count": null,
   "metadata": {},
   "outputs": [],
   "source": [
    "from collections import deque\n",
    "\n",
    "M, N = map(int, input().split())\n",
    "tomato = [list(map(int, input().split())) for _ in range(N)]\n",
    "q = deque()\n",
    "v = [[0] * M for _ in range(N)]\n",
    "\n",
    "dr = [-1, 1, 0, 0]\n",
    "dc = [0, 0, -1, 1]\n",
    "\n",
    "for i in range(N):\n",
    "    for j in range(M):\n",
    "        if tomato[i][j] == 1:\n",
    "            q.append((i, j))\n",
    "\n",
    "while q:\n",
    "    r, c = q.popleft()\n",
    "    for d in range(4):\n",
    "        nr = r + dr[d]\n",
    "        nc = c + dc[d]\n",
    "        if 0 <= nr < N and 0 <= nc < M and not v[nr][nc] and not tomato[nr][nc]:\n",
    "            q.append((nr, nc))\n",
    "            v[nr][nc] = 1\n",
    "            tomato[nr][nc] = tomato[r][c] + 1\n",
    "\n",
    "ans = 0\n",
    "for i in tomato:\n",
    "    for x in i:\n",
    "        if x == 0:\n",
    "            print(-1)\n",
    "            exit(0)\n",
    "\n",
    "    ans = max(ans, max(i))\n",
    "\n",
    "print(ans - 1)\n"
   ]
  },
  {
   "cell_type": "markdown",
   "metadata": {},
   "source": [
    "## 7569번 토마토 골드5\n",
    "https://www.acmicpc.net/problem/7569"
   ]
  },
  {
   "cell_type": "code",
   "execution_count": null,
   "metadata": {},
   "outputs": [],
   "source": [
    "from collections import deque\n",
    "\n",
    "M, N, H = map(int, input().split())\n",
    "# 방향이동\n",
    "dr = [-1, 1, 0, 0, 0, 0]\n",
    "dc = [0, 0, -1, 1, 0, 0]\n",
    "dh = [0, 0, 0, 0, -1, 1]\n",
    "\n",
    "graph = []\n",
    "q = deque()\n",
    "\n",
    "for k in range(H):\n",
    "    tomato = []\n",
    "    for i in range(N):\n",
    "        tomato.append(list(map(int, input().split())))\n",
    "        for j in range(M):\n",
    "            if tomato[i][j] == 1:\n",
    "                q.append((k, i, j))\n",
    "    graph.append(tomato)\n",
    "\n",
    "\n",
    "while q:\n",
    "    h, r, c = q.popleft()\n",
    "\n",
    "    for d in range(6):\n",
    "\n",
    "        nr = r + dr[d]\n",
    "        nc = c + dc[d]\n",
    "        nh = h + dh[d]\n",
    "\n",
    "        if 0 <= nh < H and 0 <= nr < N and 0 <= nc < M and graph[nh][nr][nc] == 0:\n",
    "            q.append((nh, nr, nc))\n",
    "            graph[nh][nr][nc] = graph[h][r][c] + 1\n",
    "\n",
    "ans = 0\n",
    "for i in graph:\n",
    "    for j in range(len(i)):\n",
    "        if 0 in i[j]:\n",
    "            ans = -1\n",
    "            print(-1)\n",
    "            exit(0)\n",
    "        ans = max(ans, max(i[j]))\n",
    "\n",
    "print(ans - 1)"
   ]
  },
  {
   "attachments": {},
   "cell_type": "markdown",
   "metadata": {},
   "source": [
    "## 10026번 적록색약 골드5\n",
    "https://www.acmicpc.net/problem/10026"
   ]
  },
  {
   "cell_type": "code",
   "execution_count": null,
   "metadata": {},
   "outputs": [],
   "source": [
    "dr = [1, -1, 0, 0]\n",
    "dc = [0, 0, 1, -1]\n",
    "\n",
    "from collections import deque\n",
    "N =  int(input())\n",
    "RGB = [list(input()) for _ in range(N)]\n",
    "q = deque()\n",
    "v = [[0] * N for _ in range(N)]\n",
    "\n",
    "cnt_r = 0\n",
    "for i in range(N):\n",
    "    for j in range(N):\n",
    "        if not v[i][j]:\n",
    "            q.append((i, j))\n",
    "            v[i][j] = 1\n",
    "            color = RGB[i][j]\n",
    "\n",
    "            while q:\n",
    "                r, c = q.popleft()\n",
    "\n",
    "                for d in range(4):\n",
    "                    nr = r + dr[d]\n",
    "                    nc = c + dc[d]\n",
    "\n",
    "                    if 0 <= nr < N and 0 <= nc < N and\\\n",
    "                         not v[nr][nc] and RGB[nr][nc] == color:\n",
    "                        v[nr][nc] = v[r][c]\n",
    "                        q.append((nr, nc))\n",
    "            cnt_r += 1\n",
    "\n",
    "for i in range(N):\n",
    "    for j in range(N):\n",
    "        if RGB[i][j] == \"G\":\n",
    "            RGB[i][j] = \"R\"\n",
    "\n",
    "v_2 = [[0] * N for _ in range(N)]\n",
    "\n",
    "cnt_b = 0\n",
    "for i in range(N):\n",
    "    for j in range(N):\n",
    "        if not v_2[i][j]:\n",
    "            q.append((i, j))\n",
    "            v_2[i][j] = 1\n",
    "            color = RGB[i][j]\n",
    "            while q:\n",
    "                r, c = q.popleft()\n",
    "\n",
    "                for d in range(4):\n",
    "                    nr = r + dr[d]\n",
    "                    nc = c + dc[d]\n",
    "\n",
    "                    if 0 <= nr < N and 0 <= nc < N and\\\n",
    "                         not v_2[nr][nc] and RGB[nr][nc] == color:\n",
    "                        v_2[nr][nc] = v_2[r][c]\n",
    "                        q.append((nr, nc))\n",
    "\n",
    "            cnt_b += 1\n",
    "            \n",
    "print('{} {}'.format(cnt_r, cnt_b))"
   ]
  }
 ],
 "metadata": {
  "kernelspec": {
   "display_name": "study",
   "language": "python",
   "name": "python3"
  },
  "language_info": {
   "codemirror_mode": {
    "name": "ipython",
    "version": 3
   },
   "file_extension": ".py",
   "mimetype": "text/x-python",
   "name": "python",
   "nbconvert_exporter": "python",
   "pygments_lexer": "ipython3",
   "version": "3.10.4"
  },
  "orig_nbformat": 4,
  "vscode": {
   "interpreter": {
    "hash": "0366d95cfe3e294a9405a60bcbbb3d4cd1344975bbb420614b4c3178f22fa862"
   }
  }
 },
 "nbformat": 4,
 "nbformat_minor": 2
}
