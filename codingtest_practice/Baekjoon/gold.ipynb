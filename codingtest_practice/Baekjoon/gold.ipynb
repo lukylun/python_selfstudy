{
 "cells": [
  {
   "attachments": {},
   "cell_type": "markdown",
   "metadata": {},
   "source": [
    "## 9935번 문자열 폭발(스택, 문자열) 골드IV\n",
    "### 문제\n",
    "- 상근이는 문자열에 폭발 문자열을 심어 놓았다.\n",
    "- 폭발 문자열이 폭발하면 그 문자는 문자열에서 사라지며, 남은 문자열은 합쳐지게 된다.\n",
    "\n",
    "- 폭발은 다음과 같은 과정으로 진행된다.\n",
    "\n",
    "    - 문자열이 폭발 문자열을 포함하고 있는 경우에, 모든 폭발 문자열이 폭발하게 된다.\n",
    "    - 남은 문자열을 순서대로 이어 붙여 새로운 문자열을 만든다.\n",
    "    - 새로 생긴 문자열에 폭발 문자열이 포함되어 있을 수도 있다.\n",
    "    - 폭발은 폭발 문자열이 문자열에 없을 때까지 계속된다.\n",
    "    - 상근이는 모든 폭발이 끝난 후에 어떤 문자열이 남는지 구해보려고 한다.\n",
    "    - 남아있는 문자가 없는 경우가 있다. 이때는 \"FRULA\"를 출력한다.\n",
    "\n",
    "- 폭발 문자열은 같은 문자를 두 개 이상 포함하지 않는다"
   ]
  },
  {
   "cell_type": "code",
   "execution_count": null,
   "metadata": {},
   "outputs": [],
   "source": [
    "s = input()\n",
    "t = input()\n",
    "\n",
    "len_t = len(t)\n",
    "last_t = t[-1]\n",
    "\n",
    "stack = []\n",
    "for chr in s:\n",
    "    stack.append(chr)\n",
    "    if chr == last_t and ''.join(stack[-len_t:]) == t:\n",
    "        del stack[-len_t:]\n",
    "\n",
    "if len(stack) == 0:\n",
    "    print('FRULA')\n",
    "else:\n",
    "    print(''.join(stack))  \n"
   ]
  },
  {
   "cell_type": "code",
   "execution_count": 31,
   "metadata": {},
   "outputs": [
    {
     "name": "stdout",
     "output_type": "stream",
     "text": [
      "mirkovniz\n"
     ]
    }
   ],
   "source": [
    "# 시간초과 -> 100만개에서 줄여나감\n",
    "s = 'mirkovC4nizCC44'\n",
    "t = 'C4'\n",
    "\n",
    "def explosion(a, b):\n",
    "    while True: \n",
    "        i = ''.join(a.split(b))\n",
    "        a = i \n",
    "        if b not in i:\n",
    "            break\n",
    "    return i\n",
    "\n",
    "if explosion(s, t):\n",
    "    print(explosion(s, t))\n",
    "else:\n",
    "    print('FRULA')"
   ]
  },
  {
   "cell_type": "code",
   "execution_count": 48,
   "metadata": {},
   "outputs": [
    {
     "name": "stdout",
     "output_type": "stream",
     "text": [
      "mirkovniz\n"
     ]
    }
   ],
   "source": [
    "# stack 0에서 부터 쌓기\n",
    "s = 'mirkovC4nizCC44'\n",
    "t = 'C4'\n",
    "\n",
    "len_t = len(t)\n",
    "last_t = t[-1]\n",
    "\n",
    "stack = []\n",
    "for chr in s:\n",
    "    stack.append(chr)\n",
    "    if stack[-1] == last_t and ''.join(stack[-len_t:]) == t:\n",
    "        del stack[-len_t:]\n",
    "\n",
    "if stack:\n",
    "    print(''.join(stack))\n",
    "else:\n",
    "    print('FRULA')\n"
   ]
  },
  {
   "cell_type": "code",
   "execution_count": 56,
   "metadata": {},
   "outputs": [
    {
     "name": "stdout",
     "output_type": "stream",
     "text": [
      "mirkov\n",
      "mirkovniz\n",
      "mirkovniz4\n"
     ]
    }
   ],
   "source": [
    "s = 'mirkovC4nizCC44'\n",
    "t = 'C4'\n",
    "\n",
    "len_t = len(t)\n",
    "last_t = t[-1]\n",
    "\n",
    "stack = ''\n",
    "for chr in s:\n",
    "    stack += chr\n",
    "    if chr == last_t and stack[-len_t:] == t:\n",
    "        stack = stack.rstrip(t)\n",
    "        print(stack)\n",
    "\n",
    "if stack:\n",
    "    print(stack)\n",
    "else:\n",
    "    print('FRULA')"
   ]
  },
  {
   "cell_type": "code",
   "execution_count": 15,
   "metadata": {},
   "outputs": [
    {
     "data": {
      "text/plain": [
       "937501"
      ]
     },
     "execution_count": 15,
     "metadata": {},
     "output_type": "execute_result"
    }
   ],
   "source": [
    "def f(n):\n",
    "    a, b = 0, 1\n",
    "    if b > 1000000:\n",
    "        for i in range(n):\n",
    "            a,b = b, a + b\n",
    "        return b\n",
    "    else:\n",
    "        for i in range()\n",
    "f(1000000)"
   ]
  },
  {
   "cell_type": "code",
   "execution_count": 25,
   "metadata": {},
   "outputs": [
    {
     "data": {
      "text/plain": [
       "11"
      ]
     },
     "execution_count": 25,
     "metadata": {},
     "output_type": "execute_result"
    }
   ],
   "source": [
    "11 % 12"
   ]
  },
  {
   "cell_type": "code",
   "execution_count": 33,
   "metadata": {},
   "outputs": [
    {
     "data": {
      "text/plain": [
       "4"
      ]
     },
     "execution_count": 33,
     "metadata": {},
     "output_type": "execute_result"
    }
   ],
   "source": []
  },
  {
   "cell_type": "code",
   "execution_count": 9,
   "metadata": {},
   "outputs": [
    {
     "data": {
      "text/plain": [
       "8"
      ]
     },
     "execution_count": 9,
     "metadata": {},
     "output_type": "execute_result"
    }
   ],
   "source": [
    "def power(a, n, c):\n",
    "    if n == 0:\n",
    "        return 1\n",
    "    \n",
    "    x = power(a, n//2, c)\n",
    "\n",
    "    if n % 2:\n",
    "        return x * x * a % c\n",
    "    \n",
    "    else:\n",
    "        return x * x % c\n",
    "\n",
    "\n",
    "power(2, 3, 12)"
   ]
  },
  {
   "cell_type": "code",
   "execution_count": 7,
   "metadata": {},
   "outputs": [
    {
     "data": {
      "text/plain": [
       "1"
      ]
     },
     "execution_count": 7,
     "metadata": {},
     "output_type": "execute_result"
    }
   ],
   "source": [
    "11 ** 10 % 12"
   ]
  },
  {
   "cell_type": "code",
   "execution_count": null,
   "metadata": {},
   "outputs": [],
   "source": []
  }
 ],
 "metadata": {
  "kernelspec": {
   "display_name": "Python 3",
   "language": "python",
   "name": "python3"
  },
  "language_info": {
   "codemirror_mode": {
    "name": "ipython",
    "version": 3
   },
   "file_extension": ".py",
   "mimetype": "text/x-python",
   "name": "python",
   "nbconvert_exporter": "python",
   "pygments_lexer": "ipython3",
   "version": "3.9.12"
  },
  "orig_nbformat": 4,
  "vscode": {
   "interpreter": {
    "hash": "c4b9ebf4ca459396e2ad1150752490c26670c1a037c08cad955a4425787bec2e"
   }
  }
 },
 "nbformat": 4,
 "nbformat_minor": 2
}
