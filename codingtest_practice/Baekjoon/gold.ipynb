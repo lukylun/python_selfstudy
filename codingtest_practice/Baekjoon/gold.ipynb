{
 "cells": [
  {
   "attachments": {},
   "cell_type": "markdown",
   "metadata": {},
   "source": [
    "## 9935번 문자열 폭발(스택, 문자열) 골드IV\n",
    "### 문제\n",
    "- 상근이는 문자열에 폭발 문자열을 심어 놓았다.\n",
    "- 폭발 문자열이 폭발하면 그 문자는 문자열에서 사라지며, 남은 문자열은 합쳐지게 된다.\n",
    "\n",
    "- 폭발은 다음과 같은 과정으로 진행된다.\n",
    "\n",
    "    - 문자열이 폭발 문자열을 포함하고 있는 경우에, 모든 폭발 문자열이 폭발하게 된다.\n",
    "    - 남은 문자열을 순서대로 이어 붙여 새로운 문자열을 만든다.\n",
    "    - 새로 생긴 문자열에 폭발 문자열이 포함되어 있을 수도 있다.\n",
    "    - 폭발은 폭발 문자열이 문자열에 없을 때까지 계속된다.\n",
    "    - 상근이는 모든 폭발이 끝난 후에 어떤 문자열이 남는지 구해보려고 한다.\n",
    "    - 남아있는 문자가 없는 경우가 있다. 이때는 \"FRULA\"를 출력한다.\n",
    "\n",
    "- 폭발 문자열은 같은 문자를 두 개 이상 포함하지 않는다"
   ]
  },
  {
   "cell_type": "code",
   "execution_count": null,
   "metadata": {},
   "outputs": [],
   "source": [
    "s = input()\n",
    "t = input()\n",
    "\n",
    "len_t = len(t)\n",
    "last_t = t[-1]\n",
    "\n",
    "stack = []\n",
    "for chr in s:\n",
    "    stack.append(chr)\n",
    "    if chr == last_t and ''.join(stack[-len_t:]) == t:\n",
    "        del stack[-len_t:]\n",
    "\n",
    "if len(stack) == 0:\n",
    "    print('FRULA')\n",
    "else:\n",
    "    print(''.join(stack))  \n"
   ]
  },
  {
   "cell_type": "code",
   "execution_count": 31,
   "metadata": {},
   "outputs": [
    {
     "name": "stdout",
     "output_type": "stream",
     "text": [
      "mirkovniz\n"
     ]
    }
   ],
   "source": [
    "# 시간초과 -> 100만개에서 줄여나감\n",
    "s = 'mirkovC4nizCC44'\n",
    "t = 'C4'\n",
    "\n",
    "def explosion(a, b):\n",
    "    while True: \n",
    "        i = ''.join(a.split(b))\n",
    "        a = i \n",
    "        if b not in i:\n",
    "            break\n",
    "    return i\n",
    "\n",
    "if explosion(s, t):\n",
    "    print(explosion(s, t))\n",
    "else:\n",
    "    print('FRULA')"
   ]
  },
  {
   "cell_type": "code",
   "execution_count": 48,
   "metadata": {},
   "outputs": [
    {
     "name": "stdout",
     "output_type": "stream",
     "text": [
      "mirkovniz\n"
     ]
    }
   ],
   "source": [
    "# stack 0에서 부터 쌓기\n",
    "s = 'mirkovC4nizCC44'\n",
    "t = 'C4'\n",
    "\n",
    "len_t = len(t)\n",
    "last_t = t[-1]\n",
    "\n",
    "stack = []\n",
    "for chr in s:\n",
    "    stack.append(chr)\n",
    "    if stack[-1] == last_t and ''.join(stack[-len_t:]) == t:\n",
    "        del stack[-len_t:]\n",
    "\n",
    "if stack:\n",
    "    print(''.join(stack))\n",
    "else:\n",
    "    print('FRULA')\n"
   ]
  },
  {
   "cell_type": "code",
   "execution_count": 56,
   "metadata": {},
   "outputs": [
    {
     "name": "stdout",
     "output_type": "stream",
     "text": [
      "mirkov\n",
      "mirkovniz\n",
      "mirkovniz4\n"
     ]
    }
   ],
   "source": [
    "s = 'mirkovC4nizCC44'\n",
    "t = 'C4'\n",
    "\n",
    "len_t = len(t)\n",
    "last_t = t[-1]\n",
    "\n",
    "stack = ''\n",
    "for chr in s:\n",
    "    stack += chr\n",
    "    if chr == last_t and stack[-len_t:] == t:\n",
    "        stack = stack.rstrip(t)\n",
    "        print(stack)\n",
    "\n",
    "if stack:\n",
    "    print(stack)\n",
    "else:\n",
    "    print('FRULA')"
   ]
  },
  {
   "cell_type": "code",
   "execution_count": 15,
   "metadata": {},
   "outputs": [
    {
     "data": {
      "text/plain": [
       "937501"
      ]
     },
     "execution_count": 15,
     "metadata": {},
     "output_type": "execute_result"
    }
   ],
   "source": [
    "def f(n):\n",
    "    a, b = 0, 1\n",
    "    if b > 1000000:\n",
    "        for i in range(n):\n",
    "            a,b = b, a + b\n",
    "        return b\n",
    "    else:\n",
    "        for i in range()\n",
    "f(1000000)"
   ]
  },
  {
   "cell_type": "markdown",
   "metadata": {},
   "source": [
    "## AC 골드 V(구현)\n",
    "### 문제\n",
    "- 선영이는 주말에 할 일이 없어서 새로운 언어 AC를 만들었다.\n",
    "- AC는 정수 배열에 연산을 하기 위해 만든 언어이다.\n",
    "- 이 언어에는 두 가지 함수 R(뒤집기)과 D(버리기)가 있다.\n",
    "\n",
    "- 함수 R은 배열에 있는 수의 순서를 뒤집는 함수이고, D는 첫 번째 수를 버리는 함수이다. 배열이 비어있는데 D를 사용한 경우에는 에러가 발생한다.\n",
    "\n",
    "- 함수는 조합해서 한 번에 사용할 수 있다.\n",
    "- 예를 들어, \"AB\"는 A를 수행한 다음에 바로 이어서 B를 수행하는 함수이다.\n",
    "- 예를 들어, \"RDD\"는 배열을 뒤집은 다음 처음 두 수를 버리는 함수이다.\n",
    "\n",
    "- 배열의 초기값과 수행할 함수가 주어졌을 때, 최종 결과를 구하는 프로그램을 작성하시오."
   ]
  },
  {
   "cell_type": "code",
   "execution_count": null,
   "metadata": {},
   "outputs": [],
   "source": [
    "T = int(input())\n",
    "\n",
    "for tc in range(T):\n",
    "    func = input().replace('RR', '')\n",
    "    nums = int(input())\n",
    "    arr = input()[1:-1]\n",
    "    if nums != 0 :\n",
    "        arr_list = arr.split(',')\n",
    "    else:\n",
    "        arr_list = []\n",
    "\n",
    "    reverse = 0\n",
    "    error = 0\n",
    "    for i in range(len(func)):\n",
    "        if func[i] == 'R' and reverse == 0:\n",
    "            reverse = 1\n",
    "        elif func[i] == 'R' and reverse == 1:\n",
    "            reverse = 0\n",
    "        elif func[i] == 'D' and len(arr_list) == 0:\n",
    "            error = 1\n",
    "        elif func[i] == 'D' and reverse == 0:\n",
    "            arr_list.pop(0)\n",
    "        elif func[i] == 'D' and reverse == 1:\n",
    "            arr_list.pop(-1)\n",
    "\n",
    "    if error == 1:\n",
    "        print('error')\n",
    "    elif reverse == 0:\n",
    "        print('[', \", \".join(arr_list), ']', sep=\"\")\n",
    "    else:\n",
    "        print('[', \", \".join(arr_list[::-1]), ']', sep=\"\")"
   ]
  },
  {
   "cell_type": "code",
   "execution_count": 5,
   "metadata": {},
   "outputs": [
    {
     "data": {
      "text/plain": [
       "['1', '2', '3', '4']"
      ]
     },
     "execution_count": 5,
     "metadata": {},
     "output_type": "execute_result"
    }
   ],
   "source": [
    "a = '[1,2,3,4]'\n",
    "a = a[1:-1]\n",
    "a.split(',')"
   ]
  },
  {
   "cell_type": "code",
   "execution_count": 21,
   "metadata": {},
   "outputs": [
    {
     "name": "stdout",
     "output_type": "stream",
     "text": [
      "1\n",
      "5\n",
      "9\n"
     ]
    }
   ],
   "source": [
    "## 14719번 빗물 골드V\n",
    "\n",
    "h, w = 4,8\n",
    "rain = [3,1,2,3,4,1,1,2]\n",
    "cnt = 0\n",
    "for i in range(w-1):\n",
    "    if rain[i] <= rain[i+1]:\n",
    "        continue\n",
    "    elif \n",
    "                \n",
    "            \n",
    "print(cnt)"
   ]
  },
  {
   "cell_type": "code",
   "execution_count": null,
   "metadata": {},
   "outputs": [],
   "source": [
    "n = int(input())\n",
    "questions = [list(map(str,input().split())) for _ in range(n)]\n",
    "strikes = [str(i) for i in range(111,999) if len(set(str(i))) == 3 and ('0' not in set(str(i)))]\n",
    "cnt = 0 \n",
    "for question in questions:\n",
    "    for strike in strikes:\n",
    "        s = 0\n",
    "        b = 0\n",
    "        for i in range(3):\n",
    "            if strike[i] == question[0][i]:\n",
    "                s += 1\n",
    "            if strike[i] != question[0][i] and strike[i] in question[0]:\n",
    "                b += 1\n",
    "        if question[1] == int(s) and question[2] == int(b):\n",
    "            cnt += 1\n",
    "print(cnt)"
   ]
  },
  {
   "cell_type": "code",
   "execution_count": 81,
   "metadata": {},
   "outputs": [
    {
     "data": {
      "text/plain": [
       "1"
      ]
     },
     "execution_count": 81,
     "metadata": {},
     "output_type": "execute_result"
    }
   ],
   "source": [
    "a = input().strip()\n",
    "b = input().strip()\n",
    "temp = []\n",
    "for i in range(len(a)):\n",
    "    str1 = ''\n",
    "    idx_b = i\n",
    "    idx_a = i\n",
    "    while idx_a < len(a):\n",
    "        if idx_b < len(b) and a[idx_a] == b[idx_b]:\n",
    "            str1 += a[idx_a]\n",
    "            idx_a += 1\n",
    "            idx_b += 1\n",
    "        elif idx_b < len(b) and a[idx_a] != b[idx_b]:\n",
    "            idx_b += 1\n",
    "        elif idx_b == len(b) and idx_a != len(a)-1:\n",
    "            idx_b = idx_a\n",
    "            idx_a += 1\n",
    "        else:\n",
    "            idx_a += 1\n",
    "\n",
    "    temp.append(len(str1))\n",
    "\n",
    "max(temp)\n",
    "\n",
    "\n"
   ]
  },
  {
   "cell_type": "markdown",
   "metadata": {},
   "source": []
  },
  {
   "cell_type": "code",
   "execution_count": null,
   "metadata": {},
   "outputs": [],
   "source": [
    "# 5052 전화번호 목록 골드IV\n",
    "\n",
    "T = int(input())\n"
   ]
  },
  {
   "cell_type": "markdown",
   "metadata": {},
   "source": [
    "## 2493번 탑 골드V(스택)\n",
    "### 문제\n",
    "- KOI 통신연구소는 레이저를 이용한 새로운 비밀 통신 시스템 개발을 위한 실험을 하고 있다.\n",
    "- 실험을 위하여 일직선 위에 N개의 높이가 서로 다른 탑을 수평 직선의 왼쪽부터 오른쪽 방향으로 차례로 세우고, 각 탑의 꼭대기에 레이저 송신기를 설치하였다.\n",
    "- 모든 탑의 레이저 송신기는 레이저 신호를 지표면과 평행하게 수평 직선의 왼쪽 방향으로 발사하고, 탑의 기둥 모두에는 레이저 신호를 수신하는 장치가 설치되어 있다.\n",
    "- 하나의 탑에서 발사된 레이저 신호는 가장 먼저 만나는 단 하나의 탑에서만 수신이 가능하다. \n",
    "\n",
    "- 예를 들어 높이가 6, 9, 5, 7, 4인 다섯 개의 탑이 수평 직선에 일렬로 서 있고,\n",
    "- 모든 탑에서는 주어진 탑 순서의 반대 방향(왼쪽 방향)으로 동시에 레이저 신호를 발사한다고 하자.\n",
    "- 그러면, 높이가 4인 다섯 번째 탑에서 발사한 레이저 신호는 높이가 7인 네 번째 탑이 수신을 하고,\n",
    "- 높이가 7인 네 번째 탑의 신호는 높이가 9인 두 번째 탑이, 높이가 5인 세 번째 탑의 신호도 높이가 9인 두 번째 탑이 수신을 한다.\n",
    "- 높이가 9인 두 번째 탑과 높이가 6인 첫 번째 탑이 보낸 레이저 신호는 어떤 탑에서도 수신을 하지 못한다.\n",
    "\n",
    "- 탑들의 개수 N과 탑들의 높이가 주어질 때, 각각의 탑에서 발사한 레이저 신호를 어느 탑에서 수신하는지를 알아내는 프로그램을 작성하라. \n",
    "\n"
   ]
  },
  {
   "cell_type": "code",
   "execution_count": null,
   "metadata": {},
   "outputs": [],
   "source": [
    "# 통과\n",
    "n = int(input())\n",
    "nums = list(map(int, input().split()))\n",
    "stack = []\n",
    "ans = [0 for _ in range(n)]\n",
    "\n",
    "for i in range(n):\n",
    "    while stack:\n",
    "        if stack[-1][1] > nums[i]:\n",
    "            ans[i] = stack[-1][0] + 1\n",
    "            break\n",
    "        else:\n",
    "            stack.pop()\n",
    "    \n",
    "    stack.append((i, nums[i]))\n",
    "\n",
    "print(' '.join(map(str, ans)))"
   ]
  },
  {
   "cell_type": "code",
   "execution_count": null,
   "metadata": {},
   "outputs": [],
   "source": [
    "# 시간 초과\n",
    "n = int(input())\n",
    "nums = list(map(int, input().split()))\n",
    "stack = [0]\n",
    "idx = 0\n",
    "\n",
    "for i in range(1,n):\n",
    "    j = i - 1\n",
    "    while j >= 0:\n",
    "        if nums[i] < nums[j]:\n",
    "            stack.append(j + 1)\n",
    "            idx = j + 1\n",
    "            break\n",
    "        elif nums[i] > nums[j] and j > 0:\n",
    "            j -= 1\n",
    "        else:\n",
    "            j -= 1\n",
    "            stack.append(idx)\n",
    "\n",
    "print(' '.join(map(str, stack)))"
   ]
  },
  {
   "cell_type": "code",
   "execution_count": null,
   "metadata": {},
   "outputs": [],
   "source": []
  }
 ],
 "metadata": {
  "kernelspec": {
   "display_name": "base",
   "language": "python",
   "name": "python3"
  },
  "language_info": {
   "codemirror_mode": {
    "name": "ipython",
    "version": 3
   },
   "file_extension": ".py",
   "mimetype": "text/x-python",
   "name": "python",
   "nbconvert_exporter": "python",
   "pygments_lexer": "ipython3",
   "version": "3.9.12"
  },
  "orig_nbformat": 4,
  "vscode": {
   "interpreter": {
    "hash": "d7288e82646d3164eca24130947288f8779d11454649f2c02a5dfc42af7f324c"
   }
  }
 },
 "nbformat": 4,
 "nbformat_minor": 2
}
