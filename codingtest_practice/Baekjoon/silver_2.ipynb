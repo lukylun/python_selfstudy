{
 "cells": [
  {
   "cell_type": "markdown",
   "metadata": {},
   "source": [
    "# 스택"
   ]
  },
  {
   "cell_type": "markdown",
   "metadata": {},
   "source": [
    "## 1406번 에디터 실버2\n",
    "https://www.acmicpc.net/problem/1406\n"
   ]
  },
  {
   "cell_type": "code",
   "execution_count": null,
   "metadata": {},
   "outputs": [
    {
     "name": "stdout",
     "output_type": "stream",
     "text": [
      "aa\n"
     ]
    }
   ],
   "source": [
    "# 통과(Pypy)\n",
    "l_stack = list(input())\n",
    "r_stack = []\n",
    "N = int(input())\n",
    "\n",
    "for i in range(N):\n",
    "    string = input()\n",
    "    if string[0] == 'P':\n",
    "        string = string.split()\n",
    "        l_stack.append(string[-1])\n",
    "    elif string == 'L' and l_stack:\n",
    "        r_stack.append(l_stack.pop())\n",
    "    elif string == 'D' and r_stack:\n",
    "        l_stack.append(r_stack.pop())\n",
    "    elif string == 'B' and l_stack:\n",
    "        l_stack.pop()\n",
    "\n",
    "print(''.join(l_stack)+''.join(r_stack[::-1]))\n"
   ]
  },
  {
   "cell_type": "code",
   "execution_count": null,
   "metadata": {},
   "outputs": [],
   "source": [
    "# 출력초과\n",
    "import sys\n",
    "input = sys.stdin.readline\n",
    "l_stack = list(input())\n",
    "r_stack = []\n",
    "N = int(input())\n",
    "\n",
    "for i in range(N):\n",
    "    string = input()\n",
    "    if string[0] == 'P':\n",
    "        string = string.split()\n",
    "        l_stack.append(string[-1])\n",
    "    elif string == 'L' and l_stack:\n",
    "        r_stack.append(l_stack.pop())\n",
    "    elif string == 'D' and r_stack:\n",
    "        l_stack.append(r_stack.pop())\n",
    "    elif string == 'B' and l_stack:\n",
    "        l_stack.pop()\n",
    "\n",
    "print(''.join(l_stack)+''.join(r_stack[::-1]))\n"
   ]
  },
  {
   "attachments": {},
   "cell_type": "markdown",
   "metadata": {},
   "source": [
    "## 5397번 키로거 실버2\n",
    "https://www.acmicpc.net/problem/5397"
   ]
  },
  {
   "cell_type": "code",
   "execution_count": null,
   "metadata": {},
   "outputs": [],
   "source": [
    "N = int(input())\n",
    "for _ in range(N):\n",
    "    l_stack = []\n",
    "    r_stack = []\n",
    "    string = list(input())\n",
    "    for s in string:\n",
    "        if s == \"<\" and l_stack:\n",
    "            r_stack.append(l_stack.pop())\n",
    "        elif s == \">\" and r_stack:\n",
    "            l_stack.append(r_stack.pop())\n",
    "        elif s == '-' and l_stack:\n",
    "            l_stack.pop()\n",
    "        elif s.isalpha() or s.isdigit():\n",
    "            l_stack.append(s)\n",
    "    print(''.join(l_stack)+''.join(r_stack[::-1]))\n"
   ]
  },
  {
   "cell_type": "markdown",
   "metadata": {},
   "source": [
    "## 10845번 큐 실버4\n",
    "https://www.acmicpc.net/problem/10845"
   ]
  },
  {
   "cell_type": "code",
   "execution_count": null,
   "metadata": {},
   "outputs": [],
   "source": [
    "import sys\n",
    "input = sys.stdin.readline\n",
    "\n",
    "N = int(input().rstrip())\n",
    "queue = []\n",
    "for i in range(N):\n",
    "    string = input().rstrip().split()\n",
    "    if string[0] == 'push':\n",
    "        queue.append(string[1])\n",
    "    elif string[0] == 'front': \n",
    "        if queue:\n",
    "            print(queue[0])\n",
    "        else:\n",
    "            print(-1)\n",
    "    elif string[0] == 'pop': \n",
    "        if queue:\n",
    "            print(queue.pop(0))\n",
    "        else:\n",
    "            print(-1)         \n",
    "    elif string[0] == 'size': \n",
    "        print(len(queue))\n",
    "    elif string[0] == 'empty': \n",
    "        if queue:\n",
    "            print(0)\n",
    "        else:\n",
    "            print(1)\n",
    "    elif string[0] == 'back': \n",
    "        if queue:\n",
    "            print(queue[-1])\n",
    "        else:\n",
    "            print(-1)"
   ]
  },
  {
   "cell_type": "markdown",
   "metadata": {},
   "source": [
    "## 2164번 카드2 실버4\n",
    "https://www.acmicpc.net/problem/2164"
   ]
  },
  {
   "cell_type": "code",
   "execution_count": null,
   "metadata": {},
   "outputs": [],
   "source": [
    "from collections import deque\n",
    "q = deque()\n",
    "N = [i for i in range(1, int(input()) + 1)]\n",
    "\n",
    "for i in N:\n",
    "    q.append(i)\n",
    "print(q)\n",
    "while len(q) > 1:\n",
    "    q.popleft()\n",
    "    chr = q.popleft()\n",
    "    q.append(chr)\n",
    "    print(q)\n",
    "\n",
    "print(q[0])"
   ]
  },
  {
   "cell_type": "markdown",
   "metadata": {},
   "source": [
    "## 1158번 요세푸스 문제 실버4\n",
    "https://www.acmicpc.net/problem/1158"
   ]
  },
  {
   "cell_type": "code",
   "execution_count": null,
   "metadata": {},
   "outputs": [],
   "source": [
    "from collections import deque\n",
    "q = deque()\n",
    "N, K = map(int, input().split())\n",
    "lst = [i for i in range(1, N + 1)]\n",
    "for i in lst:\n",
    "    q.append(i)\n",
    "\n",
    "ans = []\n",
    "while q:\n",
    "    for i in range(K-1):\n",
    "        chr1 = q.popleft()\n",
    "        q.append(chr1)\n",
    "\n",
    "    ans.append(q.popleft())\n",
    "\n",
    "print('<', end='')\n",
    "print(\", \".join(map(str, ans)), end='')\n",
    "print('>')"
   ]
  },
  {
   "cell_type": "markdown",
   "metadata": {},
   "source": [
    "## 1966번 프린터 큐 실버 3\n",
    "https://www.acmicpc.net/problem/1966"
   ]
  },
  {
   "cell_type": "code",
   "execution_count": null,
   "metadata": {},
   "outputs": [],
   "source": [
    "import sys\n",
    "from collections import deque\n",
    "input = sys.stdin.readline\n",
    "\n",
    "T = int(input().rstrip())\n",
    "\n",
    "\n",
    "for tc in range(T):\n",
    "    N, M = map(int, input().rstrip().split())\n",
    "    lst = list(map(int, input().rstrip().split()))\n",
    "    q = deque()\n",
    "    cnt = 0\n",
    "    for i in range(N):\n",
    "        q.append([i, lst[i]]) # index로 lst의 값을 꺼내기 위해 같이 저장\n",
    "    while q:\n",
    "        idx, imp = q.popleft()  # 하나씩 꺼냄\n",
    "        for a, b in q:\n",
    "            if imp < b:\n",
    "                q.append([idx, imp]) # 작으면 다시 q에 집어넣어\n",
    "                break\n",
    "        else:\n",
    "            if idx == M: # index가 M이랑 같으면 탈출\n",
    "                cnt += 1\n",
    "                print(cnt)\n",
    "                break\n",
    "            else:           # M이랑 다르면 또 돌려\n",
    "                cnt += 1\n",
    "\n"
   ]
  },
  {
   "cell_type": "markdown",
   "metadata": {},
   "source": [
    "## 1260번 DFS와 BFS 실버2\n",
    "https://www.acmicpc.net/problem/1260"
   ]
  },
  {
   "cell_type": "code",
   "execution_count": null,
   "metadata": {},
   "outputs": [
    {
     "name": "stdout",
     "output_type": "stream",
     "text": [
      "3 1 2 5 4 \n",
      "3 1 4 2 5 "
     ]
    }
   ],
   "source": [
    "from collections import deque\n",
    "\n",
    "def bfs(V):\n",
    "    q = deque([V])  # pop메서드의 시간복잡도가 낮은 덱 내장 메서드를 이용한다\n",
    "    visited1[V] = True  # 해당 V 값을 방문처리\n",
    "    while q:  # q가 빌때까지 돈다.\n",
    "        V = q.popleft()  # 큐에 있는 첫번째 값 꺼낸다.\n",
    "        print(V, end=\" \")  # 해당 값 출력\n",
    "        for i in range(1, N + 1):  # 1부터 N까지 돈다\n",
    "            if not visited1[i] and adj[V][i]:  # 만약 해당 i값을 방문하지 않았고 V와 연결이 되어 있다면\n",
    "                q.append(i)  # 그 i 값을 추가\n",
    "                visited1[i] = True  # i 값을 방문처리\n",
    "\n",
    "\n",
    "def dfs(s):\n",
    "    visited2[s] = 1\n",
    "    print(s, end=\" \")\n",
    "    for i in range(1, N + 1):\n",
    "        if not visited2[i] and adj[s][i]:\n",
    "            dfs(i)\n",
    "\n",
    "N, M, V = map(int, input().split())\n",
    "adj = [[0] * (N + 1) for _ in range(N + 1)]\n",
    "for i in range(M):\n",
    "    start, to = map(int, input().split())\n",
    "    adj[start][to] = 1\n",
    "    adj[to][start] = 1\n",
    "\n",
    "visited1 = [0] * (N + 1)\n",
    "visited2 = [0] * (N + 1)\n",
    "dfs(V)\n",
    "print()\n",
    "bfs(V)"
   ]
  },
  {
   "cell_type": "code",
   "execution_count": null,
   "metadata": {},
   "outputs": [],
   "source": []
  },
  {
   "cell_type": "code",
   "execution_count": null,
   "metadata": {},
   "outputs": [],
   "source": []
  }
 ],
 "metadata": {
  "kernelspec": {
   "display_name": "study",
   "language": "python",
   "name": "python3"
  },
  "language_info": {
   "codemirror_mode": {
    "name": "ipython",
    "version": 3
   },
   "file_extension": ".py",
   "mimetype": "text/x-python",
   "name": "python",
   "nbconvert_exporter": "python",
   "pygments_lexer": "ipython3",
   "version": "3.10.4"
  },
  "orig_nbformat": 4,
  "vscode": {
   "interpreter": {
    "hash": "0366d95cfe3e294a9405a60bcbbb3d4cd1344975bbb420614b4c3178f22fa862"
   }
  }
 },
 "nbformat": 4,
 "nbformat_minor": 2
}
