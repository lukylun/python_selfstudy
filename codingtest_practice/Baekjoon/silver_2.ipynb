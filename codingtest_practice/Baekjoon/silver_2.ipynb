{
 "cells": [
  {
   "cell_type": "markdown",
   "metadata": {},
   "source": [
    "# 스택"
   ]
  },
  {
   "cell_type": "markdown",
   "metadata": {},
   "source": [
    "## 1406번 에디터 실버2\n",
    "https://www.acmicpc.net/problem/1406\n"
   ]
  },
  {
   "cell_type": "code",
   "execution_count": null,
   "metadata": {},
   "outputs": [],
   "source": [
    "# 통과(Pypy)\n",
    "l_stack = list(input())\n",
    "r_stack = []\n",
    "N = int(input())\n",
    "\n",
    "for i in range(N):\n",
    "    string = input()\n",
    "    if string[0] == 'P':\n",
    "        string = string.split()\n",
    "        l_stack.append(string[-1])\n",
    "    elif string == 'L' and l_stack:\n",
    "        r_stack.append(l_stack.pop())\n",
    "    elif string == 'D' and r_stack:\n",
    "        l_stack.append(r_stack.pop())\n",
    "    elif string == 'B' and l_stack:\n",
    "        l_stack.pop()\n",
    "\n",
    "print(''.join(l_stack)+''.join(r_stack[::-1]))\n"
   ]
  },
  {
   "cell_type": "code",
   "execution_count": null,
   "metadata": {},
   "outputs": [],
   "source": [
    "# 출력초과\n",
    "import sys\n",
    "input = sys.stdin.readline\n",
    "l_stack = list(input())\n",
    "r_stack = []\n",
    "N = int(input())\n",
    "\n",
    "for i in range(N):\n",
    "    string = input()\n",
    "    if string[0] == 'P':\n",
    "        string = string.split()\n",
    "        l_stack.append(string[-1])\n",
    "    elif string == 'L' and l_stack:\n",
    "        r_stack.append(l_stack.pop())\n",
    "    elif string == 'D' and r_stack:\n",
    "        l_stack.append(r_stack.pop())\n",
    "    elif string == 'B' and l_stack:\n",
    "        l_stack.pop()\n",
    "\n",
    "print(''.join(l_stack)+''.join(r_stack[::-1]))\n"
   ]
  },
  {
   "attachments": {},
   "cell_type": "markdown",
   "metadata": {},
   "source": [
    "## 5397번 키로거 실버2\n",
    "https://www.acmicpc.net/problem/5397"
   ]
  },
  {
   "cell_type": "code",
   "execution_count": null,
   "metadata": {},
   "outputs": [],
   "source": [
    "N = int(input())\n",
    "for _ in range(N):\n",
    "    l_stack = []\n",
    "    r_stack = []\n",
    "    string = list(input())\n",
    "    for s in string:\n",
    "        if s == \"<\" and l_stack:\n",
    "            r_stack.append(l_stack.pop())\n",
    "        elif s == \">\" and r_stack:\n",
    "            l_stack.append(r_stack.pop())\n",
    "        elif s == '-' and l_stack:\n",
    "            l_stack.pop()\n",
    "        elif s.isalpha() or s.isdigit():\n",
    "            l_stack.append(s)\n",
    "    print(''.join(l_stack)+''.join(r_stack[::-1]))\n"
   ]
  },
  {
   "cell_type": "markdown",
   "metadata": {},
   "source": [
    "## 10845번 큐 실버4\n",
    "https://www.acmicpc.net/problem/10845"
   ]
  },
  {
   "cell_type": "code",
   "execution_count": null,
   "metadata": {},
   "outputs": [],
   "source": [
    "import sys\n",
    "input = sys.stdin.readline\n",
    "\n",
    "N = int(input().rstrip())\n",
    "queue = []\n",
    "for i in range(N):\n",
    "    string = input().rstrip().split()\n",
    "    if string[0] == 'push':\n",
    "        queue.append(string[1])\n",
    "    elif string[0] == 'front': \n",
    "        if queue:\n",
    "            print(queue[0])\n",
    "        else:\n",
    "            print(-1)\n",
    "    elif string[0] == 'pop': \n",
    "        if queue:\n",
    "            print(queue.pop(0))\n",
    "        else:\n",
    "            print(-1)         \n",
    "    elif string[0] == 'size': \n",
    "        print(len(queue))\n",
    "    elif string[0] == 'empty': \n",
    "        if queue:\n",
    "            print(0)\n",
    "        else:\n",
    "            print(1)\n",
    "    elif string[0] == 'back': \n",
    "        if queue:\n",
    "            print(queue[-1])\n",
    "        else:\n",
    "            print(-1)"
   ]
  },
  {
   "cell_type": "markdown",
   "metadata": {},
   "source": [
    "## 2164번 카드2 실버4\n",
    "https://www.acmicpc.net/problem/2164"
   ]
  },
  {
   "cell_type": "code",
   "execution_count": null,
   "metadata": {},
   "outputs": [],
   "source": [
    "from collections import deque\n",
    "q = deque()\n",
    "N = [i for i in range(1, int(input()) + 1)]\n",
    "\n",
    "for i in N:\n",
    "    q.append(i)\n",
    "print(q)\n",
    "while len(q) > 1:\n",
    "    q.popleft()\n",
    "    chr = q.popleft()\n",
    "    q.append(chr)\n",
    "    print(q)\n",
    "\n",
    "print(q[0])"
   ]
  },
  {
   "cell_type": "markdown",
   "metadata": {},
   "source": [
    "## 1158번 요세푸스 문제 실버4\n",
    "https://www.acmicpc.net/problem/1158"
   ]
  },
  {
   "cell_type": "code",
   "execution_count": null,
   "metadata": {},
   "outputs": [],
   "source": [
    "from collections import deque\n",
    "q = deque()\n",
    "N, K = map(int, input().split())\n",
    "lst = [i for i in range(1, N + 1)]\n",
    "for i in lst:\n",
    "    q.append(i)\n",
    "\n",
    "ans = []\n",
    "while q:\n",
    "    for i in range(K-1):\n",
    "        chr1 = q.popleft()\n",
    "        q.append(chr1)\n",
    "\n",
    "    ans.append(q.popleft())\n",
    "\n",
    "print('<', end='')\n",
    "print(\", \".join(map(str, ans)), end='')\n",
    "print('>')"
   ]
  },
  {
   "cell_type": "markdown",
   "metadata": {},
   "source": [
    "## 1966번 프린터 큐 실버 3\n",
    "https://www.acmicpc.net/problem/1966"
   ]
  },
  {
   "cell_type": "code",
   "execution_count": null,
   "metadata": {},
   "outputs": [],
   "source": [
    "import sys\n",
    "from collections import deque\n",
    "input = sys.stdin.readline\n",
    "\n",
    "T = int(input().rstrip())\n",
    "\n",
    "\n",
    "for tc in range(T):\n",
    "    N, M = map(int, input().rstrip().split())\n",
    "    lst = list(map(int, input().rstrip().split()))\n",
    "    q = deque()\n",
    "    cnt = 0\n",
    "    for i in range(N):\n",
    "        q.append([i, lst[i]]) # index로 lst의 값을 꺼내기 위해 같이 저장\n",
    "    while q:\n",
    "        idx, imp = q.popleft()  # 하나씩 꺼냄\n",
    "        for a, b in q:\n",
    "            if imp < b:\n",
    "                q.append([idx, imp]) # 작으면 다시 q에 집어넣어\n",
    "                break\n",
    "        else:\n",
    "            if idx == M: # index가 M이랑 같으면 탈출\n",
    "                cnt += 1\n",
    "                print(cnt)\n",
    "                break\n",
    "            else:           # M이랑 다르면 또 돌려\n",
    "                cnt += 1\n",
    "\n"
   ]
  },
  {
   "cell_type": "markdown",
   "metadata": {},
   "source": [
    "## 1260번 DFS와 BFS 실버2\n",
    "https://www.acmicpc.net/problem/1260"
   ]
  },
  {
   "cell_type": "code",
   "execution_count": null,
   "metadata": {},
   "outputs": [],
   "source": [
    "from collections import deque\n",
    "\n",
    "def bfs(V):\n",
    "    q = deque()\n",
    "    q.append(V)\n",
    "    visited1[V] = 1\n",
    "    while q:\n",
    "        chr = q.popleft()\n",
    "        print(chr, end=\" \")\n",
    "        for i in range(1, N + 1):\n",
    "            if not visited1[i] and adj[chr][i]:\n",
    "                q.append(i)\n",
    "                visited1[i] = 1\n",
    "\n",
    "\n",
    "def dfs(s):\n",
    "    visited2[s] = 1\n",
    "    print(s, end=\" \")\n",
    "    for i in range(1, N + 1):\n",
    "        if not visited2[i] and adj[s][i]:\n",
    "            dfs(i)\n",
    "\n",
    "N, M, V = map(int, input().split())\n",
    "adj = [[0] * (N + 1) for _ in range(N + 1)]\n",
    "for i in range(M):\n",
    "    start, to = map(int, input().split())\n",
    "    adj[start][to] = 1\n",
    "    adj[to][start] = 1\n",
    "\n",
    "visited1 = [0] * (N + 1)\n",
    "visited2 = [0] * (N + 1)\n",
    "dfs(V)\n",
    "print()\n",
    "bfs(V)"
   ]
  },
  {
   "cell_type": "markdown",
   "metadata": {},
   "source": [
    "## 1920번 수 찾기 실버4\n",
    "https://www.acmicpc.net/problem/1920"
   ]
  },
  {
   "cell_type": "code",
   "execution_count": null,
   "metadata": {},
   "outputs": [],
   "source": [
    "def binary_search(array, target, start, end):\n",
    "    while start <= end:\n",
    "        mid = (start + end) // 2\n",
    "        if array[mid] == target:\n",
    "            return 1\n",
    "        elif array[mid] > target:\n",
    "            end = mid - 1\n",
    "        else:\n",
    "            start = mid + 1\n",
    "    return 0\n",
    "\n",
    "N = int(input())\n",
    "N_lst = sorted(list(map(int, input().split())))\n",
    "M = int(input())\n",
    "M_list = list(map(int, input().split()))\n",
    "\n",
    "for i in M_list:\n",
    "    print(binary_search(N_lst, i, 0, N-1))\n"
   ]
  },
  {
   "cell_type": "markdown",
   "metadata": {},
   "source": [
    "## 2805번 나무자르기 실버4\n",
    "https://www.acmicpc.net/problem/2805"
   ]
  },
  {
   "cell_type": "code",
   "execution_count": 9,
   "metadata": {},
   "outputs": [
    {
     "ename": "ValueError",
     "evalue": "not enough values to unpack (expected 2, got 0)",
     "output_type": "error",
     "traceback": [
      "\u001b[1;31m---------------------------------------------------------------------------\u001b[0m",
      "\u001b[1;31mValueError\u001b[0m                                Traceback (most recent call last)",
      "Cell \u001b[1;32mIn[9], line 2\u001b[0m\n\u001b[0;32m      1\u001b[0m \u001b[39m# N: 나무 수, M: 필요한 나무 M미터\u001b[39;00m\n\u001b[1;32m----> 2\u001b[0m N, M \u001b[39m=\u001b[39m \u001b[39mmap\u001b[39m(\u001b[39mint\u001b[39m, \u001b[39minput\u001b[39m()\u001b[39m.\u001b[39msplit())\n\u001b[0;32m      3\u001b[0m trees \u001b[39m=\u001b[39m \u001b[39mlist\u001b[39m(\u001b[39mmap\u001b[39m(\u001b[39mint\u001b[39m, \u001b[39minput\u001b[39m()\u001b[39m.\u001b[39msplit()))\n\u001b[0;32m      4\u001b[0m \u001b[39m# 최소 나무 길이 1\u001b[39;00m\n",
      "\u001b[1;31mValueError\u001b[0m: not enough values to unpack (expected 2, got 0)"
     ]
    }
   ],
   "source": [
    "# N: 나무 수, M: 필요한 나무 M미터\n",
    "N, M = map(int, input().split())\n",
    "trees = list(map(int, input().split()))\n",
    "# 최소 나무 길이 1\n",
    "start = 1\n",
    "# 최대 나무 길이 \n",
    "end = max(trees)\n",
    "\n",
    "while start <= end:\n",
    "    mid = (start + end) // 2\n",
    "    # 자른 나무길이\n",
    "    cnt = 0\n",
    "    for tree in trees:\n",
    "        # 중간 길이보다 크면 잘라~\n",
    "        if tree > mid:\n",
    "            # cnt에 더해보고\n",
    "            cnt += tree - mid\n",
    "    # cnt가 M보다 크면\n",
    "    if cnt >= M:\n",
    "        # start 위치 조정, 앞으로 당겨야함\n",
    "        start = mid + 1\n",
    "    else:\n",
    "        end = mid - 1\n",
    "\n",
    "print(end)\n",
    "  "
   ]
  },
  {
   "cell_type": "markdown",
   "metadata": {},
   "source": [
    "## 1654번 랜선 자르기\n",
    "https://www.acmicpc.net/problem/1654"
   ]
  },
  {
   "cell_type": "code",
   "execution_count": 18,
   "metadata": {},
   "outputs": [
    {
     "name": "stdout",
     "output_type": "stream",
     "text": [
      "2\n"
     ]
    }
   ],
   "source": [
    "K, N = map(int, input().split())\n",
    "lst = [int(input()) for _ in range(K)]\n",
    "start = 1\n",
    "end = max(lst)\n",
    "\n",
    "if N == 1:\n",
    "    print(end)\n",
    "else:\n",
    "    while start <= end:\n",
    "        mid = (start + end) // 2\n",
    "        cnt = 0\n",
    "        for l in lst:\n",
    "            if l >= mid:\n",
    "                cnt += l // mid\n",
    "        # if cnt == N:\n",
    "        #     end = mid\n",
    "        #     break\n",
    "        if cnt >= N:\n",
    "            start = mid + 1\n",
    "        else:\n",
    "            end = mid - 1\n",
    "        \n",
    "    print(end)"
   ]
  },
  {
   "cell_type": "code",
   "execution_count": 19,
   "metadata": {},
   "outputs": [
    {
     "name": "stdout",
     "output_type": "stream",
     "text": [
      "5\n"
     ]
    }
   ],
   "source": [
    "K, N = map(int, input().split())\n",
    "lst = [int(input()) for _ in range(K)]\n",
    "start = 1\n",
    "end = max(lst)\n",
    "\n",
    "\n",
    "while start <= end:\n",
    "    mid = (start + end) // 2\n",
    "    cnt = 0\n",
    "    for l in lst:\n",
    "        if l >= mid:\n",
    "            cnt += l // mid\n",
    "    # if cnt == N:\n",
    "    #     end = mid\n",
    "    #     break\n",
    "    if cnt >= N:\n",
    "        start = mid + 1\n",
    "    else:\n",
    "        end = mid - 1\n",
    "    \n",
    "print(end)"
   ]
  },
  {
   "cell_type": "markdown",
   "metadata": {},
   "source": [
    "## 1991번 트리 순회 실버 1\n",
    "https://www.acmicpc.net/problem/1991"
   ]
  },
  {
   "cell_type": "code",
   "execution_count": null,
   "metadata": {},
   "outputs": [],
   "source": [
    "N = int(input())\n",
    "\n",
    "tree = {}\n",
    "\n",
    "for i in range(N):\n",
    "    root, left, right = input().split()\n",
    "    tree[root] = [left, right]\n",
    "\n",
    "def preorder(i):\n",
    "    print(i, end=\"\")\n",
    "    preorder(tree[i][0])\n",
    "    preorder(tree[i][1])\n",
    "\n",
    "preorder(\"A\")"
   ]
  },
  {
   "cell_type": "code",
   "execution_count": null,
   "metadata": {},
   "outputs": [],
   "source": []
  },
  {
   "cell_type": "markdown",
   "metadata": {},
   "source": [
    "# 2468번 안전영역 실버1\n",
    "https://www.acmicpc.net/problem/2468"
   ]
  },
  {
   "cell_type": "code",
   "execution_count": null,
   "metadata": {},
   "outputs": [],
   "source": [
    "# 방향이동\n",
    "dr = [-1, 1, 0, 0]\n",
    "dc = [0, 0, -1, 1]\n",
    "\n",
    "# bfs\n",
    "def bfs(r, c):\n",
    "    visited = [[0] * N for _ in range(N)]\n",
    "    q = []\n",
    "    q.append((r, c))\n",
    "    visited[r][c] = 1\n",
    "    # 방문지역 넘버링(같은구역 같은숫자로 묶기)\n",
    "    safety[r][c] = num\n",
    "    while q:\n",
    "        r, c = q.pop(0)\n",
    "        # 4방향 탐색\n",
    "        for d in range(4):\n",
    "            nr = r + dr[d]\n",
    "            nc = c + dc[d]\n",
    "            # 방문 안 한 곳\n",
    "            if 0 <= nr < N and 0 <= nc < N and not visited[nr][nc] and area[nr][nc] >= k:\n",
    "                visited[nr][nc] = 1\n",
    "                safety[nr][nc] = num\n",
    "                q.append((nr, nc))\n",
    "\n",
    "N = int(input())\n",
    "area = [list(map(int, input().split())) for _ in range(N)]\n",
    "\n",
    "# 최대 높이\n",
    "max_rain = 0\n",
    "\n",
    "# 구역 개수\n",
    "max_A = 1\n",
    "\n",
    "# 구역 넘버링\n",
    "num = 1\n",
    "# 최대 높이가 100\n",
    "for k in range(1, 101):\n",
    "    # 구역 넘버링 배열\n",
    "    safety = [[0] * N for _ in range(N)]\n",
    "    for i in range(N):\n",
    "        # 최대높이 비교\n",
    "        max_rain = max(max(area[i]), max_rain)\n",
    "        for j in range(N):\n",
    "            if area[i][j] >= k and safety[i][j] == 0:\n",
    "                bfs(i, j)\n",
    "                num += 1\n",
    "\n",
    "    # 최대 구역 개수\n",
    "    for i in range(N):\n",
    "        max_A = max(max_A, max(safety[i]))\n",
    "        num = 1\n",
    "    # 최대 높이가 k보다 작으면 볼 필요 없음\n",
    "    if max_rain < k:\n",
    "        break\n",
    "\n",
    "print(max_A)\n",
    "\n",
    "\n",
    "\n",
    "\n"
   ]
  },
  {
   "cell_type": "markdown",
   "metadata": {},
   "source": [
    "## 9095번 1, 2, 3 더하기 실버 3\n",
    "https://www.acmicpc.net/problem/9095"
   ]
  },
  {
   "cell_type": "code",
   "execution_count": null,
   "metadata": {},
   "outputs": [],
   "source": [
    "d = [0] * 12\n",
    "\n",
    "def f(n):\n",
    "    d[1] = 1\n",
    "    d[2] = 2\n",
    "    d[3] = 4\n",
    "    if n <= 3:\n",
    "        return d[n]\n",
    "\n",
    "    if n > 3:\n",
    "        d[n] = f(n - 1) + f(n - 2) + f(n - 3)\n",
    "\n",
    "    return d[n]\n",
    "\n",
    "\n",
    "N = int(input())\n",
    "for _ in range(N):\n",
    "    print(f(int(input())))"
   ]
  },
  {
   "cell_type": "markdown",
   "metadata": {},
   "source": [
    "## 1463번 1로 만들기 실버 3\n",
    "https://www.acmicpc.net/problem/1463"
   ]
  },
  {
   "cell_type": "code",
   "execution_count": null,
   "metadata": {},
   "outputs": [],
   "source": [
    "d = [0] * 1000001\n",
    "\n",
    "N = int(input())\n",
    "\n",
    "for n in range(2, 1000001):\n",
    "    d[n] = d[n-1] + 1\n",
    "    if n % 2 == 0:\n",
    "        d[n] = min(d[n], d[n//2] + 1)\n",
    "\n",
    "    if n % 3 == 0:\n",
    "        d[n] = min(d[n], d[n//3] + 1)\n",
    "\n",
    "\n",
    "print(d[N])"
   ]
  },
  {
   "cell_type": "markdown",
   "metadata": {},
   "source": [
    "# 1764번 듣보잡 실버4\n",
    "https://www.acmicpc.net/problem/1764"
   ]
  },
  {
   "cell_type": "code",
   "execution_count": null,
   "metadata": {},
   "outputs": [],
   "source": [
    "import sys\n",
    "input = sys.stdin.readline\n",
    "N, M = map(int, input().rstrip().split())\n",
    "\n",
    "lis_see = set()\n",
    "listen = set()\n",
    "saw = set()\n",
    "\n",
    "for _ in range(N):\n",
    "    s = input().rstrip()\n",
    "    listen.add(s)\n",
    "    lis_see.add(s)\n",
    "\n",
    "for _ in range(M):\n",
    "    s = input().rstrip()\n",
    "    saw.add(s)\n",
    "    lis_see.add(s)\n",
    "\n",
    "ans = []\n",
    "for i in lis_see:\n",
    "    if i in listen and i in saw:\n",
    "        ans.append(i)\n",
    "\n",
    "ans.sort()\n",
    "print(len(ans))\n",
    "for i in ans:\n",
    "    print(i)"
   ]
  },
  {
   "cell_type": "markdown",
   "metadata": {},
   "source": [
    "## 11724번 연결 요소의 개수 \n",
    "https://www.acmicpc.net/problem/11724"
   ]
  },
  {
   "cell_type": "code",
   "execution_count": null,
   "metadata": {},
   "outputs": [],
   "source": [
    "from collections import deque\n",
    "def bfs(s):\n",
    "    q = deque([s])\n",
    "    v[s] = 1\n",
    "    while q:\n",
    "        r = q.popleft()\n",
    "        for i in arr[r]:\n",
    "            if not v[i]:\n",
    "                v[i] = 1\n",
    "                q.append(i)\n",
    "\n",
    "N, M = map(int, input().split())\n",
    "arr = [[] for _ in range(N+1)]\n",
    "v = [0] * (N+1)\n",
    "\n",
    "for _ in range(M):\n",
    "    a, b = map(int, input().split())\n",
    "    arr[a].append(b)\n",
    "    arr[b].append(a)\n",
    "\n",
    "cnt = 0\n",
    "for i in range(1, N + 1):\n",
    "    if not v[i]:\n",
    "        if not arr[i]:\n",
    "            cnt += 1\n",
    "            v[i] = 1\n",
    "        else:\n",
    "            bfs(i)\n",
    "            cnt += 1\n",
    "\n",
    "print(cnt)\n",
    "\n"
   ]
  },
  {
   "cell_type": "markdown",
   "metadata": {},
   "source": [
    "## 1172번 2*N 타일링 실버3\n",
    "https://www.acmicpc.net/problem/11726"
   ]
  },
  {
   "cell_type": "code",
   "execution_count": 11,
   "metadata": {},
   "outputs": [
    {
     "ename": "IndexError",
     "evalue": "list assignment index out of range",
     "output_type": "error",
     "traceback": [
      "\u001b[1;31m---------------------------------------------------------------------------\u001b[0m",
      "\u001b[1;31mIndexError\u001b[0m                                Traceback (most recent call last)",
      "Cell \u001b[1;32mIn[11], line 4\u001b[0m\n\u001b[0;32m      2\u001b[0m d \u001b[39m=\u001b[39m [\u001b[39m0\u001b[39m] \u001b[39m*\u001b[39m (N\u001b[39m+\u001b[39m\u001b[39m1\u001b[39m)\n\u001b[0;32m      3\u001b[0m d[\u001b[39m1\u001b[39m] \u001b[39m=\u001b[39m \u001b[39m1\u001b[39m\n\u001b[1;32m----> 4\u001b[0m d[\u001b[39m2\u001b[39;49m] \u001b[39m=\u001b[39m \u001b[39m2\u001b[39m\n\u001b[0;32m      5\u001b[0m \u001b[39mfor\u001b[39;00m i \u001b[39min\u001b[39;00m \u001b[39mrange\u001b[39m(\u001b[39m3\u001b[39m, N\u001b[39m+\u001b[39m\u001b[39m1\u001b[39m):\n\u001b[0;32m      6\u001b[0m     d[i] \u001b[39m=\u001b[39m (d[i\u001b[39m-\u001b[39m\u001b[39m1\u001b[39m] \u001b[39m+\u001b[39m d[i\u001b[39m-\u001b[39m\u001b[39m2\u001b[39m]) \u001b[39m%\u001b[39m \u001b[39m10007\u001b[39m\n",
      "\u001b[1;31mIndexError\u001b[0m: list assignment index out of range"
     ]
    }
   ],
   "source": [
    "N = int(input())\n",
    "d = [0] * (N+1)\n",
    "d[1] = 1\n",
    "d[2] = 2\n",
    "for i in range(3, N+1):\n",
    "    d[i] = (d[i-1] + d[i-2]) % 10007\n",
    "\n",
    "print(d[N])"
   ]
  },
  {
   "cell_type": "code",
   "execution_count": 13,
   "metadata": {},
   "outputs": [
    {
     "name": "stdout",
     "output_type": "stream",
     "text": [
      "2\n"
     ]
    }
   ],
   "source": [
    "N = int(input())\n",
    "d = [0] * (N+1)\n",
    "if N == 1:\n",
    "    print(1)\n",
    "elif N == 2:\n",
    "    print(2)\n",
    "elif N >= 3:\n",
    "    d[1] = 1\n",
    "    d[2] = 2\n",
    "    for i in range(3, N+1):\n",
    "        d[i] = (d[i-1] + d[i-2]) % 10007\n",
    "\n",
    "    print(d[N])"
   ]
  },
  {
   "cell_type": "markdown",
   "metadata": {},
   "source": [
    "## 2579번 계단오르기 실버3\n",
    "https://www.acmicpc.net/problem/2579"
   ]
  },
  {
   "cell_type": "code",
   "execution_count": null,
   "metadata": {},
   "outputs": [],
   "source": [
    "N = int(input())\n",
    "score = [int(input()) for _ in range(N)]\n"
   ]
  },
  {
   "cell_type": "markdown",
   "metadata": {},
   "source": [
    "## 1182번 부분수열의 합\n",
    "https://www.acmicpc.net/problem/1182"
   ]
  },
  {
   "cell_type": "code",
   "execution_count": null,
   "metadata": {},
   "outputs": [],
   "source": [
    "N, S = map(int, input().split())\n",
    "lst = list(map(int, input().split()))\n",
    "cnt = 0\n",
    "temp = []\n",
    "for i in range(1<<N):\n",
    "    ans = []\n",
    "    diff = 0\n",
    "    for j in range(N):\n",
    "        if i & (1<<j):\n",
    "            diff += lst[j]\n",
    "    #         ans.append(lst[j])\n",
    "    # temp.append(ans)\n",
    "    if diff == S:\n",
    "        cnt += 1\n",
    "\n",
    "if S == 0:\n",
    "    cnt -= 1\n",
    "print(cnt)"
   ]
  },
  {
   "cell_type": "markdown",
   "metadata": {},
   "source": [
    "## 2583번 영역 구하기 실버1\n",
    "https://www.acmicpc.net/problem/2583"
   ]
  },
  {
   "cell_type": "code",
   "execution_count": null,
   "metadata": {},
   "outputs": [],
   "source": [
    "from collections import deque\n",
    "\n",
    "N, M, K = map(int, input().split())\n",
    "maps = [[0] * M for _ in range(N)]\n",
    "v = [[0] * M for _ in range(N)]\n",
    "q = deque()\n",
    "\n",
    "for _ in range(K):\n",
    "    a, b, x, y = map(int, input().split())\n",
    "    for r in range(b, y):\n",
    "        for c in range(a, x):\n",
    "            maps[r][c] = 1\n",
    "\n",
    "ans = []\n",
    "for i in range(N):\n",
    "    for j in range(M):\n",
    "        cnt = 1\n",
    "        if maps[i][j] == 0:\n",
    "            q.append((i, j))\n",
    "            while q:\n",
    "                r, c = q.popleft()\n",
    "                maps[r][c] = 1\n",
    "                for dr, dc in ((0, 1), (0, -1), (1, 0), (-1, 0)):\n",
    "                    nr = r + dr\n",
    "                    nc = c + dc\n",
    "                    if 0 <= nr < N and 0 <= nc < M and not v[nr][nc] and not maps[nr][nc]:\n",
    "                        q.append((nr, nc))\n",
    "                        v[nr][nc] = 1\n",
    "                        cnt += 1\n",
    "            ans.append(cnt)\n",
    "ans.sort()\n",
    "print(len(ans))\n",
    "print(' '.join(map(str, ans)))"
   ]
  },
  {
   "cell_type": "markdown",
   "metadata": {},
   "source": [
    "## 2579번 계단 오르기\n",
    "https://www.acmicpc.net/problem/2579"
   ]
  },
  {
   "cell_type": "code",
   "execution_count": null,
   "metadata": {},
   "outputs": [],
   "source": [
    "N = int(input())\n",
    "\n",
    "stairs = [int(input()) for _ in range(N)]\n",
    "dp = [0] * N\n",
    "dp[0] = stairs[0]\n",
    "if N >= 2:\n",
    "    dp[1] = max(stairs[1], stairs[0] + stairs[1])\n",
    "if N >= 3:\n",
    "    dp[2] = max(stairs[0] + stairs[2], stairs[1] + stairs[2])\n",
    "for i in range(3, N):\n",
    "    dp[i] = max(dp[i-3] + stairs[i-1] + stairs[i], dp[i-2] + stairs[i])\n",
    "\n",
    "print(dp[N-1])"
   ]
  },
  {
   "attachments": {},
   "cell_type": "markdown",
   "metadata": {},
   "source": [
    "## 11503번 가장 긴 증가하는 수열\n",
    "https://www.acmicpc.net/problem/11053"
   ]
  },
  {
   "cell_type": "code",
   "execution_count": null,
   "metadata": {},
   "outputs": [],
   "source": [
    "N = int(input())\n",
    "lst = list(map(int, input().split()))\n",
    "\n",
    "d = [0] * (N+1)\n",
    "d[0] = 1\n",
    "max_idx = 0\n",
    "for i in range(1, N):\n",
    "    d[i] = 1\n",
    "    for j in range(i):\n",
    "        if lst[j] < lst[i]:\n",
    "            d[i] = max(d[i], d[j] + 1)\n",
    "\n",
    "print(max(d))"
   ]
  },
  {
   "cell_type": "markdown",
   "metadata": {},
   "source": [
    "## 14225번 부분수열의 합\n",
    "https://www.acmicpc.net/problem/14225"
   ]
  },
  {
   "cell_type": "code",
   "execution_count": null,
   "metadata": {},
   "outputs": [],
   "source": [
    "N = int(input())\n",
    "lst = sorted(list(map(int, input().split())))\n",
    "\n",
    "\n",
    "cnt = 0\n",
    "for i in range(N):\n",
    "    if lst[i] - cnt > 1:\n",
    "        break\n",
    "    cnt += lst[i]\n",
    "print(cnt + 1)"
   ]
  },
  {
   "cell_type": "code",
   "execution_count": null,
   "metadata": {},
   "outputs": [],
   "source": [
    "import sys\n",
    "input = sys.stdin.readline\n",
    "N = int(input().rstrip())\n",
    "lst = list(map(int, input().rstrip().split()))\n",
    "\n",
    "total = set()\n",
    "if 1 not in lst:\n",
    "    print(1)\n",
    "    exit(0)\n",
    "else:\n",
    "    for i in range(1 << N):\n",
    "        cnt = 0\n",
    "        for j in range(N):\n",
    "            if i & (1 << j):\n",
    "                cnt += lst[j]\n",
    "        total.add(cnt)\n",
    "\n",
    "for i in range(2, 2000001):\n",
    "    if i not in total:\n",
    "        print(i)\n",
    "        break"
   ]
  },
  {
   "attachments": {},
   "cell_type": "markdown",
   "metadata": {},
   "source": [
    "## 10844 쉬운 계단 수\n",
    "https://www.acmicpc.net/problem/10844\n",
    "손으로 쓰고 왜 구현을 하지 못하니,,,,,,,,,,,\n",
    "응애"
   ]
  },
  {
   "cell_type": "code",
   "execution_count": null,
   "metadata": {},
   "outputs": [],
   "source": [
    "N = int(input())\n",
    "\n",
    "d = [[0] * 10 for _ in range(N+1)]\n",
    "\n",
    "for i in range(1, 10):\n",
    "    d[1][i] = 1\n",
    "\n",
    "for i in range(2, N+1):\n",
    "    for j in range(10):\n",
    "        if j == 0:\n",
    "            d[i][j] = d[i-1][1]\n",
    "        elif 1 <= j <= 8:\n",
    "            d[i][j] = d[i-1][j-1] + d[i-1][j+1]\n",
    "        else:\n",
    "            d[i][j] = d[i-1][8]\n",
    "\n",
    "print(sum(d[N]) % 1000000000)\n",
    "\n",
    "N = int(input())\n",
    "d = [0] * N\n",
    "d[0] = 9\n",
    "\n",
    "for i in range(1, N):\n",
    "    d[i] = d[i-1] * 2 - i\n",
    "\n",
    "print(d[N-1])"
   ]
  },
  {
   "cell_type": "markdown",
   "metadata": {},
   "source": [
    "## 1932번 정수삼각형\n",
    "https://www.acmicpc.net/problem/1932"
   ]
  },
  {
   "cell_type": "code",
   "execution_count": null,
   "metadata": {},
   "outputs": [],
   "source": [
    "N = int(input())\n",
    "lst = [list(map(int, input().split())) for _ in range(N)]\n",
    "dp = [[0] * (N+1) for _ in range(N)]\n",
    "dp[0][0] = lst[0][0]\n",
    "for i in range(1, N):\n",
    "    for j in range(len(lst[i])):\n",
    "        if j == 0:\n",
    "            dp[i][j] = dp[i-1][0] + lst[i][j]\n",
    "        elif j == len(lst[i]) - 1:\n",
    "            dp[i][j] = dp[i-1][j-1] + lst[i][j]\n",
    "        else:\n",
    "            dp[i][j] = max(dp[i-1][j-1], dp[i-1][j]) + lst[i][j]\n",
    "\n",
    "print(dp)"
   ]
  },
  {
   "cell_type": "markdown",
   "metadata": {},
   "source": [
    "## 2407번 조합\n",
    "https://www.acmicpc.net/problem/2407"
   ]
  },
  {
   "cell_type": "code",
   "execution_count": null,
   "metadata": {},
   "outputs": [],
   "source": [
    "N, M = map(int, input().split())\n",
    "\n",
    "ans = 1\n",
    "cnt = 1\n",
    "for i in range(N, N - M, -1):\n",
    "    ans *= i\n",
    "    ans //= (N + 1 - i)\n",
    "\n",
    "print(ans)"
   ]
  }
 ],
 "metadata": {
  "kernelspec": {
   "display_name": "Python 3",
   "language": "python",
   "name": "python3"
  },
  "language_info": {
   "codemirror_mode": {
    "name": "ipython",
    "version": 3
   },
   "file_extension": ".py",
   "mimetype": "text/x-python",
   "name": "python",
   "nbconvert_exporter": "python",
   "pygments_lexer": "ipython3",
   "version": "3.10.4"
  },
  "orig_nbformat": 4,
  "vscode": {
   "interpreter": {
    "hash": "c4b9ebf4ca459396e2ad1150752490c26670c1a037c08cad955a4425787bec2e"
   }
  }
 },
 "nbformat": 4,
 "nbformat_minor": 2
}
