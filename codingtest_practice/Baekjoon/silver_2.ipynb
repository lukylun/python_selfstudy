{
 "cells": [
  {
   "cell_type": "markdown",
   "metadata": {},
   "source": [
    "# 스택"
   ]
  },
  {
   "cell_type": "markdown",
   "metadata": {},
   "source": [
    "## 1406번 에디터 실버2\n",
    "https://www.acmicpc.net/problem/1406\n"
   ]
  },
  {
   "cell_type": "code",
   "execution_count": null,
   "metadata": {},
   "outputs": [],
   "source": [
    "# 통과(Pypy)\n",
    "l_stack = list(input())\n",
    "r_stack = []\n",
    "N = int(input())\n",
    "\n",
    "for i in range(N):\n",
    "    string = input()\n",
    "    if string[0] == 'P':\n",
    "        string = string.split()\n",
    "        l_stack.append(string[-1])\n",
    "    elif string == 'L' and l_stack:\n",
    "        r_stack.append(l_stack.pop())\n",
    "    elif string == 'D' and r_stack:\n",
    "        l_stack.append(r_stack.pop())\n",
    "    elif string == 'B' and l_stack:\n",
    "        l_stack.pop()\n",
    "\n",
    "print(''.join(l_stack)+''.join(r_stack[::-1]))\n"
   ]
  },
  {
   "cell_type": "code",
   "execution_count": null,
   "metadata": {},
   "outputs": [],
   "source": [
    "# 출력초과\n",
    "import sys\n",
    "input = sys.stdin.readline\n",
    "l_stack = list(input())\n",
    "r_stack = []\n",
    "N = int(input())\n",
    "\n",
    "for i in range(N):\n",
    "    string = input()\n",
    "    if string[0] == 'P':\n",
    "        string = string.split()\n",
    "        l_stack.append(string[-1])\n",
    "    elif string == 'L' and l_stack:\n",
    "        r_stack.append(l_stack.pop())\n",
    "    elif string == 'D' and r_stack:\n",
    "        l_stack.append(r_stack.pop())\n",
    "    elif string == 'B' and l_stack:\n",
    "        l_stack.pop()\n",
    "\n",
    "print(''.join(l_stack)+''.join(r_stack[::-1]))\n"
   ]
  },
  {
   "attachments": {},
   "cell_type": "markdown",
   "metadata": {},
   "source": [
    "## 5397번 키로거 실버2\n",
    "https://www.acmicpc.net/problem/5397"
   ]
  },
  {
   "cell_type": "code",
   "execution_count": null,
   "metadata": {},
   "outputs": [],
   "source": [
    "N = int(input())\n",
    "for _ in range(N):\n",
    "    l_stack = []\n",
    "    r_stack = []\n",
    "    string = list(input())\n",
    "    for s in string:\n",
    "        if s == \"<\" and l_stack:\n",
    "            r_stack.append(l_stack.pop())\n",
    "        elif s == \">\" and r_stack:\n",
    "            l_stack.append(r_stack.pop())\n",
    "        elif s == '-' and l_stack:\n",
    "            l_stack.pop()\n",
    "        elif s.isalpha() or s.isdigit():\n",
    "            l_stack.append(s)\n",
    "    print(''.join(l_stack)+''.join(r_stack[::-1]))\n"
   ]
  },
  {
   "cell_type": "markdown",
   "metadata": {},
   "source": [
    "## 10845번 큐 실버4\n",
    "https://www.acmicpc.net/problem/10845"
   ]
  },
  {
   "cell_type": "code",
   "execution_count": null,
   "metadata": {},
   "outputs": [],
   "source": [
    "import sys\n",
    "input = sys.stdin.readline\n",
    "\n",
    "N = int(input().rstrip())\n",
    "queue = []\n",
    "for i in range(N):\n",
    "    string = input().rstrip().split()\n",
    "    if string[0] == 'push':\n",
    "        queue.append(string[1])\n",
    "    elif string[0] == 'front': \n",
    "        if queue:\n",
    "            print(queue[0])\n",
    "        else:\n",
    "            print(-1)\n",
    "    elif string[0] == 'pop': \n",
    "        if queue:\n",
    "            print(queue.pop(0))\n",
    "        else:\n",
    "            print(-1)         \n",
    "    elif string[0] == 'size': \n",
    "        print(len(queue))\n",
    "    elif string[0] == 'empty': \n",
    "        if queue:\n",
    "            print(0)\n",
    "        else:\n",
    "            print(1)\n",
    "    elif string[0] == 'back': \n",
    "        if queue:\n",
    "            print(queue[-1])\n",
    "        else:\n",
    "            print(-1)"
   ]
  },
  {
   "cell_type": "markdown",
   "metadata": {},
   "source": [
    "## 2164번 카드2 실버4\n",
    "https://www.acmicpc.net/problem/2164"
   ]
  },
  {
   "cell_type": "code",
   "execution_count": null,
   "metadata": {},
   "outputs": [],
   "source": [
    "from collections import deque\n",
    "q = deque()\n",
    "N = [i for i in range(1, int(input()) + 1)]\n",
    "\n",
    "for i in N:\n",
    "    q.append(i)\n",
    "print(q)\n",
    "while len(q) > 1:\n",
    "    q.popleft()\n",
    "    chr = q.popleft()\n",
    "    q.append(chr)\n",
    "    print(q)\n",
    "\n",
    "print(q[0])"
   ]
  },
  {
   "cell_type": "markdown",
   "metadata": {},
   "source": [
    "## 1158번 요세푸스 문제 실버4\n",
    "https://www.acmicpc.net/problem/1158"
   ]
  },
  {
   "cell_type": "code",
   "execution_count": null,
   "metadata": {},
   "outputs": [],
   "source": [
    "from collections import deque\n",
    "q = deque()\n",
    "N, K = map(int, input().split())\n",
    "lst = [i for i in range(1, N + 1)]\n",
    "for i in lst:\n",
    "    q.append(i)\n",
    "\n",
    "ans = []\n",
    "while q:\n",
    "    for i in range(K-1):\n",
    "        chr1 = q.popleft()\n",
    "        q.append(chr1)\n",
    "\n",
    "    ans.append(q.popleft())\n",
    "\n",
    "print('<', end='')\n",
    "print(\", \".join(map(str, ans)), end='')\n",
    "print('>')"
   ]
  },
  {
   "cell_type": "markdown",
   "metadata": {},
   "source": [
    "## 1966번 프린터 큐 실버 3\n",
    "https://www.acmicpc.net/problem/1966"
   ]
  },
  {
   "cell_type": "code",
   "execution_count": null,
   "metadata": {},
   "outputs": [],
   "source": [
    "import sys\n",
    "from collections import deque\n",
    "input = sys.stdin.readline\n",
    "\n",
    "T = int(input().rstrip())\n",
    "\n",
    "\n",
    "for tc in range(T):\n",
    "    N, M = map(int, input().rstrip().split())\n",
    "    lst = list(map(int, input().rstrip().split()))\n",
    "    q = deque()\n",
    "    cnt = 0\n",
    "    for i in range(N):\n",
    "        q.append([i, lst[i]]) # index로 lst의 값을 꺼내기 위해 같이 저장\n",
    "    while q:\n",
    "        idx, imp = q.popleft()  # 하나씩 꺼냄\n",
    "        for a, b in q:\n",
    "            if imp < b:\n",
    "                q.append([idx, imp]) # 작으면 다시 q에 집어넣어\n",
    "                break\n",
    "        else:\n",
    "            if idx == M: # index가 M이랑 같으면 탈출\n",
    "                cnt += 1\n",
    "                print(cnt)\n",
    "                break\n",
    "            else:           # M이랑 다르면 또 돌려\n",
    "                cnt += 1\n",
    "\n"
   ]
  },
  {
   "cell_type": "markdown",
   "metadata": {},
   "source": [
    "## 1260번 DFS와 BFS 실버2\n",
    "https://www.acmicpc.net/problem/1260"
   ]
  },
  {
   "cell_type": "code",
   "execution_count": null,
   "metadata": {},
   "outputs": [],
   "source": [
    "from collections import deque\n",
    "\n",
    "def bfs(V):\n",
    "    q = deque()\n",
    "    q.append(V)\n",
    "    visited1[V] = 1\n",
    "    while q:\n",
    "        chr = q.popleft()\n",
    "        print(chr, end=\" \")\n",
    "        for i in range(1, N + 1):\n",
    "            if not visited1[i] and adj[chr][i]:\n",
    "                q.append(i)\n",
    "                visited1[i] = 1\n",
    "\n",
    "\n",
    "def dfs(s):\n",
    "    visited2[s] = 1\n",
    "    print(s, end=\" \")\n",
    "    for i in range(1, N + 1):\n",
    "        if not visited2[i] and adj[s][i]:\n",
    "            dfs(i)\n",
    "\n",
    "N, M, V = map(int, input().split())\n",
    "adj = [[0] * (N + 1) for _ in range(N + 1)]\n",
    "for i in range(M):\n",
    "    start, to = map(int, input().split())\n",
    "    adj[start][to] = 1\n",
    "    adj[to][start] = 1\n",
    "\n",
    "visited1 = [0] * (N + 1)\n",
    "visited2 = [0] * (N + 1)\n",
    "dfs(V)\n",
    "print()\n",
    "bfs(V)"
   ]
  },
  {
   "cell_type": "markdown",
   "metadata": {},
   "source": [
    "## 1920번 수 찾기 실버4\n",
    "https://www.acmicpc.net/problem/1920"
   ]
  },
  {
   "cell_type": "code",
   "execution_count": null,
   "metadata": {},
   "outputs": [],
   "source": [
    "def binary_search(array, target, start, end):\n",
    "    while start <= end:\n",
    "        mid = (start + end) // 2\n",
    "        if array[mid] == target:\n",
    "            return 1\n",
    "        elif array[mid] > target:\n",
    "            end = mid - 1\n",
    "        else:\n",
    "            start = mid + 1\n",
    "    return 0\n",
    "\n",
    "N = int(input())\n",
    "N_lst = sorted(list(map(int, input().split())))\n",
    "M = int(input())\n",
    "M_list = list(map(int, input().split()))\n",
    "\n",
    "for i in M_list:\n",
    "    print(binary_search(N_lst, i, 0, N-1))\n"
   ]
  },
  {
   "cell_type": "markdown",
   "metadata": {},
   "source": [
    "## 2805번 나무자르기 실버4\n",
    "https://www.acmicpc.net/problem/2805"
   ]
  },
  {
   "cell_type": "code",
   "execution_count": 9,
   "metadata": {},
   "outputs": [
    {
     "ename": "ValueError",
     "evalue": "not enough values to unpack (expected 2, got 0)",
     "output_type": "error",
     "traceback": [
      "\u001b[1;31m---------------------------------------------------------------------------\u001b[0m",
      "\u001b[1;31mValueError\u001b[0m                                Traceback (most recent call last)",
      "Cell \u001b[1;32mIn[9], line 2\u001b[0m\n\u001b[0;32m      1\u001b[0m \u001b[39m# N: 나무 수, M: 필요한 나무 M미터\u001b[39;00m\n\u001b[1;32m----> 2\u001b[0m N, M \u001b[39m=\u001b[39m \u001b[39mmap\u001b[39m(\u001b[39mint\u001b[39m, \u001b[39minput\u001b[39m()\u001b[39m.\u001b[39msplit())\n\u001b[0;32m      3\u001b[0m trees \u001b[39m=\u001b[39m \u001b[39mlist\u001b[39m(\u001b[39mmap\u001b[39m(\u001b[39mint\u001b[39m, \u001b[39minput\u001b[39m()\u001b[39m.\u001b[39msplit()))\n\u001b[0;32m      4\u001b[0m \u001b[39m# 최소 나무 길이 1\u001b[39;00m\n",
      "\u001b[1;31mValueError\u001b[0m: not enough values to unpack (expected 2, got 0)"
     ]
    }
   ],
   "source": [
    "# N: 나무 수, M: 필요한 나무 M미터\n",
    "N, M = map(int, input().split())\n",
    "trees = list(map(int, input().split()))\n",
    "# 최소 나무 길이 1\n",
    "start = 1\n",
    "# 최대 나무 길이 \n",
    "end = max(trees)\n",
    "\n",
    "while start <= end:\n",
    "    mid = (start + end) // 2\n",
    "    # 자른 나무길이\n",
    "    cnt = 0\n",
    "    for tree in trees:\n",
    "        # 중간 길이보다 크면 잘라~\n",
    "        if tree > mid:\n",
    "            # cnt에 더해보고\n",
    "            cnt += tree - mid\n",
    "    # cnt가 M보다 크면\n",
    "    if cnt >= M:\n",
    "        # start 위치 조정, 앞으로 당겨야함\n",
    "        start = mid + 1\n",
    "    else:\n",
    "        end = mid - 1\n",
    "\n",
    "print(end)\n",
    "  "
   ]
  },
  {
   "cell_type": "markdown",
   "metadata": {},
   "source": [
    "## 1654번 랜선 자르기\n",
    "https://www.acmicpc.net/problem/1654"
   ]
  },
  {
   "cell_type": "code",
   "execution_count": 18,
   "metadata": {},
   "outputs": [
    {
     "name": "stdout",
     "output_type": "stream",
     "text": [
      "2\n"
     ]
    }
   ],
   "source": [
    "K, N = map(int, input().split())\n",
    "lst = [int(input()) for _ in range(K)]\n",
    "start = 1\n",
    "end = max(lst)\n",
    "\n",
    "if N == 1:\n",
    "    print(end)\n",
    "else:\n",
    "    while start <= end:\n",
    "        mid = (start + end) // 2\n",
    "        cnt = 0\n",
    "        for l in lst:\n",
    "            if l >= mid:\n",
    "                cnt += l // mid\n",
    "        # if cnt == N:\n",
    "        #     end = mid\n",
    "        #     break\n",
    "        if cnt >= N:\n",
    "            start = mid + 1\n",
    "        else:\n",
    "            end = mid - 1\n",
    "        \n",
    "    print(end)"
   ]
  },
  {
   "cell_type": "code",
   "execution_count": 19,
   "metadata": {},
   "outputs": [
    {
     "name": "stdout",
     "output_type": "stream",
     "text": [
      "5\n"
     ]
    }
   ],
   "source": [
    "K, N = map(int, input().split())\n",
    "lst = [int(input()) for _ in range(K)]\n",
    "start = 1\n",
    "end = max(lst)\n",
    "\n",
    "\n",
    "while start <= end:\n",
    "    mid = (start + end) // 2\n",
    "    cnt = 0\n",
    "    for l in lst:\n",
    "        if l >= mid:\n",
    "            cnt += l // mid\n",
    "    # if cnt == N:\n",
    "    #     end = mid\n",
    "    #     break\n",
    "    if cnt >= N:\n",
    "        start = mid + 1\n",
    "    else:\n",
    "        end = mid - 1\n",
    "    \n",
    "print(end)"
   ]
  },
  {
   "cell_type": "markdown",
   "metadata": {},
   "source": [
    "## 1991번 트리 순회 실버 1\n",
    "https://www.acmicpc.net/problem/1991"
   ]
  },
  {
   "cell_type": "code",
   "execution_count": null,
   "metadata": {},
   "outputs": [],
   "source": [
    "N = int(input())\n",
    "\n",
    "tree = {}\n",
    "\n",
    "for i in range(N):\n",
    "    root, left, right = input().split()\n",
    "    tree[root] = [left, right]\n",
    "\n",
    "def preorder(i):\n",
    "    print(i, end=\"\")\n",
    "    preorder(tree[i][0])\n",
    "    preorder(tree[i][1])\n",
    "\n",
    "preorder(\"A\")"
   ]
  },
  {
   "cell_type": "code",
   "execution_count": null,
   "metadata": {},
   "outputs": [],
   "source": []
  },
  {
   "cell_type": "code",
   "execution_count": null,
   "metadata": {},
   "outputs": [],
   "source": []
  },
  {
   "cell_type": "code",
   "execution_count": null,
   "metadata": {},
   "outputs": [],
   "source": []
  },
  {
   "cell_type": "code",
   "execution_count": null,
   "metadata": {},
   "outputs": [],
   "source": []
  },
  {
   "cell_type": "code",
   "execution_count": null,
   "metadata": {},
   "outputs": [],
   "source": []
  }
 ],
 "metadata": {
  "kernelspec": {
   "display_name": "Python 3",
   "language": "python",
   "name": "python3"
  },
  "language_info": {
   "codemirror_mode": {
    "name": "ipython",
    "version": 3
   },
   "file_extension": ".py",
   "mimetype": "text/x-python",
   "name": "python",
   "nbconvert_exporter": "python",
   "pygments_lexer": "ipython3",
   "version": "3.9.13"
  },
  "orig_nbformat": 4,
  "vscode": {
   "interpreter": {
    "hash": "c4b9ebf4ca459396e2ad1150752490c26670c1a037c08cad955a4425787bec2e"
   }
  }
 },
 "nbformat": 4,
 "nbformat_minor": 2
}
