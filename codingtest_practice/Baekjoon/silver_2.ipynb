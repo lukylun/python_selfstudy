{
 "cells": [
  {
   "cell_type": "markdown",
   "metadata": {},
   "source": [
    "# 스택"
   ]
  },
  {
   "cell_type": "markdown",
   "metadata": {},
   "source": [
    "## 1406번 에디터 실버2\n",
    "https://www.acmicpc.net/problem/1406\n"
   ]
  },
  {
   "cell_type": "code",
   "execution_count": 3,
   "metadata": {},
   "outputs": [
    {
     "name": "stdout",
     "output_type": "stream",
     "text": [
      "aa\n"
     ]
    }
   ],
   "source": [
    "# 통과(Pypy)\n",
    "l_stack = list(input())\n",
    "r_stack = []\n",
    "N = int(input())\n",
    "\n",
    "for i in range(N):\n",
    "    string = input()\n",
    "    if string[0] == 'P':\n",
    "        string = string.split()\n",
    "        l_stack.append(string[-1])\n",
    "    elif string == 'L' and l_stack:\n",
    "        r_stack.append(l_stack.pop())\n",
    "    elif string == 'D' and r_stack:\n",
    "        l_stack.append(r_stack.pop())\n",
    "    elif string == 'B' and l_stack:\n",
    "        l_stack.pop()\n",
    "\n",
    "print(''.join(l_stack)+''.join(r_stack[::-1]))\n"
   ]
  },
  {
   "cell_type": "code",
   "execution_count": null,
   "metadata": {},
   "outputs": [],
   "source": [
    "# 출력초과\n",
    "import sys\n",
    "input = sys.stdin.readline\n",
    "l_stack = list(input())\n",
    "r_stack = []\n",
    "N = int(input())\n",
    "\n",
    "for i in range(N):\n",
    "    string = input()\n",
    "    if string[0] == 'P':\n",
    "        string = string.split()\n",
    "        l_stack.append(string[-1])\n",
    "    elif string == 'L' and l_stack:\n",
    "        r_stack.append(l_stack.pop())\n",
    "    elif string == 'D' and r_stack:\n",
    "        l_stack.append(r_stack.pop())\n",
    "    elif string == 'B' and l_stack:\n",
    "        l_stack.pop()\n",
    "\n",
    "print(''.join(l_stack)+''.join(r_stack[::-1]))\n"
   ]
  },
  {
   "attachments": {},
   "cell_type": "markdown",
   "metadata": {},
   "source": [
    "## 5397번 키로거 실버2\n",
    "https://www.acmicpc.net/problem/5397"
   ]
  },
  {
   "cell_type": "code",
   "execution_count": null,
   "metadata": {},
   "outputs": [],
   "source": [
    "N = int(input())\n",
    "for _ in range(N):\n",
    "    l_stack = []\n",
    "    r_stack = []\n",
    "    string = list(input())\n",
    "    for s in string:\n",
    "        if s == \"<\" and l_stack:\n",
    "            r_stack.append(l_stack.pop())\n",
    "        elif s == \">\" and r_stack:\n",
    "            l_stack.append(r_stack.pop())\n",
    "        elif s == '-' and l_stack:\n",
    "            l_stack.pop()\n",
    "        elif s.isalpha() or s.isdigit():\n",
    "            l_stack.append(s)\n",
    "    print(''.join(l_stack)+''.join(r_stack[::-1]))\n"
   ]
  },
  {
   "cell_type": "markdown",
   "metadata": {},
   "source": [
    "## 10845번 큐 실버4\n",
    "https://www.acmicpc.net/problem/10845"
   ]
  },
  {
   "cell_type": "code",
   "execution_count": null,
   "metadata": {},
   "outputs": [],
   "source": [
    "import sys\n",
    "input = sys.stdin.readline\n",
    "\n",
    "N = int(input().rstrip())\n",
    "queue = []\n",
    "for i in range(N):\n",
    "    string = input().rstrip().split()\n",
    "    if string[0] == 'push':\n",
    "        queue.append(string[1])\n",
    "    elif string[0] == 'front': \n",
    "        if queue:\n",
    "            print(queue[0])\n",
    "        else:\n",
    "            print(-1)\n",
    "    elif string[0] == 'pop': \n",
    "        if queue:\n",
    "            print(queue.pop(0))\n",
    "        else:\n",
    "            print(-1)         \n",
    "    elif string[0] == 'size': \n",
    "        print(len(queue))\n",
    "    elif string[0] == 'empty': \n",
    "        if queue:\n",
    "            print(0)\n",
    "        else:\n",
    "            print(1)\n",
    "    elif string[0] == 'back': \n",
    "        if queue:\n",
    "            print(queue[-1])\n",
    "        else:\n",
    "            print(-1)"
   ]
  },
  {
   "cell_type": "markdown",
   "metadata": {},
   "source": [
    "## 2164번 카드2 실버4\n",
    "https://www.acmicpc.net/problem/2164"
   ]
  },
  {
   "cell_type": "code",
   "execution_count": null,
   "metadata": {},
   "outputs": [],
   "source": [
    "from collections import deque\n",
    "q = deque()\n",
    "N = [i for i in range(1, int(input()) + 1)]\n",
    "\n",
    "for i in N:\n",
    "    q.append(i)\n",
    "print(q)\n",
    "while len(q) > 1:\n",
    "    q.popleft()\n",
    "    chr = q.popleft()\n",
    "    q.append(chr)\n",
    "    print(q)\n",
    "\n",
    "print(q[0])"
   ]
  },
  {
   "cell_type": "markdown",
   "metadata": {},
   "source": [
    "## 1158번 요세푸스 문제 실버4\n",
    "https://www.acmicpc.net/problem/1158"
   ]
  },
  {
   "cell_type": "code",
   "execution_count": null,
   "metadata": {},
   "outputs": [],
   "source": [
    "from collections import deque\n",
    "q = deque()\n",
    "N, K = map(int, input().split())\n",
    "lst = [i for i in range(1, N + 1)]\n",
    "for i in lst:\n",
    "    q.append(i)\n",
    "\n",
    "ans = []\n",
    "while q:\n",
    "    for i in range(K-1):\n",
    "        chr1 = q.popleft()\n",
    "        q.append(chr1)\n",
    "\n",
    "    ans.append(q.popleft())\n",
    "\n",
    "print('<', end='')\n",
    "print(\", \".join(map(str, ans)), end='')\n",
    "print('>')"
   ]
  },
  {
   "cell_type": "markdown",
   "metadata": {},
   "source": [
    "## 1966번 프린터 큐 실버 3\n",
    "https://www.acmicpc.net/problem/1966"
   ]
  },
  {
   "cell_type": "code",
   "execution_count": null,
   "metadata": {},
   "outputs": [],
   "source": [
    "import sys\n",
    "from collections import deque\n",
    "input = sys.stdin.readline\n",
    "\n",
    "T = int(input().rstrip())\n",
    "\n",
    "\n",
    "for tc in range(T):\n",
    "    N, M = map(int, input().rstrip().split())\n",
    "    lst = list(map(int, input().rstrip().split()))\n",
    "    q = deque()\n",
    "    cnt = 0\n",
    "    for i in range(N):\n",
    "        q.append([i, lst[i]]) # index로 lst의 값을 꺼내기 위해 같이 저장\n",
    "    while q:\n",
    "        idx, imp = q.popleft()  # 하나씩 꺼냄\n",
    "        for a, b in q:\n",
    "            if imp < b:\n",
    "                q.append([idx, imp]) # 작으면 다시 q에 집어넣어\n",
    "                break\n",
    "        else:\n",
    "            if idx == M: # index가 M이랑 같으면 탈출\n",
    "                cnt += 1\n",
    "                print(cnt)\n",
    "                break\n",
    "            else:           # M이랑 다르면 또 돌려\n",
    "                cnt += 1\n",
    "\n"
   ]
  },
  {
   "cell_type": "code",
   "execution_count": null,
   "metadata": {},
   "outputs": [],
   "source": []
  },
  {
   "cell_type": "code",
   "execution_count": null,
   "metadata": {},
   "outputs": [],
   "source": []
  },
  {
   "cell_type": "code",
   "execution_count": null,
   "metadata": {},
   "outputs": [],
   "source": []
  },
  {
   "cell_type": "code",
   "execution_count": null,
   "metadata": {},
   "outputs": [],
   "source": []
  }
 ],
 "metadata": {
  "kernelspec": {
   "display_name": "Python 3",
   "language": "python",
   "name": "python3"
  },
  "language_info": {
   "codemirror_mode": {
    "name": "ipython",
    "version": 3
   },
   "file_extension": ".py",
   "mimetype": "text/x-python",
   "name": "python",
   "nbconvert_exporter": "python",
   "pygments_lexer": "ipython3",
   "version": "3.9.13"
  },
  "orig_nbformat": 4,
  "vscode": {
   "interpreter": {
    "hash": "c4b9ebf4ca459396e2ad1150752490c26670c1a037c08cad955a4425787bec2e"
   }
  }
 },
 "nbformat": 4,
 "nbformat_minor": 2
}
