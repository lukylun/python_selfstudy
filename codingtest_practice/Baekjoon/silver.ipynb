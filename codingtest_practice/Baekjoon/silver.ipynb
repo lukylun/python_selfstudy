{
 "cells": [
  {
   "cell_type": "markdown",
   "metadata": {},
   "source": [
    "# 1057번 토너먼트(실버IV)\n",
    "### 문제 설명\n",
    "- 김지민은 N명이 참가하는 스타 토너먼트에 진출했다.\n",
    "- 토너먼트는 다음과 같이 진행된다.\n",
    "- 일단 N명의 참가자는 번호가 1번부터 N번까지 배정받는다.\n",
    "- 그러고 난 후에 서로 인접한 번호끼리 스타를 한다.\n",
    "- 이긴 사람은 다음 라운드에 진출하고, 진 사람은 그 라운드에서 떨어진다.\n",
    "- 만약 그 라운드의 참가자가 홀수명이라면, 마지막 번호를 가진 참가자는 다음 라운드로 자동 진출한다.\n",
    "- 다음 라운드에선 다시 참가자의 번호를 1번부터 매긴다.\n",
    "- 이때, 번호를 매기는 순서는 처음 번호의 순서를 유지하면서 1번부터 매긴다.\n",
    "- 이 말은 1번과 2번이 스타를 해서 1번이 진출하고,\n",
    "- 3번과 4번이 스타를 해서 4번이 진출했다면,\n",
    "- 4번은 다음 라운드에서 번호 2번을 배정받는다.\n",
    "- 번호를 다시 배정받은 후에 한 명만 남을 때까지 라운드를 계속 한다.\n",
    "\n",
    "- 마침 이 스타 대회에 임한수도 참가했다.\n",
    "- 김지민은 갑자기 스타 대회에서 우승하는 욕심은 없어지고,\n",
    "- 몇 라운드에서 임한수와 대결하는지 궁금해졌다.\n",
    "- 일단 김지민과 임한수는 서로 대결하기 전까지 항상 이긴다고 가정한다.\n",
    "- 1 라운드에서 김지민의 번호와 임한수의 번호가 주어질 때,\n",
    "- 과연 김지민과 임한수가 몇 라운드에서 대결하는지 출력하는 프로그램을 작성하시오."
   ]
  },
  {
   "cell_type": "code",
   "execution_count": null,
   "metadata": {},
   "outputs": [],
   "source": [
    "n, a, b = map(int, input().split())\n"
   ]
  },
  {
   "cell_type": "markdown",
   "metadata": {},
   "source": [
    "# Greedy 문제"
   ]
  },
  {
   "attachments": {},
   "cell_type": "markdown",
   "metadata": {},
   "source": [
    "## 11047번 동전 실버 IV\n",
    "\n",
    "### 문제\n",
    "- 준규가 가지고 있는 동전은 총 N종류이고, 각각의 동전을 매우 많이 가지고 있다.\n",
    "\n",
    "- 동전을 적절히 사용해서 그 가치의 합을 K로 만들려고 한다.\n",
    "- 이때 필요한 동전 개수의 최솟값을 구하는 프로그램을 작성하시오."
   ]
  },
  {
   "cell_type": "code",
   "execution_count": null,
   "metadata": {},
   "outputs": [],
   "source": [
    "n,m = map(int, input().split())\n",
    "\n",
    "coins = [int(input()) for _ in range(n)]\n",
    "coins.sort(reverse=True)\n",
    "\n",
    "cnt = 0 \n",
    "for coin in coins:\n",
    "    cnt += m // coin\n",
    "    m %= coin\n",
    "\n",
    "print(cnt)\n"
   ]
  },
  {
   "attachments": {},
   "cell_type": "markdown",
   "metadata": {},
   "source": [
    "## 2839번 설탕배달 실버 IV\n",
    "\n",
    "### 문제\n",
    "- 상근이는 요즘 설탕공장에서 설탕을 배달하고 있다.\n",
    "- 상근이는 지금 사탕가게에 설탕을 정확하게 N킬로그램을 배달해야 한다.\n",
    "- 설탕공장에서 만드는 설탕은 봉지에 담겨져 있다.\n",
    "- 봉지는 3킬로그램 봉지와 5킬로그램 봉지가 있다.\n",
    "\n",
    "- 상근이는 귀찮기 때문에, 최대한 적은 봉지를 들고 가려고 한다.\n",
    "- 예를 들어, 18킬로그램 설탕을 배달해야 할 때, 3킬로그램 봉지 6개를 가져가도 되지만,\n",
    "- 5킬로그램 3개와 3킬로그램 1개를 배달하면, 더 적은 개수의 봉지를 배달할 수 있다.\n",
    "\n",
    "- 상근이가 설탕을 정확하게 N킬로그램 배달해야 할 때,\n",
    "- 봉지 몇 개를 가져가면 되는지 그 수를 구하는 프로그램을 작성하시오."
   ]
  },
  {
   "cell_type": "code",
   "execution_count": 20,
   "metadata": {},
   "outputs": [
    {
     "name": "stdout",
     "output_type": "stream",
     "text": [
      "0\n",
      "0\n",
      "1\n",
      "2\n",
      "1\n"
     ]
    }
   ],
   "source": [
    "kilos = [3, 5]\n",
    "n = int(input())\n",
    "\n",
    "d= [5001] * (n+1)\n",
    "d[0] = 0\n",
    "\n",
    "for i in range(2):\n",
    "    for j in range(i, n+1):\n",
    "        if d[j-kilos[i]] != 5001:\n",
    "            print(d[j-kilos[i]])          \n",
    "            d[j] = min(d[j], d[j-kilos[i]]+1)\n",
    "\n",
    "if d[n] == 5001:\n",
    "    print(-1)\n",
    "else:\n",
    "    print(d[n])"
   ]
  },
  {
   "cell_type": "markdown",
   "metadata": {},
   "source": [
    "## 11399번 ATM 실버IV \n",
    "\n",
    "### 문제\n",
    "- 인하은행에는 ATM이 1대밖에 없다.\n",
    "- 지금 이 ATM앞에 N명의 사람들이 줄을 서있다.\n",
    "- 사람은 1번부터 N번까지 번호가 매겨져 있으며,\n",
    "- i번 사람이 돈을 인출하는데 걸리는 시간은 Pi분이다.\n",
    "\n",
    "- 사람들이 줄을 서는 순서에 따라서, 돈을 인출하는데 필요한 시간의 합이 달라지게 된다.\n",
    "= 예를 들어, 총 5명이 있고, P1 = 3, P2 = 1, P3 = 4, P4 = 3, P5 = 2 인 경우를 생각해보자.\n",
    "- [1, 2, 3, 4, 5] 순서로 줄을 선다면, 1번 사람은 3분만에 돈을 뽑을 수 있다.\n",
    "- 2번 사람은 1번 사람이 돈을 뽑을 때 까지 기다려야 하기 때문에, 3+1 = 4분이 걸리게 된다.\n",
    "- 3번 사람은 1번, 2번 사람이 돈을 뽑을 때까지 기다려야 하기 때문에,\n",
    "- 총 3+1+4 = 8분이 필요하게 된다.\n",
    "- 4번 사람은 3+1+4+3 = 11분, 5번 사람은 3+1+4+3+2 = 13분이 걸리게 된다.\n",
    "- 이 경우에 각 사람이 돈을 인출하는데 필요한 시간의 합은 3+4+8+11+13 = 39분이 된다.\n",
    "\n",
    "- 줄을 [2, 5, 1, 4, 3] 순서로 줄을 서면,\n",
    "- 2번 사람은 1분만에, 5번 사람은 1+2 = 3분, 1번 사람은 1+2+3 = 6분, 4번 사람은 1+2+3+3 = 9분,\n",
    "- 3번 사람은 1+2+3+3+4 = 13분이 걸리게 된다.\n",
    "- 각 사람이 돈을 인출하는데 필요한 시간의 합은 1+3+6+9+13 = 32분이다.\n",
    "- 이 방법보다 더 필요한 시간의 합을 최소로 만들 수는 없다.\n",
    "\n",
    "- 줄을 서 있는 사람의 수 N과 각 사람이 돈을 인출하는데 걸리는 시간 Pi가 주어졌을 때,\n",
    "- 각 사람이 돈을 인출하는데 필요한 시간의 합의 최솟값을 구하는 프로그램을 작성하시오."
   ]
  },
  {
   "cell_type": "code",
   "execution_count": 39,
   "metadata": {},
   "outputs": [],
   "source": [
    "n = int(input())\n",
    "minutes = list(map(int, input().split()))\n",
    "\n",
    "minutes.sort()\n",
    "ans = 0 \n",
    "for i in range(n):\n",
    "    ans += minutes.pop() * (i + 1)\n",
    "\n",
    "print(ans)"
   ]
  },
  {
   "cell_type": "markdown",
   "metadata": {},
   "source": [
    "## 1541번 잃어버린 괄호 실버 II(파싱, 문자열, 수학 포함)\n",
    "### 문제\n",
    "- 세준이는 양수와 +, -, 그리고 괄호를 가지고 식을 만들었다.\n",
    "- 그리고 나서 세준이는 괄호를 모두 지웠다.\n",
    "\n",
    "- 그리고 나서 세준이는 괄호를 적절히 쳐서 이 식의 값을 최소로 만들려고 한다.\n",
    "\n",
    "- 괄호를 적절히 쳐서 이 식의 값을 최소로 만드는 프로그램을 작성하시오."
   ]
  },
  {
   "cell_type": "code",
   "execution_count": 103,
   "metadata": {},
   "outputs": [
    {
     "name": "stdout",
     "output_type": "stream",
     "text": [
      "1\n"
     ]
    }
   ],
   "source": [
    "s = str(input())\n",
    "\n",
    "temp = []\n",
    "nums = ''\n",
    "len_cnt = 0\n",
    "\n",
    "for i in range(len(s)):\n",
    "    if s[i].isdigit():\n",
    "        nums += s[i]\n",
    "\n",
    "    elif s[i] == '-' or s[i] == '+':\n",
    "        temp.append(nums)\n",
    "        nums = ''\n",
    "        temp.append(s[i])\n",
    "\n",
    "    if i == len(s)-1 :\n",
    "        temp.append(nums)\n",
    "\n",
    "zero_cnt = 0\n",
    "ans = [int(temp[0])]\n",
    "\n",
    "for j in range(1, len(temp)):\n",
    "    if temp[j] == '-':\n",
    "        zero_cnt += 1\n",
    "    if temp[j].isdigit() and zero_cnt != 0:\n",
    "        ans.append(-1*int(temp[j]))\n",
    "    elif temp[j].isdigit() and zero_cnt == 0:\n",
    "        ans.append(int(temp[j]))\n",
    "\n",
    "print(sum(ans))"
   ]
  },
  {
   "cell_type": "markdown",
   "metadata": {},
   "source": [
    "## 1931번 회의실 배정 실버I\n",
    "### 문제\n",
    "- 한 개의 회의실이 있는데 이를 사용하고자 하는 N개의 회의에 대하여 회의실 사용표를 만들려고 한다.\n",
    "- 각 회의 I에 대해 시작시간과 끝나는 시간이 주어져 있고, 각 회의가 겹치지 않게 하면서 회의실을 사용할 수 있는 회의의 최대 개수를 찾아보자.\n",
    "- 단, 회의는 한번 시작하면 중간에 중단될 수 없으며 한 회의가 끝나는 것과 동시에 다음 회의가 시작될 수 있다. \n",
    "- 회의의 시작시간과 끝나는 시간이 같을 수도 있다.\n",
    "- 이 경우에는 시작하자마자 끝나는 것으로 생각하면 된다."
   ]
  },
  {
   "cell_type": "code",
   "execution_count": 104,
   "metadata": {},
   "outputs": [],
   "source": [
    "import sys\n",
    "data = []\n",
    "n = int(sys.stdin.readline())\n",
    "for i in range(n):\n",
    "    data.append(list(map(int, sys.stdin.readline().split())))"
   ]
  },
  {
   "cell_type": "code",
   "execution_count": 16,
   "metadata": {},
   "outputs": [],
   "source": [
    "n = int(input())\n",
    "data = []\n",
    "for _ in range(n):\n",
    "    a,b = map(int, input().split())\n",
    "    data.append((a,b))"
   ]
  },
  {
   "cell_type": "code",
   "execution_count": 18,
   "metadata": {},
   "outputs": [
    {
     "data": {
      "text/plain": [
       "[(0, 6),\n",
       " (1, 4),\n",
       " (2, 13),\n",
       " (3, 5),\n",
       " (3, 8),\n",
       " (5, 7),\n",
       " (5, 9),\n",
       " (6, 10),\n",
       " (8, 11),\n",
       " (8, 12),\n",
       " (12, 14)]"
      ]
     },
     "execution_count": 18,
     "metadata": {},
     "output_type": "execute_result"
    }
   ],
   "source": [
    "# for i in range(len(data)):\n",
    "#     for j in range(i+1, len(data)):\n",
    "\n",
    "data.sort()\n",
    "\n"
   ]
  },
  {
   "cell_type": "markdown",
   "metadata": {},
   "source": [
    "## 1789번 수들의 합 실버IV\n",
    "\n",
    "### 문제\n",
    "- 서로 다른 N개의 자연수의 합이 S라고 한다. S를 알 때, 자연수 N의 최댓값은 얼마일까?"
   ]
  },
  {
   "cell_type": "code",
   "execution_count": 96,
   "metadata": {},
   "outputs": [
    {
     "name": "stdout",
     "output_type": "stream",
     "text": [
      "1\n"
     ]
    }
   ],
   "source": [
    "n = int(input())\n",
    "answer = 0\n",
    "cnt = 0\n",
    "for i in range(1, 100000):\n",
    "    if answer <= n:\n",
    "        answer += i\n",
    "        cnt += 1\n",
    "    else:\n",
    "        print(cnt-1)\n",
    "        break"
   ]
  },
  {
   "cell_type": "markdown",
   "metadata": {},
   "source": [
    "## 1316번 그룹 단어 체커(실버 V)\n",
    "\n",
    "### 문제\n",
    "- 그룹 단어란 단어에 존재하는 모든 문자에 대해서, 각 문자가 연속해서 나타나는 경우만을 말한다.\n",
    "- 예를 들면, ccazzzzbb는 c, a, z, b가 모두 연속해서 나타나고, kin도 k, i, n이 연속해서 나타나기 때문에 그룹 단어이지만, aabbbccb는 b가 떨어져서 나타나기 때문에 그룹 단어가 아니다.\n",
    "\n",
    "- 단어 N개를 입력으로 받아 그룹 단어의 개수를 출력하는 프로그램을 작성하시오."
   ]
  },
  {
   "cell_type": "code",
   "execution_count": 32,
   "metadata": {},
   "outputs": [
    {
     "data": {
      "text/plain": [
       "3"
      ]
     },
     "execution_count": 32,
     "metadata": {},
     "output_type": "execute_result"
    }
   ],
   "source": [
    "n = int(input())\n",
    "words = [str(input()) for _ in range(n)]\n",
    "\n",
    "cnt = 0\n",
    "for word in words:\n",
    "    temp = []\n",
    "    for w in range(len(word)):\n",
    "        if word[w] not in temp:\n",
    "            temp.append(word[w])\n",
    "        elif word[w] in temp:\n",
    "            if temp[-1] == word[w]:\n",
    "                temp.append(word[w])\n",
    "            else:\n",
    "                break\n",
    "    if len(temp) == len(word):\n",
    "        cnt += 1\n",
    "\n",
    "print(cnt)\n",
    "\n"
   ]
  },
  {
   "cell_type": "code",
   "execution_count": 41,
   "metadata": {},
   "outputs": [
    {
     "data": {
      "text/plain": [
       "True"
      ]
     },
     "execution_count": 41,
     "metadata": {},
     "output_type": "execute_result"
    }
   ],
   "source": [
    "list('aaaabc') == sorted('aaaabc', key='aaaabc'.find)\n"
   ]
  },
  {
   "cell_type": "markdown",
   "metadata": {},
   "source": [
    "## 2941번 크로아티아 알파벳(실버 V)\n",
    "\n",
    "### 문제\n",
    "- 예전에는 운영체제에서 크로아티아 알파벳을 입력할 수가 없었다.\n",
    "- 따라서, 다음과 같이 크로아티아 알파벳을 변경해서 입력했다.\n",
    "- 예를 들어, ljes=njak은 크로아티아 알파벳 6개(lj, e, š, nj, a, k)로 이루어져 있다.\n",
    "- 단어가 주어졌을 때, 몇 개의 크로아티아 알파벳으로 이루어져 있는지 출력한다.\n",
    "\n",
    "- dž는 무조건 하나의 알파벳으로 쓰이고, d와 ž가 분리된 것으로 보지 않는다.\n",
    "- lj와 nj도 마찬가지이다. 위 목록에 없는 알파벳은 한 글자씩 센다."
   ]
  },
  {
   "cell_type": "code",
   "execution_count": 52,
   "metadata": {},
   "outputs": [
    {
     "name": "stdout",
     "output_type": "stream",
     "text": [
      "3\n"
     ]
    }
   ],
   "source": [
    "croatia = ['c=', 'c-', 'dz=', 'd-', 'lj', 'nj', 's=', 'z=']\n",
    "for alpha in croatia:\n",
    "    s = s.replace(alpha, 'a')\n",
    "\n",
    "print(len(s))\n"
   ]
  },
  {
   "cell_type": "markdown",
   "metadata": {},
   "source": [
    "## 10773번 제로 실버(IV)\n",
    "\n",
    "### 문제\n",
    "- 나코더 기장 재민이는 동아리 회식을 준비하기 위해서 장부를 관리하는 중이다.\n",
    "\n",
    "- 재현이는 재민이를 도와서 돈을 관리하는 중인데, 애석하게도 항상 정신없는 재현이는 돈을 실수로 잘못 부르는 사고를 치기 일쑤였다.\n",
    "\n",
    "- 재현이는 잘못된 수를 부를 때마다 0을 외쳐서, 가장 최근에 재민이가 쓴 수를 지우게 시킨다.\n",
    "\n",
    "- 재민이는 이렇게 모든 수를 받아 적은 후 그 수의 합을 알고 싶어 한다. 재민이를 도와주자!"
   ]
  },
  {
   "cell_type": "code",
   "execution_count": 70,
   "metadata": {},
   "outputs": [],
   "source": [
    "n = int(input())\n",
    "num_list = [int(input()) for _ in range(n)]\n",
    "\n",
    "temp = []\n",
    "for i in range(len(num_list)):\n",
    "    if num_list[i] == 0 and i != 0:\n",
    "        temp.remove(temp[-1])\n",
    "    else:\n",
    "        temp.append(num_list[i])\n",
    "\n",
    "print(sum(temp))"
   ]
  },
  {
   "cell_type": "code",
   "execution_count": 2,
   "metadata": {},
   "outputs": [
    {
     "name": "stdout",
     "output_type": "stream",
     "text": [
      "7\n"
     ]
    }
   ],
   "source": [
    "# input 쓰지 말것\n",
    "import sys\n",
    "\n",
    "# n = int(sys.stdin.readline())\n",
    "n = int(input())\n",
    "temp = []\n",
    "for _ in range(n):\n",
    "    a = int(sys.stdin.readline())\n",
    "    if a == 0:\n",
    "        temp.pop()\n",
    "    else:\n",
    "        temp.append(a)\n",
    "        \n",
    "print(sum(temp))"
   ]
  }
 ],
 "metadata": {
  "kernelspec": {
   "display_name": "Python 3",
   "language": "python",
   "name": "python3"
  },
  "language_info": {
   "codemirror_mode": {
    "name": "ipython",
    "version": 3
   },
   "file_extension": ".py",
   "mimetype": "text/x-python",
   "name": "python",
   "nbconvert_exporter": "python",
   "pygments_lexer": "ipython3",
   "version": "3.9.12"
  },
  "orig_nbformat": 4,
  "vscode": {
   "interpreter": {
    "hash": "c4b9ebf4ca459396e2ad1150752490c26670c1a037c08cad955a4425787bec2e"
   }
  }
 },
 "nbformat": 4,
 "nbformat_minor": 2
}
