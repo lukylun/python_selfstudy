{
 "cells": [
  {
   "cell_type": "markdown",
   "metadata": {},
   "source": [
    "# 1057번 토너먼트(실버IV)\n",
    "### 문제 설명\n",
    "- 김지민은 N명이 참가하는 스타 토너먼트에 진출했다.\n",
    "- 토너먼트는 다음과 같이 진행된다.\n",
    "- 일단 N명의 참가자는 번호가 1번부터 N번까지 배정받는다.\n",
    "- 그러고 난 후에 서로 인접한 번호끼리 스타를 한다.\n",
    "- 이긴 사람은 다음 라운드에 진출하고, 진 사람은 그 라운드에서 떨어진다.\n",
    "- 만약 그 라운드의 참가자가 홀수명이라면, 마지막 번호를 가진 참가자는 다음 라운드로 자동 진출한다.\n",
    "- 다음 라운드에선 다시 참가자의 번호를 1번부터 매긴다.\n",
    "- 이때, 번호를 매기는 순서는 처음 번호의 순서를 유지하면서 1번부터 매긴다.\n",
    "- 이 말은 1번과 2번이 스타를 해서 1번이 진출하고,\n",
    "- 3번과 4번이 스타를 해서 4번이 진출했다면,\n",
    "- 4번은 다음 라운드에서 번호 2번을 배정받는다.\n",
    "- 번호를 다시 배정받은 후에 한 명만 남을 때까지 라운드를 계속 한다.\n",
    "\n",
    "- 마침 이 스타 대회에 임한수도 참가했다.\n",
    "- 김지민은 갑자기 스타 대회에서 우승하는 욕심은 없어지고,\n",
    "- 몇 라운드에서 임한수와 대결하는지 궁금해졌다.\n",
    "- 일단 김지민과 임한수는 서로 대결하기 전까지 항상 이긴다고 가정한다.\n",
    "- 1 라운드에서 김지민의 번호와 임한수의 번호가 주어질 때,\n",
    "- 과연 김지민과 임한수가 몇 라운드에서 대결하는지 출력하는 프로그램을 작성하시오."
   ]
  },
  {
   "cell_type": "code",
   "execution_count": null,
   "metadata": {},
   "outputs": [],
   "source": [
    "n, a, b = map(int, input().split())\n"
   ]
  },
  {
   "cell_type": "code",
   "execution_count": null,
   "metadata": {},
   "outputs": [],
   "source": []
  },
  {
   "cell_type": "code",
   "execution_count": null,
   "metadata": {},
   "outputs": [],
   "source": []
  },
  {
   "cell_type": "code",
   "execution_count": null,
   "metadata": {},
   "outputs": [],
   "source": []
  },
  {
   "cell_type": "code",
   "execution_count": null,
   "metadata": {},
   "outputs": [],
   "source": []
  }
 ],
 "metadata": {
  "kernelspec": {
   "display_name": "Python 3",
   "language": "python",
   "name": "python3"
  },
  "language_info": {
   "name": "python",
   "version": "3.9.12 (tags/v3.9.12:b28265d, Mar 23 2022, 23:52:46) [MSC v.1929 64 bit (AMD64)]"
  },
  "orig_nbformat": 4,
  "vscode": {
   "interpreter": {
    "hash": "c4b9ebf4ca459396e2ad1150752490c26670c1a037c08cad955a4425787bec2e"
   }
  }
 },
 "nbformat": 4,
 "nbformat_minor": 2
}
