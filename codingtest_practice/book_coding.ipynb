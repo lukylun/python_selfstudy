{
 "cells": [
  {
   "cell_type": "markdown",
   "metadata": {},
   "source": [
    "# 1. Greedy"
   ]
  },
  {
   "cell_type": "code",
   "execution_count": 1,
   "metadata": {},
   "outputs": [
    {
     "name": "stdout",
     "output_type": "stream",
     "text": [
      "6\n"
     ]
    }
   ],
   "source": [
    "# Greedy : 현재 상황에서 가장 좋아 보이는 것만을 선택하는 알고리즘\n",
    "\n",
    "n = 1260\n",
    "cnt = 0\n",
    "coin_types = [500,100,50,10]\n",
    "\n",
    "for coin_type in coin_types:\n",
    "    cnt += n //coin_type"
   ]
  },
  {
   "attachments": {},
   "cell_type": "markdown",
   "metadata": {},
   "source": [
    "## 1-1 큰 수의 법칙\n",
    "### 조건\n",
    "1. 첫째 줄에 N, M, K의 자연수가 주어지며, 각 자연수는 공백으로 구분한다.\n",
    "2. 둘째 줄에 N개의 자연수가 주어진다. 각 자연수는 공백으로 구분한다.\n",
    "3. 입력으로 주어지는 K는 항상 M보다 작거나 같다."
   ]
  },
  {
   "cell_type": "code",
   "execution_count": 1,
   "metadata": {},
   "outputs": [
    {
     "ename": "ValueError",
     "evalue": "not enough values to unpack (expected 3, got 0)",
     "output_type": "error",
     "traceback": [
      "\u001b[1;31m---------------------------------------------------------------------------\u001b[0m",
      "\u001b[1;31mValueError\u001b[0m                                Traceback (most recent call last)",
      "Cell \u001b[1;32mIn [1], line 2\u001b[0m\n\u001b[0;32m      1\u001b[0m \u001b[39m# 풀이 1\u001b[39;00m\n\u001b[1;32m----> 2\u001b[0m n,m,k \u001b[39m=\u001b[39m \u001b[39mmap\u001b[39m(\u001b[39mint\u001b[39m,\u001b[39minput\u001b[39m()\u001b[39m.\u001b[39msplit())\n\u001b[0;32m      3\u001b[0m data \u001b[39m=\u001b[39m \u001b[39mlist\u001b[39m(\u001b[39mmap\u001b[39m(\u001b[39mint\u001b[39m, \u001b[39minput\u001b[39m()\u001b[39m.\u001b[39msplit()))\n\u001b[0;32m      4\u001b[0m data\u001b[39m.\u001b[39msort()\n",
      "\u001b[1;31mValueError\u001b[0m: not enough values to unpack (expected 3, got 0)"
     ]
    }
   ],
   "source": [
    "# 풀이 1\n",
    "n,m,k = map(int,input().split())\n",
    "data = list(map(int, input().split()))\n",
    "data.sort()\n",
    "frs_num = data[-1]\n",
    "scd_num = data[-2]\n",
    "\n",
    "answer = 0\n",
    "\n",
    "while True:\n",
    "    for i in range(k):\n",
    "        if m == 0: break\n",
    "        answer += frs_num\n",
    "        m -= 1\n",
    "    if m == 0: break\n",
    "    answer += scd_num\n",
    "    m -= 1\n",
    "print(answer)  \n"
   ]
  },
  {
   "cell_type": "code",
   "execution_count": 2,
   "metadata": {},
   "outputs": [
    {
     "name": "stdout",
     "output_type": "stream",
     "text": [
      "46\n"
     ]
    }
   ],
   "source": [
    "# 풀이 2\n",
    "n,m,k = map(int,input().split())\n",
    "data = list(map(int, input().split()))\n",
    "data.sort()\n",
    "frs_num = data[-1]\n",
    "scd_num = data[-2]\n",
    "\n",
    "cnt = int(m/(k+1)) * k\n",
    "cnt += m % (k+1)\n",
    "\n",
    "answer = 0\n",
    "answer += cnt * frs_num\n",
    "answer += (m-cnt) * scd_num\n",
    "\n",
    "print(answer)"
   ]
  },
  {
   "cell_type": "markdown",
   "metadata": {},
   "source": [
    "## 1-2 숫자 카드 게임\n",
    "### 조건\n",
    "1. 숫자가 쓰인 카드들이 N * M 형태로 놓여 있다. 이때 N은 행의 개수를 의미하며, M은 열의 개수를 의미한다.\n",
    "2. 먼저 뽑고자 하는 카드가 포함되어 있는 행을 선택한다.\n",
    "3. 그다음 선택된 행에 포함된 카드들 중 가장 숫자가 낮은 카드를 뽑아야 한다.\n",
    "4. 따라서 처음에 카드를 골라낼 행을 선택할 때, 이후에 해당 행에서 가장 숫자가 \n",
    "    낮은 카드를 뽑을 것을 고려하여 최종적으로 가장 높은 숫자의 카드를 뽑을 수 있도록 전략을 세워야 한다.\n",
    "\n",
    "5. 첫째 줄에 숫자 카드들이 놓인 행의 개수 N과 열의 개수 M이 공백을 기준으로 하여 각각 자연수로 주어진다.\n",
    "6. 둘째 줄부터 N개의 줄에 거쳐 각 카드에 적힌 숫자가 주어진다."
   ]
  },
  {
   "cell_type": "code",
   "execution_count": 8,
   "metadata": {},
   "outputs": [
    {
     "name": "stdout",
     "output_type": "stream",
     "text": [
      "2\n"
     ]
    }
   ],
   "source": [
    "A, B = map(int, input().split())\n",
    "\n",
    "# 풀이 1\n",
    "answer = 0\n",
    "for i in range(A):\n",
    "    card_lst = list(map(int, input().split()))\n",
    "    min_value = min(card_lst)\n",
    "    answer = max(min_value, answer)\n",
    "\n",
    "print(answer) \n",
    "\n",
    "# 풀이 2\n",
    "answer = 0 \n",
    "for i in range(A):\n",
    "    card_lst = list(map(int, input().split()))\n",
    "    min_value = 10001\n",
    "    for j in card_lst:\n",
    "        min_value = min(min_value, j)\n",
    "\n",
    "    answer = max(min_value, answer)\n",
    "print(answer)"
   ]
  },
  {
   "cell_type": "markdown",
   "metadata": {},
   "source": [
    "## 1-3 1이 될 때까지\n",
    "### 조건\n",
    "1. 첫째 줄에 N과 K가 공백으로 구분되며 각각 자연수로 주어진다. 입력으로 주어지는 N은 항상 K보다 크거나 같다\n",
    "2. 첫째 줄에 N이 1이 될 때까지 1번 혹은 2번의 과정을 수행해야 하는 횟수의 최솟값을 출력한다\n",
    "    - 1번 : N에서 1을 뺀다.\n",
    "    - 2번 : N을 K로 나눈다.\n"
   ]
  },
  {
   "cell_type": "code",
   "execution_count": 16,
   "metadata": {},
   "outputs": [
    {
     "name": "stdout",
     "output_type": "stream",
     "text": [
      "6\n"
     ]
    }
   ],
   "source": [
    "N, K = map(int, input().split())\n",
    "\n",
    "# # 풀이 1\n",
    "cnt = 0\n",
    "while N > 1:\n",
    "    if N % K == 0:\n",
    "        N = N // K\n",
    "        cnt += 1\n",
    "    else:\n",
    "        N -= 1\n",
    "        cnt += 1\n",
    "print(cnt)\n",
    "\n",
    "# 풀이 2\n",
    "# cnt = 0 \n",
    "\n",
    "# while True:\n",
    "#     trg = (N // K) * K\n",
    "#     cnt += N - trg\n",
    "#     N = trg\n",
    "\n",
    "#     if N < K:\n",
    "#         break\n",
    "#     cnt += 1\n",
    "#     N //= K\n",
    "\n",
    "# cnt += (N-1)\n",
    "# print(cnt)\n"
   ]
  },
  {
   "cell_type": "code",
   "execution_count": null,
   "metadata": {},
   "outputs": [],
   "source": []
  },
  {
   "cell_type": "code",
   "execution_count": null,
   "metadata": {},
   "outputs": [],
   "source": []
  }
 ],
 "metadata": {
  "kernelspec": {
   "display_name": "study",
   "language": "python",
   "name": "python3"
  },
  "language_info": {
   "codemirror_mode": {
    "name": "ipython",
    "version": 3
   },
   "file_extension": ".py",
   "mimetype": "text/x-python",
   "name": "python",
   "nbconvert_exporter": "python",
   "pygments_lexer": "ipython3",
   "version": "3.10.4"
  },
  "orig_nbformat": 4,
  "vscode": {
   "interpreter": {
    "hash": "0366d95cfe3e294a9405a60bcbbb3d4cd1344975bbb420614b4c3178f22fa862"
   }
  }
 },
 "nbformat": 4,
 "nbformat_minor": 2
}
