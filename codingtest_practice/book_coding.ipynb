{
 "cells": [
  {
   "cell_type": "markdown",
   "metadata": {},
   "source": [
    "# 1. Greedy"
   ]
  },
  {
   "cell_type": "code",
   "execution_count": 1,
   "metadata": {},
   "outputs": [
    {
     "name": "stdout",
     "output_type": "stream",
     "text": [
      "6\n"
     ]
    }
   ],
   "source": [
    "# Greedy : 현재 상황에서 가장 좋아 보이는 것만을 선택하는 알고리즘\n",
    "\n",
    "n = 1260\n",
    "cnt = 0\n",
    "coin_types = [500,100,50,10]\n",
    "\n",
    "for coin_type in coin_types:\n",
    "    cnt += n //coin_type"
   ]
  },
  {
   "attachments": {},
   "cell_type": "markdown",
   "metadata": {},
   "source": [
    "## 1-1 큰 수의 법칙\n",
    "### 조건\n",
    "1. 첫째 줄에 N, M, K의 자연수가 주어지며, 각 자연수는 공백으로 구분한다.\n",
    "2. 둘째 줄에 N개의 자연수가 주어진다. 각 자연수는 공백으로 구분한다.\n",
    "3. 입력으로 주어지는 K는 항상 M보다 작거나 같다."
   ]
  },
  {
   "cell_type": "code",
   "execution_count": null,
   "metadata": {},
   "outputs": [],
   "source": [
    "# 풀이 1\n",
    "n,m,k = map(int,input().split())\n",
    "data = list(map(int, input().split()))\n",
    "data.sort()\n",
    "frs_num = data[-1]\n",
    "scd_num = data[-2]\n",
    "\n",
    "answer = 0\n",
    "\n",
    "while True:\n",
    "    for i in range(k):\n",
    "        if m == 0: break\n",
    "        answer += frs_num\n",
    "        m -= 1\n",
    "    if m == 0: break\n",
    "    answer += scd_num\n",
    "    m -= 1\n",
    "print(answer)  \n"
   ]
  },
  {
   "cell_type": "code",
   "execution_count": 2,
   "metadata": {},
   "outputs": [
    {
     "name": "stdout",
     "output_type": "stream",
     "text": [
      "46\n"
     ]
    }
   ],
   "source": [
    "# 풀이 2\n",
    "n,m,k = map(int,input().split())\n",
    "data = list(map(int, input().split()))\n",
    "data.sort()\n",
    "frs_num = data[-1]\n",
    "scd_num = data[-2]\n",
    "\n",
    "cnt = int(m/(k+1)) * k\n",
    "cnt += m % (k+1)\n",
    "\n",
    "answer = 0\n",
    "answer += cnt * frs_num\n",
    "answer += (m-cnt) * scd_num\n",
    "\n",
    "print(answer)"
   ]
  },
  {
   "cell_type": "markdown",
   "metadata": {},
   "source": [
    "## 1-2 숫자 카드 게임\n",
    "### 조건\n",
    "1. 숫자가 쓰인 카드들이 N * M 형태로 놓여 있다. 이때 N은 행의 개수를 의미하며, M은 열의 개수를 의미한다.\n",
    "2. 먼저 뽑고자 하는 카드가 포함되어 있는 행을 선택한다.\n",
    "3. 그다음 선택된 행에 포함된 카드들 중 가장 숫자가 낮은 카드를 뽑아야 한다.\n",
    "4. 따라서 처음에 카드를 골라낼 행을 선택할 때, 이후에 해당 행에서 가장 숫자가 \n",
    "    낮은 카드를 뽑을 것을 고려하여 최종적으로 가장 높은 숫자의 카드를 뽑을 수 있도록 전략을 세워야 한다.\n",
    "\n",
    "5. 첫째 줄에 숫자 카드들이 놓인 행의 개수 N과 열의 개수 M이 공백을 기준으로 하여 각각 자연수로 주어진다.\n",
    "6. 둘째 줄부터 N개의 줄에 거쳐 각 카드에 적힌 숫자가 주어진다."
   ]
  },
  {
   "cell_type": "code",
   "execution_count": 8,
   "metadata": {},
   "outputs": [
    {
     "name": "stdout",
     "output_type": "stream",
     "text": [
      "2\n"
     ]
    }
   ],
   "source": [
    "A, B = map(int, input().split())\n",
    "\n",
    "# 풀이 1\n",
    "answer = 0\n",
    "for i in range(A):\n",
    "    card_lst = list(map(int, input().split()))\n",
    "    min_value = min(card_lst)\n",
    "    answer = max(min_value, answer)\n",
    "\n",
    "print(answer) \n",
    "\n",
    "# 풀이 2\n",
    "answer = 0 \n",
    "for i in range(A):\n",
    "    card_lst = list(map(int, input().split()))\n",
    "    min_value = 10001\n",
    "    for j in card_lst:\n",
    "        min_value = min(min_value, j)\n",
    "\n",
    "    answer = max(min_value, answer)\n",
    "print(answer)"
   ]
  },
  {
   "cell_type": "markdown",
   "metadata": {},
   "source": [
    "## 1-3 1이 될 때까지\n",
    "### 조건\n",
    "1. 첫째 줄에 N과 K가 공백으로 구분되며 각각 자연수로 주어진다. 입력으로 주어지는 N은 항상 K보다 크거나 같다\n",
    "2. 첫째 줄에 N이 1이 될 때까지 1번 혹은 2번의 과정을 수행해야 하는 횟수의 최솟값을 출력한다\n",
    "    - 1번 : N에서 1을 뺀다.\n",
    "    - 2번 : N을 K로 나눈다.\n"
   ]
  },
  {
   "cell_type": "code",
   "execution_count": 16,
   "metadata": {},
   "outputs": [
    {
     "name": "stdout",
     "output_type": "stream",
     "text": [
      "6\n"
     ]
    }
   ],
   "source": [
    "N, K = map(int, input().split())\n",
    "\n",
    "# # 풀이 1\n",
    "cnt = 0\n",
    "while N > 1:\n",
    "    if N % K == 0:\n",
    "        N = N // K\n",
    "        cnt += 1\n",
    "    else:\n",
    "        N -= 1\n",
    "        cnt += 1\n",
    "print(cnt)\n",
    "\n",
    "# 풀이 2\n",
    "# cnt = 0 \n",
    "\n",
    "# while True:\n",
    "#     trg = (N // K) * K\n",
    "#     cnt += N - trg\n",
    "#     N = trg\n",
    "\n",
    "#     if N < K:\n",
    "#         break\n",
    "#     cnt += 1\n",
    "#     N //= K\n",
    "\n",
    "# cnt += (N-1)\n",
    "# print(cnt)\n"
   ]
  },
  {
   "attachments": {},
   "cell_type": "markdown",
   "metadata": {},
   "source": [
    "# 2. 구현\n",
    "\n",
    "- 완전 탐색: 모든 경우의 수를 주저없이 다 계산하는 해결 방법\n",
    "- 시뮬레이션: 문제에서 제시한 알고리즘을 한 단계씩 차례대로 직접 수행\n"
   ]
  },
  {
   "cell_type": "markdown",
   "metadata": {},
   "source": [
    "## 2-1 상하좌우\n",
    "### 입력 조건\n",
    "- 첫째 줄에 공간의 크기를 나타내는 N이 주어진다.\n",
    "- 둘째 줄에 여행가 A가 이동할 계획서 내용이 주어진다.\n",
    "\n",
    "### 출력 조건\n",
    "- 첫째 줄에 여행가 A가 최종적으로 도착할 지점의 좌표(X,Y)를 공백으로 구분하여 출력한다."
   ]
  },
  {
   "cell_type": "code",
   "execution_count": 10,
   "metadata": {},
   "outputs": [
    {
     "name": "stdout",
     "output_type": "stream",
     "text": [
      "3 4\n"
     ]
    }
   ],
   "source": [
    "# 풀이 1\n",
    "N = int(input())\n",
    "move_lst = input().split()\n",
    "x, y = 1, 1\n",
    "\n",
    "for i in range(len(move_lst)):\n",
    "    if move_lst[i] == 'L':\n",
    "        if y == 1:\n",
    "            continue\n",
    "        else:\n",
    "            y -= 1\n",
    "    elif move_lst[i] == 'R':\n",
    "        if y == N:\n",
    "            continue\n",
    "        else:\n",
    "            y += 1\n",
    "    elif move_lst[i] == 'U':\n",
    "        if x == 1:\n",
    "            continue\n",
    "        else:\n",
    "            x -= 1\n",
    "    else:\n",
    "        if x == N:\n",
    "            continue\n",
    "        else:\n",
    "            x += 1\n",
    "\n",
    "print(x, y)"
   ]
  },
  {
   "cell_type": "code",
   "execution_count": 8,
   "metadata": {},
   "outputs": [
    {
     "name": "stdout",
     "output_type": "stream",
     "text": [
      "3 4\n"
     ]
    }
   ],
   "source": [
    "# 풀이 2\n",
    "n = int(input())\n",
    "x, y = 1, 1\n",
    "plans = input().split()\n",
    "\n",
    "# L, R, U, D에 따른 이동 방향\n",
    "dx = [0, 0, -1, 1]\n",
    "dy = [-1, 1, 0, 0]\n",
    "move_types = ['L', 'R', 'U', 'D']\n",
    "\n",
    "# 이동 계획을 하나씩 확인\n",
    "for plan in plans:\n",
    "    # 이동 후 좌표 구하기\n",
    "    for i in range(len(move_types)):\n",
    "        if plan == move_types[i]:\n",
    "            nx = x + dx[i]\n",
    "            ny = y + dy[i]\n",
    "        # 공간을 벗어나는 경우 무시\n",
    "    if nx < 1 or ny <1 or nx > n or ny > n:\n",
    "        continue\n",
    "    x, y = nx, ny\n",
    "\n",
    "print(x, y)"
   ]
  },
  {
   "attachments": {},
   "cell_type": "markdown",
   "metadata": {},
   "source": [
    "## 2-2 시각\n",
    "\n",
    "- 입력조건: 첫째 줄에 정수 N이 입력된다.\n",
    "- 출력조건: 00시 00분 00초부터 N시 59분 59초까지 모든 시각 중에서 3이 하나라도 포함되는 모든 경우의 수를 출력한다."
   ]
  },
  {
   "cell_type": "code",
   "execution_count": 6,
   "metadata": {},
   "outputs": [
    {
     "data": {
      "text/plain": [
       "591525"
      ]
     },
     "execution_count": 6,
     "metadata": {},
     "output_type": "execute_result"
    }
   ],
   "source": [
    "N = 300 # int(input())\n",
    "\n",
    "cnt = 0\n",
    "for i in range(N+1):\n",
    "    for j in range(60):\n",
    "        # n_time = ''\n",
    "        for k in range(60):\n",
    "            # n_time = str(i) + str(j) + str(k)\n",
    "            if '3' in str(i) + str(j) + str(k):\n",
    "                cnt += 1\n",
    "\n",
    "cnt\n"
   ]
  },
  {
   "cell_type": "markdown",
   "metadata": {},
   "source": [
    "## 2-3 왕실의 나이트\n",
    "\n",
    "### 문제 설명\n",
    "- 행복 왕국의 왕실 정원은 체스판과 같은 8 * 8 좌표 평면이다.\n",
    "- 왕실 정원의 특정한 한 칸에 나이트가 서 있다.\n",
    "- 나이트는 말을 타고 있기 떄문에 이동할 때는 L자 형태로만 이동할 수 있다.\n",
    "- 정원밖으로 나갈 수 없다.\n",
    "- 나이트는 특정한 위치에서 2가지 경우로 이동할 수 있다.\n",
    "    - 수평으로 두 칸 이동한 뒤에 수직으로 한 칸 이동하기\n",
    "    - 수직으로 두 칸 이동한 뒤에 수평으로 한 칸 이동하기\n",
    "\n",
    "- 나이트의 위치가 주어졌을 때 나이트가 이동할 수 있는 경우의 수를 출력하는 프로그램을 작성하시오.\n",
    "- 행 위치를 표현할 때는 1부터 8까지 표현하며, 열 위치를 표현할 때는 a부터 h로 표현한다.\n",
    "\n",
    "- 입력 조건\n",
    "    - 첫째 줄에 8 * 8 좌표 평면상에서 현재 나이트가 위치한 곳의 좌표를 놔타내는 두 문자로\n",
    "    - 구성된 열이 입력된다. 입력 문자는 a1처럼 열과 행으로 이뤄진다.\n",
    "\n",
    "- 출력 조건\n",
    "    - 첫째 줄에 나이트가 이동할 수 있는 경우의 수를 출력하시오."
   ]
  },
  {
   "cell_type": "code",
   "execution_count": 28,
   "metadata": {},
   "outputs": [
    {
     "name": "stdout",
     "output_type": "stream",
     "text": [
      "6\n"
     ]
    }
   ],
   "source": [
    "posi_knight = input()\n",
    "row = int(posi_knight[1])\n",
    "column = posi_knight[0]\n",
    "# column의 문자를 숫자로 변환\n",
    "column = ord(column) - ord('a') + 1\n",
    "\n",
    "# knight가 이동할 수 있는 경우의 수\n",
    "moves = [(-2,-1), (-2,1), (2,-1), (2,1), (1,-2), (1,2), (-1,2), (-1,-2)]\n",
    "\n",
    "cnt = 0 \n",
    "for move in moves:\n",
    "    move_row = row + move[0]\n",
    "    move_column = column + move[1]\n",
    "\n",
    "    if (1 <= move_row <= 8) and (1 <= move_column <= 8):\n",
    "        cnt += 1\n",
    "\n",
    "print(cnt) "
   ]
  },
  {
   "cell_type": "code",
   "execution_count": null,
   "metadata": {},
   "outputs": [],
   "source": []
  },
  {
   "cell_type": "code",
   "execution_count": null,
   "metadata": {},
   "outputs": [],
   "source": []
  },
  {
   "cell_type": "code",
   "execution_count": null,
   "metadata": {},
   "outputs": [],
   "source": []
  }
 ],
 "metadata": {
  "kernelspec": {
   "display_name": "Python 3",
   "language": "python",
   "name": "python3"
  },
  "language_info": {
   "codemirror_mode": {
    "name": "ipython",
    "version": 3
   },
   "file_extension": ".py",
   "mimetype": "text/x-python",
   "name": "python",
   "nbconvert_exporter": "python",
   "pygments_lexer": "ipython3",
   "version": "3.9.12"
  },
  "orig_nbformat": 4,
  "vscode": {
   "interpreter": {
    "hash": "c4b9ebf4ca459396e2ad1150752490c26670c1a037c08cad955a4425787bec2e"
   }
  }
 },
 "nbformat": 4,
 "nbformat_minor": 2
}
