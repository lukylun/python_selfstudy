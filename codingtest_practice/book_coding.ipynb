{
 "cells": [
  {
   "cell_type": "markdown",
   "metadata": {},
   "source": [
    "# 1. Greedy"
   ]
  },
  {
   "cell_type": "code",
   "execution_count": 1,
   "metadata": {},
   "outputs": [
    {
     "name": "stdout",
     "output_type": "stream",
     "text": [
      "6\n"
     ]
    }
   ],
   "source": [
    "# Greedy : 현재 상황에서 가장 좋아 보이는 것만을 선택하는 알고리즘\n",
    "\n",
    "n = 1260\n",
    "cnt = 0\n",
    "coin_types = [500,100,50,10]\n",
    "\n",
    "for coin_type in coin_types:\n",
    "    cnt += n //coin_type"
   ]
  },
  {
   "attachments": {},
   "cell_type": "markdown",
   "metadata": {},
   "source": [
    "## 1-1 큰 수의 법칙\n",
    "### 조건\n",
    "1. 첫째 줄에 N, M, K의 자연수가 주어지며, 각 자연수는 공백으로 구분한다.\n",
    "2. 둘째 줄에 N개의 자연수가 주어진다. 각 자연수는 공백으로 구분한다.\n",
    "3. 입력으로 주어지는 K는 항상 M보다 작거나 같다."
   ]
  },
  {
   "cell_type": "code",
   "execution_count": null,
   "metadata": {},
   "outputs": [],
   "source": [
    "# 풀이 1\n",
    "n,m,k = map(int,input().split())\n",
    "data = list(map(int, input().split()))\n",
    "data.sort()\n",
    "frs_num = data[-1]\n",
    "scd_num = data[-2]\n",
    "\n",
    "answer = 0\n",
    "\n",
    "while True:\n",
    "    for i in range(k):\n",
    "        if m == 0: break\n",
    "        answer += frs_num\n",
    "        m -= 1\n",
    "    if m == 0: break\n",
    "    answer += scd_num\n",
    "    m -= 1\n",
    "print(answer)  \n"
   ]
  },
  {
   "cell_type": "code",
   "execution_count": 2,
   "metadata": {},
   "outputs": [
    {
     "name": "stdout",
     "output_type": "stream",
     "text": [
      "46\n"
     ]
    }
   ],
   "source": [
    "# 풀이 2\n",
    "n,m,k = map(int,input().split())\n",
    "data = list(map(int, input().split()))\n",
    "data.sort()\n",
    "frs_num = data[-1]\n",
    "scd_num = data[-2]\n",
    "\n",
    "cnt = int(m/(k+1)) * k\n",
    "cnt += m % (k+1)\n",
    "\n",
    "answer = 0\n",
    "answer += cnt * frs_num\n",
    "answer += (m-cnt) * scd_num\n",
    "\n",
    "print(answer)"
   ]
  },
  {
   "cell_type": "markdown",
   "metadata": {},
   "source": [
    "## 1-2 숫자 카드 게임\n",
    "### 조건\n",
    "1. 숫자가 쓰인 카드들이 N * M 형태로 놓여 있다. 이때 N은 행의 개수를 의미하며, M은 열의 개수를 의미한다.\n",
    "2. 먼저 뽑고자 하는 카드가 포함되어 있는 행을 선택한다.\n",
    "3. 그다음 선택된 행에 포함된 카드들 중 가장 숫자가 낮은 카드를 뽑아야 한다.\n",
    "4. 따라서 처음에 카드를 골라낼 행을 선택할 때, 이후에 해당 행에서 가장 숫자가 \n",
    "    낮은 카드를 뽑을 것을 고려하여 최종적으로 가장 높은 숫자의 카드를 뽑을 수 있도록 전략을 세워야 한다.\n",
    "\n",
    "5. 첫째 줄에 숫자 카드들이 놓인 행의 개수 N과 열의 개수 M이 공백을 기준으로 하여 각각 자연수로 주어진다.\n",
    "6. 둘째 줄부터 N개의 줄에 거쳐 각 카드에 적힌 숫자가 주어진다."
   ]
  },
  {
   "cell_type": "code",
   "execution_count": 8,
   "metadata": {},
   "outputs": [
    {
     "name": "stdout",
     "output_type": "stream",
     "text": [
      "2\n"
     ]
    }
   ],
   "source": [
    "A, B = map(int, input().split())\n",
    "\n",
    "# 풀이 1\n",
    "answer = 0\n",
    "for i in range(A):\n",
    "    card_lst = list(map(int, input().split()))\n",
    "    min_value = min(card_lst)\n",
    "    answer = max(min_value, answer)\n",
    "\n",
    "print(answer) \n",
    "\n",
    "# 풀이 2\n",
    "answer = 0 \n",
    "for i in range(A):\n",
    "    card_lst = list(map(int, input().split()))\n",
    "    min_value = 10001\n",
    "    for j in card_lst:\n",
    "        min_value = min(min_value, j)\n",
    "\n",
    "    answer = max(min_value, answer)\n",
    "print(answer)"
   ]
  },
  {
   "cell_type": "markdown",
   "metadata": {},
   "source": [
    "## 1-3 1이 될 때까지\n",
    "### 조건\n",
    "1. 첫째 줄에 N과 K가 공백으로 구분되며 각각 자연수로 주어진다. 입력으로 주어지는 N은 항상 K보다 크거나 같다\n",
    "2. 첫째 줄에 N이 1이 될 때까지 1번 혹은 2번의 과정을 수행해야 하는 횟수의 최솟값을 출력한다\n",
    "    - 1번 : N에서 1을 뺀다.\n",
    "    - 2번 : N을 K로 나눈다.\n"
   ]
  },
  {
   "cell_type": "code",
   "execution_count": 16,
   "metadata": {},
   "outputs": [
    {
     "name": "stdout",
     "output_type": "stream",
     "text": [
      "6\n"
     ]
    }
   ],
   "source": [
    "N, K = map(int, input().split())\n",
    "\n",
    "# # 풀이 1\n",
    "cnt = 0\n",
    "while N > 1:\n",
    "    if N % K == 0:\n",
    "        N = N // K\n",
    "        cnt += 1\n",
    "    else:\n",
    "        N -= 1\n",
    "        cnt += 1\n",
    "print(cnt)\n",
    "\n",
    "# 풀이 2\n",
    "# cnt = 0 \n",
    "\n",
    "# while True:\n",
    "#     trg = (N // K) * K\n",
    "#     cnt += N - trg\n",
    "#     N = trg\n",
    "\n",
    "#     if N < K:\n",
    "#         break\n",
    "#     cnt += 1\n",
    "#     N //= K\n",
    "\n",
    "# cnt += (N-1)\n",
    "# print(cnt)\n"
   ]
  },
  {
   "attachments": {},
   "cell_type": "markdown",
   "metadata": {},
   "source": [
    "# 2. 구현\n",
    "\n",
    "- 완전 탐색: 모든 경우의 수를 주저없이 다 계산하는 해결 방법\n",
    "- 시뮬레이션: 문제에서 제시한 알고리즘을 한 단계씩 차례대로 직접 수행\n"
   ]
  },
  {
   "cell_type": "markdown",
   "metadata": {},
   "source": [
    "## 2-1 상하좌우\n",
    "### 입력 조건\n",
    "- 첫째 줄에 공간의 크기를 나타내는 N이 주어진다.\n",
    "- 둘째 줄에 여행가 A가 이동할 계획서 내용이 주어진다.\n",
    "\n",
    "### 출력 조건\n",
    "- 첫째 줄에 여행가 A가 최종적으로 도착할 지점의 좌표(X,Y)를 공백으로 구분하여 출력한다."
   ]
  },
  {
   "cell_type": "code",
   "execution_count": 10,
   "metadata": {},
   "outputs": [
    {
     "name": "stdout",
     "output_type": "stream",
     "text": [
      "3 4\n"
     ]
    }
   ],
   "source": [
    "# 풀이 1\n",
    "N = int(input())\n",
    "move_lst = input().split()\n",
    "x, y = 1, 1\n",
    "\n",
    "for i in range(len(move_lst)):\n",
    "    if move_lst[i] == 'L':\n",
    "        if y == 1:\n",
    "            continue\n",
    "        else:\n",
    "            y -= 1\n",
    "    elif move_lst[i] == 'R':\n",
    "        if y == N:\n",
    "            continue\n",
    "        else:\n",
    "            y += 1\n",
    "    elif move_lst[i] == 'U':\n",
    "        if x == 1:\n",
    "            continue\n",
    "        else:\n",
    "            x -= 1\n",
    "    else:\n",
    "        if x == N:\n",
    "            continue\n",
    "        else:\n",
    "            x += 1\n",
    "\n",
    "print(x, y)"
   ]
  },
  {
   "cell_type": "code",
   "execution_count": 8,
   "metadata": {},
   "outputs": [
    {
     "name": "stdout",
     "output_type": "stream",
     "text": [
      "3 4\n"
     ]
    }
   ],
   "source": [
    "# 풀이 2\n",
    "n = int(input())\n",
    "x, y = 1, 1\n",
    "plans = input().split()\n",
    "\n",
    "# L, R, U, D에 따른 이동 방향\n",
    "dx = [0, 0, -1, 1]\n",
    "dy = [-1, 1, 0, 0]\n",
    "move_types = ['L', 'R', 'U', 'D']\n",
    "\n",
    "# 이동 계획을 하나씩 확인\n",
    "for plan in plans:\n",
    "    # 이동 후 좌표 구하기\n",
    "    for i in range(len(move_types)):\n",
    "        if plan == move_types[i]:\n",
    "            nx = x + dx[i]\n",
    "            ny = y + dy[i]\n",
    "        # 공간을 벗어나는 경우 무시\n",
    "    if nx < 1 or ny <1 or nx > n or ny > n:\n",
    "        continue\n",
    "    x, y = nx, ny\n",
    "\n",
    "print(x, y)"
   ]
  },
  {
   "attachments": {},
   "cell_type": "markdown",
   "metadata": {},
   "source": [
    "## 2-2 시각\n",
    "\n",
    "- 입력조건: 첫째 줄에 정수 N이 입력된다.\n",
    "- 출력조건: 00시 00분 00초부터 N시 59분 59초까지 모든 시각 중에서 3이 하나라도 포함되는 모든 경우의 수를 출력한다."
   ]
  },
  {
   "cell_type": "code",
   "execution_count": 6,
   "metadata": {},
   "outputs": [
    {
     "data": {
      "text/plain": [
       "591525"
      ]
     },
     "execution_count": 6,
     "metadata": {},
     "output_type": "execute_result"
    }
   ],
   "source": [
    "N = 300 # int(input())\n",
    "\n",
    "cnt = 0\n",
    "for i in range(N+1):\n",
    "    for j in range(60):\n",
    "        # n_time = ''\n",
    "        for k in range(60):\n",
    "            # n_time = str(i) + str(j) + str(k)\n",
    "            if '3' in str(i) + str(j) + str(k):\n",
    "                cnt += 1\n",
    "\n",
    "cnt\n"
   ]
  },
  {
   "cell_type": "markdown",
   "metadata": {},
   "source": [
    "## 2-3 왕실의 나이트\n",
    "\n",
    "### 문제 설명\n",
    "- 행복 왕국의 왕실 정원은 체스판과 같은 8 * 8 좌표 평면이다.\n",
    "- 왕실 정원의 특정한 한 칸에 나이트가 서 있다.\n",
    "- 나이트는 말을 타고 있기 떄문에 이동할 때는 L자 형태로만 이동할 수 있다.\n",
    "- 정원밖으로 나갈 수 없다.\n",
    "- 나이트는 특정한 위치에서 2가지 경우로 이동할 수 있다.\n",
    "    - 수평으로 두 칸 이동한 뒤에 수직으로 한 칸 이동하기\n",
    "    - 수직으로 두 칸 이동한 뒤에 수평으로 한 칸 이동하기\n",
    "\n",
    "- 나이트의 위치가 주어졌을 때 나이트가 이동할 수 있는 경우의 수를 출력하는 프로그램을 작성하시오.\n",
    "- 행 위치를 표현할 때는 1부터 8까지 표현하며, 열 위치를 표현할 때는 a부터 h로 표현한다.\n",
    "\n",
    "- 입력 조건\n",
    "    - 첫째 줄에 8 * 8 좌표 평면상에서 현재 나이트가 위치한 곳의 좌표를 놔타내는 두 문자로\n",
    "    - 구성된 열이 입력된다. 입력 문자는 a1처럼 열과 행으로 이뤄진다.\n",
    "\n",
    "- 출력 조건\n",
    "    - 첫째 줄에 나이트가 이동할 수 있는 경우의 수를 출력하시오."
   ]
  },
  {
   "cell_type": "code",
   "execution_count": 28,
   "metadata": {},
   "outputs": [
    {
     "name": "stdout",
     "output_type": "stream",
     "text": [
      "6\n"
     ]
    }
   ],
   "source": [
    "posi_knight = input()\n",
    "row = int(posi_knight[1])\n",
    "column = posi_knight[0]\n",
    "# column의 문자를 숫자로 변환\n",
    "column = ord(column) - ord('a') + 1\n",
    "\n",
    "# knight가 이동할 수 있는 경우의 수\n",
    "moves = [(-2,-1), (-2,1), (2,-1), (2,1), (1,-2), (1,2), (-1,2), (-1,-2)]\n",
    "\n",
    "cnt = 0 \n",
    "for move in moves:\n",
    "    move_row = row + move[0]\n",
    "    move_column = column + move[1]\n",
    "\n",
    "    if (1 <= move_row <= 8) and (1 <= move_column <= 8):\n",
    "        cnt += 1\n",
    "\n",
    "print(cnt) "
   ]
  },
  {
   "attachments": {},
   "cell_type": "markdown",
   "metadata": {},
   "source": [
    "## 2-4 게임 개발\n",
    "### 문제설명\n",
    "- 게임 캐릭터가 맵 안에서 움직이는 시스템을 개발 중이다.\n",
    "- 캐릭터가 있는 장소는 1 * 1 크기의 정사각형으로 이뤄진 N * M 직사각형으로, 각각의 칸은 육지 또는 바다이다.\n",
    "- 맵의 각 칸은 (A, B)로 나타낼 수 있고,\n",
    "- A는 북쪽으로부터 떨어진 칸의 개수\n",
    "- B는 서쪽으로부터 떨어진 칸의 개수\n",
    "- 캐릭터는 상하좌우로 움직일 수 있고, 바다로 되어 있는 공간에는 갈 수 없다.\n",
    "\n",
    "### 문제 규칙\n",
    "- 현재 위치에서 현재 방향을 기준으로 왼쪽방향(반시계방향으로 90도 회전)부터 차례대로 갈 곳을 정한다.\n",
    "- 캐릭터의 바로 왼쪽 방향에 아직 가보지 않은 칸이 존재한다면, 왼쪽 방향으로 회전한 다음 왼쪽으로 한 칸을 전진한다.\n",
    "- 왼쪽 방향에 가보지 않은 칸이 없다면, 왼쪽 방향으로 회전만 수행하고 1단계로 돌아간다.\n",
    "- 만약 네 방향 모두 이미 가본 칸이거나 바다로 되어 있는 칸인 경우에는, 바라보는 방향을 유지한 채로\n",
    "- 한 칸 뒤로 간 후 1단계로 돌아간다.\n",
    "- 단 이때 뒤쪽 방향이 바다인 칸이라 뒤로 갈 수 없는 경우에는 움직임을 멈춘다.\n",
    "\n",
    "- 입력조건\n",
    "    - 첫째 줄에 맵의 세로 크기 N과 가로 크기 M을 공백으로 구분하여 입력한다.\n",
    "    - 둘째 줄에 게임 개릭터가 있는 칸의 좌표(A, B)와 바라보는 방향 d가 각각 서로 공백으로 구분하여 주어진다.\n",
    "    - 방향 d의 값으로는 다음과 같이 4가지가 존재한다.\n",
    "        - 0 : 북쪽\n",
    "        - 1 : 동쪽\n",
    "        - 2 : 남쪽\n",
    "        - 3 : 서쪽\n",
    "    - 셋째 줄부터 맵이 육지인지 바다인지에 대한 정보가 주어진다.\n",
    "    - N개의 줄에 맵의 상태가 북쪽부터 남쪽 순서대로 각 줄의 데이터는 서쪽부터 동쪽 순서대로 주어진다.\n",
    "    - 맵의 외곽은 항상 바다로 되어 있다.\n",
    "        - 0: 육지\n",
    "        - 1: 바다\n",
    "    - 처음에 게임 캐릭터가 위치한 칸의 상태는 항상 육지이다.\n",
    "- 출력조건\n",
    "    - 첫째 줄에 이동을 마친 후 캐릭터가 방문한 칸의 수를 출력한다."
   ]
  },
  {
   "cell_type": "code",
   "execution_count": 12,
   "metadata": {},
   "outputs": [],
   "source": [
    "N, M = map(int, input().split())\n",
    "x, y, direct = map(int, input().split())\n",
    "arr = [list(map(int,input().split())) for _ in range(N)] # 전체 맵 정보(육지, 바다)\n"
   ]
  },
  {
   "cell_type": "code",
   "execution_count": 13,
   "metadata": {},
   "outputs": [
    {
     "name": "stdout",
     "output_type": "stream",
     "text": [
      "1\n"
     ]
    }
   ],
   "source": [
    "d = [[0] * M for _ in range(N)] # N * M 직사각형 리스트 생성(스도쿠처럼)\n",
    "d[x][y] = 1 # 입력좌표\n",
    "\n",
    "# 북동남서 이동\n",
    "dx = [-1, 0, 1, 0]\n",
    "dy = [0, 1, 0, -1]\n",
    "\n",
    "# 왼쪽으로 회전\n",
    "def turn_left():\n",
    "    global direct\n",
    "    direct -= 1\n",
    "    if direct == -1:\n",
    "        direct = 3\n",
    "\n",
    "# 시뮬레이션\n",
    "count = 1 # 최초 좌표 방문\n",
    "turn_time = 0 # 동서남북 회전 시 갈 곳 없을 때 뒤로 이동하기 위해\n",
    "\n",
    "while True:\n",
    "    turn_left()\n",
    "    nx = x + dx[direct]\n",
    "    ny = y + dy[direct]\n",
    "    \n",
    "    # 회전한 이후 정면에 가보지 않은 곳이 있을 때 이동\n",
    "    if d[nx][ny] == 0 and arr[nx][ny] == 0:\n",
    "        d[nx][ny] = 1\n",
    "        x = nx\n",
    "        y = ny\n",
    "        count += 1\n",
    "        turn_time = 0\n",
    "        continue\n",
    "    else:\n",
    "        turn_time += 1\n",
    "    \n",
    "    if turn_time == 4:\n",
    "        nx = x - dx[direct]\n",
    "        ny = y - dy[direct]\n",
    "\n",
    "        if arr[nx][ny] == 0:\n",
    "            x = nx\n",
    "            y = ny\n",
    "        else:\n",
    "            break\n",
    "\n",
    "        turn_time = 0\n",
    "\n",
    "print(count)\n"
   ]
  },
  {
   "cell_type": "markdown",
   "metadata": {},
   "source": [
    "# 3. 정렬"
   ]
  },
  {
   "attachments": {},
   "cell_type": "markdown",
   "metadata": {},
   "source": [
    "## 선택정렬(Selection Sort)\n",
    "\n",
    "- 데이터 중에서 가장 작은 데이터를 선택해 맨 앞에 있는 데이터와 바꾸고, 그다음 작은 데이터를 선택해 앞에서 두 번째 데이터와 바꾸는 과정을 반복"
   ]
  },
  {
   "cell_type": "code",
   "execution_count": 4,
   "metadata": {},
   "outputs": [
    {
     "name": "stdout",
     "output_type": "stream",
     "text": [
      "[0, 1, 2, 3, 4, 5, 6, 7, 8, 9]\n"
     ]
    }
   ],
   "source": [
    "# 예제 1\n",
    "arr = [7, 5, 9, 0, 3, 1, 6, 2, 4, 8]\n",
    "\n",
    "for i in range(len(arr)):\n",
    "    min_idx = i\n",
    "    for j in range(i+1, len(arr)):\n",
    "        if arr[min_idx] > arr[j]:\n",
    "            min_idx = j\n",
    "    arr[i], arr[min_idx] = arr[min_idx], arr[i]\n",
    "\n",
    "print(arr)"
   ]
  },
  {
   "cell_type": "markdown",
   "metadata": {},
   "source": [
    "## 삽입 정렬(Insertion Sort)\n",
    "- 데이터를 하나씩 확인하며, 각 데이터를 적절한 위치에 삽입하는 정렬\n",
    "- 특정한 데이터를 적절한 위치에 '삽입'한다."
   ]
  },
  {
   "cell_type": "code",
   "execution_count": 6,
   "metadata": {},
   "outputs": [
    {
     "data": {
      "text/plain": [
       "[0, 1, 2, 3, 4, 5, 6, 7, 8, 9]"
      ]
     },
     "execution_count": 6,
     "metadata": {},
     "output_type": "execute_result"
    }
   ],
   "source": [
    "# 예제 1\n",
    "arr = [7, 5, 9, 0, 3, 1, 6, 2, 4, 8]\n",
    "\n",
    "for i in range(1, len(arr)):\n",
    "    for j in range(i, 0, -1):\n",
    "        if arr[j] < arr[j-1]:\n",
    "            arr[j], arr[j-1] = arr[j-1], arr[j]\n",
    "        else:\n",
    "            break\n",
    "arr"
   ]
  },
  {
   "cell_type": "markdown",
   "metadata": {},
   "source": [
    "## 퀵 정렬()\n",
    "- 기준 데이터를 설정하고 그 기준보다 큰 데이터와 작은 데이터의 위치를 바꾼다.\n",
    "- 피벗(Pivot) 사용\n",
    "- 리스트에서 첫 번째 데이터를 피벗으로 정함.\n"
   ]
  },
  {
   "cell_type": "code",
   "execution_count": 13,
   "metadata": {},
   "outputs": [
    {
     "name": "stdout",
     "output_type": "stream",
     "text": [
      "----- [5, 4, 9, 0, 3, 1, 6, 2, 7, 8]\n",
      "----- [5, 4, 2, 0, 3, 1, 6, 9, 7, 8]\n",
      "[1, 4, 2, 0, 3, 5, 6, 9, 7, 8]\n",
      "----- [1, 0, 2, 4, 3, 5, 6, 9, 7, 8]\n",
      "[0, 1, 2, 4, 3, 5, 6, 9, 7, 8]\n",
      "[0, 1, 2, 4, 3, 5, 6, 9, 7, 8]\n",
      "[0, 1, 2, 3, 4, 5, 6, 9, 7, 8]\n",
      "[0, 1, 2, 3, 4, 5, 6, 9, 7, 8]\n",
      "[0, 1, 2, 3, 4, 5, 6, 8, 7, 9]\n",
      "[0, 1, 2, 3, 4, 5, 6, 7, 8, 9]\n",
      "[0, 1, 2, 3, 4, 5, 6, 7, 8, 9]\n"
     ]
    }
   ],
   "source": [
    "# 예제 1\n",
    "arr = [5, 7, 9, 0, 3, 1, 6, 2, 4, 8]\n",
    "\n",
    "def quick_sort(arr, start, end):\n",
    "    if start >= end: # 원소가 1개인 경우 종료\n",
    "        return\n",
    "\n",
    "    pivot = start\n",
    "    left = start + 1\n",
    "    right = end\n",
    "    while left <= right:\n",
    "        while left <= end and arr[left] <= arr[pivot]:\n",
    "            left += 1\n",
    "        while right > start and arr[right] >= arr[pivot]:\n",
    "            right -= 1\n",
    "        if left > right:\n",
    "            arr[right], arr[pivot] = arr[pivot], arr[right]\n",
    "\n",
    "        else:\n",
    "            arr[left], arr[right] = arr[right], arr[left]\n",
    "            print('-----', arr)\n",
    "    print(arr)\n",
    "    quick_sort(arr, start, right - 1)\n",
    "    quick_sort(arr, right + 1, end)\n",
    "\n",
    "quick_sort(arr, 0, len(arr) - 1)\n",
    "print(arr)"
   ]
  },
  {
   "cell_type": "code",
   "execution_count": null,
   "metadata": {},
   "outputs": [],
   "source": []
  },
  {
   "cell_type": "code",
   "execution_count": null,
   "metadata": {},
   "outputs": [],
   "source": []
  },
  {
   "cell_type": "code",
   "execution_count": null,
   "metadata": {},
   "outputs": [],
   "source": []
  },
  {
   "cell_type": "code",
   "execution_count": null,
   "metadata": {},
   "outputs": [],
   "source": []
  },
  {
   "cell_type": "code",
   "execution_count": null,
   "metadata": {},
   "outputs": [],
   "source": []
  }
 ],
 "metadata": {
  "kernelspec": {
   "display_name": "Python 3",
   "language": "python",
   "name": "python3"
  },
  "language_info": {
   "codemirror_mode": {
    "name": "ipython",
    "version": 3
   },
   "file_extension": ".py",
   "mimetype": "text/x-python",
   "name": "python",
   "nbconvert_exporter": "python",
   "pygments_lexer": "ipython3",
   "version": "3.9.12"
  },
  "orig_nbformat": 4,
  "vscode": {
   "interpreter": {
    "hash": "c4b9ebf4ca459396e2ad1150752490c26670c1a037c08cad955a4425787bec2e"
   }
  }
 },
 "nbformat": 4,
 "nbformat_minor": 2
}
