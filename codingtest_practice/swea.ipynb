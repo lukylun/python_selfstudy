{
 "cells": [
  {
   "cell_type": "markdown",
   "metadata": {},
   "source": [
    "# 1974. 스도쿠 검증"
   ]
  },
  {
   "cell_type": "code",
   "execution_count": null,
   "metadata": {},
   "outputs": [],
   "source": [
    "N = int(input())\n",
    "for t in range(0, N):\n",
    "    n = [list(map(int, input().split())) for _ in range(9)]\n",
    "    print(n)\n",
    "    result = 1\n",
    "    for i in range(9):\n",
    "        rows = [0] * 10\n",
    "        columns = [0] * 10\n",
    "        for j in range(9):\n",
    "            rows[n[i][j]] += 1\n",
    "            columns[n[j][i]] += 1\n",
    "\n",
    "        for k in range(1, 10):\n",
    "            if rows[k] != 1:\n",
    "                result = 0\n",
    "                break\n",
    "            if columns[k] != 1:\n",
    "                result = 0\n",
    "                break\n",
    "    for l in range(3):\n",
    "        for m in range(3):\n",
    "            triple = [0] * 10\n",
    "            for o in range(3):\n",
    "                for p in range(3):\n",
    "                    triple[n[3*l+o][3*m+p]] += 1\n",
    "\n",
    "            for q in range(1, 10):\n",
    "                if triple[q] != 1:\n",
    "                    result = 0\n",
    "                    break\n",
    "\n",
    "    print(\"#{} {}\".format(t+1, result))"
   ]
  },
  {
   "cell_type": "code",
   "execution_count": null,
   "metadata": {},
   "outputs": [],
   "source": []
  }
 ],
 "metadata": {
  "language_info": {
   "name": "python"
  },
  "orig_nbformat": 4
 },
 "nbformat": 4,
 "nbformat_minor": 2
}
