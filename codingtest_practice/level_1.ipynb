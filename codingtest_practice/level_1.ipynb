{
 "cells": [
  {
   "cell_type": "markdown",
   "metadata": {},
   "source": [
    "# 최대공약수와 최소공배수\n",
    "### 문제 설명\n",
    "- 두 수를 입력받아 두 수의 최대공약수와 최소공배수를 반환하는 함수, solution을 완성해 보세요.\n",
    "- 배열의 맨 앞에 최대공약수, 그다음 최소공배수를 넣어 반환하면 됩니다.\n",
    "- 예를 들어 두 수 3, 12의 최대공약수는 3, 최소공배수는 12이므로 solution(3, 12)는 [3, 12]를 반환해야 합니다."
   ]
  },
  {
   "cell_type": "code",
   "execution_count": null,
   "metadata": {},
   "outputs": [],
   "source": [
    "def solution(n, m):\n",
    "    x,y = n, m\n",
    "    if m > n :\n",
    "        n,m = m,n\n",
    "    while n % m :\n",
    "        r = n % m\n",
    "        n = m\n",
    "        m = r\n",
    "    return [m, x*y/m]\n",
    "\n",
    "    \n"
   ]
  },
  {
   "cell_type": "code",
   "execution_count": 73,
   "metadata": {},
   "outputs": [],
   "source": [
    "def solution(n, m):\n",
    "    list_m =[]\n",
    "    list_n =[]\n",
    "    for i in range(1, n+1):\n",
    "        if n % i ==0:\n",
    "            list_n.append(i)\n",
    "\n",
    "    for i in range(1, m+1):\n",
    "        if m % i == 0:\n",
    "            list_m.append(i)\n",
    "\n",
    "    x = 1\n",
    "    for a in list_m:\n",
    "        if a in list_n:\n",
    "            if a > x :\n",
    "                x = a\n",
    "\n",
    "    return [x, m*n/x]\n"
   ]
  },
  {
   "cell_type": "markdown",
   "metadata": {},
   "source": [
    "# 숫자 문자열과 영단어\n",
    "### 문제 설명\n",
    "\n",
    "\n",
    "- 네오와 프로도가 숫자놀이를 하고 있습니다.\n",
    "- 네오가 프로도에게 숫자를 건넬 때 일부 자릿수를 영단어로 바꾼 카드를 건네주면 프로도는 원래 숫자를 찾는 게임입니다.\n",
    "\n",
    "- 다음은 숫자의 일부 자릿수를 영단어로 바꾸는 예시입니다.\n",
    "\n",
    "- 1478 → \"one4seveneight\"\n",
    "- 234567 → \"23four5six7\"\n",
    "- 10203 → \"1zerotwozero3\"\n",
    "- 이렇게 숫자의 일부 자릿수가 영단어로 바뀌어졌거나, 혹은 바뀌지 않고 그대로인 문자열 s가 매개변수로 주어집니다. s가 의미하는 원래 숫자를 return 하도록 solution 함수를 완성해주세요.\n",
    "\n",
    "- 참고로 각 숫자에 대응되는 영단어는 다음 표와 같습니다.\n",
    "\n",
    "- 숫자\t영단어\n",
    "- 0\tzero\n",
    "- 1\tone\n",
    "- 2\ttwo\n",
    "- 3\tthree\n",
    "- 4\tfour\n",
    "- 5\tfive\n",
    "- 6\tsix\n",
    "- 7\tseven\n",
    "- 8\teight\n",
    "- 9\tnine"
   ]
  },
  {
   "cell_type": "code",
   "execution_count": 8,
   "metadata": {},
   "outputs": [],
   "source": [
    "def solution(s):\n",
    "    num_dicts = {'zero':0, 'one':1, 'two':2, 'three':3, 'four':4, 'five':5, 'six':6, 'seven':7, 'eight':8, 'nine':9}\n",
    "\n",
    "    \n",
    "    for num_dict in num_dicts:\n",
    "        if num_dict in s:\n",
    "            s = s.replace(num_dict, str(num_dicts[num_dict]))\n",
    "    \n",
    "    return int(s)\n",
    "            "
   ]
  }
 ],
 "metadata": {
  "kernelspec": {
   "display_name": "Python 3.10.4 ('study')",
   "language": "python",
   "name": "python3"
  },
  "language_info": {
   "codemirror_mode": {
    "name": "ipython",
    "version": 3
   },
   "file_extension": ".py",
   "mimetype": "text/x-python",
   "name": "python",
   "nbconvert_exporter": "python",
   "pygments_lexer": "ipython3",
   "version": "3.10.4"
  },
  "orig_nbformat": 4,
  "vscode": {
   "interpreter": {
    "hash": "0366d95cfe3e294a9405a60bcbbb3d4cd1344975bbb420614b4c3178f22fa862"
   }
  }
 },
 "nbformat": 4,
 "nbformat_minor": 2
}
