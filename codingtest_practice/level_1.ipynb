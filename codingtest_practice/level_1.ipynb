{
 "cells": [
  {
   "cell_type": "markdown",
   "metadata": {},
   "source": [
    "# 최대공약수와 최소공배수\n",
    "### 문제 설명\n",
    "- 두 수를 입력받아 두 수의 최대공약수와 최소공배수를 반환하는 함수, solution을 완성해 보세요.\n",
    "- 배열의 맨 앞에 최대공약수, 그다음 최소공배수를 넣어 반환하면 됩니다.\n",
    "- 예를 들어 두 수 3, 12의 최대공약수는 3, 최소공배수는 12이므로 solution(3, 12)는 [3, 12]를 반환해야 합니다."
   ]
  },
  {
   "cell_type": "code",
   "execution_count": null,
   "metadata": {},
   "outputs": [],
   "source": [
    "def solution(n, m):\n",
    "    x,y = n, m\n",
    "    if m > n :\n",
    "        n,m = m,n\n",
    "    while n % m :\n",
    "        r = n % m\n",
    "        n = m\n",
    "        m = r\n",
    "    return [m, x*y/m]\n",
    "\n",
    "    \n"
   ]
  },
  {
   "cell_type": "code",
   "execution_count": 73,
   "metadata": {},
   "outputs": [],
   "source": [
    "def solution(n, m):\n",
    "    list_m =[]\n",
    "    list_n =[]\n",
    "    for i in range(1, n+1):\n",
    "        if n % i ==0:\n",
    "            list_n.append(i)\n",
    "\n",
    "    for i in range(1, m+1):\n",
    "        if m % i == 0:\n",
    "            list_m.append(i)\n",
    "\n",
    "    x = 1\n",
    "    for a in list_m:\n",
    "        if a in list_n:\n",
    "            if a > x :\n",
    "                x = a\n",
    "\n",
    "    return [x, m*n/x]\n"
   ]
  },
  {
   "cell_type": "markdown",
   "metadata": {},
   "source": [
    "# 숫자 문자열과 영단어\n",
    "### 문제 설명\n",
    "\n",
    "\n",
    "- 네오와 프로도가 숫자놀이를 하고 있습니다.\n",
    "- 네오가 프로도에게 숫자를 건넬 때 일부 자릿수를 영단어로 바꾼 카드를 건네주면 프로도는 원래 숫자를 찾는 게임입니다.\n",
    "\n",
    "- 다음은 숫자의 일부 자릿수를 영단어로 바꾸는 예시입니다.\n",
    "\n",
    "- 1478 → \"one4seveneight\"\n",
    "- 234567 → \"23four5six7\"\n",
    "- 10203 → \"1zerotwozero3\"\n",
    "- 이렇게 숫자의 일부 자릿수가 영단어로 바뀌어졌거나, 혹은 바뀌지 않고 그대로인 문자열 s가 매개변수로 주어집니다. s가 의미하는 원래 숫자를 return 하도록 solution 함수를 완성해주세요.\n",
    "\n",
    "- 참고로 각 숫자에 대응되는 영단어는 다음 표와 같습니다.\n",
    "\n",
    "- 숫자\t영단어\n",
    "- 0\tzero\n",
    "- 1\tone\n",
    "- 2\ttwo\n",
    "- 3\tthree\n",
    "- 4\tfour\n",
    "- 5\tfive\n",
    "- 6\tsix\n",
    "- 7\tseven\n",
    "- 8\teight\n",
    "- 9\tnine"
   ]
  },
  {
   "cell_type": "code",
   "execution_count": 8,
   "metadata": {},
   "outputs": [],
   "source": [
    "def solution(s):\n",
    "    num_dicts = {'zero':0, 'one':1, 'two':2, 'three':3, 'four':4, 'five':5, 'six':6, 'seven':7, 'eight':8, 'nine':9}\n",
    "\n",
    "    \n",
    "    for num_dict in num_dicts:\n",
    "        if num_dict in s:\n",
    "            s = s.replace(num_dict, str(num_dicts[num_dict]))\n",
    "    \n",
    "    return int(s)\n",
    "            "
   ]
  },
  {
   "cell_type": "markdown",
   "metadata": {},
   "source": [
    "# 두 정수 사이의 합\n",
    "### 문제 설명\n",
    "- 두 정수 a, b가 주어졌을 때 a와 b 사이에 속한 모든 정수의 합을 리턴하는 함수, solution을 완성하세요.\n",
    "    - 예를 들어 a = 3, b = 5인 경우, 3 + 4 + 5 = 12이므로 12를 리턴합니다."
   ]
  },
  {
   "cell_type": "code",
   "execution_count": 1,
   "metadata": {},
   "outputs": [],
   "source": [
    "def solution(a, b):\n",
    "    total = 0\n",
    "    if a > b:\n",
    "        a,b = b, a\n",
    "    for i in range(a, b+1):\n",
    "        total += i\n",
    "\n",
    "    return total"
   ]
  },
  {
   "cell_type": "markdown",
   "metadata": {},
   "source": [
    "# 같은 숫자는 싫어\n",
    "### 문제 설명\n",
    "- 배열 arr가 주어집니다. \n",
    "- 배열 arr의 각 원소는 숫자 0부터 9까지로 이루어져 있습니다.\n",
    "- 이때, 배열 arr에서 연속적으로 나타나는 숫자는 하나만 남기고 전부 제거하려고 합니다.\n",
    "- 단, 제거된 후 남은 수들을 반환할 때는 배열 arr의 원소들의 순서를 유지해야 합니다. \n",
    "- 예를 들면,\n",
    "\n",
    "    - arr = [1, 1, 3, 3, 0, 1, 1] 이면 [1, 3, 0, 1] 을 return 합니다.\n",
    "    - arr = [4, 4, 4, 3, 3] 이면 [4, 3] 을 return 합니다.\n",
    "    - 배열 arr에서 연속적으로 나타나는 숫자는 제거하고 남은 수들을 return 하는 solution 함수를 완성해 주세요."
   ]
  },
  {
   "cell_type": "code",
   "execution_count": 68,
   "metadata": {},
   "outputs": [],
   "source": [
    "def solution(arr):\n",
    "    answer = []\n",
    "\n",
    "    number = -1\n",
    "    for a in arr:\n",
    "        if number != a:\n",
    "            number = a\n",
    "            answer.append(number)\n",
    "            \n",
    "    return answer\n"
   ]
  },
  {
   "cell_type": "markdown",
   "metadata": {},
   "source": [
    "# 약수의 개수와 덧셈\n",
    "### 문제 설명\n",
    "- 두 정수 left와 right가 매개변수로 주어집니다. \n",
    "- left부터 right까지의 모든 수들 중에서, 약수의 개수가 짝수인 수는 더하고, \n",
    "- 약수의 개수가 홀수인 수는 뺀 수를 return 하도록 solution 함수를 완성해주세요."
   ]
  },
  {
   "cell_type": "code",
   "execution_count": 23,
   "metadata": {},
   "outputs": [],
   "source": [
    "def solution(left, right):\n",
    "    answer = 0\n",
    "    num_list = []\n",
    "    for a in range(1, 32): # 32* 32 = 1024, right<=1000 조건\n",
    "        num = a ** 2\n",
    "        num_list.append(num)\n",
    "        \n",
    "    for num in range(left, right+1):\n",
    "        if num in num_list:\n",
    "            answer -= num\n",
    "        else:\n",
    "            answer += num\n",
    "            \n",
    "    return answer"
   ]
  },
  {
   "cell_type": "markdown",
   "metadata": {},
   "source": [
    "# 수박수박수박수박수박수?\n",
    "### 문제 설명\n",
    "- 길이가 n이고, \"수박수박수박수....\"와 같은 패턴을 유지하는 문자열을 리턴하는 함수, solution을 완성하세요.\n",
    "- 예를들어 n이 4이면 \"수박수박\"을 리턴하고 3이라면 \"수박수\"를 리턴하면 됩니다."
   ]
  },
  {
   "cell_type": "code",
   "execution_count": 28,
   "metadata": {},
   "outputs": [
    {
     "data": {
      "text/plain": [
       "'수박수박수박수박수'"
      ]
     },
     "execution_count": 28,
     "metadata": {},
     "output_type": "execute_result"
    }
   ],
   "source": [
    "# '수', '박'\n",
    "n=9\n",
    "watermelon =[]\n",
    "for a in range(1, n+1):\n",
    "    if a % 2 == 1:\n",
    "        watermelon.append('수')\n",
    "\n",
    "    else:\n",
    "        watermelon.append('박')\n",
    "\n",
    "clap = \"\".join(watermelon)\n",
    "clap"
   ]
  },
  {
   "cell_type": "code",
   "execution_count": null,
   "metadata": {},
   "outputs": [],
   "source": [
    "# 이상한 문자 만들기\n",
    "### 문제 설명\n",
    "- 문자열 s는 한 개 이상의 단어로 구성되어 있습니다.\n",
    "- 각 단어는 하나 이상의 공백문자로 구분되어 있습니다.\n",
    "- 각 단어의 짝수번째 알파벳은 대문자로, 홀수번째 알파벳은 소문자로 바꾼 문자열을 리턴하는 함수, solution을 완성하세요."
   ]
  },
  {
   "cell_type": "code",
   "execution_count": 114,
   "metadata": {},
   "outputs": [],
   "source": [
    "def solution(s):\n",
    "    answer=''\n",
    "    for a in s.split(' '): # s.split(), s.split(' ') 다름\n",
    "        # print(a)\n",
    "        # print(a[0])\n",
    "\n",
    "        for key in range(len(a)):\n",
    "            if key % 2 == 0:\n",
    "\n",
    "                # print(a[key])\n",
    "                answer += a[key].upper()\n",
    "\n",
    "            else:\n",
    "                answer += a[key].lower()\n",
    "        answer += ' '\n",
    "\n",
    "    return answer[0:-1]\n",
    "\n"
   ]
  },
  {
   "cell_type": "markdown",
   "metadata": {},
   "source": [
    "# 행렬의 덧셈\n",
    "### 문제 설명\n",
    "- 행렬의 덧셈은 행과 열의 크기가 같은 두 행렬의 같은 행, 같은 열의 값을 서로 더한 결과가 됩니다. \n",
    "- 2개의 행렬 arr1과 arr2를 입력받아, 행렬 덧셈의 결과를 반환하는 함수, solution을 완성해주세요."
   ]
  },
  {
   "cell_type": "code",
   "execution_count": 171,
   "metadata": {},
   "outputs": [],
   "source": [
    "def solution(arr1, arr2):\n",
    "    for i in range(len(arr1)):\n",
    "        for j in range(len(arr1[0])):\n",
    "            arr1[i][j] = arr1[i][j]+arr2[i][j]  \n",
    "\n",
    "\n",
    "    return arr1\n"
   ]
  },
  {
   "cell_type": "markdown",
   "metadata": {},
   "source": [
    "# 예산\n",
    "### 문제 설명\n",
    "- S사에서는 각 부서에 필요한 물품을 지원해 주기 위해 부서별로 물품을 구매하는데 필요한 금액을 조사했습니다.\n",
    "- 그러나, 전체 예산이 정해져 있기 때문에 모든 부서의 물품을 구매해 줄 수는 없습니다.\n",
    "- 그래서 최대한 많은 부서의 물품을 구매해 줄 수 있도록 하려고 합니다.\n",
    "\n",
    "- 물품을 구매해 줄 때는 각 부서가 신청한 금액만큼을 모두 지원해 줘야 합니다.\n",
    "- 예를 들어 1,000원을 신청한 부서에는 정확히 1,000원을 지원해야 하며, 1,000원보다 적은 금액을 지원해 줄 수는 없습니다.\n",
    "\n",
    "- 부서별로 신청한 금액이 들어있는 배열 d와 예산 budget이 매개변수로 주어질 때, 최대 몇 개의 부서에 물품을 지원할 수 있는지 return 하도록 solution 함수를 완성해주세요."
   ]
  },
  {
   "cell_type": "code",
   "execution_count": 52,
   "metadata": {},
   "outputs": [],
   "source": [
    "def solution(d, budget):\n",
    "    total = 0\n",
    "    count = 0\n",
    "    d.sort()\n",
    "    \n",
    "    for department in d:\n",
    "        total += department\n",
    "        \n",
    "        if total <= budget:\n",
    "            count += 1\n",
    "\n",
    "    return count"
   ]
  },
  {
   "cell_type": "markdown",
   "metadata": {},
   "source": [
    "# 시저 암호\n",
    "### 문제 설명\n",
    "- 어떤 문장의 각 알파벳을 일정한 거리만큼 밀어서 다른 알파벳으로 바꾸는 암호화 방식을 시저 암호라고 합니다.\n",
    "- 예를 들어 \"AB\"는 1만큼 밀면 \"BC\"가 되고, 3만큼 밀면 \"DE\"가 됩니다.\n",
    "- \"z\"는 1만큼 밀면 \"a\"가 됩니다.\n",
    "- 문자열 s와 거리 n을 입력받아 s를 n만큼 민 암호문을 만드는 함수, solution을 완성해 보세요."
   ]
  },
  {
   "cell_type": "code",
   "execution_count": 17,
   "metadata": {},
   "outputs": [
    {
     "data": {
      "text/plain": [
       "'Y'"
      ]
     },
     "execution_count": 17,
     "metadata": {},
     "output_type": "execute_result"
    }
   ],
   "source": [
    "ord('A')\n",
    "ord('Z')\n",
    "chr(95)\n",
    "\n",
    "ord('z') + 24 -25\n",
    "chr(89)"
   ]
  },
  {
   "cell_type": "code",
   "execution_count": 2,
   "metadata": {},
   "outputs": [
    {
     "data": {
      "text/plain": [
       "90"
      ]
     },
     "execution_count": 2,
     "metadata": {},
     "output_type": "execute_result"
    }
   ],
   "source": [
    "ord('Z')"
   ]
  },
  {
   "cell_type": "code",
   "execution_count": 8,
   "metadata": {},
   "outputs": [],
   "source": [
    "def solution(s, n):\n",
    "    answer = ''\n",
    "    for a in range(len(s)):\n",
    "        if ord(s[a]) == 32:\n",
    "            letter = ' '\n",
    "            answer += letter\n",
    "        elif ord(s[a]) <= 90:\n",
    "            if ord(s[a]) + n <= 90:\n",
    "                chg_letter = ord(s[a]) + n \n",
    "                letter = chr(chg_letter)\n",
    "                answer += letter\n",
    "            elif ord(s[a]) + n > 90:\n",
    "                chg_letter = ord(s[a]) + n - 26\n",
    "                letter = chr(chg_letter)\n",
    "                answer += letter\n",
    "        elif ord(s[a]) <= 122:\n",
    "            if ord(s[a]) + n <= 122:                \n",
    "                chg_letter = ord(s[a]) + n \n",
    "                letter = chr(chg_letter)\n",
    "                answer += letter\n",
    "            elif ord(s[a]) + n > 122:\n",
    "                chg_letter = ord(s[a]) + n - 26\n",
    "                letter= chr(chg_letter)\n",
    "                answer+=letter\n",
    "    return answer"
   ]
  },
  {
   "cell_type": "markdown",
   "metadata": {},
   "source": [
    "# 부족한 금액 계산하기\n",
    "### 문제 설명\n",
    "- 새로 생긴 놀이기구는 인기가 매우 많아 줄이 끊이질 않습니다.\n",
    "- 이 놀이기구의 원래 이용료는 price원 인데, 놀이기구를 N 번 째 이용한다면 원래 이용료의 N배를 받기로 하였습니다.\n",
    "- 즉, 처음 이용료가 100이었다면 2번째에는 200, 3번째에는 300으로 요금이 인상됩니다.\n",
    "- 놀이기구를 count번 타게 되면 현재 자신이 가지고 있는 금액에서 얼마가 모자라는지를 return 하도록 solution 함수를 완성하세요.\n",
    "- 단, 금액이 부족하지 않으면 0을 return 하세요."
   ]
  },
  {
   "cell_type": "code",
   "execution_count": 6,
   "metadata": {},
   "outputs": [],
   "source": [
    "def solution(price, money, count):\n",
    "    answer = 0\n",
    "    new_price = 0\n",
    "    for i in range(1, count+1):\n",
    "        new_price += price * i\n",
    "\n",
    "    if new_price - money <= 0:\n",
    "        answer = 0\n",
    "    else:\n",
    "        answer = new_price - money\n",
    "\n",
    "    return answer"
   ]
  },
  {
   "cell_type": "markdown",
   "metadata": {},
   "source": [
    "# 3진법 뒤집기\n",
    "### 문제 설명\n",
    "- 자연수 n이 매개변수로 주어집니다.\n",
    "- n을 3진법 상에서 앞뒤로 뒤집은 후, 이를 다시 10진법으로 표현한 수를 return 하도록 solution 함수를 완성해주세요."
   ]
  },
  {
   "cell_type": "code",
   "execution_count": 47,
   "metadata": {},
   "outputs": [],
   "source": [
    "def solution(n):\n",
    "    temp = []\n",
    "    while n:\n",
    "        b = n % 3\n",
    "        n = n // 3\n",
    "        # print(b)\n",
    "\n",
    "\n",
    "        temp.append(b)\n",
    "\n",
    "    count = 1\n",
    "    new_num = 0\n",
    "    new_temp = []\n",
    "    for i in temp:\n",
    "        new_num += i * 3 ** (len(temp)-count)\n",
    "        count += 1\n",
    "\n",
    "    # print(temp)\n",
    "    new_num\n",
    "    \n",
    "    \n",
    "    return new_num\n",
    "\n"
   ]
  },
  {
   "cell_type": "code",
   "execution_count": 46,
   "metadata": {},
   "outputs": [],
   "source": [
    "def solution(n):\n",
    "    temp = ''\n",
    "    while n:\n",
    "        b = n % 3\n",
    "        n = n // 3\n",
    "        temp += str(b)\n",
    "\n",
    "    answer = int(temp, 3)\n",
    "    return answer"
   ]
  },
  {
   "cell_type": "markdown",
   "metadata": {},
   "source": [
    "# 최소직사각형\n",
    "### 문제 설명\n",
    "- 명함 지갑을 만드는 회사에서 지갑의 크기를 정하려고 합니다.\n",
    "- 다양한 모양과 크기의 명함들을 모두 수납할 수 있으면서, 작아서 들고 다니기 편한 지갑을 만들어야 합니다.\n",
    "- 이러한 요건을 만족하는 지갑을 만들기 위해 디자인팀은 모든 명함의 가로 길이와 세로 길이를 조사했습니다.\n",
    "\n",
    "- 아래 표는 4가지 명함의 가로 길이와 세로 길이를 나타냅니다.\n",
    "\n",
    "- 명함 번호\t가로 길이\t세로 길이\n",
    "- 1\t60\t50\n",
    "- 2\t30\t70\n",
    "- 3\t60\t30\n",
    "- 4\t80\t40\n",
    "\n",
    "- 가장 긴 가로 길이와 세로 길이가 각각 80, 70이기 때문에 80(가로) x 70(세로) 크기의 지갑을 만들면 모든 명함들을 수납할 수 있습니다.\n",
    "- 하지만 2번 명함을 가로로 눕혀 수납한다면 80(가로) x 50(세로) 크기의 지갑으로 모든 명함들을 수납할 수 있습니다.\n",
    "- 이때의 지갑 크기는 4000(=80 x 50)입니다.\n",
    "\n",
    "- 모든 명함의 가로 길이와 세로 길이를 나타내는 2차원 배열 sizes가 매개변수로 주어집니다.\n",
    "- 모든 명함을 수납할 수 있는 가장 작은 지갑을 만들 때, 지갑의 크기를 return 하도록 solution 함수를 완성해주세요."
   ]
  },
  {
   "cell_type": "code",
   "execution_count": 7,
   "metadata": {},
   "outputs": [
    {
     "data": {
      "text/plain": [
       "90"
      ]
     },
     "execution_count": 7,
     "metadata": {},
     "output_type": "execute_result"
    }
   ],
   "source": []
  },
  {
   "cell_type": "markdown",
   "metadata": {},
   "source": [
    "# 문자열 다루기 기본\n",
    "### 문제 설명\n",
    "- 문자열 s의 길이가 4 혹은 6이고, 숫자로만 구성돼있는지 확인해주는 함수, solution을 완성하세요.\n",
    "- 예를 들어 s가 \"a234\"이면 False를 리턴하고 \"1234\"라면 True를 리턴하면 됩니다.\n",
    "\n",
    "- 제한 사항\n",
    "- s는 길이 1 이상, 길이 8 이하인 문자열입니다.\n",
    "- s는 영문 알파벳 대소문자 또는 0부터 9까지 숫자로 이루어져 있습니다."
   ]
  },
  {
   "cell_type": "code",
   "execution_count": 22,
   "metadata": {},
   "outputs": [],
   "source": [
    "def solution(s):\n",
    "    if s.isdigit() is True and (len(s) == 4 or len(s) ==6) :\n",
    "        answer = True\n",
    "    else:\n",
    "        answer = False\n",
    "\n",
    "    return answer\n",
    "\n",
    "# isdigit은 음수 소수 판별 가능, isnumeric은 음수 소수 판별 불가"
   ]
  }
 ],
 "metadata": {
  "kernelspec": {
   "display_name": "Python 3.10.4 ('study')",
   "language": "python",
   "name": "python3"
  },
  "language_info": {
   "codemirror_mode": {
    "name": "ipython",
    "version": 3
   },
   "file_extension": ".py",
   "mimetype": "text/x-python",
   "name": "python",
   "nbconvert_exporter": "python",
   "pygments_lexer": "ipython3",
   "version": "3.10.4"
  },
  "orig_nbformat": 4,
  "vscode": {
   "interpreter": {
    "hash": "0366d95cfe3e294a9405a60bcbbb3d4cd1344975bbb420614b4c3178f22fa862"
   }
  }
 },
 "nbformat": 4,
 "nbformat_minor": 2
}
