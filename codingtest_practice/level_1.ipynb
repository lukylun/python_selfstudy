{
 "cells": [
  {
   "cell_type": "markdown",
   "metadata": {},
   "source": [
    "# 최대공약수와 최소공배수\n",
    "### 문제 설명\n",
    "- 두 수를 입력받아 두 수의 최대공약수와 최소공배수를 반환하는 함수, solution을 완성해 보세요.\n",
    "- 배열의 맨 앞에 최대공약수, 그다음 최소공배수를 넣어 반환하면 됩니다.\n",
    "- 예를 들어 두 수 3, 12의 최대공약수는 3, 최소공배수는 12이므로 solution(3, 12)는 [3, 12]를 반환해야 합니다."
   ]
  },
  {
   "cell_type": "code",
   "execution_count": null,
   "metadata": {},
   "outputs": [],
   "source": [
    "def solution(n, m):\n",
    "    x,y = n, m\n",
    "    if m > n :\n",
    "        n,m = m,n\n",
    "    while n % m :\n",
    "        r = n % m\n",
    "        n = m\n",
    "        m = r\n",
    "    return [m, x*y/m]\n",
    "\n",
    "    \n"
   ]
  },
  {
   "cell_type": "code",
   "execution_count": 73,
   "metadata": {},
   "outputs": [],
   "source": [
    "def solution(n, m):\n",
    "    list_m =[]\n",
    "    list_n =[]\n",
    "    for i in range(1, n+1):\n",
    "        if n % i ==0:\n",
    "            list_n.append(i)\n",
    "\n",
    "    for i in range(1, m+1):\n",
    "        if m % i == 0:\n",
    "            list_m.append(i)\n",
    "\n",
    "    x = 1\n",
    "    for a in list_m:\n",
    "        if a in list_n:\n",
    "            if a > x :\n",
    "                x = a\n",
    "\n",
    "    return [x, m*n/x]\n"
   ]
  },
  {
   "cell_type": "markdown",
   "metadata": {},
   "source": [
    "# 숫자 문자열과 영단어\n",
    "### 문제 설명\n",
    "\n",
    "\n",
    "- 네오와 프로도가 숫자놀이를 하고 있습니다.\n",
    "- 네오가 프로도에게 숫자를 건넬 때 일부 자릿수를 영단어로 바꾼 카드를 건네주면 프로도는 원래 숫자를 찾는 게임입니다.\n",
    "\n",
    "- 다음은 숫자의 일부 자릿수를 영단어로 바꾸는 예시입니다.\n",
    "\n",
    "- 1478 → \"one4seveneight\"\n",
    "- 234567 → \"23four5six7\"\n",
    "- 10203 → \"1zerotwozero3\"\n",
    "- 이렇게 숫자의 일부 자릿수가 영단어로 바뀌어졌거나, 혹은 바뀌지 않고 그대로인 문자열 s가 매개변수로 주어집니다. s가 의미하는 원래 숫자를 return 하도록 solution 함수를 완성해주세요.\n",
    "\n",
    "- 참고로 각 숫자에 대응되는 영단어는 다음 표와 같습니다.\n",
    "\n",
    "- 숫자\t영단어\n",
    "- 0\tzero\n",
    "- 1\tone\n",
    "- 2\ttwo\n",
    "- 3\tthree\n",
    "- 4\tfour\n",
    "- 5\tfive\n",
    "- 6\tsix\n",
    "- 7\tseven\n",
    "- 8\teight\n",
    "- 9\tnine"
   ]
  },
  {
   "cell_type": "code",
   "execution_count": 8,
   "metadata": {},
   "outputs": [],
   "source": [
    "def solution(s):\n",
    "    num_dicts = {'zero':0, 'one':1, 'two':2, 'three':3, 'four':4, 'five':5, 'six':6, 'seven':7, 'eight':8, 'nine':9}\n",
    "\n",
    "    \n",
    "    for num_dict in num_dicts:\n",
    "        if num_dict in s:\n",
    "            s = s.replace(num_dict, str(num_dicts[num_dict]))\n",
    "    \n",
    "    return int(s)\n",
    "            "
   ]
  },
  {
   "cell_type": "markdown",
   "metadata": {},
   "source": [
    "# 두 정수 사이의 합\n",
    "### 문제 설명\n",
    "- 두 정수 a, b가 주어졌을 때 a와 b 사이에 속한 모든 정수의 합을 리턴하는 함수, solution을 완성하세요.\n",
    "    - 예를 들어 a = 3, b = 5인 경우, 3 + 4 + 5 = 12이므로 12를 리턴합니다."
   ]
  },
  {
   "cell_type": "code",
   "execution_count": 1,
   "metadata": {},
   "outputs": [],
   "source": [
    "def solution(a, b):\n",
    "    total = 0\n",
    "    if a > b:\n",
    "        a,b = b, a\n",
    "    for i in range(a, b+1):\n",
    "        total += i\n",
    "\n",
    "    return total"
   ]
  },
  {
   "cell_type": "markdown",
   "metadata": {},
   "source": [
    "# 같은 숫자는 싫어\n",
    "### 문제 설명\n",
    "- 배열 arr가 주어집니다. \n",
    "- 배열 arr의 각 원소는 숫자 0부터 9까지로 이루어져 있습니다.\n",
    "- 이때, 배열 arr에서 연속적으로 나타나는 숫자는 하나만 남기고 전부 제거하려고 합니다.\n",
    "- 단, 제거된 후 남은 수들을 반환할 때는 배열 arr의 원소들의 순서를 유지해야 합니다. \n",
    "- 예를 들면,\n",
    "\n",
    "    - arr = [1, 1, 3, 3, 0, 1, 1] 이면 [1, 3, 0, 1] 을 return 합니다.\n",
    "    - arr = [4, 4, 4, 3, 3] 이면 [4, 3] 을 return 합니다.\n",
    "    - 배열 arr에서 연속적으로 나타나는 숫자는 제거하고 남은 수들을 return 하는 solution 함수를 완성해 주세요."
   ]
  },
  {
   "cell_type": "code",
   "execution_count": 68,
   "metadata": {},
   "outputs": [],
   "source": [
    "def solution(arr):\n",
    "    answer = []\n",
    "\n",
    "    number = -1\n",
    "    for a in arr:\n",
    "        if number != a:\n",
    "            number = a\n",
    "            answer.append(number)\n",
    "            \n",
    "    return answer\n"
   ]
  },
  {
   "cell_type": "markdown",
   "metadata": {},
   "source": [
    "# 약수의 개수와 덧셈\n",
    "### 문제 설명\n",
    "- 두 정수 left와 right가 매개변수로 주어집니다. \n",
    "- left부터 right까지의 모든 수들 중에서, 약수의 개수가 짝수인 수는 더하고, \n",
    "- 약수의 개수가 홀수인 수는 뺀 수를 return 하도록 solution 함수를 완성해주세요."
   ]
  },
  {
   "cell_type": "code",
   "execution_count": 23,
   "metadata": {},
   "outputs": [],
   "source": [
    "def solution(left, right):\n",
    "    answer = 0\n",
    "    num_list = []\n",
    "    for a in range(1, 32): # 32* 32 = 1024, right<=1000 조건\n",
    "        num = a ** 2\n",
    "        num_list.append(num)\n",
    "        \n",
    "    for num in range(left, right+1):\n",
    "        if num in num_list:\n",
    "            answer -= num\n",
    "        else:\n",
    "            answer += num\n",
    "            \n",
    "    return answer"
   ]
  },
  {
   "cell_type": "markdown",
   "metadata": {},
   "source": [
    "# 수박수박수박수박수박수?\n",
    "### 문제 설명\n",
    "- 길이가 n이고, \"수박수박수박수....\"와 같은 패턴을 유지하는 문자열을 리턴하는 함수, solution을 완성하세요.\n",
    "- 예를들어 n이 4이면 \"수박수박\"을 리턴하고 3이라면 \"수박수\"를 리턴하면 됩니다."
   ]
  },
  {
   "cell_type": "code",
   "execution_count": 28,
   "metadata": {},
   "outputs": [
    {
     "data": {
      "text/plain": [
       "'수박수박수박수박수'"
      ]
     },
     "execution_count": 28,
     "metadata": {},
     "output_type": "execute_result"
    }
   ],
   "source": [
    "# '수', '박'\n",
    "n=9\n",
    "watermelon =[]\n",
    "for a in range(1, n+1):\n",
    "    if a % 2 == 1:\n",
    "        watermelon.append('수')\n",
    "\n",
    "    else:\n",
    "        watermelon.append('박')\n",
    "\n",
    "clap = \"\".join(watermelon)\n",
    "clap"
   ]
  },
  {
   "cell_type": "code",
   "execution_count": null,
   "metadata": {},
   "outputs": [],
   "source": [
    "# 이상한 문자 만들기\n",
    "### 문제 설명\n",
    "- 문자열 s는 한 개 이상의 단어로 구성되어 있습니다.\n",
    "- 각 단어는 하나 이상의 공백문자로 구분되어 있습니다.\n",
    "- 각 단어의 짝수번째 알파벳은 대문자로, 홀수번째 알파벳은 소문자로 바꾼 문자열을 리턴하는 함수, solution을 완성하세요."
   ]
  },
  {
   "cell_type": "code",
   "execution_count": 114,
   "metadata": {},
   "outputs": [],
   "source": [
    "def solution(s):\n",
    "    answer=''\n",
    "    for a in s.split(' '): # s.split(), s.split(' ') 다름\n",
    "        # print(a)\n",
    "        # print(a[0])\n",
    "\n",
    "        for key in range(len(a)):\n",
    "            if key % 2 == 0:\n",
    "\n",
    "                # print(a[key])\n",
    "                answer += a[key].upper()\n",
    "\n",
    "            else:\n",
    "                answer += a[key].lower()\n",
    "        answer += ' '\n",
    "\n",
    "    return answer[0:-1]\n",
    "\n"
   ]
  },
  {
   "cell_type": "markdown",
   "metadata": {},
   "source": [
    "# 행렬의 덧셈\n",
    "### 문제 설명\n",
    "- 행렬의 덧셈은 행과 열의 크기가 같은 두 행렬의 같은 행, 같은 열의 값을 서로 더한 결과가 됩니다. \n",
    "- 2개의 행렬 arr1과 arr2를 입력받아, 행렬 덧셈의 결과를 반환하는 함수, solution을 완성해주세요."
   ]
  },
  {
   "cell_type": "code",
   "execution_count": 171,
   "metadata": {},
   "outputs": [],
   "source": [
    "def solution(arr1, arr2):\n",
    "    for i in range(len(arr1)):\n",
    "        for j in range(len(arr1[0])):\n",
    "            arr1[i][j] = arr1[i][j]+arr2[i][j]  \n",
    "\n",
    "\n",
    "    return arr1\n"
   ]
  },
  {
   "cell_type": "markdown",
   "metadata": {},
   "source": [
    "# 예산\n",
    "### 문제 설명\n",
    "- S사에서는 각 부서에 필요한 물품을 지원해 주기 위해 부서별로 물품을 구매하는데 필요한 금액을 조사했습니다.\n",
    "- 그러나, 전체 예산이 정해져 있기 때문에 모든 부서의 물품을 구매해 줄 수는 없습니다.\n",
    "- 그래서 최대한 많은 부서의 물품을 구매해 줄 수 있도록 하려고 합니다.\n",
    "\n",
    "- 물품을 구매해 줄 때는 각 부서가 신청한 금액만큼을 모두 지원해 줘야 합니다.\n",
    "- 예를 들어 1,000원을 신청한 부서에는 정확히 1,000원을 지원해야 하며, 1,000원보다 적은 금액을 지원해 줄 수는 없습니다.\n",
    "\n",
    "- 부서별로 신청한 금액이 들어있는 배열 d와 예산 budget이 매개변수로 주어질 때, 최대 몇 개의 부서에 물품을 지원할 수 있는지 return 하도록 solution 함수를 완성해주세요."
   ]
  },
  {
   "cell_type": "code",
   "execution_count": 52,
   "metadata": {},
   "outputs": [],
   "source": [
    "def solution(d, budget):\n",
    "    total = 0\n",
    "    count = 0\n",
    "    d.sort()\n",
    "    \n",
    "    for department in d:\n",
    "        total += department\n",
    "        \n",
    "        if total <= budget:\n",
    "            count += 1\n",
    "\n",
    "    return count"
   ]
  },
  {
   "cell_type": "markdown",
   "metadata": {},
   "source": [
    "# 시저 암호\n",
    "### 문제 설명\n",
    "- 어떤 문장의 각 알파벳을 일정한 거리만큼 밀어서 다른 알파벳으로 바꾸는 암호화 방식을 시저 암호라고 합니다.\n",
    "- 예를 들어 \"AB\"는 1만큼 밀면 \"BC\"가 되고, 3만큼 밀면 \"DE\"가 됩니다.\n",
    "- \"z\"는 1만큼 밀면 \"a\"가 됩니다.\n",
    "- 문자열 s와 거리 n을 입력받아 s를 n만큼 민 암호문을 만드는 함수, solution을 완성해 보세요."
   ]
  },
  {
   "cell_type": "code",
   "execution_count": 17,
   "metadata": {},
   "outputs": [
    {
     "data": {
      "text/plain": [
       "'Y'"
      ]
     },
     "execution_count": 17,
     "metadata": {},
     "output_type": "execute_result"
    }
   ],
   "source": [
    "ord('A')\n",
    "ord('Z')\n",
    "chr(95)\n",
    "\n",
    "ord('z') + 24 -25\n",
    "chr(89)"
   ]
  },
  {
   "cell_type": "code",
   "execution_count": 2,
   "metadata": {},
   "outputs": [
    {
     "data": {
      "text/plain": [
       "90"
      ]
     },
     "execution_count": 2,
     "metadata": {},
     "output_type": "execute_result"
    }
   ],
   "source": [
    "ord('Z')"
   ]
  },
  {
   "cell_type": "code",
   "execution_count": 8,
   "metadata": {},
   "outputs": [],
   "source": [
    "def solution(s, n):\n",
    "    answer = ''\n",
    "    for a in range(len(s)):\n",
    "        if ord(s[a]) == 32:\n",
    "            letter = ' '\n",
    "            answer += letter\n",
    "        elif ord(s[a]) <= 90:\n",
    "            if ord(s[a]) + n <= 90:\n",
    "                chg_letter = ord(s[a]) + n \n",
    "                letter = chr(chg_letter)\n",
    "                answer += letter\n",
    "            elif ord(s[a]) + n > 90:\n",
    "                chg_letter = ord(s[a]) + n - 26\n",
    "                letter = chr(chg_letter)\n",
    "                answer += letter\n",
    "        elif ord(s[a]) <= 122:\n",
    "            if ord(s[a]) + n <= 122:                \n",
    "                chg_letter = ord(s[a]) + n \n",
    "                letter = chr(chg_letter)\n",
    "                answer += letter\n",
    "            elif ord(s[a]) + n > 122:\n",
    "                chg_letter = ord(s[a]) + n - 26\n",
    "                letter= chr(chg_letter)\n",
    "                answer+=letter\n",
    "    return answer"
   ]
  },
  {
   "cell_type": "markdown",
   "metadata": {},
   "source": [
    "# 부족한 금액 계산하기\n",
    "### 문제 설명\n",
    "- 새로 생긴 놀이기구는 인기가 매우 많아 줄이 끊이질 않습니다.\n",
    "- 이 놀이기구의 원래 이용료는 price원 인데, 놀이기구를 N 번 째 이용한다면 원래 이용료의 N배를 받기로 하였습니다.\n",
    "- 즉, 처음 이용료가 100이었다면 2번째에는 200, 3번째에는 300으로 요금이 인상됩니다.\n",
    "- 놀이기구를 count번 타게 되면 현재 자신이 가지고 있는 금액에서 얼마가 모자라는지를 return 하도록 solution 함수를 완성하세요.\n",
    "- 단, 금액이 부족하지 않으면 0을 return 하세요."
   ]
  },
  {
   "cell_type": "code",
   "execution_count": 6,
   "metadata": {},
   "outputs": [],
   "source": [
    "def solution(price, money, count):\n",
    "    answer = 0\n",
    "    new_price = 0\n",
    "    for i in range(1, count+1):\n",
    "        new_price += price * i\n",
    "\n",
    "    if new_price - money <= 0:\n",
    "        answer = 0\n",
    "    else:\n",
    "        answer = new_price - money\n",
    "\n",
    "    return answer"
   ]
  },
  {
   "cell_type": "markdown",
   "metadata": {},
   "source": [
    "# 3진법 뒤집기\n",
    "### 문제 설명\n",
    "- 자연수 n이 매개변수로 주어집니다.\n",
    "- n을 3진법 상에서 앞뒤로 뒤집은 후, 이를 다시 10진법으로 표현한 수를 return 하도록 solution 함수를 완성해주세요."
   ]
  },
  {
   "cell_type": "code",
   "execution_count": 47,
   "metadata": {},
   "outputs": [],
   "source": [
    "def solution(n):\n",
    "    temp = []\n",
    "    while n:\n",
    "        b = n % 3\n",
    "        n = n // 3\n",
    "        # print(b)\n",
    "\n",
    "\n",
    "        temp.append(b)\n",
    "\n",
    "    count = 1\n",
    "    new_num = 0\n",
    "    new_temp = []\n",
    "    for i in temp:\n",
    "        new_num += i * 3 ** (len(temp)-count)\n",
    "        count += 1\n",
    "\n",
    "    # print(temp)\n",
    "    new_num\n",
    "    \n",
    "    \n",
    "    return new_num\n",
    "\n"
   ]
  },
  {
   "cell_type": "code",
   "execution_count": 46,
   "metadata": {},
   "outputs": [],
   "source": [
    "def solution(n):\n",
    "    temp = ''\n",
    "    while n:\n",
    "        b = n % 3\n",
    "        n = n // 3\n",
    "        temp += str(b)\n",
    "\n",
    "    answer = int(temp, 3)\n",
    "    return answer"
   ]
  },
  {
   "cell_type": "markdown",
   "metadata": {},
   "source": [
    "# 최소직사각형\n",
    "### 문제 설명\n",
    "- 명함 지갑을 만드는 회사에서 지갑의 크기를 정하려고 합니다.\n",
    "- 다양한 모양과 크기의 명함들을 모두 수납할 수 있으면서, 작아서 들고 다니기 편한 지갑을 만들어야 합니다.\n",
    "- 이러한 요건을 만족하는 지갑을 만들기 위해 디자인팀은 모든 명함의 가로 길이와 세로 길이를 조사했습니다.\n",
    "\n",
    "- 아래 표는 4가지 명함의 가로 길이와 세로 길이를 나타냅니다.\n",
    "\n",
    "- 명함 번호\t가로 길이\t세로 길이\n",
    "- 1\t60\t50\n",
    "- 2\t30\t70\n",
    "- 3\t60\t30\n",
    "- 4\t80\t40\n",
    "\n",
    "- 가장 긴 가로 길이와 세로 길이가 각각 80, 70이기 때문에 80(가로) x 70(세로) 크기의 지갑을 만들면 모든 명함들을 수납할 수 있습니다.\n",
    "- 하지만 2번 명함을 가로로 눕혀 수납한다면 80(가로) x 50(세로) 크기의 지갑으로 모든 명함들을 수납할 수 있습니다.\n",
    "- 이때의 지갑 크기는 4000(=80 x 50)입니다.\n",
    "\n",
    "- 모든 명함의 가로 길이와 세로 길이를 나타내는 2차원 배열 sizes가 매개변수로 주어집니다.\n",
    "- 모든 명함을 수납할 수 있는 가장 작은 지갑을 만들 때, 지갑의 크기를 return 하도록 solution 함수를 완성해주세요."
   ]
  },
  {
   "cell_type": "code",
   "execution_count": 19,
   "metadata": {},
   "outputs": [],
   "source": [
    "def solution(sizes):\n",
    "    temp_zero = []\n",
    "    temp_one = []\n",
    "    for size in sizes:\n",
    "        size.sort()\n",
    "        temp_zero.append(size[0])\n",
    "        temp_one.append(size[1])\n",
    "\n",
    "    answer = max(temp_zero)*max(temp_one)\n",
    "\n",
    "    return answer"
   ]
  },
  {
   "cell_type": "markdown",
   "metadata": {},
   "source": [
    "# 문자열 다루기 기본\n",
    "### 문제 설명\n",
    "- 문자열 s의 길이가 4 혹은 6이고, 숫자로만 구성돼있는지 확인해주는 함수, solution을 완성하세요.\n",
    "- 예를 들어 s가 \"a234\"이면 False를 리턴하고 \"1234\"라면 True를 리턴하면 됩니다.\n",
    "\n",
    "- 제한 사항\n",
    "- s는 길이 1 이상, 길이 8 이하인 문자열입니다.\n",
    "- s는 영문 알파벳 대소문자 또는 0부터 9까지 숫자로 이루어져 있습니다."
   ]
  },
  {
   "cell_type": "code",
   "execution_count": 22,
   "metadata": {},
   "outputs": [],
   "source": [
    "def solution(s):\n",
    "    if s.isdigit() is True and (len(s) == 4 or len(s) ==6) :\n",
    "        answer = True\n",
    "    else:\n",
    "        answer = False\n",
    "\n",
    "    return answer\n",
    "\n",
    "# isdigit은 음수 소수 판별 가능, isnumeric은 음수 소수 판별 불가"
   ]
  },
  {
   "cell_type": "markdown",
   "metadata": {},
   "source": [
    "# 문제 설명\n",
    "### 비밀지도\n",
    "- 네오는 평소 프로도가 비상금을 숨겨놓는 장소를 알려줄 비밀지도를 손에 넣었다.\n",
    "- 그런데 이 비밀지도는 숫자로 암호화되어 있어 위치를 확인하기 위해서는 암호를 해독해야 한다.\n",
    "- 다행히 지도 암호를 해독할 방법을 적어놓은 메모도 함께 발견했다.\n",
    "\n",
    "- 지도는 한 변의 길이가 n인 정사각형 배열 형태로, 각 칸은 \"공백\"(\" \") 또는 \"벽\"(\"#\") 두 종류로 이루어져 있다.\n",
    "- 전체 지도는 두 장의 지도를 겹쳐서 얻을 수 있다.\n",
    "- 각각 \"지도 1\"과 \"지도 2\"라고 하자. 지도 1 또는 지도 2 중 어느 하나라도 벽인 부분은 전체 지도에서도 벽이다.\n",
    "- 지도 1과 지도 2에서 모두 공백인 부분은 전체 지도에서도 공백이다.\n",
    "- \"지도 1\"과 \"지도 2\"는 각각 정수 배열로 암호화되어 있다.\n",
    "- 암호화된 배열은 지도의 각 가로줄에서 벽 부분을 1, 공백 부분을 0으로 부호화했을 때 얻어지는 이진수에 해당하는 값의 배열이다."
   ]
  },
  {
   "cell_type": "code",
   "execution_count": 1,
   "metadata": {},
   "outputs": [],
   "source": [
    "def solution(n, arr1, arr2):\n",
    "    temp_1 = []\n",
    "    for arr in arr1:\n",
    "        tmp = ''\n",
    "        while arr:\n",
    "            rest = arr % 2\n",
    "            arr = arr // 2\n",
    "            tmp += str(rest)\n",
    "        tmp = \"\".join(reversed(tmp))\n",
    "        if len(tmp) < n:\n",
    "            tmp = '0' * (n-len(tmp)) + tmp\n",
    "        temp_1.append(tmp)\n",
    "\n",
    "    temp_2 =[]\n",
    "    for arr in arr2:\n",
    "        tmp = ''\n",
    "        while arr:\n",
    "            rest = arr % 2\n",
    "            arr = arr // 2\n",
    "            tmp += str(rest)\n",
    "        tmp = \"\".join(reversed(tmp))\n",
    "        if len(tmp) < n:\n",
    "            tmp = '0' * (n-len(tmp)) + tmp\n",
    "        temp_2.append(tmp)\n",
    "\n",
    "    temp = []\n",
    "    for i in range(n):\n",
    "        if temp_1[i] ==0 and temp_2[i]== 0:\n",
    "            binary_num = int(temp_1[i]) + int(temp_2[i])\n",
    "            binary_num = '0' + str(binary_num)\n",
    "            temp.append(binary_num)\n",
    "\n",
    "        else:\n",
    "            binary_num = int(temp_1[i]) + int(temp_2[i])\n",
    "            temp.append(binary_num)\n",
    "\n",
    "    print(temp_1)\n",
    "    print(temp_2)\n",
    "\n",
    "    final_ans = []\n",
    "    for item in temp:\n",
    "        item = str(item)\n",
    "        item_1 = item.replace('1', '#')\n",
    "        item_2 = item_1.replace('2', '#')\n",
    "        item_0 = item_2.replace('0', \" \")\n",
    "        if len(item_0) < n:\n",
    "            item_0 = item_0.rjust(n,\" \")\n",
    "        final_ans.append(item_0)\n",
    "\n",
    "    return final_ans"
   ]
  },
  {
   "cell_type": "markdown",
   "metadata": {},
   "source": [
    "# 두 개 뽑아서 더하기\n",
    "### 문제 설명\n",
    "- 정수 배열 numbers가 주어집니다.\n",
    "- numbers에서 서로 다른 인덱스에 있는 두 개의 수를 뽑아 더해서 \n",
    "만들 수 있는 모든 수를 배열에 오름차순으로 담아 return 하도록 \n",
    "solution 함수를 완성해주세요."
   ]
  },
  {
   "cell_type": "code",
   "execution_count": 27,
   "metadata": {},
   "outputs": [],
   "source": [
    "def solution(numbers):\n",
    "    idx = 0\n",
    "    temp = []\n",
    "    for number in numbers:\n",
    "        a = number\n",
    "        idx += 1\n",
    "        for number in numbers[idx:]:\n",
    "            b = a + number\n",
    "            temp.append(b)\n",
    "\n",
    "\n",
    "    temp.sort()\n",
    "\n",
    "    answer = [temp[0]]\n",
    "    a = temp[0]\n",
    "    for tmp in temp:\n",
    "        if a != tmp:\n",
    "            a = tmp\n",
    "            answer.append(a)\n",
    "    return answer"
   ]
  },
  {
   "cell_type": "markdown",
   "metadata": {},
   "source": [
    "# 문자열 내 마음대로 정렬하기\n",
    "### 문제 설명\n",
    "- 문자열로 구성된 리스트 strings와, 정수 n이 주어졌을 때, 각 문자열의 인덱스 n번째 글자를 기준으로 오름차순 정렬하려 합니다.\n",
    "- 예를 들어 strings가 [\"sun\", \"bed\", \"car\"]이고 n이 1이면 각 단어의 인덱스 1의 문자 \"u\", \"e\", \"a\"로 strings를 정렬합니다."
   ]
  },
  {
   "cell_type": "code",
   "execution_count": 21,
   "metadata": {},
   "outputs": [],
   "source": [
    "def solution(strings, n):\n",
    "    for a in range(len(strings)):\n",
    "        for b in range(a+1, len(strings)):\n",
    "            if ord(strings[a][n]) > ord(strings[b][n]):\n",
    "                strings[a], strings[b] = strings[b], strings[a]\n",
    "            elif ord(strings[a][n]) == ord(strings[b][n]):\n",
    "                for m in range(len(strings[a])):\n",
    "\n",
    "                    # while strings[a][m] != strings[b][m]:\n",
    "                    if ord(strings[a][m]) < ord(strings[b][m]):\n",
    "                        strings[a], strings[b] = strings[a], strings[b]\n",
    "                        break\n",
    "                    elif ord(strings[a][m]) > ord(strings[b][m]):\n",
    "                        strings[a], strings[b] = strings[b], strings[a]\n",
    "                        break\n",
    "    return strings"
   ]
  },
  {
   "cell_type": "code",
   "execution_count": 1,
   "metadata": {},
   "outputs": [
    {
     "name": "stdout",
     "output_type": "stream",
     "text": [
      "[-7, 3, 5, 6, 9, 20]\n"
     ]
    }
   ],
   "source": [
    "# (1)\n",
    "my_list = [3, 6, 9, 20, -7, 5] \n",
    "\n",
    "result = []\n",
    "# Selection Sort (선택 정렬)\n",
    "\n",
    "for i in range(len(my_list)-1):\n",
    "    # 현재 위치의 값, 찾은 최소값 index를 기억해놓기\n",
    "    min_value = my_list[i]\n",
    "    min_index = i\n",
    "\n",
    "    # i+1 위치부터 값을 체크\n",
    "    for j in range(i+1, len(my_list)):\n",
    "        # 만약 현재 최소값보다 j위치의 값이 작을경우,\n",
    "        if min_value > my_list[j]:\n",
    "            # 최소값, index 최신화\n",
    "            min_value = my_list[j]\n",
    "            min_index = j\n",
    "    \n",
    "    my_list[min_index] = my_list[i]\n",
    "    my_list[i] = min_value\n",
    "\n",
    "print(my_list)"
   ]
  },
  {
   "cell_type": "code",
   "execution_count": 4,
   "metadata": {},
   "outputs": [
    {
     "data": {
      "text/plain": [
       "[0, 1, 2, 3, 4]"
      ]
     },
     "execution_count": 4,
     "metadata": {},
     "output_type": "execute_result"
    }
   ],
   "source": [
    "list(range(len(my_list)-1))"
   ]
  },
  {
   "cell_type": "markdown",
   "metadata": {},
   "source": [
    "# 문자열 내림차순으로 배치하기\n",
    "### 문제 설명\n",
    "- 문자열 s에 나타나는 문자를 큰것부터 작은 순으로 정렬해 새로운 문자열을 리턴하는 함수, solution을 완성해주세요.\n",
    "- s는 영문 대소문자로만 구성되어 있으며, 대문자는 소문자보다 작은 것으로 간주합니다.\n"
   ]
  },
  {
   "cell_type": "code",
   "execution_count": 24,
   "metadata": {},
   "outputs": [],
   "source": [
    "def solution(s):\n",
    "    s = list(s)\n",
    "\n",
    "\n",
    "    for i in range(len(s)-1):\n",
    "        for j in range(i+1, len(s)):\n",
    "            if s[i] < s[j]:\n",
    "                s[i], s[j] = s[j], s[i]\n",
    "\n",
    "    answer= \"\".join(s)\n",
    "    return answer"
   ]
  },
  {
   "cell_type": "code",
   "execution_count": 26,
   "metadata": {},
   "outputs": [],
   "source": [
    "s = \"Zbcdefg\"\n",
    "\n",
    "s = \"\".join(sorted(s, reverse=True))"
   ]
  },
  {
   "cell_type": "markdown",
   "metadata": {},
   "source": [
    "# 내적\n",
    "### 문제 설명\n",
    "- 길이가 같은 두 1차원 정수 배열 a, b가 매개변수로 주어집니다.\n",
    "- a와 b의 내적을 return 하도록 solution 함수를 완성해주세요.\n",
    "\n",
    "    - 이때, a와 b의 내적은 a[0]*b[0] + a[1]*b[1] + ... + a[n-1]*b[n-1] 입니다. (n은 a, b의 길이)"
   ]
  },
  {
   "cell_type": "code",
   "execution_count": 2,
   "metadata": {},
   "outputs": [],
   "source": [
    "def solution(a, b):\n",
    "    answer = 0\n",
    "    for i in range(len(a)):\n",
    "        answer += a[i] * b[i]\n",
    "\n",
    "    return answer"
   ]
  },
  {
   "cell_type": "markdown",
   "metadata": {},
   "source": [
    "# 삼총사\n",
    "### 문제 설명\n",
    "- 한국중학교에 다니는 학생들은 각자 정수 번호를 갖고 있습니다.\n",
    "- 이 학교 학생 3명의 정수 번호를 더했을 때 0이 되면 3명의 학생은 삼총사라고 합니다.\n",
    "- 예를 들어, 5명의 학생이 있고, 각각의 정수 번호가 순서대로 -2, 3, 0, 2, -5일 때, 첫 번째, 세 번째, 네 번째 학생의 정수 번호를 더하면 0이므로 세 학생은 삼총사입니다.\n",
    "- 또한, 두 번째, 네 번째, 다섯 번째 학생의 정수 번호를 더해도 0이므로 세 학생도 삼총사입니다.\n",
    "- 따라서 이 경우 한국중학교에서는 두 가지 방법으로 삼총사를 만들 수 있습니다.\n",
    "\n",
    "- 한국중학교 학생들의 번호를 나타내는 정수 배열 number가 매개변수로 주어질 때, 학생들 중 삼총사를 만들 수 있는 방법의 수를 return 하도록 solution 함수를 완성하세요."
   ]
  },
  {
   "cell_type": "code",
   "execution_count": 26,
   "metadata": {},
   "outputs": [],
   "source": [
    "def solution(numbers):\n",
    "    temp = []\n",
    "\n",
    "    for i in range(len(numbers)-2):\n",
    "        a = numbers[i]\n",
    "        for j in range(i+1, len(numbers)-1):\n",
    "            b = numbers[j]\n",
    "            for k in range(j+1, len(numbers)):\n",
    "                c = numbers[k]\n",
    "\n",
    "                temp.append((a,b,c))\n",
    "\n",
    "    answer = 0\n",
    "    for num in range(len(temp)):\n",
    "        if sum(temp[num]) == 0:\n",
    "            answer += 1\n",
    "\n",
    "    return answer"
   ]
  },
  {
   "cell_type": "markdown",
   "metadata": {},
   "source": [
    "# 가운데 글자 가져오기\n",
    "### 문제 설명\n",
    "- 단어 s의 가운데 글자를 반환하는 함수, solution을 만들어 보세요.\n",
    "- 단어의 길이가 짝수라면 가운데 두글자를 반환하면 됩니다.\n"
   ]
  },
  {
   "cell_type": "code",
   "execution_count": 16,
   "metadata": {},
   "outputs": [],
   "source": [
    "def solution(s):\n",
    "    if len(s) % 2 == 1:\n",
    "        answer = s[int(len(s)/2)]\n",
    "    else:\n",
    "        answer = s[int(len(s)/2)-1:int(len(s)/2)+1]\n",
    "    return answer"
   ]
  },
  {
   "cell_type": "markdown",
   "metadata": {},
   "source": [
    "# 없는 숫자 더하기\n",
    "### 문제 설명\n",
    "- 0부터 9까지의 숫자 중 일부가 들어있는 정수 배열 numbers가 매개변수로 주어집니다.\n",
    "- numbers에서 찾을 수 없는 0부터 9까지의 숫자를 모두 찾아 더한 수를 return 하도록 solution 함수를 완성해주세요.\n",
    "\n"
   ]
  },
  {
   "cell_type": "code",
   "execution_count": 24,
   "metadata": {},
   "outputs": [],
   "source": [
    "def solution(numbers):\n",
    "    counts = list(range(10))\n",
    "\n",
    "    answer = 0 \n",
    "    for count in counts:\n",
    "        if count not in numbers:\n",
    "            answer += count\n",
    "    return answer\n"
   ]
  },
  {
   "cell_type": "code",
   "execution_count": null,
   "metadata": {},
   "outputs": [],
   "source": []
  }
 ],
 "metadata": {
  "kernelspec": {
   "display_name": "Python 3.10.4 ('study')",
   "language": "python",
   "name": "python3"
  },
  "language_info": {
   "codemirror_mode": {
    "name": "ipython",
    "version": 3
   },
   "file_extension": ".py",
   "mimetype": "text/x-python",
   "name": "python",
   "nbconvert_exporter": "python",
   "pygments_lexer": "ipython3",
   "version": "3.10.4"
  },
  "orig_nbformat": 4,
  "vscode": {
   "interpreter": {
    "hash": "0366d95cfe3e294a9405a60bcbbb3d4cd1344975bbb420614b4c3178f22fa862"
   }
  }
 },
 "nbformat": 4,
 "nbformat_minor": 2
}
