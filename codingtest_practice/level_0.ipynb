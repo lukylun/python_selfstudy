{
 "cells": [
  {
   "cell_type": "markdown",
   "metadata": {},
   "source": [
    "# 두 수의 차\n",
    "### 문제 설명\n",
    "- 정수 num1과 num2가 주어질 때, num1에서 num2를 뺀 값을 return하도록 soltuion 함수를 완성해주세요."
   ]
  },
  {
   "cell_type": "markdown",
   "metadata": {},
   "source": [
    "def solution(num1, num2):\n",
    "    \n",
    "    answer = num1 - num2\n",
    "\n",
    "    return answer"
   ]
  },
  {
   "cell_type": "markdown",
   "metadata": {},
   "source": [
    "# 나머지 구하기\n",
    "### 문제 설명\n",
    "- 정수 num1, num2가 매개변수로 주어질 때, num1를 num2로 나눈 나머지를 return 하도록 solution 함수를 완성해주세요."
   ]
  },
  {
   "cell_type": "code",
   "execution_count": null,
   "metadata": {},
   "outputs": [],
   "source": [
    "def solution(num1, num2):\n",
    "    answer = num1 % num2\n",
    "    return answer"
   ]
  },
  {
   "cell_type": "markdown",
   "metadata": {},
   "source": [
    "# 숫자 비교하기\n",
    "### 문제 설명\n",
    "- 정수 num1과 num2가 매개변수로 주어집니다. 두 수가 같으면 1 다르면 -1을 retrun하도록 solution 함수를 완성해주세요."
   ]
  },
  {
   "cell_type": "code",
   "execution_count": null,
   "metadata": {},
   "outputs": [],
   "source": [
    "def solution(num1, num2):\n",
    "    \n",
    "    if num1 == num2 :\n",
    "        answer = 1\n",
    "    else:\n",
    "        answer = -1\n",
    "\n",
    "\n",
    "    return answer"
   ]
  },
  {
   "cell_type": "markdown",
   "metadata": {},
   "source": [
    "# 두 수의 곱\n",
    "### 문제  설명\n",
    "- 정수 num1, num2가 매개변수 주어집니다. num1과 num2를 곱한 값을 return 하도록 solution 함수를 완성해주세요."
   ]
  },
  {
   "cell_type": "code",
   "execution_count": null,
   "metadata": {},
   "outputs": [],
   "source": [
    "def solution(num1, num2):\n",
    "    return num1 * num2"
   ]
  },
  {
   "cell_type": "markdown",
   "metadata": {},
   "source": [
    "# 배열의 평균값\n",
    "### 문제 설명\n",
    "- 정수 배열 numbers가 매개변수로 주어집니다. numbers의 원소의 평균값을 return하도록 solution 함수를 완성해주세요.\n",
    "\n"
   ]
  },
  {
   "cell_type": "code",
   "execution_count": 4,
   "metadata": {},
   "outputs": [],
   "source": [
    "def solution(numbers):\n",
    "    total = 0\n",
    "    count = 0\n",
    "\n",
    "    for number in numbers:\n",
    "        total += number\n",
    "        count += 1\n",
    "\n",
    "    return total / count"
   ]
  },
  {
   "cell_type": "markdown",
   "metadata": {},
   "source": [
    "# 최댓값 만들기 (1)\n",
    "### 문제 설명\n",
    "- 정수 배열 numbers가 매개변수로 주어집니다. numbers의 원소 중 두 개를 곱해 만들 수 있는 최댓값을 return하도록 solution 함수를 완성해주세요."
   ]
  },
  {
   "cell_type": "code",
   "execution_count": 45,
   "metadata": {},
   "outputs": [],
   "source": [
    "def solution(numbers):\n",
    "    \n",
    "    numbers.sort()\n",
    "    \n",
    "\n",
    "    return numbers[-1] * numbers[-2]"
   ]
  },
  {
   "cell_type": "markdown",
   "metadata": {},
   "source": [
    "# 모음 제거\n",
    "### 문제 설명\n",
    "- 영어에선 a, e, i, o, u 다섯 가지 알파벳을 모음으로 분류합니다. 문자열 my_string이 매개변수로 주어질 때 모음을 제거한 문자열을 return하도록 solution 함수를 완성해주세요."
   ]
  },
  {
   "cell_type": "code",
   "execution_count": 103,
   "metadata": {},
   "outputs": [],
   "source": [
    "def solution(my_string):\n",
    "    vowels = ['a','e','i','o','u']\n",
    "\n",
    "    for vowel in vowels:\n",
    "        if vowel in my_string:\n",
    "            my_string = my_string.replace(vowel,'')\n",
    "    return my_string"
   ]
  },
  {
   "cell_type": "markdown",
   "metadata": {},
   "source": [
    "# 369게임\n",
    "### 문제 설명\n",
    "- 머쓱이는 친구들과 369게임을 하고 있습니다. \n",
    "- 369게임은 1부터 숫자를 하나씩 대며 3, 6, 9가 들어가는 숫자는 숫자 대신 3, 6, 9의 개수만큼 박수를 치는 게임입니다. \n",
    "- 머쓱이가 말해야하는 숫자 order가 매개변수로 주어질 때, 머쓱이가 쳐야할 박수 횟수를 return 하도록 solution 함수를 완성해보세요."
   ]
  },
  {
   "cell_type": "code",
   "execution_count": 112,
   "metadata": {},
   "outputs": [],
   "source": [
    "def solution(order):\n",
    "    numbers = ['3','6','9']\n",
    "    \n",
    "    count = 0\n",
    "    for o in str(order):\n",
    "        if o in numbers:\n",
    "            count += 1\n",
    "\n",
    "    return count"
   ]
  },
  {
   "cell_type": "markdown",
   "metadata": {},
   "source": [
    "# 가위 바위 보\n",
    "### 문제 설명\n",
    "- 가위는 2 바위는 0 보는 5로 표현합니다. \n",
    "- 가위 바위 보를 내는 순서대로 나타낸 문자열 rsp가 매개변수로 주어질 때, rsp에 저장된 가위 바위 보를 모두 이기는 경우를 순서대로 나타낸 문자열을 return하도록 solution 함수를 완성해보세요."
   ]
  },
  {
   "cell_type": "code",
   "execution_count": 45,
   "metadata": {},
   "outputs": [],
   "source": [
    "def solution(rsp):\n",
    "    for i in range(0, len(rsp)):\n",
    "        if rsp[i] == '0':\n",
    "            list_rsp = list(rsp)\n",
    "            list_rsp[i] = '5'\n",
    "            rsp = \"\".join(list_rsp)\n",
    "        elif rsp[i] == '2':\n",
    "            list_rsp = list(rsp)\n",
    "            list_rsp[i] = '0'\n",
    "            rsp = \"\".join(list_rsp)\n",
    "        else:\n",
    "            list_rsp = list(rsp)\n",
    "            list_rsp[i] = '2'\n",
    "            rsp = \"\".join(list_rsp)\n",
    "    return rsp\n",
    "\n",
    "    # answer = ''\n",
    "    # for r in rsp:\n",
    "    #     if r == '0':\n",
    "    #         answer += '5'\n",
    "    #     elif r == '2':\n",
    "    #         answer += '0'\n",
    "    #     else:\n",
    "    #         answer += '2'\n",
    "\n",
    "    #     return answer"
   ]
  },
  {
   "cell_type": "markdown",
   "metadata": {},
   "source": [
    "# 아이스 아메리카노\n",
    "### 문제 설명\n",
    "- 머쓱이는 추운 날에도 아이스 아메리카노만 마십니다.\n",
    "- 아이스 아메리카노는 한잔에 5,500원입니다.\n",
    "- 머쓱이가 가지고 있는 돈 money가 매개변수로 주어질 때, 머쓱이가 최대로 마실 수 있는 아메리카노의 잔 수와 남는 돈을 순서대로 담은 배열을 return 하도록 solution 함수를 완성해보세요."
   ]
  },
  {
   "cell_type": "code",
   "execution_count": 1,
   "metadata": {},
   "outputs": [],
   "source": [
    "def solution(money):\n",
    "    answer = []\n",
    "\n",
    "    answer.append(money//5500)\n",
    "    answer.append(money%5500)   \n",
    "    return answer"
   ]
  },
  {
   "cell_type": "markdown",
   "metadata": {},
   "source": [
    "# 숨어있는 숫자의 덧셈 (1)\n",
    "### 문제 설명\n",
    "- 문자열 my_string이 매개변수로 주어집니다.\n",
    "- my_string안의 모든 자연수들의 합을 return하도록 solution 함수를 완성해주세요."
   ]
  },
  {
   "cell_type": "code",
   "execution_count": null,
   "metadata": {},
   "outputs": [],
   "source": [
    "def solution(my_string):\n",
    "    numbers = ['1','2','3','4','5','6','7','8','9']\n",
    "    total = 0\n",
    "    for string in my_string:\n",
    "        if string in numbers: # isnumeric\n",
    "            total += int(string)\n",
    "   \n",
    "    return total"
   ]
  },
  {
   "cell_type": "markdown",
   "metadata": {},
   "source": [
    "# 직각삼각형 출력하기\n",
    "### 문제 설명\n",
    "- \"*\"의 높이와 너비를 1이라고 했을 때, \"*\"을 이용해 직각 이등변 삼각형을 그리려고 합니다.\n",
    "- 정수 n 이 주어지면 높이와 너비가 n 인 직각 이등변 삼각형을 출력하도록 코드를 작성해보세요."
   ]
  },
  {
   "cell_type": "code",
   "execution_count": 53,
   "metadata": {},
   "outputs": [
    {
     "name": "stdout",
     "output_type": "stream",
     "text": [
      "*\n",
      "**\n",
      "***\n",
      "****\n",
      "*****\n"
     ]
    }
   ],
   "source": [
    "n = int(input())\n",
    "\n",
    "m = range(1,n+1)\n",
    "\n",
    "for i in m:\n",
    "    print('*' * i)\n"
   ]
  },
  {
   "cell_type": "markdown",
   "metadata": {},
   "source": [
    "# 가까운 수\n",
    "### 문제 설명\n",
    "- 정수 배열 array와 정수 n이 매개변수로 주어질 때, array에 들어있는 정수 중 n과 가장 가까운 수를 return 하도록 solution 함수를 완성해주세요."
   ]
  },
  {
   "cell_type": "code",
   "execution_count": 93,
   "metadata": {},
   "outputs": [],
   "source": [
    "def solution(array, n):\n",
    "    diff_num = 1e9\n",
    "    for num in array:\n",
    "\n",
    "        if abs(num-n) < diff_num:\n",
    "            diff_num = abs(num-n)\n",
    "            close_num = num\n",
    "        elif abs(num-n) == diff_num:\n",
    "            if close_num > num:\n",
    "                close_num = num\n",
    "\n",
    "    return close_num"
   ]
  },
  {
   "cell_type": "markdown",
   "metadata": {},
   "source": [
    "# k의 개수\n",
    "### 문제 설명\n",
    "- 1부터 13까지의 수에서, 1은 1, 10, 11, 12, 13 이렇게 총 6번 등장합니다.\n",
    "- 정수 i, j, k가 매개변수로 주어질 때, i부터 j까지 k가 몇 번 등장하는지 return 하도록 solution 함수를 완성해주세요."
   ]
  },
  {
   "cell_type": "code",
   "execution_count": 137,
   "metadata": {},
   "outputs": [],
   "source": [
    "def solution(i, j, k):\n",
    "\n",
    "    count = 0\n",
    "    int_numbers = range(i,j+1)\n",
    "    str_numbers = list(map(str, int_numbers))\n",
    "    for str_number in str_numbers:\n",
    "        for number in str_number:\n",
    "            for numb in number:\n",
    "                for num in numb:\n",
    "                    for n in num:\n",
    "                        for i in n:\n",
    "                            if int(i) == k:\n",
    "                                count+=1\n",
    "\n",
    "    return count\n",
    "\n",
    "\n",
    "    # for number in range(i,j+1):\n",
    "    # if str(k) in str(number):\n",
    "    #     answer += str(number).count(str(k))"
   ]
  },
  {
   "cell_type": "markdown",
   "metadata": {},
   "source": [
    "# 팩토리얼\n",
    "### 문제 설명\n",
    "- i팩토리얼 (i!)은 1부터 i까지 정수의 곱을 의미합니다. \n",
    "- 예를들어 5! = 5 * 4 * 3 * 2 * 1 = 120 입니다. \n",
    "- 정수 n이 주어질 때 다음 조건을 만족하는 가장 큰 정수 i를 return 하도록 solution 함수를 완성해주세요.\n",
    "\n",
    "- i! ≤ n"
   ]
  },
  {
   "cell_type": "code",
   "execution_count": null,
   "metadata": {},
   "outputs": [],
   "source": [
    "def solution(n):\n",
    "    answer = 0\n",
    "\n",
    "    factorial = 1\n",
    "    for number in range(1, 11):\n",
    "        factorial *= number\n",
    "        print(factorial)\n",
    "        if factorial <= n:\n",
    "            answer = number\n",
    "\n",
    "    return answer"
   ]
  },
  {
   "cell_type": "markdown",
   "metadata": {},
   "source": [
    "# 영어가 싫어요\n",
    "### 문제 설명\n",
    "- 영어가 싫은 머쓱이는 영어로 표기되어있는 숫자를 수로 바꾸려고 합니다.\n",
    "- 문자열 numbers가 매개변수로 주어질 때, numbers를 정수로 바꿔 return 하도록 solution 함수를 완성해 주세요."
   ]
  },
  {
   "cell_type": "code",
   "execution_count": 22,
   "metadata": {},
   "outputs": [],
   "source": [
    "def solution(numbers):\n",
    "    number_dicts = {\"zero\":0, \"one\":1, \"two\":2, \"three\":3, \"four\":4, \"five\":5, \"six\":6, \"seven\":7, \"eight\":8, \"nine\":9 }\n",
    "\n",
    "    for number_dict in number_dicts:\n",
    "        if number_dict in numbers:\n",
    "            numbers = numbers.replace(number_dict, str(number_dicts[number_dict]))\n",
    "            \n",
    "    return int(numbers)\n"
   ]
  },
  {
   "cell_type": "markdown",
   "metadata": {},
   "source": []
  },
  {
   "cell_type": "code",
   "execution_count": null,
   "metadata": {},
   "outputs": [],
   "source": []
  },
  {
   "cell_type": "code",
   "execution_count": null,
   "metadata": {},
   "outputs": [],
   "source": []
  },
  {
   "cell_type": "code",
   "execution_count": null,
   "metadata": {},
   "outputs": [],
   "source": []
  },
  {
   "cell_type": "code",
   "execution_count": null,
   "metadata": {},
   "outputs": [],
   "source": []
  }
 ],
 "metadata": {
  "kernelspec": {
   "display_name": "Python 3.10.4 ('study')",
   "language": "python",
   "name": "python3"
  },
  "language_info": {
   "codemirror_mode": {
    "name": "ipython",
    "version": 3
   },
   "file_extension": ".py",
   "mimetype": "text/x-python",
   "name": "python",
   "nbconvert_exporter": "python",
   "pygments_lexer": "ipython3",
   "version": "3.10.4"
  },
  "orig_nbformat": 4,
  "vscode": {
   "interpreter": {
    "hash": "0366d95cfe3e294a9405a60bcbbb3d4cd1344975bbb420614b4c3178f22fa862"
   }
  }
 },
 "nbformat": 4,
 "nbformat_minor": 2
}
