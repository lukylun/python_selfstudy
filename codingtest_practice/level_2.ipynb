{
 "cells": [
  {
   "cell_type": "markdown",
   "metadata": {},
   "source": [
    "# 최댓값과 최솟값\n",
    "### 문제 설명\n",
    "- 문자열 s에는 공백으로 구분된 숫자들이 저장되어 있습니다.\n",
    "- str에 나타나는 숫자 중 최소값과 최대값을 찾아 이를 \"(최소값) (최대값)\"형태의 문자열을 반환하는 함수, solution을 완성하세요.\n",
    "- 예를들어 s가 \"1 2 3 4\"라면 \"1 4\"를 리턴하고, \"-1 -2 -3 -4\"라면 \"-4 -1\"을 리턴하면 됩니다."
   ]
  },
  {
   "cell_type": "code",
   "execution_count": 2,
   "metadata": {},
   "outputs": [],
   "source": [
    "def solution(s):\n",
    "    s = s.split()\n",
    "\n",
    "    max_number = s[0]\n",
    "    min_number = s[0]\n",
    "    temp = []\n",
    "    answer = ''\n",
    "\n",
    "    for i in s:\n",
    "        if int(i)> int(max_number):\n",
    "            max_number = i\n",
    "        elif int(i) < int(min_number):\n",
    "            min_number = i\n",
    "    temp.append(min_number)   \n",
    "    temp.append(max_number)\n",
    "    answer = \" \".join(temp)\n",
    "    answer\n",
    "    return answer\n",
    "\n",
    "\n",
    "def solution(s):\n",
    "    s = list(map(int,s.split()))\n",
    "    return str(min(s)) + \" \" + str(max(s))\n",
    "\n",
    "def solution(s):\n",
    "    return map(lambda x: str(min(x))+\" \"+str(max(x)), [list(map(int,s.split(\" \")))]).__next__()"
   ]
  },
  {
   "cell_type": "markdown",
   "metadata": {},
   "source": [
    "# JadenCase 문자열 만들기\n",
    "### 문제 설명\n",
    "- JadenCase란 모든 단어의 첫 문자가 대문자이고, 그 외의 알파벳은 소문자인 문자열입니다.\n",
    "- 단, 첫 문자가 알파벳이 아닐 때에는 이어지는 알파벳은 소문자로 쓰면 됩니다. (첫 번째 입출력 예 참고)\n",
    "- 문자열 s가 주어졌을 때, s를 JadenCase로 바꾼 문자열을 리턴하는 함수, solution을 완성해주세요."
   ]
  },
  {
   "cell_type": "code",
   "execution_count": 164,
   "metadata": {},
   "outputs": [],
   "source": [
    "def solution(s):\n",
    "    s = list(s.split(' '))\n",
    "    answer = ''\n",
    "\n",
    "    for letters in s:    \n",
    "        for i in range(len(letters)):\n",
    "            letter = letters[i].upper() if i == 0 else letters[i].lower()\n",
    "            answer = answer + letter\n",
    "            \n",
    "        answer += ' '            \n",
    "    return answer[:-1]"
   ]
  },
  {
   "cell_type": "code",
   "execution_count": 154,
   "metadata": {},
   "outputs": [
    {
     "data": {
      "text/plain": [
       "'3People Unfollowed Me'"
      ]
     },
     "execution_count": 154,
     "metadata": {},
     "output_type": "execute_result"
    }
   ],
   "source": [
    "s = \"3people unFollowed me\"\n",
    "s.title()"
   ]
  },
  {
   "cell_type": "code",
   "execution_count": 161,
   "metadata": {},
   "outputs": [
    {
     "data": {
      "text/plain": [
       "'3pple'"
      ]
     },
     "execution_count": 161,
     "metadata": {},
     "output_type": "execute_result"
    }
   ],
   "source": [
    "s = '3pple'\n",
    "s.capitalize()"
   ]
  },
  {
   "cell_type": "code",
   "execution_count": null,
   "metadata": {},
   "outputs": [],
   "source": []
  }
 ],
 "metadata": {
  "kernelspec": {
   "display_name": "Python 3.10.4 ('study')",
   "language": "python",
   "name": "python3"
  },
  "language_info": {
   "codemirror_mode": {
    "name": "ipython",
    "version": 3
   },
   "file_extension": ".py",
   "mimetype": "text/x-python",
   "name": "python",
   "nbconvert_exporter": "python",
   "pygments_lexer": "ipython3",
   "version": "3.10.4"
  },
  "orig_nbformat": 4,
  "vscode": {
   "interpreter": {
    "hash": "0366d95cfe3e294a9405a60bcbbb3d4cd1344975bbb420614b4c3178f22fa862"
   }
  }
 },
 "nbformat": 4,
 "nbformat_minor": 2
}
