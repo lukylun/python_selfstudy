{
 "cells": [
  {
   "cell_type": "code",
   "execution_count": null,
   "metadata": {},
   "outputs": [],
   "source": [
    "from collections import deque\n",
    "dr = [-1, 1, 0, 0]\n",
    "dc = [0, 0, -1, 1]\n",
    "\n",
    "def solution(M, S, D):\n",
    "    ans = 0\n",
    "\n",
    "    q = deque()\n",
    "    q.append(S)\n",
    "    v = [[0] * len(M[0]) for _ in range(len(M))]\n",
    "    while q:\n",
    "        r, c = q.leftpop()\n",
    "        if r == D[0] and c == D[1]:\n",
    "            break\n",
    "        else:\n",
    "            for d in range(4):\n",
    "                nr = r + dr[d]\n",
    "                nc = c + dc[d]\n",
    "                if 0 <= nr < len(M) and 0 <= nc < len(M[0]) and not v[nr][nc] and not M[nr][nc]:\n",
    "                    q.append((nr, nc))\n",
    "                    v[nr][nc] = v[r][c] + 1\n",
    "   \n",
    "    if v[D[0]][D[1]] != 0:\n",
    "        ans = v[D[0][D[1]]\n",
    "    else:\n",
    "        ans = -1\n",
    "    \n",
    "    return ans"
   ]
  }
 ],
 "metadata": {
  "kernelspec": {
   "display_name": "study",
   "language": "python",
   "name": "python3"
  },
  "language_info": {
   "codemirror_mode": {
    "name": "ipython",
    "version": 3
   },
   "file_extension": ".py",
   "mimetype": "text/x-python",
   "name": "python",
   "nbconvert_exporter": "python",
   "pygments_lexer": "ipython3",
   "version": "3.10.4"
  },
  "orig_nbformat": 4
 },
 "nbformat": 4,
 "nbformat_minor": 2
}
