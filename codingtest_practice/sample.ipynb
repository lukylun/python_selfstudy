{
 "cells": [
  {
   "cell_type": "code",
   "execution_count": 10,
   "metadata": {},
   "outputs": [
    {
     "data": {
      "text/plain": [
       "[[1]]"
      ]
     },
     "execution_count": 10,
     "metadata": {},
     "output_type": "execute_result"
    }
   ],
   "source": [
    "stack = [1]\n",
    "t_stack = []\n",
    "t_stack.append(stack[:])\n",
    "t_stack"
   ]
  },
  {
   "cell_type": "code",
   "execution_count": 5,
   "metadata": {},
   "outputs": [
    {
     "ename": "IndexError",
     "evalue": "pop from empty list",
     "output_type": "error",
     "traceback": [
      "\u001b[1;31m---------------------------------------------------------------------------\u001b[0m",
      "\u001b[1;31mIndexError\u001b[0m                                Traceback (most recent call last)",
      "\u001b[1;32mc:\\Users\\seoyj\\바탕 화면\\python_review\\codingtest_practice\\sample.ipynb Cell 2\u001b[0m in \u001b[0;36m1\n\u001b[1;32m----> <a href='vscode-notebook-cell:/c%3A/Users/seoyj/%EB%B0%94%ED%83%95%20%ED%99%94%EB%A9%B4/python_review/codingtest_practice/sample.ipynb#W2sZmlsZQ%3D%3D?line=0'>1</a>\u001b[0m stack\u001b[39m.\u001b[39;49mpop()\n",
      "\u001b[1;31mIndexError\u001b[0m: pop from empty list"
     ]
    }
   ],
   "source": [
    "stack.pop()"
   ]
  },
  {
   "cell_type": "code",
   "execution_count": 6,
   "metadata": {},
   "outputs": [
    {
     "name": "stdout",
     "output_type": "stream",
     "text": [
      "5\n",
      "3\n",
      "7\n",
      "3\n",
      "5\n",
      "2\n",
      "7\n",
      "4\n",
      "7\n",
      "2\n",
      "5\n",
      "-1\n",
      "\n"
     ]
    }
   ],
   "source": [
    "N = int(input())\n",
    "stack = []\n",
    "t_stack = []\n",
    "\n",
    "for i in range(N):\n",
    "    lst = input().split()\n",
    "    if len(lst) == 2:\n",
    "        x = lst[0]\n",
    "        y = lst[1]\n",
    "        if x == 'a':\n",
    "            stack.append(y)\n",
    "            t_stack.append(stack[:])\n",
    "            if stack:\n",
    "                print(stack[-1])\n",
    "            else:\n",
    "                print(-1)\n",
    "\n",
    "        elif x == 't':\n",
    "            stack = t_stack[int(y) - 2]\n",
    "            t_stack.append(stack[:])\n",
    "            if stack:\n",
    "                print(stack[-1])\n",
    "            else:\n",
    "                print(-1)\n",
    "    else:\n",
    "        x = lst[0]\n",
    "        if x == 's':\n",
    "            if stack:\n",
    "                stack.pop()\n",
    "                t_stack.append(stack[:])\n",
    "                if stack:\n",
    "                    print(stack[-1])\n",
    "                else:\n",
    "                    print(-1)\n",
    "            else:\n",
    "                t_stack.append(stack[:])\n",
    "                if stack:\n",
    "                    print(stack[-1])\n",
    "                else:\n",
    "                    print(-1)\n",
    "\n",
    "print('')\n",
    "\n",
    "\n",
    "\n"
   ]
  },
  {
   "cell_type": "code",
   "execution_count": null,
   "metadata": {},
   "outputs": [],
   "source": [
    "a 5\n",
    "a 3\n",
    "a 7\n",
    "s\n",
    "t 2\n",
    "a 2\n",
    "t 4\n",
    "a 4\n",
    "s\n",
    "t 7\n",
    "s\n",
    "s\n",
    "a 4\n"
   ]
  }
 ],
 "metadata": {
  "kernelspec": {
   "display_name": "study",
   "language": "python",
   "name": "python3"
  },
  "language_info": {
   "codemirror_mode": {
    "name": "ipython",
    "version": 3
   },
   "file_extension": ".py",
   "mimetype": "text/x-python",
   "name": "python",
   "nbconvert_exporter": "python",
   "pygments_lexer": "ipython3",
   "version": "3.10.4"
  },
  "orig_nbformat": 4
 },
 "nbformat": 4,
 "nbformat_minor": 2
}
