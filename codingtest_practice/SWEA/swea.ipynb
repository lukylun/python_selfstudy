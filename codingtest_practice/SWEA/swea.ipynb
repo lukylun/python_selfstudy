{
 "cells": [
  {
   "cell_type": "markdown",
   "metadata": {},
   "source": [
    "# 1974. 스도쿠 검증"
   ]
  },
  {
   "cell_type": "code",
   "execution_count": null,
   "metadata": {},
   "outputs": [],
   "source": [
    "N = int(input())\n",
    "for t in range(0, N):\n",
    "    n = [list(map(int, input().split())) for _ in range(9)]\n",
    "    print(n)\n",
    "    result = 1\n",
    "    for i in range(9):\n",
    "        rows = [0] * 10\n",
    "        columns = [0] * 10\n",
    "        for j in range(9):\n",
    "            rows[n[i][j]] += 1\n",
    "            columns[n[j][i]] += 1\n",
    "\n",
    "        for k in range(1, 10):\n",
    "            if rows[k] != 1:\n",
    "                result = 0\n",
    "                break\n",
    "            if columns[k] != 1:\n",
    "                result = 0\n",
    "                break\n",
    "    for l in range(3):\n",
    "        for m in range(3):\n",
    "            triple = [0] * 10\n",
    "            for o in range(3):\n",
    "                for p in range(3):\n",
    "                    triple[n[3*l+o][3*m+p]] += 1\n",
    "\n",
    "            for q in range(1, 10):\n",
    "                if triple[q] != 1:\n",
    "                    result = 0\n",
    "                    break\n",
    "\n",
    "    print(\"#{} {}\".format(t+1, result))"
   ]
  },
  {
   "cell_type": "markdown",
   "metadata": {},
   "source": [
    "## [S/W 문제해결 기본] 1일차 - View"
   ]
  },
  {
   "cell_type": "code",
   "execution_count": null,
   "metadata": {},
   "outputs": [],
   "source": [
    "for i in range(1, 11):\n",
    "    n = int(input())\n",
    "    aparts = list(map(int, input().split()))\n",
    " \n",
    "    cnt = 0\n",
    "    for a in range(2, n - 2):\n",
    "        max_floor = 0\n",
    "        distance = 0\n",
    "        for b in range(-2, 3):\n",
    "            if aparts[a + b] > max_floor and b != 0:\n",
    "                max_floor = aparts[a + b]\n",
    "                distance = b\n",
    "        if aparts[a] > max_floor:\n",
    "            cnt += aparts[a] - max_floor\n",
    "    print(f'#{i} {cnt}')"
   ]
  },
  {
   "cell_type": "code",
   "execution_count": null,
   "metadata": {},
   "outputs": [],
   "source": [
    "## 4014. 활주로 건설\n",
    "\n",
    "T = int(input())\n",
    "for tc in range(1, T+1):\n",
    "    n, x = map(int, input().split())\n",
    "    arr = [list(map(str, input().split())) for _ in range(n)]\n",
    "\n",
    "    cnt = 0\n",
    "    for i in range(n):\n",
    "        check = arr[i][0]\n",
    "        for j in range(1, n):\n",
    "            if arr[i][j] == arr[i][j-1]:\n",
    "                check += arr[i][j]\n",
    "            elif int(arr[i][j]) > int(arr[i][j-1]) and abs(int((arr[i][j])) - int((arr[i][j-1]))) == 1:\n",
    "                if ''.join(arr[i][j-x:j]) == (arr[i][j-1] * x):\n",
    "                    check += arr[i][j]\n",
    "                else:\n",
    "                    break\n",
    "            elif int(arr[i][j]) < int(arr[i][j-1]) and abs(int(arr[i][j]) - int(arr[i][j-1])) == 1:\n",
    "                if ''.join(arr[i][j:j+x]) == (arr[i][j] * x):\n",
    "                    check += arr[i][j]\n",
    "                else:\n",
    "                    break\n",
    "            if len(check) == n:\n",
    "                cnt += 1\n",
    "    print(cnt)\n",
    "    arr_90 = [[0] * n for _ in range(n)]\n",
    "    for i in range(n):\n",
    "        for j in range(n):\n",
    "            arr_90[i][j] = arr[j][i]\n",
    "\n",
    "    for i in range(n):\n",
    "        check = arr_90[i][0]\n",
    "        for j in range(1, n):\n",
    "            if arr_90[i][j] == arr_90[i][j-1]:\n",
    "                check += arr_90[i][j]\n",
    "            elif int(arr_90[i][j]) > int(arr_90[i][j-1]) and abs(int((arr_90[i][j])) - int((arr_90[i][j-1]))) == 1:\n",
    "                if ''.join(arr_90[i][j-x:j]) == (arr_90[i][j-1] * x):\n",
    "                    check += arr_90[i][j]\n",
    "                else:\n",
    "                    break\n",
    "            elif int(arr_90[i][j]) < int(arr_90[i][j-1]) and abs(int(arr_90[i][j]) - int(arr_90[i][j-1])) == 1:\n",
    "                if ''.join(arr_90[i][j:j+x]) == (arr_90[i][j] * x):\n",
    "                    check += arr_90[i][j]\n",
    "                else:\n",
    "                    break\n",
    "            if len(check) == n:\n",
    "                cnt += 1\n",
    "    print(f'#{tc} {cnt}')\n",
    "\n",
    "\n",
    "\n",
    "\n",
    "\n"
   ]
  }
 ],
 "metadata": {
  "kernelspec": {
   "display_name": "Python 3",
   "language": "python",
   "name": "python3"
  },
  "language_info": {
   "codemirror_mode": {
    "name": "ipython",
    "version": 3
   },
   "file_extension": ".py",
   "mimetype": "text/x-python",
   "name": "python",
   "nbconvert_exporter": "python",
   "pygments_lexer": "ipython3",
   "version": "3.9.12 (tags/v3.9.12:b28265d, Mar 23 2022, 23:52:46) [MSC v.1929 64 bit (AMD64)]"
  },
  "orig_nbformat": 4,
  "vscode": {
   "interpreter": {
    "hash": "c4b9ebf4ca459396e2ad1150752490c26670c1a037c08cad955a4425787bec2e"
   }
  }
 },
 "nbformat": 4,
 "nbformat_minor": 2
}
