{
 "cells": [
  {
   "cell_type": "code",
   "execution_count": 9,
   "metadata": {},
   "outputs": [],
   "source": [
    "def solution(number,k):\n",
    "    answer = ''\n",
    "    number = list(map(int, number))\n",
    "\n",
    "    now_index = 0\n",
    "    # 배열 길이 - k만큼 돌고 남으면, 더이상 볼 필요 없음.\n",
    "    for i in range(len(number)-k):\n",
    "        # 내가 볼 수 있는 부분만 (k+1만큼만 가져옴)\n",
    "        remains = number[now_index : now_index+k+1]\n",
    "        max_value = -1\n",
    "        max_index = 0\n",
    "\n",
    "        # 해당 부분 확인하면서 가장 큰 값, index 확인\n",
    "        for j,v in enumerate(remains):\n",
    "            # 만약 현재 값이 저장해둔 max_value보다 크면,\n",
    "            if v > max_value:\n",
    "                # 최신화\n",
    "                max_value = v\n",
    "                max_index = j\n",
    "            # 단일자리에서 가장 큰 수는 9이기 때문에, 바로 break\n",
    "            if max_value == 9 : break\n",
    "        \n",
    "        # now_index, k , naswer 최신화\n",
    "        # 현재 보고있는 index에서\n",
    "        # max_index는 remains의 index니까 (0부터 시작하기 때문에)\n",
    "        # now_index + max_index 그 다음꺼부터 보기 위해 +1 해줌\n",
    "        now_index += max_index + 1\n",
    "        k -= max_index\n",
    "        answer += str(max_value)\n",
    "\n",
    "    return answer\n",
    "\n"
   ]
  },
  {
   "cell_type": "code",
   "execution_count": 19,
   "metadata": {},
   "outputs": [
    {
     "data": {
      "text/plain": [
       "'94'"
      ]
     },
     "execution_count": 19,
     "metadata": {},
     "output_type": "execute_result"
    }
   ],
   "source": [
    "number = \"1924\"\n",
    "k = 2\n",
    "\n",
    "solution(number, k)"
   ]
  },
  {
   "cell_type": "code",
   "execution_count": null,
   "metadata": {},
   "outputs": [],
   "source": []
  },
  {
   "cell_type": "code",
   "execution_count": null,
   "metadata": {},
   "outputs": [],
   "source": [
    "def solution(citations):\n",
    "    answer = 0\n",
    "    return answer"
   ]
  },
  {
   "cell_type": "code",
   "execution_count": 27,
   "metadata": {},
   "outputs": [],
   "source": [
    "citations =[3, 0, 6, 1, 5]\n",
    "\n",
    "now_index = 0\n",
    "nxt_index = 1\n",
    "\n",
    "for i in range(len(citations)):\n",
    "    if citations[now_index] > citations[nxt_index]:\n",
    "        citations[now_index], citations[nxt_index] = citations[nxt_index], citations[now_index]\n",
    "    else:\n",
    "        now_index += 1\n",
    "        "
   ]
  },
  {
   "cell_type": "code",
   "execution_count": 28,
   "metadata": {},
   "outputs": [
    {
     "data": {
      "text/plain": [
       "[0, 3, 6, 1, 5]"
      ]
     },
     "execution_count": 28,
     "metadata": {},
     "output_type": "execute_result"
    }
   ],
   "source": [
    "citations"
   ]
  },
  {
   "cell_type": "code",
   "execution_count": 50,
   "metadata": {},
   "outputs": [
    {
     "data": {
      "text/plain": [
       "[1, 1, 1, 2, 2, 2, 3, 3, 3, 3, 5, 7, 8]"
      ]
     },
     "execution_count": 50,
     "metadata": {},
     "output_type": "execute_result"
    }
   ],
   "source": [
    "# 선택정렬\n",
    "arrays = [2,3,5,7,8,1,1,2,3,3,1,2,3]\n",
    "\n",
    "\n",
    "for i in range(len(arrays)-1):\n",
    "    array_idx = i\n",
    "    for j in range(i+1, len(arrays)):\n",
    "        if arrays[array_idx] > arrays[j]:\n",
    "            array_idx = j\n",
    "    arrays[i], arrays[array_idx] = arrays[array_idx], arrays[i]\n",
    "\n",
    "arrays"
   ]
  },
  {
   "cell_type": "code",
   "execution_count": 51,
   "metadata": {},
   "outputs": [
    {
     "data": {
      "text/plain": [
       "[1, 2, 2, 3, 5, 7]"
      ]
     },
     "execution_count": 51,
     "metadata": {},
     "output_type": "execute_result"
    }
   ],
   "source": [
    "# 삽입정렬\n",
    "arrays = [2,5,7,1,2,3]\n",
    "\n",
    "for i in range(1, len(arrays)):\n",
    "    for j in range(i,0,-1):\n",
    "        if arrays[j-1] > arrays[j]:\n",
    "            arrays[j-1], arrays[j] = arrays[j], arrays[j-1]\n",
    "    \n",
    "\n",
    "arrays\n"
   ]
  },
  {
   "cell_type": "code",
   "execution_count": 58,
   "metadata": {},
   "outputs": [
    {
     "data": {
      "text/plain": [
       "[1, 2, 2, 3, 5, 7]"
      ]
     },
     "execution_count": 58,
     "metadata": {},
     "output_type": "execute_result"
    }
   ],
   "source": [
    "# 버블정렬\n",
    "arrays = [2,5,7,1,2,3]\n",
    "\n",
    "\n",
    "for i in range(len(arrays)-1,0,-1):\n",
    "    for j in range(i):\n",
    "        if arrays[j] > arrays[j+1]:\n",
    "            arrays[j], arrays[j+1] = arrays[j+1], arrays[j]\n",
    "    \n",
    "\n",
    "arrays"
   ]
  },
  {
   "attachments": {},
   "cell_type": "markdown",
   "metadata": {},
   "source": [
    "### 예제 : BinarySearch 재귀함수 구현\n",
    "- 함수의 파라미터는 목표 값, 시작 index, 끝 index, 그리고 정렬된 iterable한 객체이다.\n",
    "- 시작 index와 끝 index를 비교하여 시작 index가 끝 index보다 클 경우 종료\n",
    "- 중앙 index를 계산\n",
    "- (1) 중앙값이 target과 같으면 해당 index 반환\n",
    "- (2) 중앙값이 target보다 작으면, (3) 중앙값이 target보다 크면, 각각 자기 자신을 다시 호출 (start, end를 mid로 대체)"
   ]
  },
  {
   "cell_type": "code",
   "execution_count": 14,
   "metadata": {},
   "outputs": [],
   "source": [
    "# 이진 탐색\n",
    "def BinarySearch(fibo_list, target_idx):\n",
    "\n",
    "    start_idx = fibo_list[0]\n",
    "    end_idx = fibo_list[-1]\n",
    "    cnt = 1\n",
    "    mid_idx = int((start_idx+end_idx)/2)\n",
    "    \n",
    "    while True:\n",
    "        if mid_idx == target_idx:\n",
    "            break\n",
    "        \n",
    "        elif mid_idx < target_idx:\n",
    "            start_idx = mid_idx\n",
    "            mid_idx = int((start_idx+end_idx)/2)\n",
    "            cnt += 1\n",
    "            # print(\"중앙값이 target보다 작음:\", mid_idx)\n",
    "\n",
    "        else:\n",
    "            end_idx = mid_idx\n",
    "            mid_idx = int((start_idx+end_idx)/2)\n",
    "            cnt += 1\n",
    "            # print(\"중앙값이 target보다 큼:\", mid_idx)\n",
    "\n",
    "    return cnt\n",
    "    "
   ]
  },
  {
   "cell_type": "code",
   "execution_count": 19,
   "metadata": {},
   "outputs": [
    {
     "data": {
      "text/plain": [
       "6"
      ]
     },
     "execution_count": 19,
     "metadata": {},
     "output_type": "execute_result"
    }
   ],
   "source": [
    "BinarySearch(list(range(1,51)), 49)"
   ]
  },
  {
   "cell_type": "code",
   "execution_count": 12,
   "metadata": {},
   "outputs": [],
   "source": [
    "def f(number):\n",
    "    if number == 1 or number == 2:\n",
    "        return 1\n",
    "    \n",
    "    else:\n",
    "        return f(number-1)+ f(number-2)\n",
    "    "
   ]
  },
  {
   "cell_type": "code",
   "execution_count": 13,
   "metadata": {},
   "outputs": [
    {
     "data": {
      "text/plain": [
       "55"
      ]
     },
     "execution_count": 13,
     "metadata": {},
     "output_type": "execute_result"
    }
   ],
   "source": [
    "f(10)"
   ]
  },
  {
   "cell_type": "code",
   "execution_count": null,
   "metadata": {},
   "outputs": [],
   "source": []
  }
 ],
 "metadata": {
  "kernelspec": {
   "display_name": "study",
   "language": "python",
   "name": "python3"
  },
  "language_info": {
   "codemirror_mode": {
    "name": "ipython",
    "version": 3
   },
   "file_extension": ".py",
   "mimetype": "text/x-python",
   "name": "python",
   "nbconvert_exporter": "python",
   "pygments_lexer": "ipython3",
   "version": "3.10.4"
  },
  "orig_nbformat": 4,
  "vscode": {
   "interpreter": {
    "hash": "0366d95cfe3e294a9405a60bcbbb3d4cd1344975bbb420614b4c3178f22fa862"
   }
  }
 },
 "nbformat": 4,
 "nbformat_minor": 2
}
