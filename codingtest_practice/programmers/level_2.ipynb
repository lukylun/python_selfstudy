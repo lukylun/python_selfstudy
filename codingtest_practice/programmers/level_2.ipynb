{
 "cells": [
  {
   "cell_type": "markdown",
   "metadata": {},
   "source": [
    "# 최댓값과 최솟값\n",
    "### 문제 설명\n",
    "- 문자열 s에는 공백으로 구분된 숫자들이 저장되어 있습니다.\n",
    "- str에 나타나는 숫자 중 최소값과 최대값을 찾아 이를 \"(최소값) (최대값)\"형태의 문자열을 반환하는 함수, solution을 완성하세요.\n",
    "- 예를들어 s가 \"1 2 3 4\"라면 \"1 4\"를 리턴하고, \"-1 -2 -3 -4\"라면 \"-4 -1\"을 리턴하면 됩니다."
   ]
  },
  {
   "cell_type": "code",
   "execution_count": 62,
   "metadata": {},
   "outputs": [],
   "source": [
    "def solution(s):\n",
    "    s = s.split()\n",
    "\n",
    "    max_number = s[0]\n",
    "    min_number = s[0]\n",
    "    temp = []\n",
    "    answer = ''\n",
    "\n",
    "    for i in s:\n",
    "        if int(i)> int(max_number):\n",
    "            max_number = i\n",
    "        elif int(i) < int(min_number):\n",
    "            min_number = i\n",
    "    temp.append(min_number)   \n",
    "    temp.append(max_number)\n",
    "    answer = \" \".join(temp)\n",
    "    answer\n",
    "    return answer\n",
    "\n",
    "\n",
    "def solution(s):\n",
    "    s = list(map(int,s.split()))\n",
    "    return str(min(s)) + \" \" + str(max(s))\n",
    "\n",
    "def solution(s):\n",
    "    return map(lambda x: str(min(x))+\" \"+str(max(x)), [list(map(int,s.split(\" \")))]).__next__()"
   ]
  },
  {
   "cell_type": "markdown",
   "metadata": {},
   "source": [
    "# JadenCase 문자열 만들기\n",
    "### 문제 설명\n",
    "- JadenCase란 모든 단어의 첫 문자가 대문자이고, 그 외의 알파벳은 소문자인 문자열입니다.\n",
    "- 단, 첫 문자가 알파벳이 아닐 때에는 이어지는 알파벳은 소문자로 쓰면 됩니다. (첫 번째 입출력 예 참고)\n",
    "- 문자열 s가 주어졌을 때, s를 JadenCase로 바꾼 문자열을 리턴하는 함수, solution을 완성해주세요."
   ]
  },
  {
   "cell_type": "code",
   "execution_count": 63,
   "metadata": {},
   "outputs": [],
   "source": [
    "def solution(s):\n",
    "    s = list(s.split(' '))\n",
    "    answer = ''\n",
    "\n",
    "    for letters in s:    \n",
    "        for i in range(len(letters)):\n",
    "            letter = letters[i].upper() if i == 0 else letters[i].lower()\n",
    "            answer = answer + letter\n",
    "            \n",
    "        answer += ' '            \n",
    "    return answer[:-1]"
   ]
  },
  {
   "cell_type": "code",
   "execution_count": 64,
   "metadata": {},
   "outputs": [
    {
     "data": {
      "text/plain": [
       "'3People Unfollowed Me'"
      ]
     },
     "execution_count": 64,
     "metadata": {},
     "output_type": "execute_result"
    }
   ],
   "source": [
    "s = \"3people unFollowed me\"\n",
    "s.title()"
   ]
  },
  {
   "cell_type": "code",
   "execution_count": 65,
   "metadata": {},
   "outputs": [
    {
     "data": {
      "text/plain": [
       "'3pple'"
      ]
     },
     "execution_count": 65,
     "metadata": {},
     "output_type": "execute_result"
    }
   ],
   "source": [
    "s = '3pple'\n",
    "s.capitalize()"
   ]
  },
  {
   "cell_type": "code",
   "execution_count": null,
   "metadata": {},
   "outputs": [],
   "source": []
  },
  {
   "cell_type": "markdown",
   "metadata": {},
   "source": [
    "# 최솟값 만들기\n",
    "### 문제 설명\n",
    "- 길이가 같은 배열 A, B 두개가 있습니다. \n",
    "- 각 배열은 자연수로 이루어져 있습니다.\n",
    "- 배열 A, B에서 각각 한 개의 숫자를 뽑아 두 수를 곱합니다.\n",
    "- 이러한 과정을 배열의 길이만큼 반복하며, 두 수를 곱한 값을 누적하여 더합니다.\n",
    "- 이때 최종적으로 누적된 값이 최소가 되도록 만드는 것이 목표입니다.\n",
    "- (단, 각 배열에서 k번째 숫자를 뽑았다면 다음에 k번째 숫자는 다시 뽑을 수 없습니다.)\n",
    "\n",
    "- 예를 들어 A = [1, 4, 2] , B = [5, 4, 4] 라면\n",
    "\n",
    "- A에서 첫번째 숫자인 1, B에서 첫번째 숫자인 5를 뽑아 곱하여 더합니다. (누적된 값 : 0 + 5(1x5) = 5)\n",
    "- A에서 두번째 숫자인 4, B에서 세번째 숫자인 4를 뽑아 곱하여 더합니다. (누적된 값 : 5 + 16(4x4) = 21)\n",
    "- A에서 세번째 숫자인 2, B에서 두번째 숫자인 4를 뽑아 곱하여 더합니다. (누적된 값 : 21 + 8(2x4) = 29)\n",
    "- 즉, 이 경우가 최소가 되므로 29를 return 합니다.\n",
    "\n",
    "- 배열 A, B가 주어질 때 최종적으로 누적된 최솟값을 return 하는 solution 함수를 완성해 주세요."
   ]
  },
  {
   "cell_type": "code",
   "execution_count": 66,
   "metadata": {},
   "outputs": [],
   "source": [
    "def solution(A,B):\n",
    "    answer = 0\n",
    "    A.sort()\n",
    "    B.sort(reverse=True)\n",
    "    \n",
    "    for i in range(len(A)):\n",
    "        answer += A[i] * B[i]\n",
    "    # for i,j in zip(A,B)\n",
    "    #     answer += i * j\n",
    "\n",
    "    return answer\n",
    "\n",
    "\n",
    "def getMinSum(A,B):\n",
    "    return sum(a*b for a, b in zip(sorted(A), sorted(B, reverse = True)))"
   ]
  },
  {
   "cell_type": "markdown",
   "metadata": {},
   "source": [
    "# 올바른 괄호\n",
    "### 문제 설명\n",
    "- 괄호가 바르게 짝지어졌다는 것은 '(' 문자로 열렸으면 반드시 짝지어서 ')' 문자로 닫혀야 한다는 뜻입니다. \n",
    "- 예를 들어\n",
    "\n",
    "    - \"()()\" 또는 \"(())()\" 는 올바른 괄호입니다.\n",
    "    - \")()(\" 또는 \"(()(\" 는 올바르지 않은 괄호입니다.\n",
    "    - '(' 또는 ')' 로만 이루어진 문자열 s가 주어졌을 때, 문자열 s가 올바른 괄호이면 true를 return 하고,\n",
    "    - 올바르지 않은 괄호이면 false를 return 하는 solution 함수를 완성해 주세요."
   ]
  },
  {
   "cell_type": "code",
   "execution_count": 187,
   "metadata": {},
   "outputs": [],
   "source": [
    "def solution(s):\n",
    "    open_cnt = 0\n",
    "    close_cnt = 0\n",
    "    if s[0] == \"(\" and s[-1] == \")\" and s.count(\"(\") == s.count(\")\"):\n",
    "        for i in range(len(s)):\n",
    "            if open_cnt >= close_cnt:\n",
    "                if s[i] == \"(\":\n",
    "                    open_cnt +=1\n",
    "                else:\n",
    "                    close_cnt+=1\n",
    "            else:\n",
    "                answer = False\n",
    "        if open_cnt + close_cnt == len(s):\n",
    "            answer = True\n",
    "    else:\n",
    "        answer =  False  \n",
    "    return answer\n"
   ]
  },
  {
   "cell_type": "code",
   "execution_count": 68,
   "metadata": {},
   "outputs": [
    {
     "data": {
      "text/plain": [
       "True"
      ]
     },
     "execution_count": 68,
     "metadata": {},
     "output_type": "execute_result"
    }
   ],
   "source": [
    "s = \"()))((()\"\n",
    "\n",
    "a = 0\n",
    "b = 0\n",
    "for letter in s:\n",
    "    if a < b:\n",
    "        answer = False\n",
    "    elif a > b:\n",
    "        if letter == \"(\":\n",
    "            a += 1\n",
    "        else:\n",
    "            b += 1\n",
    "    else:\n",
    "        answer = True\n",
    "answer\n",
    "    "
   ]
  },
  {
   "cell_type": "markdown",
   "metadata": {},
   "source": [
    "# 이진 변환 반복하기\n",
    "### 문제 설명\n",
    "- 0과 1로 이루어진 어떤 문자열 x에 대한 이진 변환을 다음과 같이 정의합니다.\n",
    "\n",
    "- x의 모든 0을 제거합니다.\n",
    "- x의 길이를 c라고 하면, x를 \"c를 2진법으로 표현한 문자열\"로 바꿉니다.\n",
    "- 예를 들어, x = \"0111010\"이라면, x에 이진 변환을 가하면 x = \"0111010\" -> \"1111\" -> \"100\" 이 됩니다.\n",
    "\n",
    "- 0과 1로 이루어진 문자열 s가 매개변수로 주어집니다.\n",
    "- s가 \"1\"이 될 때까지 계속해서 s에 이진 변환을 가했을 때,\n",
    "- 이진 변환의 횟수와 변환 과정에서 제거된 모든 0의 개수를 각각 배열에 담아 return 하도록 solution 함수를 완성해주세요."
   ]
  },
  {
   "cell_type": "code",
   "execution_count": 69,
   "metadata": {},
   "outputs": [],
   "source": [
    "def solution(s):\n",
    "    count_num = 0\n",
    "    total_cnt = 0\n",
    "\n",
    "    while True:\n",
    "        if s != \"1\":\n",
    "            total_cnt +=1\n",
    "            count_num += s.count('0')\n",
    "            s = bin(s.count('1'))[2:]\n",
    "        else:\n",
    "            return [total_cnt,count_num]\n"
   ]
  },
  {
   "cell_type": "markdown",
   "metadata": {},
   "source": [
    "# 숫자의 표현\n",
    "### 문제 설명\n",
    "- Finn은 요즘 수학공부에 빠져 있습니다. \n",
    "- 수학 공부를 하던 Finn은 자연수 n을 연속한 자연수들로 표현 하는 방법이 여러개라는 사실을 알게 되었습니다.\n",
    "- 예를들어 15는 다음과 같이 4가지로 표현 할 수 있습니다.\n",
    "\n",
    "    - 1 + 2 + 3 + 4 + 5 = 15\n",
    "    - 4 + 5 + 6 = 15\n",
    "    - 7 + 8 = 15\n",
    "    - 15 = 15\n",
    "- 자연수 n이 매개변수로 주어질 때, 연속된 자연수들로 n을 표현하는 방법의 수를 return하는 solution를 완성해주세요."
   ]
  },
  {
   "cell_type": "code",
   "execution_count": 160,
   "metadata": {},
   "outputs": [],
   "source": [
    "# 런타임 에러\n",
    "def solution(n):\n",
    "    num_list = list(range(1, n+1))\n",
    "    answer = 1\n",
    "    for i in range(0, n//2+1):\n",
    "        for j in range(2,n):\n",
    "            if sum(num_list[i:j]) == n:\n",
    "                    answer +=1\n",
    "\n",
    "    \n",
    "    return answer"
   ]
  },
  {
   "cell_type": "code",
   "execution_count": 174,
   "metadata": {},
   "outputs": [
    {
     "data": {
      "text/plain": [
       "2"
      ]
     },
     "execution_count": 174,
     "metadata": {},
     "output_type": "execute_result"
    }
   ],
   "source": [
    "# 효율성 시간초과\n",
    "def solution(n):\n",
    "    answer = 1\n",
    "    for i in range(1, n//2+2):\n",
    "        for j in range(i+1, n//2+3):\n",
    "            i += j\n",
    "            if i == n:\n",
    "                answer += 1               \n",
    "    return answer           "
   ]
  },
  {
   "cell_type": "code",
   "execution_count": 175,
   "metadata": {},
   "outputs": [],
   "source": [
    "# 통과\n",
    "def solution(n):\n",
    "    answer = 1 \n",
    "    for x in range(1, n//2+1):\n",
    "        for y in range(x+1, n+1):\n",
    "            x += y\n",
    "            if x == n:\n",
    "                answer += 1\n",
    "                break\n",
    "            elif x > n:\n",
    "                break                \n",
    "    return answer\n"
   ]
  },
  {
   "cell_type": "markdown",
   "metadata": {},
   "source": [
    "# 피보나치 수\n",
    "### 문제 설명\n",
    "- 피보나치 수는 F(0) = 0, F(1) = 1일 때, 1 이상의 n에 대하여 F(n) = F(n-1) + F(n-2) 가 적용되는 수 입니다.\n",
    "\n",
    "- 예를 들어\n",
    "\n",
    "    - F(2) = F(0) + F(1) = 0 + 1 = 1\n",
    "    - F(3) = F(1) + F(2) = 1 + 1 = 2\n",
    "    - F(4) = F(2) + F(3) = 1 + 2 = 3\n",
    "    - F(5) = F(3) + F(4) = 2 + 3 = 5\n",
    "    - 와 같이 이어집니다.\n",
    "\n",
    "- 2 이상의 n이 입력되었을 때, n번째 피보나치 수를 1234567으로 나눈 나머지를 리턴하는 함수, solution을 완성해 주세요."
   ]
  },
  {
   "cell_type": "code",
   "execution_count": 79,
   "metadata": {},
   "outputs": [],
   "source": [
    "def solution(n):\n",
    "    x,y = 1, 1\n",
    "    if n == 1 or n ==2:\n",
    "        return 1\n",
    "    for i in range(1, n):\n",
    "        x,y  = y, x+y\n",
    "    return x % 1234567\n",
    "\n",
    "\n",
    "# 재귀함수 시간 초과(런타임에러)\n",
    "def fib(n):\n",
    "    if n == 0:\n",
    "        return 0\n",
    "    elif n== 1 or n==2:\n",
    "        return 1\n",
    "    else:\n",
    "        return fib(n-2) + fib(n-1)\n",
    "\n"
   ]
  },
  {
   "cell_type": "markdown",
   "metadata": {},
   "source": [
    "# 다음 큰 숫자\n",
    "### 문제 설명\n",
    "- 자연수 n이 주어졌을 때, n의 다음 큰 숫자는 다음과 같이 정의 합니다.\n",
    "\n",
    "    - 조건 1. n의 다음 큰 숫자는 n보다 큰 자연수 입니다.\n",
    "    - 조건 2. n의 다음 큰 숫자와 n은 2진수로 변환했을 때 1의 갯수가 같습니다.\n",
    "    - 조건 3. n의 다음 큰 숫자는 조건 1, 2를 만족하는 수 중 가장 작은 수 입니다.\n",
    "    - 예를 들어서 78(1001110)의 다음 큰 숫자는 83(1010011)입니다.\n",
    "\n",
    "- 자연수 n이 매개변수로 주어질 때, n의 다음 큰 숫자를 return 하는 solution 함수를 완성해주세요."
   ]
  },
  {
   "cell_type": "code",
   "execution_count": 21,
   "metadata": {},
   "outputs": [],
   "source": [
    "def solution(n):\n",
    "    m = n+1\n",
    "    while bin(n).count('1') != bin(m).count('1'):\n",
    "        m = m + 1\n",
    "\n",
    "\n",
    "\n",
    "    return m"
   ]
  },
  {
   "cell_type": "markdown",
   "metadata": {},
   "source": [
    "# 카펫\n",
    "### 문제 설명\n",
    "- Leo는 카펫을 사러 갔다가 아래 그림과 같이 중앙에는 노란색으로 칠해져 있고 테두리 1줄은 갈색으로 칠해져 있는 격자 모양 카펫을 봤습니다.\n",
    "\n",
    "- Leo는 집으로 돌아와서 아까 본 카펫의 노란색과 갈색으로 색칠된 격자의 개수는 기억했지만, 전체 카펫의 크기는 기억하지 못했습니다.\n",
    "\n",
    "- Leo가 본 카펫에서 갈색 격자의 수 brown, 노란색 격자의 수 yellow가 매개변수로 주어질 때 카펫의 가로, 세로 크기를 순서대로 배열에 담아 return 하도록 solution 함수를 작성해주세요."
   ]
  },
  {
   "cell_type": "code",
   "execution_count": null,
   "metadata": {},
   "outputs": [],
   "source": []
  },
  {
   "cell_type": "markdown",
   "metadata": {},
   "source": [
    "# 영어 끝말잇기\n",
    "### 문제 설명\n",
    "##### 1부터 n까지 번호가 붙어있는 n명의 사람이 영어 끝말잇기를 하고 있습니다. 영어 끝말잇기는 다음과 같은 규칙으로 진행됩니다.\n",
    "\n",
    "- 1번부터 번호 순서대로 한 사람씩 차례대로 단어를 말합니다.\n",
    "- 마지막 사람이 단어를 말한 다음에는 다시 1번부터 시작합니다.\n",
    "- 앞사람이 말한 단어의 마지막 문자로 시작하는 단어를 말해야 합니다.\n",
    "- 이전에 등장했던 단어는 사용할 수 없습니다.\n",
    "- 한 글자인 단어는 인정되지 않습니다.\n",
    "- 다음은 3명이 끝말잇기를 하는 상황을 나타냅니다.\n",
    "\n",
    "- tank → kick → know → wheel → land → dream → mother → robot → tank\n",
    "\n",
    "- 위 끝말잇기는 다음과 같이 진행됩니다.\n",
    "\n",
    "    - 1번 사람이 자신의 첫 번째 차례에 tank를 말합니다.\n",
    "    - 2번 사람이 자신의 첫 번째 차례에 kick을 말합니다.\n",
    "    - 3번 사람이 자신의 첫 번째 차례에 know를 말합니다.\n",
    "    - 1번 사람이 자신의 두 번째 차례에 wheel을 말합니다.\n",
    "    - (계속 진행)\n",
    "    - 끝말잇기를 계속 진행해 나가다 보면,\n",
    "    - 3번 사람이 자신의 세 번째 차례에 말한 tank 라는 단어는 이전에 등장했던 단어이므로 탈락하게 됩니다.\n",
    "\n",
    "- 사람의 수 n과 사람들이 순서대로 말한 단어 words 가 매개변수로 주어질 때,\n",
    "- 가장 먼저 탈락하는 사람의 번호와 그 사람이 자신의 몇 번째 차례에 탈락하는지를 구해서 return 하도록 solution 함수를 완성해주세요."
   ]
  },
  {
   "cell_type": "code",
   "execution_count": 88,
   "metadata": {},
   "outputs": [],
   "source": [
    "def solution(n, words):\n",
    "    new_words = []\n",
    "    answer = []\n",
    "    cnt = 0\n",
    "    for word in words:\n",
    "        if len(word) < 2:\n",
    "            cnt += 1\n",
    "            if cnt % n == 0:\n",
    "                answer.append(n)\n",
    "                answer.append(cnt // n)\n",
    "            else:\n",
    "                answer.append(cnt % n)\n",
    "                answer.append(cnt // n + 1)\n",
    "            break\n",
    "        if 0 < cnt < len(words)-1:\n",
    "            if words[cnt-1][-1] != words[cnt][0]:\n",
    "                cnt += 1\n",
    "                if cnt % n == 0:\n",
    "                    answer.append(n)\n",
    "                    answer.append(cnt // n)\n",
    "                else:\n",
    "                    answer.append(cnt % n)\n",
    "                    answer.append(cnt // n + 1)\n",
    "                break\n",
    "        if word not in new_words:\n",
    "            new_words.append(word)\n",
    "            cnt += 1\n",
    "            if cnt == len(words):\n",
    "                answer = [0,0]\n",
    "\n",
    "        elif word in new_words:\n",
    "            cnt += 1\n",
    "\n",
    "            if cnt % n == 0:\n",
    "                answer.append(n)\n",
    "                answer.append(cnt // n)\n",
    "            else:\n",
    "                answer.append(cnt % n)\n",
    "                answer.append(cnt // n + 1)\n",
    "            break\n",
    "    return answer"
   ]
  },
  {
   "cell_type": "markdown",
   "metadata": {},
   "source": [
    "# 행렬의 곱셈\n",
    "### 문제 설명\n",
    "- 2차원 행렬 arr1과 arr2를 입력받아, arr1에 arr2를 곱한 결과를 반환하는 함수, solution을 완성해주세요."
   ]
  },
  {
   "cell_type": "code",
   "execution_count": null,
   "metadata": {},
   "outputs": [],
   "source": [
    "def solution(arr1, arr2):\n",
    "    answer = []\n",
    "    for a_cnt in range(len(arr1)):\n",
    "        temp = []\n",
    "        for b_col in range(len(arr2[0])):\n",
    "            n = 0\n",
    "            for a_row in range(len(arr1[0])):\n",
    "                n += arr1[a_cnt][a_row] * arr2[a_row][b_col]\n",
    "            temp.append(n)\n",
    "        answer.append(temp)\n",
    "    return answer"
   ]
  },
  {
   "cell_type": "markdown",
   "metadata": {},
   "source": [
    "# 멀리 뛰기\n",
    "### 문제 설명\n",
    "- 효진이는 멀리 뛰기를 연습하고 있습니다.\n",
    "- 효진이는 한번에 1칸, 또는 2칸을 뛸 수 있습니다.\n",
    "- 칸이 총 4개 있을 때, 효진이는\n",
    "    - (1칸, 1칸, 1칸, 1칸)\n",
    "    - (1칸, 2칸, 1칸)\n",
    "    - (1칸, 1칸, 2칸)\n",
    "    - (2칸, 1칸, 1칸)\n",
    "    - (2칸, 2칸)\n",
    "- 의 5가지 방법으로 맨 끝 칸에 도달할 수 있습니다. 멀리뛰기에 사용될 칸의 수 n이 주어질 때, 효진이가 끝에 도달하는 방법이 몇 가지인지 알아내, 여기에 1234567를 나눈 나머지를 리턴하는 함수, solution을 완성하세요. 예를 들어 4가 입력된다면, 5를 return하면 됩니다."
   ]
  },
  {
   "cell_type": "code",
   "execution_count": 25,
   "metadata": {},
   "outputs": [],
   "source": [
    "# 런타임 오류 => 실행횟수 제한 있는 듯\n",
    "d = [0] * 2001 # d 변수가 def 함수 안에 있을 때는 시간 초과, 밖에 있을 때는 시간 문제 없이 런타임 오류\n",
    "def solution(n):\n",
    "    if n == 0 or n == 1 :\n",
    "        return 1\n",
    "    if d[n] == 0:\n",
    "        d[n] = solution(n-1) + solution(n-2)\n",
    "    return  d[n] % 1234567"
   ]
  },
  {
   "cell_type": "code",
   "execution_count": 26,
   "metadata": {},
   "outputs": [],
   "source": [
    "# 통과\n",
    "def solution(n):\n",
    "    a, b = 0, 1\n",
    "    for i in range(n):\n",
    "        a, b = b, a + b\n",
    "    \n",
    "    return b % 1234567"
   ]
  },
  {
   "attachments": {},
   "cell_type": "markdown",
   "metadata": {},
   "source": [
    "# 튜플\n",
    "### 문제 설명\n",
    "- 셀수있는 수량의 순서있는 열거 또는 어떤 순서를 따르는 요소들의 모음을 튜플(tuple)이라고 합니다.\n",
    "- n개의 요소를 가진 튜플을 n-튜플(n-tuple)이라고 하며, 다음과 같이 표현할 수 있습니다.\n",
    "\n",
    "- (a1, a2, a3, ..., an)\n",
    "- 튜플은 다음과 같은 성질을 가지고 있습니다.\n",
    "\n",
    "- 중복된 원소가 있을 수 있습니다. ex : (2, 3, 1, 2)\n",
    "- 원소에 정해진 순서가 있으며, 원소의 순서가 다르면 서로 다른 튜플입니다. ex : (1, 2, 3) ≠ (1, 3, 2)\n",
    "- 튜플의 원소 개수는 유한합니다.\n",
    "- 원소의 개수가 n개이고, 중복되는 원소가 없는 튜플 (a1, a2, a3, ..., an)이 주어질 때(단, a1, a2, ..., an은 자연수),\n",
    "- 이는 다음과 같이 집합 기호 '{', '}'를 이용해 표현할 수 있습니다.\n",
    "\n",
    "- {{a1}, {a1, a2}, {a1, a2, a3}, {a1, a2, a3, a4}, ... {a1, a2, a3, a4, ..., an}}\n",
    "- 예를 들어 튜플이 (2, 1, 3, 4)인 경우 이는\n",
    "\n",
    "- {{2}, {2, 1}, {2, 1, 3}, {2, 1, 3, 4}}\n",
    "- 와 같이 표현할 수 있습니다. 이때, 집합은 원소의 순서가 바뀌어도 상관없으므로\n",
    "\n",
    "- {{2}, {2, 1}, {2, 1, 3}, {2, 1, 3, 4}}\n",
    "- {{2, 1, 3, 4}, {2}, {2, 1, 3}, {2, 1}}\n",
    "- {{1, 2, 3}, {2, 1}, {1, 2, 4, 3}, {2}}\n",
    "- 는 모두 같은 튜플 (2, 1, 3, 4)를 나타냅니다.\n",
    "\n",
    "- 특정 튜플을 표현하는 집합이 담긴 문자열 s가 매개변수로 주어질 때, s가 표현하는 튜플을 배열에 담아 return 하도록 solution 함수를 완성해주세요."
   ]
  },
  {
   "cell_type": "code",
   "execution_count": 194,
   "metadata": {},
   "outputs": [
    {
     "name": "stdout",
     "output_type": "stream",
     "text": [
      "['2', '2,3', '2,3,1', '2,3,1,200,2,2,2']\n",
      "[2, 3, 1, 200]\n",
      "{200, 1, 2, 3}\n"
     ]
    }
   ],
   "source": [
    "S = \"{{2,3,1,200,2,2,2},{2},{2,3},{2,3,1}}\"\n",
    "S = S.replace('{{','').replace('}}','')\n",
    "S = S.split('},{')\n",
    "S_sort = sorted(S, key = lambda x:len(x))\n",
    "print(S_sort)\n",
    "\n",
    "answer = {}\n",
    "result = []\n",
    "for sort in S_sort:\n",
    "    temp = set(list(map(int, sort.split(','))))\n",
    "    result += list(set.difference(temp, answer))\n",
    "    answer = temp\n",
    "\n",
    "print(result)\n",
    "print(answer)\n",
    "\n",
    "# print(sorted(S_dict, reverse=True, key=lambda x:S_dict[x]))\n",
    "\n"
   ]
  },
  {
   "cell_type": "code",
   "execution_count": 171,
   "metadata": {},
   "outputs": [
    {
     "data": {
      "text/plain": [
       "['2', '2', '3', '2', '3', '1', '2', '3', '1', '2', '0']"
      ]
     },
     "execution_count": 171,
     "metadata": {},
     "output_type": "execute_result"
    }
   ],
   "source": [
    "S = \"{{2},{2,3},{2,3,1},{2,3,1,20}}\"\n",
    "\n",
    "\n",
    "result=list(filter(str.isdigit,S))\n",
    "result\n",
    "# temp = []\n",
    "# for s in S:\n",
    "#     if s.isdigit():\n",
    "#         temp.append(s)\n",
    "\n",
    "# temp"
   ]
  },
  {
   "cell_type": "code",
   "execution_count": 176,
   "metadata": {},
   "outputs": [
    {
     "data": {
      "text/plain": [
       "['2', '2,3', '2,3,1', '2,3,1,20']"
      ]
     },
     "execution_count": 176,
     "metadata": {},
     "output_type": "execute_result"
    }
   ],
   "source": [
    "S = \"{{2},{2,3},{2,3,1},{2,3,1,20}}\"\n",
    "\n",
    "srcs = S[2:-2].split('},{')\n",
    "srcs.sort(key=lambda x : len(x))\n",
    "srcs"
   ]
  },
  {
   "cell_type": "code",
   "execution_count": 178,
   "metadata": {},
   "outputs": [
    {
     "name": "stdout",
     "output_type": "stream",
     "text": [
      "['1,2,3', '2,1', '1,2,4,3', '20']\n",
      "['20', '2,1', '1,2,3', '1,2,4,3']\n",
      "3\n",
      "5\n",
      "5\n",
      "7\n",
      "7\n",
      "7\n"
     ]
    },
    {
     "data": {
      "text/plain": [
       "[2, 20, 1, 3]"
      ]
     },
     "execution_count": 178,
     "metadata": {},
     "output_type": "execute_result"
    }
   ],
   "source": [
    "S = \"{{2},{2,3},{2,3,1},{2,3,1,20}}\"\n",
    "S_rep = S.replace('{{','').replace('},{',',').replace('}}','')\n",
    "s = S_rep.split(',')\n",
    "\n",
    "S_dict = {}\n",
    "for i in s:\n",
    "    S_dict[int(i)] = S.count(i)\n",
    "\n",
    "S_sort = sorted(S_dict, reverse=True, key=lambda x:S_dict[x])\n",
    "\n",
    "S = \"{{1,2,3},{2,1},{1,2,4,3},{20}}\"\n",
    "S = S.replace('{{','').replace('}}','')\n",
    "S = S.split('},{')\n",
    "print(S)\n",
    "S.sort(key=lambda x: len(x))\n",
    "print(S)\n",
    "\n",
    "temp = []\n",
    "for s in S:\n",
    "    for sort in S_sort:\n",
    "        if (str(sort) in s) and (sort not in temp):\n",
    "            temp.append(sort)\n",
    "        elif (str(sort) in s) and (sort in temp):\n",
    "            print(len(s))\n",
    "            if s.count(str(sort)) > len(s) - len(temp):\n",
    "                temp.append(sort)\n",
    "\n",
    "temp\n",
    "\n"
   ]
  },
  {
   "cell_type": "markdown",
   "metadata": {},
   "source": [
    "# 소수 찾기\n",
    "### 문제 설명\n",
    "- 한자리 숫자가 적힌 종이 조각이 흩어져있습니다.\n",
    "- 흩어진 종이 조각을 붙여 소수를 몇 개 만들 수 있는지 알아내려 합니다.\n",
    "\n",
    "- 각 종이 조각에 적힌 숫자가 적힌 문자열 numbers가 주어졌을 때,\n",
    "- 종이 조각으로 만들 수 있는 소수가 몇 개인지 return 하도록 solution 함수를 완성해주세요."
   ]
  },
  {
   "cell_type": "code",
   "execution_count": 1,
   "metadata": {},
   "outputs": [
    {
     "data": {
      "text/plain": [
       "['1', '7']"
      ]
     },
     "execution_count": 1,
     "metadata": {},
     "output_type": "execute_result"
    }
   ],
   "source": [
    "numbers = \"17\"\n",
    "\n",
    "def prime_number(x):\n",
    "    for i in range(2, x):\n",
    "        if x % i == 0:\n",
    "            return False\n",
    "    return True\n",
    "\n",
    "numbers = list(numbers)\n",
    "\n",
    "while True:\n",
    "    for number in numbers:\n",
    "        number\n",
    "\n"
   ]
  },
  {
   "cell_type": "markdown",
   "metadata": {},
   "source": [
    "# 구명보트\n",
    "### 문제 설명\n",
    "- 무인도에 갇힌 사람들을 구명보트를 이용하여 구출하려고 합니다.\n",
    "- 구명보트는 작아서 한 번에 최대 2명씩 밖에 탈 수 없고, 무게 제한도 있습니다.\n",
    "\n",
    "- 예를 들어, 사람들의 몸무게가 [70kg, 50kg, 80kg, 50kg]이고\n",
    "- 구명보트의 무게 제한이 100kg이라면 2번째 사람과 4번째 사람은 같이 탈 수 있지만\n",
    "- 1번째 사람과 3번째 사람의 무게의 합은 150kg이므로 구명보트의 무게 제한을 초과하여 같이 탈 수 없습니다.\n",
    "\n",
    "- 구명보트를 최대한 적게 사용하여 모든 사람을 구출하려고 합니다.\n",
    "\n",
    "- 사람들의 몸무게를 담은 배열 people과 구명보트의 무게 제한 limit가 매개변수로 주어질 때,\n",
    "- 모든 사람을 구출하기 위해 필요한 구명보트 개수의 최솟값을 return 하도록 solution 함수를 작성해주세요."
   ]
  },
  {
   "cell_type": "code",
   "execution_count": 16,
   "metadata": {},
   "outputs": [
    {
     "data": {
      "text/plain": [
       "3"
      ]
     },
     "execution_count": 16,
     "metadata": {},
     "output_type": "execute_result"
    }
   ],
   "source": [
    "people = [10,20,30,50,30,80] \n",
    "limit = 110\n",
    "cnt = 0\n",
    "answer = 1 \n",
    "\n",
    "people.sort()\n",
    "\n",
    "for person in people:\n",
    "    cnt += person\n",
    "    if cnt > limit:\n",
    "        cnt = person        \n",
    "        answer += 1\n",
    "        \n",
    "        \n",
    "answer\n",
    "\n"
   ]
  },
  {
   "cell_type": "code",
   "execution_count": null,
   "metadata": {},
   "outputs": [],
   "source": []
  }
 ],
 "metadata": {
  "kernelspec": {
   "display_name": "Python 3",
   "language": "python",
   "name": "python3"
  },
  "language_info": {
   "codemirror_mode": {
    "name": "ipython",
    "version": 3
   },
   "file_extension": ".py",
   "mimetype": "text/x-python",
   "name": "python",
   "nbconvert_exporter": "python",
   "pygments_lexer": "ipython3",
   "version": "3.9.12"
  },
  "orig_nbformat": 4,
  "vscode": {
   "interpreter": {
    "hash": "c4b9ebf4ca459396e2ad1150752490c26670c1a037c08cad955a4425787bec2e"
   }
  }
 },
 "nbformat": 4,
 "nbformat_minor": 2
}
