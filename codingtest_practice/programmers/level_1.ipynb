{
 "cells": [
  {
   "cell_type": "markdown",
   "metadata": {},
   "source": [
    "# 최대공약수와 최소공배수\n",
    "### 문제 설명\n",
    "- 두 수를 입력받아 두 수의 최대공약수와 최소공배수를 반환하는 함수, solution을 완성해 보세요.\n",
    "- 배열의 맨 앞에 최대공약수, 그다음 최소공배수를 넣어 반환하면 됩니다.\n",
    "- 예를 들어 두 수 3, 12의 최대공약수는 3, 최소공배수는 12이므로 solution(3, 12)는 [3, 12]를 반환해야 합니다."
   ]
  },
  {
   "cell_type": "code",
   "execution_count": null,
   "metadata": {},
   "outputs": [],
   "source": [
    "def solution(n, m):\n",
    "    x,y = n, m\n",
    "    if m > n :\n",
    "        n,m = m,n\n",
    "    while n % m :\n",
    "        r = n % m\n",
    "        n = m\n",
    "        m = r\n",
    "    return [m, x*y/m]\n",
    "\n",
    "    \n"
   ]
  },
  {
   "cell_type": "code",
   "execution_count": 73,
   "metadata": {},
   "outputs": [],
   "source": [
    "def solution(n, m):\n",
    "    list_m =[]\n",
    "    list_n =[]\n",
    "    for i in range(1, n+1):\n",
    "        if n % i ==0:\n",
    "            list_n.append(i)\n",
    "\n",
    "    for i in range(1, m+1):\n",
    "        if m % i == 0:\n",
    "            list_m.append(i)\n",
    "\n",
    "    x = 1\n",
    "    for a in list_m:\n",
    "        if a in list_n:\n",
    "            if a > x :\n",
    "                x = a\n",
    "\n",
    "    return [x, m*n/x]\n"
   ]
  },
  {
   "cell_type": "markdown",
   "metadata": {},
   "source": [
    "# 숫자 문자열과 영단어\n",
    "### 문제 설명\n",
    "\n",
    "\n",
    "- 네오와 프로도가 숫자놀이를 하고 있습니다.\n",
    "- 네오가 프로도에게 숫자를 건넬 때 일부 자릿수를 영단어로 바꾼 카드를 건네주면 프로도는 원래 숫자를 찾는 게임입니다.\n",
    "\n",
    "- 다음은 숫자의 일부 자릿수를 영단어로 바꾸는 예시입니다.\n",
    "\n",
    "- 1478 → \"one4seveneight\"\n",
    "- 234567 → \"23four5six7\"\n",
    "- 10203 → \"1zerotwozero3\"\n",
    "- 이렇게 숫자의 일부 자릿수가 영단어로 바뀌어졌거나, 혹은 바뀌지 않고 그대로인 문자열 s가 매개변수로 주어집니다. s가 의미하는 원래 숫자를 return 하도록 solution 함수를 완성해주세요.\n",
    "\n",
    "- 참고로 각 숫자에 대응되는 영단어는 다음 표와 같습니다.\n",
    "\n",
    "- 숫자\t영단어\n",
    "- 0\tzero\n",
    "- 1\tone\n",
    "- 2\ttwo\n",
    "- 3\tthree\n",
    "- 4\tfour\n",
    "- 5\tfive\n",
    "- 6\tsix\n",
    "- 7\tseven\n",
    "- 8\teight\n",
    "- 9\tnine"
   ]
  },
  {
   "cell_type": "code",
   "execution_count": 8,
   "metadata": {},
   "outputs": [],
   "source": [
    "def solution(s):\n",
    "    num_dicts = {'zero':0, 'one':1, 'two':2, 'three':3, 'four':4, 'five':5, 'six':6, 'seven':7, 'eight':8, 'nine':9}\n",
    "\n",
    "    \n",
    "    for num_dict in num_dicts:\n",
    "        if num_dict in s:\n",
    "            s = s.replace(num_dict, str(num_dicts[num_dict]))\n",
    "    \n",
    "    return int(s)\n",
    "            "
   ]
  },
  {
   "cell_type": "markdown",
   "metadata": {},
   "source": [
    "# 두 정수 사이의 합\n",
    "### 문제 설명\n",
    "- 두 정수 a, b가 주어졌을 때 a와 b 사이에 속한 모든 정수의 합을 리턴하는 함수, solution을 완성하세요.\n",
    "    - 예를 들어 a = 3, b = 5인 경우, 3 + 4 + 5 = 12이므로 12를 리턴합니다."
   ]
  },
  {
   "cell_type": "code",
   "execution_count": 1,
   "metadata": {},
   "outputs": [],
   "source": [
    "def solution(a, b):\n",
    "    total = 0\n",
    "    if a > b:\n",
    "        a,b = b, a\n",
    "    for i in range(a, b+1):\n",
    "        total += i\n",
    "\n",
    "    return total"
   ]
  },
  {
   "cell_type": "markdown",
   "metadata": {},
   "source": [
    "# 같은 숫자는 싫어\n",
    "### 문제 설명\n",
    "- 배열 arr가 주어집니다. \n",
    "- 배열 arr의 각 원소는 숫자 0부터 9까지로 이루어져 있습니다.\n",
    "- 이때, 배열 arr에서 연속적으로 나타나는 숫자는 하나만 남기고 전부 제거하려고 합니다.\n",
    "- 단, 제거된 후 남은 수들을 반환할 때는 배열 arr의 원소들의 순서를 유지해야 합니다. \n",
    "- 예를 들면,\n",
    "\n",
    "    - arr = [1, 1, 3, 3, 0, 1, 1] 이면 [1, 3, 0, 1] 을 return 합니다.\n",
    "    - arr = [4, 4, 4, 3, 3] 이면 [4, 3] 을 return 합니다.\n",
    "    - 배열 arr에서 연속적으로 나타나는 숫자는 제거하고 남은 수들을 return 하는 solution 함수를 완성해 주세요."
   ]
  },
  {
   "cell_type": "code",
   "execution_count": 68,
   "metadata": {},
   "outputs": [],
   "source": [
    "def solution(arr):\n",
    "    answer = []\n",
    "\n",
    "    number = -1\n",
    "    for a in arr:\n",
    "        if number != a:\n",
    "            number = a\n",
    "            answer.append(number)\n",
    "            \n",
    "    return answer\n"
   ]
  },
  {
   "cell_type": "markdown",
   "metadata": {},
   "source": [
    "# 약수의 개수와 덧셈\n",
    "### 문제 설명\n",
    "- 두 정수 left와 right가 매개변수로 주어집니다. \n",
    "- left부터 right까지의 모든 수들 중에서, 약수의 개수가 짝수인 수는 더하고, \n",
    "- 약수의 개수가 홀수인 수는 뺀 수를 return 하도록 solution 함수를 완성해주세요."
   ]
  },
  {
   "cell_type": "code",
   "execution_count": 23,
   "metadata": {},
   "outputs": [],
   "source": [
    "def solution(left, right):\n",
    "    answer = 0\n",
    "    num_list = []\n",
    "    for a in range(1, 32): # 32* 32 = 1024, right<=1000 조건\n",
    "        num = a ** 2\n",
    "        num_list.append(num)\n",
    "        \n",
    "    for num in range(left, right+1):\n",
    "        if num in num_list:\n",
    "            answer -= num\n",
    "        else:\n",
    "            answer += num\n",
    "            \n",
    "    return answer"
   ]
  },
  {
   "cell_type": "markdown",
   "metadata": {},
   "source": [
    "# 수박수박수박수박수박수?\n",
    "### 문제 설명\n",
    "- 길이가 n이고, \"수박수박수박수....\"와 같은 패턴을 유지하는 문자열을 리턴하는 함수, solution을 완성하세요.\n",
    "- 예를들어 n이 4이면 \"수박수박\"을 리턴하고 3이라면 \"수박수\"를 리턴하면 됩니다."
   ]
  },
  {
   "cell_type": "code",
   "execution_count": 28,
   "metadata": {},
   "outputs": [
    {
     "data": {
      "text/plain": [
       "'수박수박수박수박수'"
      ]
     },
     "execution_count": 28,
     "metadata": {},
     "output_type": "execute_result"
    }
   ],
   "source": [
    "# '수', '박'\n",
    "n=9\n",
    "watermelon =[]\n",
    "for a in range(1, n+1):\n",
    "    if a % 2 == 1:\n",
    "        watermelon.append('수')\n",
    "\n",
    "    else:\n",
    "        watermelon.append('박')\n",
    "\n",
    "clap = \"\".join(watermelon)\n",
    "clap"
   ]
  },
  {
   "cell_type": "markdown",
   "metadata": {},
   "source": [
    "# 이상한 문자 만들기\n",
    "### 문제 설명\n",
    "- 문자열 s는 한 개 이상의 단어로 구성되어 있습니다.\n",
    "- 각 단어는 하나 이상의 공백문자로 구분되어 있습니다.\n",
    "- 각 단어의 짝수번째 알파벳은 대문자로, 홀수번째 알파벳은 소문자로 바꾼 문자열을 리턴하는 함수, solution을 완성하세요."
   ]
  },
  {
   "cell_type": "code",
   "execution_count": 114,
   "metadata": {},
   "outputs": [],
   "source": [
    "def solution(s):\n",
    "    answer=''\n",
    "    for a in s.split(' '): # s.split(), s.split(' ') 다름\n",
    "        # print(a)\n",
    "        # print(a[0])\n",
    "\n",
    "        for key in range(len(a)):\n",
    "            if key % 2 == 0:\n",
    "\n",
    "                # print(a[key])\n",
    "                answer += a[key].upper()\n",
    "\n",
    "            else:\n",
    "                answer += a[key].lower()\n",
    "        answer += ' '\n",
    "\n",
    "    return answer[0:-1]\n",
    "\n"
   ]
  },
  {
   "cell_type": "markdown",
   "metadata": {},
   "source": [
    "# 행렬의 덧셈\n",
    "### 문제 설명\n",
    "- 행렬의 덧셈은 행과 열의 크기가 같은 두 행렬의 같은 행, 같은 열의 값을 서로 더한 결과가 됩니다. \n",
    "- 2개의 행렬 arr1과 arr2를 입력받아, 행렬 덧셈의 결과를 반환하는 함수, solution을 완성해주세요."
   ]
  },
  {
   "cell_type": "code",
   "execution_count": 171,
   "metadata": {},
   "outputs": [],
   "source": [
    "def solution(arr1, arr2):\n",
    "    for i in range(len(arr1)):\n",
    "        for j in range(len(arr1[0])):\n",
    "            arr1[i][j] = arr1[i][j]+arr2[i][j]  \n",
    "\n",
    "\n",
    "    return arr1\n"
   ]
  },
  {
   "cell_type": "markdown",
   "metadata": {},
   "source": [
    "# 예산\n",
    "### 문제 설명\n",
    "- S사에서는 각 부서에 필요한 물품을 지원해 주기 위해 부서별로 물품을 구매하는데 필요한 금액을 조사했습니다.\n",
    "- 그러나, 전체 예산이 정해져 있기 때문에 모든 부서의 물품을 구매해 줄 수는 없습니다.\n",
    "- 그래서 최대한 많은 부서의 물품을 구매해 줄 수 있도록 하려고 합니다.\n",
    "\n",
    "- 물품을 구매해 줄 때는 각 부서가 신청한 금액만큼을 모두 지원해 줘야 합니다.\n",
    "- 예를 들어 1,000원을 신청한 부서에는 정확히 1,000원을 지원해야 하며, 1,000원보다 적은 금액을 지원해 줄 수는 없습니다.\n",
    "\n",
    "- 부서별로 신청한 금액이 들어있는 배열 d와 예산 budget이 매개변수로 주어질 때, 최대 몇 개의 부서에 물품을 지원할 수 있는지 return 하도록 solution 함수를 완성해주세요."
   ]
  },
  {
   "cell_type": "code",
   "execution_count": 52,
   "metadata": {},
   "outputs": [],
   "source": [
    "def solution(d, budget):\n",
    "    total = 0\n",
    "    count = 0\n",
    "    d.sort()\n",
    "    \n",
    "    for department in d:\n",
    "        total += department\n",
    "        \n",
    "        if total <= budget:\n",
    "            count += 1\n",
    "\n",
    "    return count"
   ]
  },
  {
   "cell_type": "markdown",
   "metadata": {},
   "source": [
    "# 시저 암호\n",
    "### 문제 설명\n",
    "- 어떤 문장의 각 알파벳을 일정한 거리만큼 밀어서 다른 알파벳으로 바꾸는 암호화 방식을 시저 암호라고 합니다.\n",
    "- 예를 들어 \"AB\"는 1만큼 밀면 \"BC\"가 되고, 3만큼 밀면 \"DE\"가 됩니다.\n",
    "- \"z\"는 1만큼 밀면 \"a\"가 됩니다.\n",
    "- 문자열 s와 거리 n을 입력받아 s를 n만큼 민 암호문을 만드는 함수, solution을 완성해 보세요."
   ]
  },
  {
   "cell_type": "code",
   "execution_count": 17,
   "metadata": {},
   "outputs": [
    {
     "data": {
      "text/plain": [
       "'Y'"
      ]
     },
     "execution_count": 17,
     "metadata": {},
     "output_type": "execute_result"
    }
   ],
   "source": [
    "ord('A')\n",
    "ord('Z')\n",
    "chr(95)\n",
    "\n",
    "ord('z') + 24 -25\n",
    "chr(89)"
   ]
  },
  {
   "cell_type": "code",
   "execution_count": 2,
   "metadata": {},
   "outputs": [
    {
     "data": {
      "text/plain": [
       "90"
      ]
     },
     "execution_count": 2,
     "metadata": {},
     "output_type": "execute_result"
    }
   ],
   "source": [
    "ord('Z')"
   ]
  },
  {
   "cell_type": "code",
   "execution_count": 8,
   "metadata": {},
   "outputs": [],
   "source": [
    "def solution(s, n):\n",
    "    answer = ''\n",
    "    for a in range(len(s)):\n",
    "        if ord(s[a]) == 32:\n",
    "            letter = ' '\n",
    "            answer += letter\n",
    "        elif ord(s[a]) <= 90:\n",
    "            if ord(s[a]) + n <= 90:\n",
    "                chg_letter = ord(s[a]) + n \n",
    "                letter = chr(chg_letter)\n",
    "                answer += letter\n",
    "            elif ord(s[a]) + n > 90:\n",
    "                chg_letter = ord(s[a]) + n - 26\n",
    "                letter = chr(chg_letter)\n",
    "                answer += letter\n",
    "        elif ord(s[a]) <= 122:\n",
    "            if ord(s[a]) + n <= 122:                \n",
    "                chg_letter = ord(s[a]) + n \n",
    "                letter = chr(chg_letter)\n",
    "                answer += letter\n",
    "            elif ord(s[a]) + n > 122:\n",
    "                chg_letter = ord(s[a]) + n - 26\n",
    "                letter= chr(chg_letter)\n",
    "                answer+=letter\n",
    "    return answer"
   ]
  },
  {
   "cell_type": "markdown",
   "metadata": {},
   "source": [
    "# 부족한 금액 계산하기\n",
    "### 문제 설명\n",
    "- 새로 생긴 놀이기구는 인기가 매우 많아 줄이 끊이질 않습니다.\n",
    "- 이 놀이기구의 원래 이용료는 price원 인데, 놀이기구를 N 번 째 이용한다면 원래 이용료의 N배를 받기로 하였습니다.\n",
    "- 즉, 처음 이용료가 100이었다면 2번째에는 200, 3번째에는 300으로 요금이 인상됩니다.\n",
    "- 놀이기구를 count번 타게 되면 현재 자신이 가지고 있는 금액에서 얼마가 모자라는지를 return 하도록 solution 함수를 완성하세요.\n",
    "- 단, 금액이 부족하지 않으면 0을 return 하세요."
   ]
  },
  {
   "cell_type": "code",
   "execution_count": 6,
   "metadata": {},
   "outputs": [],
   "source": [
    "def solution(price, money, count):\n",
    "    answer = 0\n",
    "    new_price = 0\n",
    "    for i in range(1, count+1):\n",
    "        new_price += price * i\n",
    "\n",
    "    if new_price - money <= 0:\n",
    "        answer = 0\n",
    "    else:\n",
    "        answer = new_price - money\n",
    "\n",
    "    return answer"
   ]
  },
  {
   "cell_type": "markdown",
   "metadata": {},
   "source": [
    "# 3진법 뒤집기\n",
    "### 문제 설명\n",
    "- 자연수 n이 매개변수로 주어집니다.\n",
    "- n을 3진법 상에서 앞뒤로 뒤집은 후, 이를 다시 10진법으로 표현한 수를 return 하도록 solution 함수를 완성해주세요."
   ]
  },
  {
   "cell_type": "code",
   "execution_count": 47,
   "metadata": {},
   "outputs": [],
   "source": [
    "def solution(n):\n",
    "    temp = []\n",
    "    while n:\n",
    "        b = n % 3\n",
    "        n = n // 3\n",
    "        # print(b)\n",
    "\n",
    "\n",
    "        temp.append(b)\n",
    "\n",
    "    count = 1\n",
    "    new_num = 0\n",
    "    new_temp = []\n",
    "    for i in temp:\n",
    "        new_num += i * 3 ** (len(temp)-count)\n",
    "        count += 1\n",
    "\n",
    "    # print(temp)\n",
    "    new_num\n",
    "    \n",
    "    \n",
    "    return new_num\n",
    "\n"
   ]
  },
  {
   "cell_type": "code",
   "execution_count": 46,
   "metadata": {},
   "outputs": [],
   "source": [
    "def solution(n):\n",
    "    temp = ''\n",
    "    while n:\n",
    "        b = n % 3\n",
    "        n = n // 3\n",
    "        temp += str(b)\n",
    "\n",
    "    answer = int(temp, 3)\n",
    "    return answer"
   ]
  },
  {
   "cell_type": "markdown",
   "metadata": {},
   "source": [
    "# 최소직사각형\n",
    "### 문제 설명\n",
    "- 명함 지갑을 만드는 회사에서 지갑의 크기를 정하려고 합니다.\n",
    "- 다양한 모양과 크기의 명함들을 모두 수납할 수 있으면서, 작아서 들고 다니기 편한 지갑을 만들어야 합니다.\n",
    "- 이러한 요건을 만족하는 지갑을 만들기 위해 디자인팀은 모든 명함의 가로 길이와 세로 길이를 조사했습니다.\n",
    "\n",
    "- 아래 표는 4가지 명함의 가로 길이와 세로 길이를 나타냅니다.\n",
    "\n",
    "- 명함 번호\t가로 길이\t세로 길이\n",
    "- 1\t60\t50\n",
    "- 2\t30\t70\n",
    "- 3\t60\t30\n",
    "- 4\t80\t40\n",
    "\n",
    "- 가장 긴 가로 길이와 세로 길이가 각각 80, 70이기 때문에 80(가로) x 70(세로) 크기의 지갑을 만들면 모든 명함들을 수납할 수 있습니다.\n",
    "- 하지만 2번 명함을 가로로 눕혀 수납한다면 80(가로) x 50(세로) 크기의 지갑으로 모든 명함들을 수납할 수 있습니다.\n",
    "- 이때의 지갑 크기는 4000(=80 x 50)입니다.\n",
    "\n",
    "- 모든 명함의 가로 길이와 세로 길이를 나타내는 2차원 배열 sizes가 매개변수로 주어집니다.\n",
    "- 모든 명함을 수납할 수 있는 가장 작은 지갑을 만들 때, 지갑의 크기를 return 하도록 solution 함수를 완성해주세요."
   ]
  },
  {
   "cell_type": "code",
   "execution_count": 19,
   "metadata": {},
   "outputs": [],
   "source": [
    "def solution(sizes):\n",
    "    temp_zero = []\n",
    "    temp_one = []\n",
    "    for size in sizes:\n",
    "        size.sort()\n",
    "        temp_zero.append(size[0])\n",
    "        temp_one.append(size[1])\n",
    "\n",
    "    answer = max(temp_zero)*max(temp_one)\n",
    "\n",
    "    return answer"
   ]
  },
  {
   "cell_type": "markdown",
   "metadata": {},
   "source": [
    "# 문자열 다루기 기본\n",
    "### 문제 설명\n",
    "- 문자열 s의 길이가 4 혹은 6이고, 숫자로만 구성돼있는지 확인해주는 함수, solution을 완성하세요.\n",
    "- 예를 들어 s가 \"a234\"이면 False를 리턴하고 \"1234\"라면 True를 리턴하면 됩니다.\n",
    "\n",
    "- 제한 사항\n",
    "- s는 길이 1 이상, 길이 8 이하인 문자열입니다.\n",
    "- s는 영문 알파벳 대소문자 또는 0부터 9까지 숫자로 이루어져 있습니다."
   ]
  },
  {
   "cell_type": "code",
   "execution_count": 22,
   "metadata": {},
   "outputs": [],
   "source": [
    "def solution(s):\n",
    "    if s.isdigit() is True and (len(s) == 4 or len(s) ==6) :\n",
    "        answer = True\n",
    "    else:\n",
    "        answer = False\n",
    "\n",
    "    return answer\n",
    "\n",
    "# isdigit은 음수 소수 판별 가능, isnumeric은 음수 소수 판별 불가"
   ]
  },
  {
   "cell_type": "markdown",
   "metadata": {},
   "source": [
    "# 문제 설명\n",
    "### 비밀지도\n",
    "- 네오는 평소 프로도가 비상금을 숨겨놓는 장소를 알려줄 비밀지도를 손에 넣었다.\n",
    "- 그런데 이 비밀지도는 숫자로 암호화되어 있어 위치를 확인하기 위해서는 암호를 해독해야 한다.\n",
    "- 다행히 지도 암호를 해독할 방법을 적어놓은 메모도 함께 발견했다.\n",
    "\n",
    "- 지도는 한 변의 길이가 n인 정사각형 배열 형태로, 각 칸은 \"공백\"(\" \") 또는 \"벽\"(\"#\") 두 종류로 이루어져 있다.\n",
    "- 전체 지도는 두 장의 지도를 겹쳐서 얻을 수 있다.\n",
    "- 각각 \"지도 1\"과 \"지도 2\"라고 하자. 지도 1 또는 지도 2 중 어느 하나라도 벽인 부분은 전체 지도에서도 벽이다.\n",
    "- 지도 1과 지도 2에서 모두 공백인 부분은 전체 지도에서도 공백이다.\n",
    "- \"지도 1\"과 \"지도 2\"는 각각 정수 배열로 암호화되어 있다.\n",
    "- 암호화된 배열은 지도의 각 가로줄에서 벽 부분을 1, 공백 부분을 0으로 부호화했을 때 얻어지는 이진수에 해당하는 값의 배열이다."
   ]
  },
  {
   "cell_type": "code",
   "execution_count": 1,
   "metadata": {},
   "outputs": [],
   "source": [
    "def solution(n, arr1, arr2):\n",
    "    temp_1 = []\n",
    "    for arr in arr1:\n",
    "        tmp = ''\n",
    "        while arr:\n",
    "            rest = arr % 2\n",
    "            arr = arr // 2\n",
    "            tmp += str(rest)\n",
    "        tmp = \"\".join(reversed(tmp))\n",
    "        if len(tmp) < n:\n",
    "            tmp = '0' * (n-len(tmp)) + tmp\n",
    "        temp_1.append(tmp)\n",
    "\n",
    "    temp_2 =[]\n",
    "    for arr in arr2:\n",
    "        tmp = ''\n",
    "        while arr:\n",
    "            rest = arr % 2\n",
    "            arr = arr // 2\n",
    "            tmp += str(rest)\n",
    "        tmp = \"\".join(reversed(tmp))\n",
    "        if len(tmp) < n:\n",
    "            tmp = '0' * (n-len(tmp)) + tmp\n",
    "        temp_2.append(tmp)\n",
    "\n",
    "    temp = []\n",
    "    for i in range(n):\n",
    "        if temp_1[i] ==0 and temp_2[i]== 0:\n",
    "            binary_num = int(temp_1[i]) + int(temp_2[i])\n",
    "            binary_num = '0' + str(binary_num)\n",
    "            temp.append(binary_num)\n",
    "\n",
    "        else:\n",
    "            binary_num = int(temp_1[i]) + int(temp_2[i])\n",
    "            temp.append(binary_num)\n",
    "\n",
    "    print(temp_1)\n",
    "    print(temp_2)\n",
    "\n",
    "    final_ans = []\n",
    "    for item in temp:\n",
    "        item = str(item)\n",
    "        item_1 = item.replace('1', '#')\n",
    "        item_2 = item_1.replace('2', '#')\n",
    "        item_0 = item_2.replace('0', \" \")\n",
    "        if len(item_0) < n:\n",
    "            item_0 = item_0.rjust(n,\" \")\n",
    "        final_ans.append(item_0)\n",
    "\n",
    "    return final_ans"
   ]
  },
  {
   "cell_type": "markdown",
   "metadata": {},
   "source": [
    "# 두 개 뽑아서 더하기\n",
    "### 문제 설명\n",
    "- 정수 배열 numbers가 주어집니다.\n",
    "- numbers에서 서로 다른 인덱스에 있는 두 개의 수를 뽑아 더해서 \n",
    "만들 수 있는 모든 수를 배열에 오름차순으로 담아 return 하도록 \n",
    "solution 함수를 완성해주세요."
   ]
  },
  {
   "cell_type": "code",
   "execution_count": 27,
   "metadata": {},
   "outputs": [],
   "source": [
    "def solution(numbers):\n",
    "    idx = 0\n",
    "    temp = []\n",
    "    for number in numbers:\n",
    "        a = number\n",
    "        idx += 1\n",
    "        for number in numbers[idx:]:\n",
    "            b = a + number\n",
    "            temp.append(b)\n",
    "\n",
    "\n",
    "    temp.sort()\n",
    "\n",
    "    answer = [temp[0]]\n",
    "    a = temp[0]\n",
    "    for tmp in temp:\n",
    "        if a != tmp:\n",
    "            a = tmp\n",
    "            answer.append(a)\n",
    "    return answer"
   ]
  },
  {
   "cell_type": "markdown",
   "metadata": {},
   "source": [
    "# 문자열 내 마음대로 정렬하기\n",
    "### 문제 설명\n",
    "- 문자열로 구성된 리스트 strings와, 정수 n이 주어졌을 때, 각 문자열의 인덱스 n번째 글자를 기준으로 오름차순 정렬하려 합니다.\n",
    "- 예를 들어 strings가 [\"sun\", \"bed\", \"car\"]이고 n이 1이면 각 단어의 인덱스 1의 문자 \"u\", \"e\", \"a\"로 strings를 정렬합니다."
   ]
  },
  {
   "cell_type": "code",
   "execution_count": 21,
   "metadata": {},
   "outputs": [],
   "source": [
    "def solution(strings, n):\n",
    "    for a in range(len(strings)):\n",
    "        for b in range(a+1, len(strings)):\n",
    "            if ord(strings[a][n]) > ord(strings[b][n]):\n",
    "                strings[a], strings[b] = strings[b], strings[a]\n",
    "            elif ord(strings[a][n]) == ord(strings[b][n]):\n",
    "                for m in range(len(strings[a])):\n",
    "\n",
    "                    # while strings[a][m] != strings[b][m]:\n",
    "                    if ord(strings[a][m]) < ord(strings[b][m]):\n",
    "                        strings[a], strings[b] = strings[a], strings[b]\n",
    "                        break\n",
    "                    elif ord(strings[a][m]) > ord(strings[b][m]):\n",
    "                        strings[a], strings[b] = strings[b], strings[a]\n",
    "                        break\n",
    "    return strings"
   ]
  },
  {
   "cell_type": "code",
   "execution_count": 1,
   "metadata": {},
   "outputs": [
    {
     "name": "stdout",
     "output_type": "stream",
     "text": [
      "[-7, 3, 5, 6, 9, 20]\n"
     ]
    }
   ],
   "source": [
    "# (1)\n",
    "my_list = [3, 6, 9, 20, -7, 5] \n",
    "\n",
    "result = []\n",
    "# Selection Sort (선택 정렬)\n",
    "\n",
    "for i in range(len(my_list)-1):\n",
    "    # 현재 위치의 값, 찾은 최소값 index를 기억해놓기\n",
    "    min_value = my_list[i]\n",
    "    min_index = i\n",
    "\n",
    "    # i+1 위치부터 값을 체크\n",
    "    for j in range(i+1, len(my_list)):\n",
    "        # 만약 현재 최소값보다 j위치의 값이 작을경우,\n",
    "        if min_value > my_list[j]:\n",
    "            # 최소값, index 최신화\n",
    "            min_value = my_list[j]\n",
    "            min_index = j\n",
    "    \n",
    "    my_list[min_index] = my_list[i]\n",
    "    my_list[i] = min_value\n",
    "\n",
    "print(my_list)"
   ]
  },
  {
   "cell_type": "code",
   "execution_count": 4,
   "metadata": {},
   "outputs": [
    {
     "data": {
      "text/plain": [
       "[0, 1, 2, 3, 4]"
      ]
     },
     "execution_count": 4,
     "metadata": {},
     "output_type": "execute_result"
    }
   ],
   "source": [
    "list(range(len(my_list)-1))"
   ]
  },
  {
   "cell_type": "markdown",
   "metadata": {},
   "source": [
    "# 문자열 내림차순으로 배치하기\n",
    "### 문제 설명\n",
    "- 문자열 s에 나타나는 문자를 큰것부터 작은 순으로 정렬해 새로운 문자열을 리턴하는 함수, solution을 완성해주세요.\n",
    "- s는 영문 대소문자로만 구성되어 있으며, 대문자는 소문자보다 작은 것으로 간주합니다.\n"
   ]
  },
  {
   "cell_type": "code",
   "execution_count": 24,
   "metadata": {},
   "outputs": [],
   "source": [
    "def solution(s):\n",
    "    s = list(s)\n",
    "\n",
    "\n",
    "    for i in range(len(s)-1):\n",
    "        for j in range(i+1, len(s)):\n",
    "            if s[i] < s[j]:\n",
    "                s[i], s[j] = s[j], s[i]\n",
    "\n",
    "    answer= \"\".join(s)\n",
    "    return answer"
   ]
  },
  {
   "cell_type": "code",
   "execution_count": 26,
   "metadata": {},
   "outputs": [],
   "source": [
    "s = \"Zbcdefg\"\n",
    "\n",
    "s = \"\".join(sorted(s, reverse=True))"
   ]
  },
  {
   "cell_type": "markdown",
   "metadata": {},
   "source": [
    "# 내적\n",
    "### 문제 설명\n",
    "- 길이가 같은 두 1차원 정수 배열 a, b가 매개변수로 주어집니다.\n",
    "- a와 b의 내적을 return 하도록 solution 함수를 완성해주세요.\n",
    "\n",
    "    - 이때, a와 b의 내적은 a[0]*b[0] + a[1]*b[1] + ... + a[n-1]*b[n-1] 입니다. (n은 a, b의 길이)"
   ]
  },
  {
   "cell_type": "code",
   "execution_count": 2,
   "metadata": {},
   "outputs": [],
   "source": [
    "def solution(a, b):\n",
    "    answer = 0\n",
    "    for i in range(len(a)):\n",
    "        answer += a[i] * b[i]\n",
    "\n",
    "    return answer"
   ]
  },
  {
   "cell_type": "markdown",
   "metadata": {},
   "source": [
    "# 삼총사\n",
    "### 문제 설명\n",
    "- 한국중학교에 다니는 학생들은 각자 정수 번호를 갖고 있습니다.\n",
    "- 이 학교 학생 3명의 정수 번호를 더했을 때 0이 되면 3명의 학생은 삼총사라고 합니다.\n",
    "- 예를 들어, 5명의 학생이 있고, 각각의 정수 번호가 순서대로 -2, 3, 0, 2, -5일 때, 첫 번째, 세 번째, 네 번째 학생의 정수 번호를 더하면 0이므로 세 학생은 삼총사입니다.\n",
    "- 또한, 두 번째, 네 번째, 다섯 번째 학생의 정수 번호를 더해도 0이므로 세 학생도 삼총사입니다.\n",
    "- 따라서 이 경우 한국중학교에서는 두 가지 방법으로 삼총사를 만들 수 있습니다.\n",
    "\n",
    "- 한국중학교 학생들의 번호를 나타내는 정수 배열 number가 매개변수로 주어질 때, 학생들 중 삼총사를 만들 수 있는 방법의 수를 return 하도록 solution 함수를 완성하세요."
   ]
  },
  {
   "cell_type": "code",
   "execution_count": 26,
   "metadata": {},
   "outputs": [],
   "source": [
    "def solution(numbers):\n",
    "    temp = []\n",
    "\n",
    "    for i in range(len(numbers)-2):\n",
    "        a = numbers[i]\n",
    "        for j in range(i+1, len(numbers)-1):\n",
    "            b = numbers[j]\n",
    "            for k in range(j+1, len(numbers)):\n",
    "                c = numbers[k]\n",
    "\n",
    "                temp.append((a,b,c))\n",
    "\n",
    "    answer = 0\n",
    "    for num in range(len(temp)):\n",
    "        if sum(temp[num]) == 0:\n",
    "            answer += 1\n",
    "\n",
    "    return answer"
   ]
  },
  {
   "cell_type": "markdown",
   "metadata": {},
   "source": [
    "# 가운데 글자 가져오기\n",
    "### 문제 설명\n",
    "- 단어 s의 가운데 글자를 반환하는 함수, solution을 만들어 보세요.\n",
    "- 단어의 길이가 짝수라면 가운데 두글자를 반환하면 됩니다.\n"
   ]
  },
  {
   "cell_type": "code",
   "execution_count": 16,
   "metadata": {},
   "outputs": [],
   "source": [
    "def solution(s):\n",
    "    if len(s) % 2 == 1:\n",
    "        answer = s[int(len(s)/2)]\n",
    "    else:\n",
    "        answer = s[int(len(s)/2)-1:int(len(s)/2)+1]\n",
    "    return answer"
   ]
  },
  {
   "cell_type": "markdown",
   "metadata": {},
   "source": [
    "# 없는 숫자 더하기\n",
    "### 문제 설명\n",
    "- 0부터 9까지의 숫자 중 일부가 들어있는 정수 배열 numbers가 매개변수로 주어집니다.\n",
    "- numbers에서 찾을 수 없는 0부터 9까지의 숫자를 모두 찾아 더한 수를 return 하도록 solution 함수를 완성해주세요.\n",
    "\n"
   ]
  },
  {
   "cell_type": "code",
   "execution_count": 24,
   "metadata": {},
   "outputs": [],
   "source": [
    "def solution(numbers):\n",
    "    counts = list(range(10))\n",
    "\n",
    "    answer = 0 \n",
    "    for count in counts:\n",
    "        if count not in numbers:\n",
    "            answer += count\n",
    "    return answer\n"
   ]
  },
  {
   "cell_type": "markdown",
   "metadata": {},
   "source": [
    "# 2016년\n",
    "### 문제 설명\n",
    "- 2016년 1월 1일은 금요일입니다.\n",
    "- 2016년 a월 b일은 무슨 요일일까요?\n",
    "- 두 수 a ,b를 입력받아 2016년 a월 b일이 무슨 요일인지 리턴하는 함수, solution을 완성하세요.\n",
    "- 요일의 이름은 일요일부터 토요일까지 각각 SUN,MON,TUE,WED,THU,FRI,SAT입니다.\n",
    "- 예를 들어 a=5, b=24라면 5월 24일은 화요일이므로 문자열 \"TUE\"를 반환하세요."
   ]
  },
  {
   "cell_type": "code",
   "execution_count": 17,
   "metadata": {},
   "outputs": [],
   "source": [
    "# import datetime\n",
    "# date_now = datetime.datetime(2016,1,1)\n",
    "# i = date_now.strftime('%a')\n",
    "# i.upper()"
   ]
  },
  {
   "cell_type": "code",
   "execution_count": 22,
   "metadata": {},
   "outputs": [],
   "source": [
    "def solution(a, b):\n",
    "    import datetime\n",
    "    date_now = datetime.datetime(2016,a,b)\n",
    "    date_lrg = date_now.strftime('%a')\n",
    "    \n",
    "    return date_lrg.upper()"
   ]
  },
  {
   "cell_type": "markdown",
   "metadata": {},
   "source": [
    "# 모의고사\n",
    "### 문제 설명\n",
    "- 수포자는 수학을 포기한 사람의 준말입니다.\n",
    "- 수포자 삼인방은 모의고사에 수학 문제를 전부 찍으려 합니다.\n",
    "- 수포자는 1번 문제부터 마지막 문제까지 다음과 같이 찍습니다.\n",
    "\n",
    "    - 1번 수포자가 찍는 방식: 1, 2, 3, 4, 5, 1, 2, 3, 4, 5, ...\n",
    "    - 2번 수포자가 찍는 방식: 2, 1, 2, 3, 2, 4, 2, 5, 2, 1, 2, 3, 2, 4, 2, 5, ...\n",
    "    - 3번 수포자가 찍는 방식: 3, 3, 1, 1, 2, 2, 4, 4, 5, 5, 3, 3, 1, 1, 2, 2, 4, 4, 5, 5, ...\n",
    "\n",
    "    - 1번 문제부터 마지막 문제까지의 정답이 순서대로 들은 배열 answers가 주어졌을 때,\n",
    "    - 가장 많은 문제를 맞힌 사람이 누구인지 배열에 담아 return 하도록 solution 함수를 작성해주세요."
   ]
  },
  {
   "cell_type": "code",
   "execution_count": 52,
   "metadata": {},
   "outputs": [
    {
     "data": {
      "text/plain": [
       "[1, 2, 3]"
      ]
     },
     "execution_count": 52,
     "metadata": {},
     "output_type": "execute_result"
    }
   ],
   "source": [
    "# 1,2,3 어떻게 바꿀지\n",
    "# 런타임 에러\n",
    "answers = [1,3,2,4,2]\t\n",
    "len_ans = len(answers)\n",
    "a_ans = ([1,2,3,4,5] * (len_ans//5))[:len_ans]\n",
    "b_ans = ([2,1,2,3,2,4,2,5] * (len_ans//5))[:len_ans]\n",
    "c_ans = ([3,3,1,1,2,2,4,4,5,5] * (len_ans//5))[:len_ans]\n",
    "\n",
    "a_cnt = 0\n",
    "b_cnt = 0\n",
    "c_cnt = 0\n",
    "for i in range(len_ans):\n",
    "    if a_ans[i] == answers[i]:\n",
    "        a_cnt += 1\n",
    "    if b_ans[i] == answers[i]:\n",
    "        b_cnt += 1\n",
    "    if c_ans[i] == answers[i]:\n",
    "        c_cnt += 1\n",
    "    \n",
    "answer = [a_cnt, b_cnt, c_cnt]\n",
    "answer.sort(reverse=True)\n",
    "\n",
    "temp = []\n",
    "if max(answer) == a_cnt:\n",
    "    if a_cnt == b_cnt:\n",
    "        if b_cnt == c_cnt:\n",
    "            temp = [1,2,3]\n",
    "        else:\n",
    "            temp = [1,2]\n",
    "    elif a_cnt == c_cnt:\n",
    "        temp = [1,3]\n",
    "    else:\n",
    "        temp.append(1)\n",
    "elif max(answer) == b_cnt:\n",
    "    if b_cnt == c_cnt:\n",
    "        temp = [2,3]\n",
    "    else:\n",
    "        temp.append(2)\n",
    "elif max(answer) == c_cnt:\n",
    "    temp.append(3)\n",
    "\n",
    "temp\n"
   ]
  },
  {
   "cell_type": "code",
   "execution_count": 6,
   "metadata": {},
   "outputs": [],
   "source": [
    "def solution(answers):\n",
    "    A_ans = [1 if ans == [1,2,3,4,5][i%5] else 0 for i, ans in enumerate(answers)]\n",
    "    B_ans = [1 if ans == [2,1,2,3,2,4,2,5][i%8] else 0 for i, ans in enumerate(answers)]\n",
    "    C_ans = [1 if ans == [3,3,1,1,2,2,4,4,5,5][i%10] else 0 for i, ans in enumerate(answers)]\n",
    "\n",
    "    cnt = [sum(A_ans), sum(B_ans),sum(C_ans)]\n",
    "    answer = [i+1 for i in range(len(cnt)) if max(cnt)==cnt[i]]\n",
    "    return answer"
   ]
  },
  {
   "cell_type": "markdown",
   "metadata": {},
   "source": [
    "# 소수 찾기\n",
    "### 문제 설명\n",
    "- 1부터 입력받은 숫자 n 사이에 있는 소수의 개수를 반환하는 함수, solution을 만들어 보세요.\n",
    "\n",
    "- 소수는 1과 자기 자신으로만 나누어지는 수를 의미합니다.\n",
    "- (1은 소수가 아닙니다.)"
   ]
  },
  {
   "cell_type": "code",
   "execution_count": 41,
   "metadata": {},
   "outputs": [
    {
     "data": {
      "text/plain": [
       "1228"
      ]
     },
     "execution_count": 41,
     "metadata": {},
     "output_type": "execute_result"
    }
   ],
   "source": [
    "# 런타임 에러\n",
    "n = 10000\n",
    "cnt = 0\n",
    "temp = []\n",
    "for x in range(1,n+1,2):\n",
    "    for y in range(1,n+1,2):\n",
    "        if x % y == 0:\n",
    "            cnt += 1\n",
    "    temp.append(cnt)\n",
    "    cnt = 0\n",
    "\n",
    "temp.count(2)\n"
   ]
  },
  {
   "cell_type": "code",
   "execution_count": 59,
   "metadata": {},
   "outputs": [],
   "source": [
    "# 해결 1\n",
    "def solution(n):\n",
    "    temp = [1] * (n+1)\n",
    "    for x in range(n+1):\n",
    "        for y in range((2+x)*2,n+1,x+2):\n",
    "            temp[y] = 0\n",
    "\n",
    "    temp[0] = 0\n",
    "    temp[1] = 0\n",
    "\n",
    "\n",
    "    return temp.count(1)"
   ]
  },
  {
   "cell_type": "code",
   "execution_count": 60,
   "metadata": {},
   "outputs": [],
   "source": [
    "# 해결 2 (1보다 런타임 빠름)\n",
    "def solution(n):\n",
    "    temp = set(range(2,n+1))\n",
    "    for x in range(2, n+1):\n",
    "        if x in temp:\n",
    "            temp -= set(range(2*x, n+1, x))\n",
    "\n",
    "    return len(temp)\n"
   ]
  },
  {
   "cell_type": "code",
   "execution_count": 27,
   "metadata": {},
   "outputs": [
    {
     "data": {
      "text/plain": [
       "[1, 5, 7]"
      ]
     },
     "execution_count": 27,
     "metadata": {},
     "output_type": "execute_result"
    }
   ],
   "source": [
    "n = 10\n",
    "cnt = 0\n",
    "temp = []\n",
    "for x in range(1,n+1,2):\n",
    "    if x % 3 !=0:\n",
    "        temp.append(x)\n",
    "tmp = []\n",
    "for y in temp:\n",
    "    for z in range(1,n+1,2):\n",
    "        if y % z == 0:\n",
    "            cnt +=1\n",
    "    tmp.append(cnt)\n",
    "    cnt = 0 \n",
    "temp"
   ]
  },
  {
   "cell_type": "markdown",
   "metadata": {},
   "source": [
    "# 소수 만들기\n",
    "### 문제 설명\n",
    "- 주어진 숫자 중 3개의 수를 더했을 때 소수가 되는 경우의 개수를 구하려고 합니다.\n",
    "- 숫자들이 들어있는 배열 nums가 매개변수로 주어질 때,\n",
    "- nums에 있는 숫자들 중 서로 다른 3개를 골라 더했을 때 소수가 되는 경우의 개수를 return 하도록 solution 함수를 완성해주세요.\n",
    "\n",
    "- 제한사항\n",
    "    - nums에 들어있는 숫자의 개수는 3개 이상 50개 이하입니다.\n",
    "    - nums의 각 원소는 1 이상 1,000 이하의 자연수이며, 중복된 숫자가 들어있지 않습니다."
   ]
  },
  {
   "cell_type": "code",
   "execution_count": 83,
   "metadata": {},
   "outputs": [],
   "source": [
    "# 런타임이 너무 긺.\n",
    "def solution(A):\n",
    "    temp = []\n",
    "\n",
    "    for i in range(len(A)):\n",
    "        num1 = A[i]\n",
    "        for m in range(i+1, len(A)):\n",
    "            num2 = A[m]\n",
    "            for n in range(m+1, len(A)):\n",
    "                num3= A[n]\n",
    "                x = [num1,num2,num3]\n",
    "                if x not in temp:\n",
    "                    temp.append(x)\n",
    "\n",
    "    cnt = 0\n",
    "\n",
    "    tmp = set(range(2, 3000))\n",
    "    for x in range(2, 3000):\n",
    "        if x in tmp:\n",
    "            tmp -= set(range(2*x, 3000, x))\n",
    "    list_tmp = list(tmp)\n",
    "\n",
    "    for y in temp:\n",
    "        if sum(y) in list_tmp:\n",
    "            cnt += 1\n",
    "\n",
    "\n",
    "    return cnt"
   ]
  },
  {
   "cell_type": "code",
   "execution_count": 84,
   "metadata": {},
   "outputs": [],
   "source": [
    "# 런타임이 빠름\n",
    "def solution(nums):\n",
    "    from itertools import combinations as cb \n",
    "    answer = 0\n",
    "    for a in cb(nums, 3):\n",
    "        cand = sum(a)\n",
    "        for j in range(2, cand):\n",
    "            if cand%j==0:\n",
    "                break\n",
    "        else:\n",
    "            answer += 1\n",
    "    return answer"
   ]
  },
  {
   "cell_type": "markdown",
   "metadata": {},
   "source": [
    "# 음양 더하기\n",
    "### 문제 설명\n",
    "- 어떤 정수들이 있습니다.\n",
    "- 이 정수들의 절댓값을 차례대로 담은 정수 배열 absolutes와 이 정수들의 부호를 차례대로 담은 불리언 배열 signs가 매개변수로 주어집니다.\n",
    "- 실제 정수들의 합을 구하여 return 하도록 solution 함수를 완성해주세요."
   ]
  },
  {
   "cell_type": "code",
   "execution_count": 27,
   "metadata": {},
   "outputs": [
    {
     "data": {
      "text/plain": [
       "9"
      ]
     },
     "execution_count": 27,
     "metadata": {},
     "output_type": "execute_result"
    }
   ],
   "source": [
    "sum(absolute if sign else -absolute for absolute, sign in zip(absolutes, signs))\n"
   ]
  },
  {
   "cell_type": "code",
   "execution_count": 26,
   "metadata": {},
   "outputs": [],
   "source": [
    "def solution(absolutes, signs):\n",
    "    temp =[]\n",
    "    for i in range(len(absolutes)):\n",
    "        print(signs[i])\n",
    "        if signs[i] == False:\n",
    "            absolutes[i] = '-' + str(absolutes[i])\n",
    "            temp.append(int(absolutes[i]))\n",
    "        else:\n",
    "            temp.append(int(absolutes[i]))\n",
    "\n",
    "    return sum(temp)"
   ]
  },
  {
   "cell_type": "markdown",
   "metadata": {},
   "source": [
    "# 실패율\n",
    "### 문제 설명\n",
    "\n",
    "- 슈퍼 게임 개발자 오렐리는 큰 고민에 빠졌다.\n",
    "- 그녀가 만든 프랜즈 오천성이 대성공을 거뒀지만, 요즘 신규 사용자의 수가 급감한 것이다.\n",
    "- 원인은 신규 사용자와 기존 사용자 사이에 스테이지 차이가 너무 큰 것이 문제였다.\n",
    "\n",
    "- 이 문제를 어떻게 할까 고민 한 그녀는 동적으로 게임 시간을 늘려서 난이도를 조절하기로 했다.\n",
    "- 역시 슈퍼 개발자라 대부분의 로직은 쉽게 구현했지만, 실패율을 구하는 부분에서 위기에 빠지고 말았다.\n",
    "- 오렐리를 위해 실패율을 구하는 코드를 완성하라.\n",
    "\n",
    "- 실패율은 다음과 같이 정의한다.\n",
    "    - 스테이지에 도달했으나 아직 클리어하지 못한 플레이어의 수 / 스테이지에 도달한 플레이어 수\n",
    "    - 전체 스테이지의 개수 N, 게임을 이용하는 사용자가 현재 멈춰있는 스테이지의 번호가 담긴 배열 stages가 매개변수로 주어질 때,\n",
    "    - 실패율이 높은 스테이지부터 내림차순으로 스테이지의 번호가 담겨있는 배열을 return 하도록 solution 함수를 완성하라."
   ]
  },
  {
   "cell_type": "code",
   "execution_count": 1,
   "metadata": {},
   "outputs": [
    {
     "name": "stdout",
     "output_type": "stream",
     "text": [
      "[1, 4, 6, 7, 7]\n",
      "[8, 7, 4, 2, 1]\n"
     ]
    },
    {
     "data": {
      "text/plain": [
       "[0.125, 0.42857142857142855, 0.5, 0.5, 0.0]"
      ]
     },
     "execution_count": 1,
     "metadata": {},
     "output_type": "execute_result"
    }
   ],
   "source": [
    "# stage 번호 어떻게 바꿀지\n",
    "N = 5\t\n",
    "stages = [2, 1, 2, 6, 2, 4, 3, 3]\n",
    "stages.sort()\n",
    "\n",
    "max_stages = max(stages)\n",
    "min_stages = min(stages)\n",
    "cnt = 0\n",
    "\n",
    "temp = []\n",
    "for stage in range(min_stages, max_stages+1):\n",
    "    cnt += stages.count(stage)\n",
    "    temp.append(cnt)\n",
    "\n",
    "if len(temp) > N:\n",
    "    temp.pop()\n",
    "\n",
    "tmp = [len(stages)]\n",
    "for i in range(1, len(temp)):\n",
    "    num = len(stages) - temp[i-1]\n",
    "\n",
    "    tmp.append(num)\n",
    "\n",
    "print(temp)\n",
    "print(tmp)\n",
    "\n",
    "ans = []\n",
    "for x in range(len(temp)):\n",
    "    if x == 0:\n",
    "        y = temp[x] / tmp[x] \n",
    "        ans.append(y)\n",
    "    else:\n",
    "        if tmp[x] != 0:\n",
    "            y = (temp[x]-temp[x-1]) / tmp[x]\n",
    "            ans.append(y)\n",
    "        else:\n",
    "            ans.append(0)\n",
    "\n",
    "ans\n",
    "\n",
    "\n",
    "\n",
    "   \n"
   ]
  },
  {
   "cell_type": "code",
   "execution_count": 1,
   "metadata": {},
   "outputs": [],
   "source": [
    "def solution(N, stages):\n",
    "    N_stages = list(range(1, N+1))\n",
    "\n",
    "    total = len(stages)\n",
    "    num_temp = []\n",
    "    for idx, N_stage in enumerate(N_stages):\n",
    "        if total != 0:\n",
    "            cnt = stages.count(N_stage)\n",
    "            num = cnt / total\n",
    "            total -= cnt\n",
    "            ans = idx+1,num\n",
    "            num_temp.append(ans)\n",
    "        else:\n",
    "            ans = idx+1, 0\n",
    "            num_temp.append(ans)\n",
    "\n",
    "    sort_num = sorted(num_temp, reverse=True, key = lambda x:x[1])\n",
    "\n",
    "    answer = [i[0] for i in sort_num]\n",
    "    return answer"
   ]
  },
  {
   "cell_type": "code",
   "execution_count": 157,
   "metadata": {},
   "outputs": [],
   "source": [
    "def solution(answers):\n",
    "    A_ans = [1 if ans == [1,2,3,4,5][i%5] else 0 for i, ans in enumerate(answers)]\n",
    "    B_ans = [1 if ans == [2,1,2,3,2,4,2,5][i%8] else 0 for i, ans in enumerate(answers)]\n",
    "    C_ans = [1 if ans == [3,3,1,1,2,2,4,4,5,5][i%10] else 0 for i, ans in enumerate(answers)]\n",
    "\n",
    "    cnt = [sum(A_ans), sum(B_ans),sum(C_ans)]\n",
    "    answer = [i+1 for i in range(len(cnt)) if max(cnt)==cnt[i]]\n",
    "    return answer"
   ]
  },
  {
   "cell_type": "markdown",
   "metadata": {},
   "source": [
    "# 콜라 문제\n",
    "### 문제 설명\n",
    "- 오래전 유행했던 콜라 문제가 있습니다.\n",
    "- 콜라 문제의 지문은 다음과 같습니다.\n",
    "\n",
    " - 정답은 아무에게도 말하지 마세요.\n",
    "\n",
    "- 콜라 빈 병 2개를 가져다주면 콜라 1병을 주는 마트가 있다.\n",
    "- 빈 병 20개를 가져다주면 몇 병을 받을 수 있는가?\n",
    "\n",
    "- 단, 보유 중인 빈 병이 2개 미만이면, 콜라를 받을 수 없다.\n",
    "\n",
    "- 문제를 풀던 상빈이는 콜라 문제의 완벽한 해답을 찾았습니다.\n",
    "- 상빈이가 푼 방법은 아래 그림과 같습니다. 우선 콜라 빈 병 20병을 가져가서 10병을 받습니다.\n",
    "- 받은 10병을 모두 마신 뒤, 가져가서 5병을 받습니다. 5병 중 4병을 모두 마신 뒤 가져가서 2병을 받고, 또 2병을 모두 마신 뒤 가져가서 1병을 받습니다.\n",
    "- 받은 1병과 5병을 받았을 때 남은 1병을 모두 마신 뒤 가져가면 1병을 또 받을 수 있습니다.\n",
    "- 이 경우 상빈이는 총 10 + 5 + 2 + 1 + 1 = 19병의 콜라를 받을 수 있습니다.\n",
    "\n",
    "\n",
    "- 문제를 열심히 풀던 상빈이는 일반화된 콜라 문제를 생각했습니다.\n",
    "- 이 문제는 빈 병 a개를 가져다주면 콜라 b병을 주는 마트가 있을 때,\n",
    "- 빈 병 n개를 가져다주면 몇 병을 받을 수 있는지 계산하는 문제입니다.\n",
    "- 기존 콜라 문제와 마찬가지로, 보유 중인 빈 병이 a개 미만이면, 추가적으로 빈 병을 받을 순 없습니다.\n",
    "- 상빈이는 열심히 고심했지만, 일반화된 콜라 문제의 답을 찾을 수 없었습니다.\n",
    "- 상빈이를 도와, 일반화된 콜라 문제를 해결하는 프로그램을 만들어 주세요.\n",
    "\n",
    "- 콜라를 받기 위해 마트에 주어야 하는 병 수 a,\n",
    "- 빈 병 a개를 가져다 주면 마트가 주는 콜라 병 수 b,\n",
    "- 상빈이가 가지고 있는 빈 병의 개수 n이 매개변수로 주어집니다.\n",
    "- 상빈이가 받을 수 있는 콜라의 병 수를 return 하도록 solution 함수를 작성해주세요."
   ]
  },
  {
   "cell_type": "code",
   "execution_count": 8,
   "metadata": {},
   "outputs": [
    {
     "name": "stdout",
     "output_type": "stream",
     "text": [
      "10\n",
      "0\n"
     ]
    },
    {
     "data": {
      "text/plain": [
       "20"
      ]
     },
     "execution_count": 8,
     "metadata": {},
     "output_type": "execute_result"
    }
   ],
   "source": [
    "#\n",
    "a = 2\n",
    "b = 1\n",
    "n = 20\n",
    "\n",
    "cnt = 0\n",
    "rest = 0\n",
    "share = 0\n",
    "\n",
    "while True:\n",
    "    cnt += (n // a) * b\n",
    "    share += n // a \n",
    "    rest = n - share\n",
    "    print(rest)\n",
    "    if rest < a:\n",
    "        break\n",
    "\n",
    "cnt\n"
   ]
  },
  {
   "cell_type": "code",
   "execution_count": 2,
   "metadata": {},
   "outputs": [],
   "source": [
    "def solution(a, b, n):\n",
    "    answer = 0\n",
    "    share = 0\n",
    "    rest = 0\n",
    "    \n",
    "    while n >= a:\n",
    "        share = (n // a) * b\n",
    "        rest = n % a\n",
    "        answer += share\n",
    "        n = share + rest\n",
    "            \n",
    "    return answer"
   ]
  },
  {
   "cell_type": "markdown",
   "metadata": {},
   "source": [
    "# 로또의 최고 순위와 최저 순위\n",
    "## 문제 설명\n",
    "### 로또 6/45(이하 '로또'로 표기)는 1부터 45까지의 숫자 중 6개를 찍어서 맞히는 대표적인 복권입니다.\n",
    "#### 아래는 로또의 순위를 정하는 방식입니다. 1\n",
    "\n",
    "- 순위\t당첨 내용\n",
    "- 1\t6개 번호가 모두 일치\n",
    "- 2\t5개 번호가 일치\n",
    "- 3\t4개 번호가 일치\n",
    "- 4\t3개 번호가 일치\n",
    "- 5\t2개 번호가 일치\n",
    "- 6(낙첨)\t그 외\n",
    "- 로또를 구매한 민우는 당첨 번호 발표일을 학수고대하고 있었습니다.\n",
    "- 하지만, 민우의 동생이 로또에 낙서를 하여, 일부 번호를 알아볼 수 없게 되었습니다.\n",
    "- 당첨 번호 발표 후, 민우는 자신이 구매했던 로또로 당첨이 가능했던 최고 순위와 최저 순위를 알아보고 싶어 졌습니다.\n",
    "- 알아볼 수 없는 번호를 0으로 표기하기로 하고, 민우가 구매한 로또 번호 6개가 44, 1, 0, 0, 31 25라고 가정해보겠습니다.\n",
    "- 당첨 번호 6개가 31, 10, 45, 1, 6, 19라면, 당첨 가능한 최고 순위와 최저 순위의 한 예는 아래와 같습니다.\n",
    "\n",
    "- 당첨 번호\t31\t10\t45\t1\t6\t19\t결과\n",
    "- 최고 순위 번호\t31\t0→10\t44\t1\t0→6\t25\t4개 번호 일치, 3등\n",
    "- 최저 순위 번호\t31\t0→11\t44\t1\t0→7\t25\t2개 번호 일치, 5등\n",
    "- 순서와 상관없이, 구매한 로또에 당첨 번호와 일치하는 번호가 있으면 맞힌 걸로 인정됩니다.\n",
    "- 알아볼 수 없는 두 개의 번호를 각각 10, 6이라고 가정하면 3등에 당첨될 수 있습니다.\n",
    "- 3등을 만드는 다른 방법들도 존재합니다. 하지만, 2등 이상으로 만드는 것은 불가능합니다.\n",
    "- 알아볼 수 없는 두 개의 번호를 각각 11, 7이라고 가정하면 5등에 당첨될 수 있습니다.\n",
    "- 5등을 만드는 다른 방법들도 존재합니다. 하지만, 6등(낙첨)으로 만드는 것은 불가능합니다.\n",
    "- 민우가 구매한 로또 번호를 담은 배열 lottos, 당첨 번호를 담은 배열 win_nums가 매개변수로 주어집니다.\n",
    "- 이때, 당첨 가능한 최고 순위와 최저 순위를 차례대로 배열에 담아서 return 하도록 solution 함수를 완성해주세요."
   ]
  },
  {
   "cell_type": "code",
   "execution_count": 33,
   "metadata": {},
   "outputs": [],
   "source": [
    "def solution(lottos, win_nums):\n",
    "    win_count = 0\n",
    "    zero_count = 0\n",
    "    for lotto in lottos:\n",
    "        if lotto == 0:\n",
    "            zero_count +=1\n",
    "\n",
    "        else:\n",
    "            for win_num in win_nums:\n",
    "                if lotto == win_num:\n",
    "                    win_count +=1\n",
    "    \n",
    "    max_rank = min(7 - win_count - zero_count, 6)\n",
    "    min_rank = min(7- win_count, 6)\n",
    "\n",
    "    return max_rank, min_rank"
   ]
  },
  {
   "cell_type": "markdown",
   "metadata": {},
   "source": [
    "# 124 나라의 숫자\n",
    "## 문제 설명\n",
    "### 124 나라가 있습니다.\n",
    "### 124 나라에서는 10진법이 아닌 다음과 같은 자신들만의 규칙으로 수를 표현합니다.\n",
    "\n",
    "- 124 나라에는 자연수만 존재합니다.\n",
    "- 124 나라에는 모든 수를 표현할 때 1, 2, 4만 사용합니다.\n",
    "- 예를 들어서 124 나라에서 사용하는 숫자는 다음과 같이 변환됩니다.\n",
    "\n",
    "- 10진법\t124 나라\t10진법\t124 나라\n",
    "- 1\t        1\t        6\t    14\n",
    "- 2\t        2\t        7\t    21\n",
    "- 3\t        4\t        8\t    22\n",
    "- 4\t        11\t        9\t    24\n",
    "- 5\t        12\t        10\t    41\n",
    "\n",
    "- 자연수 n이 매개변수로 주어질 때, n을 124 나라에서 사용하는 숫자로 바꾼 값을 return 하도록 solution 함수를 완성해 주세요."
   ]
  },
  {
   "cell_type": "code",
   "execution_count": 85,
   "metadata": {},
   "outputs": [],
   "source": [
    "def solution(n):\n",
    "    answer = ''\n",
    "\n",
    "    n_dict = {\n",
    "        0:'4',\n",
    "        1:'1',\n",
    "        2:'2'\n",
    "    }\n",
    "\n",
    "    while n != 0:\n",
    "        rest = n % 3\n",
    "        answer += n_dict[rest]\n",
    "        if n % 3 == 0:\n",
    "            n=  n // 3 -1\n",
    "            print(n)\n",
    "        else:\n",
    "            n = n // 3\n",
    "            # print(n)\n",
    "\n",
    "    \n",
    "    return ''.join(reversed(answer))\n",
    "    "
   ]
  },
  {
   "cell_type": "code",
   "execution_count": 81,
   "metadata": {},
   "outputs": [
    {
     "data": {
      "text/plain": [
       "'14'"
      ]
     },
     "execution_count": 81,
     "metadata": {},
     "output_type": "execute_result"
    }
   ],
   "source": []
  },
  {
   "cell_type": "markdown",
   "metadata": {},
   "source": [
    "# 신고 결과 받기\n",
    "## 문제 설명\n",
    "### 문제 설명\n",
    "####신입사원 무지는 게시판 불량 이용자를 신고하고 처리 결과를 메일로 발송하는 시스템을 개발하려 합니다. 무지가 개발하려는 시스템은 다음과 같습니다.\n",
    "\n",
    "- 각 유저는 한 번에 한 명의 유저를 신고할 수 있습니다.\n",
    "- 신고 횟수에 제한은 없습니다. 서로 다른 유저를 계속해서 신고할 수 있습니다.\n",
    "- 한 유저를 여러 번 신고할 수도 있지만, 동일한 유저에 대한 신고 횟수는 1회로 처리됩니다.\n",
    "- k번 이상 신고된 유저는 게시판 이용이 정지되며, 해당 유저를 신고한 모든 유저에게 정지 사실을 메일로 발송합니다.\n",
    "- 유저가 신고한 모든 내용을 취합하여 마지막에 한꺼번에 게시판 이용 정지를 시키면서 정지 메일을 발송합니다.\n",
    "- 다음은 전체 유저 목록이 [\"muzi\", \"frodo\", \"apeach\", \"neo\"]이고, k = 2(즉, 2번 이상 신고당하면 이용 정지)인 경우의 예시입니다.\n",
    "\n",
    "유저 ID\t유저가 신고한 ID\t설명\n",
    "\"muzi\"\t\"frodo\"\t\"muzi\"가 \"frodo\"를 신고했습니다.\n",
    "\"apeach\"\t\"frodo\"\t\"apeach\"가 \"frodo\"를 신고했습니다.\n",
    "\"frodo\"\t\"neo\"\t\"frodo\"가 \"neo\"를 신고했습니다.\n",
    "\"muzi\"\t\"neo\"\t\"muzi\"가 \"neo\"를 신고했습니다.\n",
    "\"apeach\"\t\"muzi\"\t\"apeach\"가 \"muzi\"를 신고했습니다.\n",
    "\n",
    "- 각 유저별로 신고당한 횟수는 다음과 같습니다.\n",
    "\n",
    "유저 ID\t신고당한 횟수\n",
    "\"muzi\"\t1\n",
    "\"frodo\"\t2\n",
    "\"apeach\"\t0\n",
    "\"neo\"\t2\n",
    "\n",
    "- 위 예시에서는 2번 이상 신고당한 \"frodo\"와 \"neo\"의 게시판 이용이 정지됩니다.\n",
    "- 이때, 각 유저별로 신고한 아이디와 정지된 아이디를 정리하면 다음과 같습니다.\n",
    "\n",
    "유저 ID\t유저가 신고한 ID\t정지된 ID\n",
    "\"muzi\"\t[\"frodo\", \"neo\"]\t[\"frodo\", \"neo\"]\n",
    "\"frodo\"\t[\"neo\"]\t[\"neo\"]\n",
    "\"apeach\"\t[\"muzi\", \"frodo\"]\t[\"frodo\"]\n",
    "\"neo\"\t없음\t없음\n",
    "\n",
    "- 따라서 \"muzi\"는 처리 결과 메일을 2회, \"frodo\"와 \"apeach\"는 각각 처리 결과 메일을 1회 받게 됩니다.\n",
    "\n",
    "- 이용자의 ID가 담긴 문자열 배열 id_list,\n",
    "- 각 이용자가 신고한 이용자의 ID 정보가 담긴 문자열 배열 report,\n",
    "- 정지 기준이 되는 신고 횟수 k가 매개변수로 주어질 때,\n",
    "- 각 유저별로 처리 결과 메일을 받은 횟수를 배열에 담아 return 하도록 solution 함수를 완성해주세요."
   ]
  },
  {
   "attachments": {},
   "cell_type": "markdown",
   "metadata": {},
   "source": [
    "# 크기가 작은 부분문자열\n",
    "### 문제 설명\n",
    "- 숫자로 이루어진 문자열 t와 p가 주어질 때, t에서 p와 길이가 같은 부분문자열 중에서,\n",
    "- 이 부분문자열이 나타내는 수가 p가 나타내는 수보다 작거나 같은 것이 나오는 횟수를 return하는 함수 solution을 완성하세요.\n",
    "\n",
    "    - 예를 들어, t=\"3141592\"이고 p=\"271\" 인 경우, t의 길이가 3인 부분 문자열은 314, 141, 415, 159, 592입니다.\n",
    "    - 이 문자열이 나타내는 수 중 271보다 작거나 같은 수는 141, 159 2개 입니다."
   ]
  },
  {
   "cell_type": "code",
   "execution_count": null,
   "metadata": {},
   "outputs": [],
   "source": [
    "def solution(t, p):\n",
    "    answer = 0\n",
    "    temp = []\n",
    "    for i in range(len(t)-len(p)+1):\n",
    "        temp.append(t[i:i+len(p)])\n",
    "\n",
    "    for num in temp:\n",
    "        if int(p) >= int(num):\n",
    "            answer+=1\n",
    "    return answer"
   ]
  },
  {
   "cell_type": "markdown",
   "metadata": {},
   "source": [
    "# 푸드 파이트 대회\n",
    "### 문제 설명\n",
    "- 수웅이는 매달 주어진 음식을 빨리 먹는 푸드 파이트 대회를 개최합니다.\n",
    "- 이 대회에서 선수들은 1대 1로 대결하며, 매 대결마다 음식의 종류와 양이 바뀝니다.\n",
    "- 대결은 준비된 음식들을 일렬로 배치한 뒤, 한 선수는 제일 왼쪽에 있는 음식부터 오른쪽으로,\n",
    "- 다른 선수는 제일 오른쪽에 있는 음식부터 왼쪽으로 순서대로 먹는 방식으로 진행됩니다.\n",
    "- 중앙에는 물을 배치하고, 물을 먼저 먹는 선수가 승리하게 됩니다.\n",
    "\n",
    "    - 이때, 대회의 공정성을 위해 두 선수가 먹는 음식의 종류와 양이 같아야 하며, 음식을 먹는 순서도 같아야 합니다.\n",
    "    - 또한, 이번 대회부터는 칼로리가 낮은 음식을 먼저 먹을 수 있게 배치하여 선수들이 음식을 더 잘 먹을 수 있게 하려고 합니다.\n",
    "    - 이번 대회를 위해 수웅이는 음식을 주문했는데, 대회의 조건을 고려하지 않고 음식을 주문하여 몇 개의 음식은 대회에 사용하지 못하게 되었습니다.\n",
    "\n",
    "    - 예를 들어, 3가지의 음식이 준비되어 있으며, 칼로리가 적은 순서대로 1번 음식을 3개, 2번 음식을 4개, 3번 음식을 6개 준비했으며,\n",
    "    - 물을 편의상 0번 음식이라고 칭한다면, 두 선수는 1번 음식 1개, 2번 음식 2개, 3번 음식 3개씩을 먹게 되므로 음식의 배치는 \"1223330333221\"이 됩니다.\n",
    "    - 따라서 1번 음식 1개는 대회에 사용하지 못합니다.\n",
    "\n",
    "- 수웅이가 준비한 음식의 양을 칼로리가 적은 순서대로 나타내는 정수 배열 food가 주어졌을 때, 대회를 위한 음식의 배치를 나타내는 문자열을 return 하는 solution 함수를 완성해주세요."
   ]
  },
  {
   "cell_type": "code",
   "execution_count": 12,
   "metadata": {},
   "outputs": [],
   "source": [
    "def solution(food):\n",
    "    answer = ''\n",
    "    re_answer = ''\n",
    "    for i in range(1, len(food)):\n",
    "        cnt = food[i] // 2\n",
    "        answer += (str(i) * cnt)\n",
    "\n",
    "    re_answer = answer[::-1]\n",
    "\n",
    "    answer = answer + '0' + re_answer\n",
    "    return answer"
   ]
  },
  {
   "cell_type": "markdown",
   "metadata": {},
   "source": [
    "# 가장 가까운 같은 글자\n",
    "### 문제 설명\n",
    "- 문자열 s가 주어졌을 때, s의 각 위치마다 자신보다 앞에 나왔으면서, 자신과 가장 가까운 곳에 있는 같은 글자가 어디 있는지 알고 싶습니다.\n",
    "- 예를 들어, s=\"banana\"라고 할 때,  각 글자들을 왼쪽부터 오른쪽으로 읽어 나가면서 다음과 같이 진행할 수 있습니다.\n",
    "\n",
    "    - b는 처음 나왔기 때문에 자신의 앞에 같은 글자가 없습니다. 이는 -1로 표현합니다.\n",
    "    - a는 처음 나왔기 때문에 자신의 앞에 같은 글자가 없습니다. 이는 -1로 표현합니다.\n",
    "    - n은 처음 나왔기 때문에 자신의 앞에 같은 글자가 없습니다. 이는 -1로 표현합니다.\n",
    "    - a는 자신보다 두 칸 앞에 a가 있습니다. 이는 2로 표현합니다.\n",
    "    - n도 자신보다 두 칸 앞에 n이 있습니다. 이는 2로 표현합니다.\n",
    "    - a는 자신보다 두 칸, 네 칸 앞에 a가 있습니다. 이 중 가까운 것은 두 칸 앞이고, 이는 2로 표현합니다.\n",
    "    - 따라서 최종 결과물은 [-1, -1, -1, 2, 2, 2]가 됩니다.\n",
    "\n",
    "- 문자열 s이 주어질 때, 위와 같이 정의된 연산을 수행하는 함수 solution을 완성해주세요."
   ]
  },
  {
   "cell_type": "code",
   "execution_count": 19,
   "metadata": {},
   "outputs": [],
   "source": [
    "def solution(s):\n",
    "    temp = []\n",
    "    answer = []\n",
    "    cnt = 0\n",
    "    for chr in s:\n",
    "        if chr not in temp:\n",
    "            temp.append(chr)\n",
    "            answer.append(-1)\n",
    "            cnt += 1\n",
    "        else:\n",
    "            rev_s = s[:cnt][::-1]\n",
    "            cnt += 1\n",
    "            answer.append(rev_s.index(chr)+1)\n",
    "    return answer"
   ]
  },
  {
   "cell_type": "markdown",
   "metadata": {},
   "source": [
    "# 과일 장수\n",
    "### 문제 설명\n",
    "- 과일 장수가 사과 상자를 포장하고 있습니다.\n",
    "- 사과는 상태에 따라 1점부터 k점까지의 점수로 분류하며, k점이 최상품의 사과이고 1점이 최하품의 사과입니다.\n",
    "- 사과 한 상자의 가격은 다음과 같이 결정됩니다.\n",
    "\n",
    "- 한 상자에 사과를 m개씩 담아 포장합니다.\n",
    "- 상자에 담긴 사과 중 가장 낮은 점수가 p (1 ≤ p ≤ k)점인 경우, 사과 한 상자의 가격은 p * m 입니다.\n",
    "- 과일 장수가 가능한 많은 사과를 팔았을 때, 얻을 수 있는 최대 이익을 계산하고자 합니다. (사과는 상자 단위로만 판매하며, 남는 사과는 버립니다)\n",
    "\n",
    "    - 예를 들어, k = 3, m = 4, 사과 7개의 점수가 [1, 2, 3, 1, 2, 3, 1]이라면,\n",
    "    - 다음과 같이 [2, 3, 2, 3]으로 구성된 사과 상자 1개를 만들어 판매하여 최대 이익을 얻을 수 있습니다.\n",
    "\n",
    "    - (최저 사과 점수) x (한 상자에 담긴 사과 개수) x (상자의 개수) = 2 x 4 x 1 = 8\n",
    "- 사과의 최대 점수 k, 한 상자에 들어가는 사과의 수 m, 사과들의 점수 score가 주어졌을 때,\n",
    "- 과일 장수가 얻을 수 있는 최대 이익을 return하는 solution 함수를 완성해주세요."
   ]
  },
  {
   "cell_type": "code",
   "execution_count": 32,
   "metadata": {},
   "outputs": [],
   "source": [
    "def solution(k, m, score):\n",
    "    answer = 0\n",
    "    score = sorted(score, reverse=True)\n",
    "    num = len(score) // m\n",
    "\n",
    "    for i in range(1, num+1):\n",
    "        boxes = score[(i-1)*m:i*m]\n",
    "        answer += min(boxes) * m\n",
    "    return answer"
   ]
  },
  {
   "cell_type": "markdown",
   "metadata": {},
   "source": [
    "# 자릿수 더하기\n",
    "### 문제 설명\n",
    "- 자연수 N이 주어지면, N의 각 자릿수의 합을 구해서 return 하는 solution 함수를 만들어 주세요.\n",
    "- 예를들어 N = 123이면 1 + 2 + 3 = 6을 return 하면 됩니다.\n"
   ]
  },
  {
   "cell_type": "code",
   "execution_count": 34,
   "metadata": {},
   "outputs": [],
   "source": [
    "def solution(N):\n",
    "    answer = 0\n",
    "    for n in str(N):\n",
    "        answer += int(n)\n",
    "\n",
    "    return answer"
   ]
  },
  {
   "cell_type": "markdown",
   "metadata": {},
   "source": [
    "# 체육복\n",
    "### 문제 설명\n",
    "- 점심시간에 도둑이 들어, 일부 학생이 체육복을 도난당했습니다.\n",
    "- 다행히 여벌 체육복이 있는 학생이 이들에게 체육복을 빌려주려 합니다. \n",
    "- 학생들의 번호는 체격 순으로 매겨져 있어, 바로 앞번호의 학생이나 바로 뒷번호의 학생에게만 체육복을 빌려줄 수 있습니다.\n",
    "- 예를 들어, 4번 학생은 3번 학생이나 5번 학생에게만 체육복을 빌려줄 수 있습니다.\n",
    "- 체육복이 없으면 수업을 들을 수 없기 때문에 체육복을 적절히 빌려 최대한 많은 학생이 체육수업을 들어야 합니다.\n",
    "\n",
    "- 전체 학생의 수 n, 체육복을 도난당한 학생들의 번호가 담긴 배열 lost,\n",
    "- 여벌의 체육복을 가져온 학생들의 번호가 담긴 배열 reserve가 매개변수로 주어질 때,\n",
    "- 체육수업을 들을 수 있는 학생의 최댓값을 return 하도록 solution 함수를 작성해주세요."
   ]
  },
  {
   "cell_type": "code",
   "execution_count": null,
   "metadata": {},
   "outputs": [],
   "source": [
    "def solution(n, lost, reserve):\n",
    "    # lost에서 reserve와 같은 학생 번호 제거한 리스트\n",
    "    lost_pop = [i for i in lost if i not in reserve]\n",
    "    # reserve에서 lost와 같은 학생 번호 제거한 리스트\n",
    "    reserve_pop = [i for i in reserve if i not in lost]\n",
    "    \n",
    "    answer = n - len(lost_pop)\n",
    "    if len(reserve_pop) > len(lost_pop):\n",
    "        for l in lost_pop:\n",
    "            for a in reserve_pop:\n",
    "                if l + 1 == a or l - 1 == a:\n",
    "                    answer += 1\n",
    "                    break\n",
    "    else:\n",
    "        for l in reserve_pop:\n",
    "            for a in lost_pop:\n",
    "                if l + 1 == a or l - 1 == a:\n",
    "                    answer += 1\n",
    "                    break\n",
    "    if answer > n:\n",
    "        answer = n\n",
    "\n",
    "    return answer"
   ]
  },
  {
   "cell_type": "markdown",
   "metadata": {},
   "source": [
    "# 숫자 짝꿍\n",
    "### 문제 설명\n",
    "- 두 정수 X, Y의 임의의 자리에서 공통으로 나타나는 정수 k(0 ≤ k ≤ 9)들을 이용하여 만들 수 있는 가장 큰 정수를 두 수의 짝꿍이라 합니다\n",
    "- (단, 공통으로 나타나는 정수 중 서로 짝지을 수 있는 숫자만 사용합니다).\n",
    "- X, Y의 짝꿍이 존재하지 않으면, 짝꿍은 -1입니다.\n",
    "- X, Y의 짝꿍이 0으로만 구성되어 있다면, 짝꿍은 0입니다.\n",
    "\n",
    "    - 예를 들어, X = 3403이고 Y = 13203이라면, X와 Y의 짝꿍은 X와 Y에서 공통으로 나타나는 3, 0, 3으로 만들 수 있는 가장 큰 정수인 330입니다.\n",
    "    - 다른 예시로 X = 5525이고 Y = 1255이면 X와 Y의 짝꿍은 X와 Y에서 공통으로 나타나는 2, 5, 5로 만들 수 있는 가장 큰 정수인 552입니\n",
    "    - (X에는 5가 3개, Y에는 5가 2개 나타나므로 남는 5 한 개는 짝 지을 수 없습니다.)\n",
    "\n",
    "- 두 정수 X, Y가 주어졌을 때, X, Y의 짝꿍을 return하는 solution 함수를 완성해주세요."
   ]
  },
  {
   "cell_type": "code",
   "execution_count": 88,
   "metadata": {},
   "outputs": [],
   "source": [
    "def solution(X, Y):\n",
    "    answer = ''\n",
    "\n",
    "    num_x = {str(i):0 for i in range(10)}\n",
    "    num_y = {str(i):0 for i in range(10)}\n",
    "\n",
    "    for x in X:\n",
    "        num_x[x] += 1\n",
    "\n",
    "    for y in Y:\n",
    "        num_y[y] += 1\n",
    "\n",
    "    for k in range(9,-1,-1):\n",
    "        k = str(k)\n",
    "        cnt_k = min(num_x[k], num_y[k])\n",
    "\n",
    "        if answer == '' and k == '0' and cnt_k != 0:\n",
    "            answer = '0'\n",
    "            break\n",
    "        answer = ''.join([answer, k*cnt_k])\n",
    "\n",
    "    if answer == '':\n",
    "        answer = '-1'\n",
    "\n",
    "    return answer"
   ]
  },
  {
   "cell_type": "code",
   "execution_count": 89,
   "metadata": {},
   "outputs": [],
   "source": [
    "# 시간 초과 count 때문.\n",
    "def solution(X, Y):\n",
    "    temp = []\n",
    "    answer = ''\n",
    "    for i in range(9,-1,-1):\n",
    "        if (str(i) in X) and (str(i) in Y):\n",
    "            temp.append(i)\n",
    "        else:\n",
    "            continue\n",
    "\n",
    "    if temp == []:\n",
    "        answer += '-1'\n",
    "\n",
    "    else:\n",
    "        for t in temp:\n",
    "            answer += str(t) * min(X.count(str(t)), Y.count(str(t)))\n",
    "    \n",
    "    return str(int(answer))"
   ]
  },
  {
   "cell_type": "code",
   "execution_count": 91,
   "metadata": {},
   "outputs": [
    {
     "name": "stdout",
     "output_type": "stream",
     "text": [
      "{'aet': ['eat', 'tea', 'ate'], 'ant': ['tan', 'nat'], 'abt': ['bat']}\n"
     ]
    }
   ],
   "source": [
    "words = ['eat','tea','tan','ate','nat','bat']\n",
    "anagrams = {}\n",
    "for word in words:\n",
    "    temp = sorted(word)\n",
    "    temp = ''.join(temp)\n",
    "\n",
    "    if anagrams.get(temp):\n",
    "        # 정렬 결과가 이미 딕셔너리에 존재하는 지 검색\n",
    "        anagrams[temp].append(word)\n",
    "    else:\n",
    "        anagrams[temp]= [word]\n",
    "\n",
    "print(anagrams)"
   ]
  },
  {
   "cell_type": "markdown",
   "metadata": {},
   "source": [
    "## 제일 작은 수 제거하기\n",
    "### 문제 설명\n",
    "- 정수를 저장한 배열, arr 에서 가장 작은 수를 제거한 배열을 리턴하는 함수, solution을 완성해주세요.\n",
    "- 단, 리턴하려는 배열이 빈 배열인 경우엔 배열에 -1을 채워 리턴하세요.\n",
    "- 예를들어 arr이 [4,3,2,1]인 경우는 [4,3,2]를 리턴 하고, [10]면 [-1]을 리턴 합니다."
   ]
  },
  {
   "cell_type": "code",
   "execution_count": null,
   "metadata": {},
   "outputs": [],
   "source": [
    "def solution(arr):\n",
    "    answer = []\n",
    "    min_val = 1e9\n",
    "    for i in arr:\n",
    "        if min_val > i:\n",
    "            min_val = i\n",
    "    if arr == [10]:\n",
    "        return [-1]\n",
    "    arr.remove(min_val)\n",
    "    return arr"
   ]
  },
  {
   "cell_type": "markdown",
   "metadata": {},
   "source": [
    "##  짝수와 홀수\n",
    "### 문제 설명\n",
    "- 정수 num이 짝수일 경우 \"Even\"을 반환하고 홀수인 경우 \"Odd\"를 반환하는 함수, solution을 완성해주세요."
   ]
  },
  {
   "cell_type": "code",
   "execution_count": 1,
   "metadata": {},
   "outputs": [],
   "source": [
    "def solution(num):\n",
    "    if num % 2:\n",
    "        return \"Odd\"\n",
    "    else:\n",
    "        return \"Even\""
   ]
  },
  {
   "cell_type": "markdown",
   "metadata": {},
   "source": [
    "## 약수의 합\n",
    "### 문제 설명\n",
    "- 정수 n을 입력받아 n의 약수를 모두 더한 값을 리턴하는 함수, solution을 완성해주세요."
   ]
  },
  {
   "cell_type": "code",
   "execution_count": null,
   "metadata": {},
   "outputs": [],
   "source": [
    "def solution(n):\n",
    "    answer = 0\n",
    "    for i in range(1, n+1):\n",
    "        if n % i == 0:\n",
    "            answer += i\n",
    "    return answer"
   ]
  },
  {
   "cell_type": "markdown",
   "metadata": {},
   "source": [
    "## 자연수 뒤집어 배열로 만들기\n",
    "### 문제 설명\n",
    "- 자연수 n을 뒤집어 각 자리 숫자를 원소로 가지는 배열 형태로 리턴해주세요.\n",
    "- 예를들어 n이 12345이면 [5,4,3,2,1]을 리턴합니다."
   ]
  },
  {
   "cell_type": "code",
   "execution_count": null,
   "metadata": {},
   "outputs": [],
   "source": [
    "def solution(n):\n",
    "    answer = []\n",
    "    for i in str(n):\n",
    "        answer.append(int(n))\n",
    "    return answer[::-1]\n",
    "\n",
    "# def solution(n):\n",
    "    # return list(map(int, reversed(str(n))))\n",
    "    # return [int(i) for i in str(n)][::-1]"
   ]
  },
  {
   "cell_type": "markdown",
   "metadata": {},
   "source": [
    "## 정수 제곱근 판별\n",
    "### 문제 설명\n",
    "- 임의의 양의 정수 n에 대해, n이 어떤 양의 정수 x의 제곱인지 아닌지 판단하려 합니다.\n",
    "- n이 양의 정수 x의 제곱이라면 x+1의 제곱을 리턴하고,\n",
    "- n이 양의 정수 x의 제곱이 아니라면 -1을 리턴하는 함수를 완성하세요."
   ]
  },
  {
   "cell_type": "code",
   "execution_count": 7,
   "metadata": {},
   "outputs": [],
   "source": [
    "def solution(n):\n",
    "    temp = []\n",
    "    for i in range(1, 7071068):\n",
    "        temp.append(i ** 2)\n",
    "    if n in temp:\n",
    "        return (n ** 0.5 + 1) ** 2\n",
    "    else:\n",
    "        return -1"
   ]
  },
  {
   "cell_type": "code",
   "execution_count": 8,
   "metadata": {},
   "outputs": [],
   "source": [
    "def solution(n):\n",
    "    root_n = n ** 0.5\n",
    "\n",
    "    if root_n % 1 == 0:\n",
    "        return (root_n + 1) ** 2\n",
    "    else:\n",
    "        return -1"
   ]
  },
  {
   "cell_type": "markdown",
   "metadata": {},
   "source": [
    "## 문자열 내 p와 y의 개수\n",
    "### 문제 설명\n",
    "- 대문자와 소문자가 섞여있는 문자열 s가 주어집니다.\n",
    "- s에 'p'의 개수와 'y'의 개수를 비교해 같으면 True, 다르면 False를 return 하는 solution를 완성하세요.\n",
    "- 'p', 'y' 모두 하나도 없는 경우는 항상 True를 리턴합니다.\\\n",
    "- 단, 개수를 비교할 때 대문자와 소문자는 구별하지 않습니다.\n",
    "\n",
    "- 예를 들어 s가 \"pPoooyY\"면 true를 return하고 \"Pyy\"라면 false를 return합니다.\n"
   ]
  },
  {
   "cell_type": "code",
   "execution_count": 14,
   "metadata": {},
   "outputs": [],
   "source": [
    "def solution(s):\n",
    "    s = s.lower()\n",
    "    if s.count('p') == s.count('y'):\n",
    "        return True\n",
    "    else:\n",
    "        return False"
   ]
  },
  {
   "cell_type": "markdown",
   "metadata": {},
   "source": [
    "## x만큼 간격이 있는 n개의 숫자\n",
    "### 문제 설명\n",
    "- 함수 solution은 정수 x와 자연수 n을 입력 받아,\n",
    "- x부터 시작해 x씩 증가하는 숫자를 n개 지니는 리스트를 리턴해야 합니다.\n",
    "- 다음 제한 조건을 보고, 조건을 만족하는 함수, solution을 완성해주세요."
   ]
  },
  {
   "cell_type": "code",
   "execution_count": null,
   "metadata": {},
   "outputs": [],
   "source": [
    "def solution(x, n):\n",
    "    answer = []\n",
    "    for i in range(n):\n",
    "        j = x + x * i\n",
    "        answer.append(j)\n",
    "    return answer"
   ]
  },
  {
   "cell_type": "markdown",
   "metadata": {},
   "source": [
    "## 문자열을 정수로 바꾸기\n",
    "### 문제 설명\n",
    "- 문자열 s를 숫자로 변환한 결과를 반환하는 함수, solution을 완성하세요."
   ]
  },
  {
   "cell_type": "code",
   "execution_count": 16,
   "metadata": {},
   "outputs": [],
   "source": [
    "def solution(n):\n",
    "    return int(n)"
   ]
  },
  {
   "cell_type": "markdown",
   "metadata": {},
   "source": [
    "## 정수 내림차순으로 배치하기\n",
    "### 문제 설명\n",
    "- 함수 solution은 정수 n을 매개변수로 입력받습니다.\n",
    "- n의 각 자릿수를 큰것부터 작은 순으로 정렬한 새로운 정수를 리턴해주세요.\n",
    "- 예를들어 n이 118372면 873211을 리턴하면 됩니다.\n",
    "\n"
   ]
  },
  {
   "cell_type": "code",
   "execution_count": 20,
   "metadata": {},
   "outputs": [],
   "source": [
    "def solution(n):\n",
    "    temp = [i for i in str(n)]\n",
    "    temp.sort(reverse=True)\n",
    "    return int(''.join(temp))    "
   ]
  },
  {
   "cell_type": "markdown",
   "metadata": {},
   "source": [
    "## 하샤드 수\n",
    "### 문제 설명\n",
    "- 양의 정수 x가 하샤드 수이려면 x의 자릿수의 합으로 x가 나누어져야 합니다.\n",
    "- 예를 들어 18의 자릿수 합은 1+8=9이고, 18은 9로 나누어 떨어지므로 18은 하샤드 수입니다.\n",
    "- 자연수 x를 입력받아 x가 하샤드 수인지 아닌지 검사하는 함수, solution을 완성해주세요."
   ]
  },
  {
   "cell_type": "code",
   "execution_count": null,
   "metadata": {},
   "outputs": [],
   "source": [
    "def solution(x):\n",
    "    answer = True\n",
    "    cnt = 0\n",
    "    for i in str(x):\n",
    "        cnt += int(i)\n",
    "    \n",
    "    if x % cnt == 0:\n",
    "        return True\n",
    "    return False"
   ]
  },
  {
   "cell_type": "markdown",
   "metadata": {},
   "source": [
    "## 나머지가 1이 되는 수 찾기\n",
    "### 문제 설명\n",
    "- 자연수 n이 매개변수로 주어집니다.\n",
    "- n을 x로 나눈 나머지가 1이 되도록 하는 가장 작은 자연수 x를 return 하도록 solution 함수를 완성해주세요.\n",
    "- 답이 항상 존재함은 증명될 수 있습니다."
   ]
  },
  {
   "cell_type": "code",
   "execution_count": null,
   "metadata": {},
   "outputs": [],
   "source": [
    "def solution(n):\n",
    "    answer = 0\n",
    "    for i in range(1, n):\n",
    "        if n % i == 1:\n",
    "            return i"
   ]
  },
  {
   "cell_type": "markdown",
   "metadata": {},
   "source": [
    "## 콜라츠 추측\n",
    "### 문제 설명\n",
    "- 1937년 Collatz란 사람에 의해 제기된 이 추측은, 주어진 수가 1이 될 때까지 다음 작업을 반복하면,\n",
    "- 모든 수를 1로 만들 수 있다는 추측입니다.\n",
    "- 작업은 다음과 같습니다.\n",
    "\n",
    "    - 1-1. 입력된 수가 짝수라면 2로 나눕니다. \n",
    "    - 1-2. 입력된 수가 홀수라면 3을 곱하고 1을 더합니다. \n",
    "    - 2. 결과로 나온 수에 같은 작업을 1이 될 때까지 반복합니다. \n",
    "\n",
    "- 예를 들어, 주어진 수가 6이라면 6 → 3 → 10 → 5 → 16 → 8 → 4 → 2 → 1 이 되어 총 8번 만에 1이 됩니다.\n",
    "- 위 작업을 몇 번이나 반복해야 하는지 반환하는 함수, solution을 완성해 주세요.\n",
    "- 단, 주어진 수가 1인 경우에는 0을, 작업을 500번 반복할 때까지 1이 되지 않는다면 –1을 반환해 주세요."
   ]
  },
  {
   "cell_type": "code",
   "execution_count": null,
   "metadata": {},
   "outputs": [],
   "source": [
    "def solution(num):\n",
    "    cnt = 0\n",
    "    while True:\n",
    "        if cnt <= 500 and num == 1:\n",
    "            break\n",
    "        if num % 2:\n",
    "            num = num * 3 + 1\n",
    "            cnt += 1\n",
    "        else:\n",
    "            num /= 2\n",
    "            cnt +=1\n",
    "        \n",
    "        if cnt > 500:\n",
    "            return -1\n",
    "    return cnt"
   ]
  },
  {
   "cell_type": "markdown",
   "metadata": {},
   "source": [
    "## 서울에서 김서방 찾기\n",
    "### 문제 설명\n",
    "- String형 배열 seoul의 element중 \"Kim\"의 위치 x를 찾아,\n",
    "- \"김서방은 x에 있다\"는 String을 반환하는 함수, solution을 완성하세요.\n",
    "- seoul에 \"Kim\"은 오직 한 번만 나타나며 잘못된 값이 입력되는 경우는 없습니다."
   ]
  },
  {
   "cell_type": "code",
   "execution_count": null,
   "metadata": {},
   "outputs": [],
   "source": [
    "def solution(seoul):\n",
    "    return '김서방은 {}에 있다'.format(seoul.index('Kim'))"
   ]
  },
  {
   "cell_type": "markdown",
   "metadata": {},
   "source": [
    "## 나누어 떨어지는 숫자 배열\n",
    "### 문제 설명\n",
    "- array의 각 element 중 divisor로 나누어 떨어지는 값을\n",
    "- 오름차순으로 정렬한 배열을 반환하는 함수, solution을 작성해주세요.\n",
    "- divisor로 나누어 떨어지는 element가 하나도 없다면 배열에 -1을 담아 반환하세요."
   ]
  },
  {
   "cell_type": "code",
   "execution_count": null,
   "metadata": {},
   "outputs": [],
   "source": [
    "def solution(arr, divisor):\n",
    "    answer = []\n",
    "    for a in arr:\n",
    "        if a % divisor == 0:\n",
    "            answer.append(a)\n",
    "    if answer:\n",
    "        answer.sort()\n",
    "        return answer\n",
    "    else:\n",
    "        return [-1]"
   ]
  },
  {
   "cell_type": "markdown",
   "metadata": {},
   "source": [
    "## 핸드폰 번호 가리기\n",
    "### 문제 설명\n",
    "- 프로그래머스 모바일은 개인정보 보호를 위해 고지서를 보낼 때 고객들의 전화번호의 일부를 가립니다.\n",
    "- 전화번호가 문자열 phone_number로 주어졌을 때,\n",
    "- 전화번호의 뒷 4자리를 제외한 나머지 숫자를 전부 *으로 가린 문자열을 리턴하는 함수, solution을 완성해주세요."
   ]
  },
  {
   "cell_type": "code",
   "execution_count": null,
   "metadata": {},
   "outputs": [],
   "source": [
    "def solution(phone_number):\n",
    "    return '*' * (len(phone_number) - 4) + phone_number[-4:]"
   ]
  },
  {
   "cell_type": "markdown",
   "metadata": {},
   "source": [
    "## [1차] 다트 게임\n",
    "### 문제 설명\n",
    "- 다트 게임\n",
    "- 카카오톡에 뜬 네 번째 별! 심심할 땐? 카카오톡 게임별~\n",
    "\n",
    "- Game Star\n",
    "\n",
    "- 카카오톡 게임별의 하반기 신규 서비스로 다트 게임을 출시하기로 했다.\n",
    "- 다트 게임은 다트판에 다트를 세 차례 던져 그 점수의 합계로 실력을 겨루는 게임으로, 모두가 간단히 즐길 수 있다.\n",
    "- 갓 입사한 무지는 코딩 실력을 인정받아 게임의 핵심 부분인 점수 계산 로직을 맡게 되었다.\n",
    "- 다트 게임의 점수 계산 로직은 아래와 같다.\n",
    "\n",
    "- 다트 게임은 총 3번의 기회로 구성된다.\n",
    "- 각 기회마다 얻을 수 있는 점수는 0점에서 10점까지이다.\n",
    "- 점수와 함께 Single(S), Double(D), Triple(T) 영역이 존재하고\n",
    "- 각 영역 당첨 시 점수에서 1제곱, 2제곱, 3제곱 (점수1 , 점수2 , 점수3 )으로 계산된다.\n",
    "- 옵션으로 스타상(*) , 아차상(#)이 존재하며 스타상(*) 당첨 시 해당 점수와 바로 전에 얻은 점수를 각 2배로 만든다.\n",
    "- 아차상(#) 당첨 시 해당 점수는 마이너스된다.\n",
    "- 스타상(*)은 첫 번째 기회에서도 나올 수 있다.\n",
    "    - 이 경우 첫 번째 스타상(*)의 점수만 2배가 된다. (예제 4번 참고)\n",
    "- 스타상(*)의 효과는 다른 스타상(*)의 효과와 중첩될 수 있다.\n",
    "    - 이 경우 중첩된 스타상(*) 점수는 4배가 된다. (예제 4번 참고)\n",
    "- 스타상(*)의 효과는 아차상(#)의 효과와 중첩될 수 있다.\n",
    "    - 이 경우 중첩된 아차상(#)의 점수는 -2배가 된다. (예제 5번 참고)\n",
    "- Single(S), Double(D), Triple(T)은 점수마다 하나씩 존재한다.\n",
    "- 스타상(*), 아차상(#)은 점수마다 둘 중 하나만 존재할 수 있으며, 존재하지 않을 수도 있다.\n",
    "\n",
    "- 0~10의 정수와 문자 S, D, T, *, #로 구성된 문자열이 입력될 시 총점수를 반환하는 함수를 작성하라."
   ]
  },
  {
   "cell_type": "code",
   "execution_count": 25,
   "metadata": {},
   "outputs": [
    {
     "data": {
      "text/plain": [
       "['2', '1']"
      ]
     },
     "execution_count": 25,
     "metadata": {},
     "output_type": "execute_result"
    }
   ],
   "source": [
    "s = '1+2-1'\n",
    "s = s.split('+')\n",
    "for i in s:\n",
    "    if '-' in i:\n",
    "        r = i.split('-')\n",
    "r"
   ]
  },
  {
   "cell_type": "code",
   "execution_count": 38,
   "metadata": {},
   "outputs": [
    {
     "name": "stdout",
     "output_type": "stream",
     "text": [
      "0\n",
      "1\n",
      "0\n",
      "0\n",
      "2\n",
      "4\n",
      "4\n",
      "4\n",
      "7\n"
     ]
    },
    {
     "data": {
      "text/plain": [
       "7"
      ]
     },
     "execution_count": 38,
     "metadata": {},
     "output_type": "execute_result"
    }
   ],
   "source": [
    "dartResult = '1D#2S*3S'\n",
    "answer = 0\n",
    "cnt = 0 \n",
    "for i in dartResult:\n",
    "    if i == '*':\n",
    "        answer *= 2\n",
    "        print(answer)\n",
    "    elif i.isdigit():\n",
    "        cnt = 0\n",
    "        cnt += int(i)\n",
    "        # print(cnt)\n",
    "    elif i == 'S':\n",
    "        answer += cnt\n",
    "    elif i == 'D':\n",
    "        cnt = cnt ** 2\n",
    "        answer += cnt\n",
    "        # print(cnt)\n",
    "    elif i == 'T':\n",
    "        cnt = cnt ** 3\n",
    "        answer += cnt\n",
    "        # print(cnt)\n",
    "    elif i == '#':\n",
    "        cnt *= -1\n",
    "        answer += cnt\n",
    "    print(answer)\n",
    "answer"
   ]
  },
  {
   "attachments": {},
   "cell_type": "markdown",
   "metadata": {},
   "source": [
    "## 명예의 전당 (1)\n",
    "### 문제 설명\n",
    "- \"명예의 전당\"이라는 TV 프로그램에서는 매일 1명의 가수가 노래를 부르고,\n",
    "- 시청자들의 문자 투표수로 가수에게 점수를 부여합니다.\n",
    "- 매일 출연한 가수의 점수가 지금까지 출연 가수들의 점수 중 상위 k번째 이내이면\n",
    "- 해당 가수의 점수를 명예의 전당이라는 목록에 올려 기념합니다.\n",
    "- 즉 프로그램 시작 이후 초기에 k일까지는 모든 출연 가수의 점수가 명예의 전당에 오르게 됩니다.\n",
    "- k일 다음부터는 출연 가수의 점수가 기존의 명예의 전당 목록의 k번째 순위의 가수 점수보다 더 높으면,\n",
    "- 출연 가수의 점수가 명예의 전당에 오르게 되고 기존의 k번째 순위의 점수는 명예의 전당에서 내려오게 됩니다.\n",
    "\n",
    "- 이 프로그램에서는 매일 \"명예의 전당\"의 최하위 점수를 발표합니다.\n",
    "- 예를 들어, k = 3이고, 7일 동안 진행된 가수의 점수가 [10, 100, 20, 150, 1, 100, 200]이라면,\n",
    "- 명예의 전당에서 발표된 점수는 아래의 그림과 같이 [10, 10, 10, 20, 20, 100, 100]입니다.\n",
    "\n",
    "- 명예의 전당 목록의 점수의 개수 k, 1일부터 마지막 날까지 출연한 가수들의 점수인 score가 주어졌을 때, \n",
    "- 매일 발표된 명예의 전당의 최하위 점수를 return하는 solution 함수를 완성해주세요."
   ]
  },
  {
   "cell_type": "code",
   "execution_count": null,
   "metadata": {},
   "outputs": [],
   "source": []
  },
  {
   "cell_type": "code",
   "execution_count": null,
   "metadata": {},
   "outputs": [],
   "source": []
  },
  {
   "cell_type": "code",
   "execution_count": null,
   "metadata": {},
   "outputs": [],
   "source": []
  },
  {
   "cell_type": "code",
   "execution_count": null,
   "metadata": {},
   "outputs": [],
   "source": []
  }
 ],
 "metadata": {
  "kernelspec": {
   "display_name": "Python 3",
   "language": "python",
   "name": "python3"
  },
  "language_info": {
   "codemirror_mode": {
    "name": "ipython",
    "version": 3
   },
   "file_extension": ".py",
   "mimetype": "text/x-python",
   "name": "python",
   "nbconvert_exporter": "python",
   "pygments_lexer": "ipython3",
   "version": "3.8.6 (tags/v3.8.6:db45529, Sep 23 2020, 15:52:53) [MSC v.1927 64 bit (AMD64)]"
  },
  "orig_nbformat": 4,
  "vscode": {
   "interpreter": {
    "hash": "242a6f91fed8866d1b25b1edef3542af1d2f6e2ad837f192b445f77eeaad93fa"
   }
  }
 },
 "nbformat": 4,
 "nbformat_minor": 2
}
