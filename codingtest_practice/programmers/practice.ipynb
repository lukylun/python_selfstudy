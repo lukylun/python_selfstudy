{
 "cells": [
  {
   "cell_type": "code",
   "execution_count": 9,
   "metadata": {},
   "outputs": [],
   "source": [
    "def solution(number,k):\n",
    "    answer = ''\n",
    "    number = list(map(int, number))\n",
    "\n",
    "    now_index = 0\n",
    "    # 배열 길이 - k만큼 돌고 남으면, 더이상 볼 필요 없음.\n",
    "    for i in range(len(number)-k):\n",
    "        # 내가 볼 수 있는 부분만 (k+1만큼만 가져옴)\n",
    "        remains = number[now_index : now_index+k+1]\n",
    "        max_value = -1\n",
    "        max_index = 0\n",
    "\n",
    "        # 해당 부분 확인하면서 가장 큰 값, index 확인\n",
    "        for j,v in enumerate(remains):\n",
    "            # 만약 현재 값이 저장해둔 max_value보다 크면,\n",
    "            if v > max_value:\n",
    "                # 최신화\n",
    "                max_value = v\n",
    "                max_index = j\n",
    "            # 단일자리에서 가장 큰 수는 9이기 때문에, 바로 break\n",
    "            if max_value == 9 : break\n",
    "        \n",
    "        # now_index, k , naswer 최신화\n",
    "        # 현재 보고있는 index에서\n",
    "        # max_index는 remains의 index니까 (0부터 시작하기 때문에)\n",
    "        # now_index + max_index 그 다음꺼부터 보기 위해 +1 해줌\n",
    "        now_index += max_index + 1\n",
    "        k -= max_index\n",
    "        answer += str(max_value)\n",
    "\n",
    "    return answer\n",
    "\n"
   ]
  },
  {
   "cell_type": "code",
   "execution_count": 19,
   "metadata": {},
   "outputs": [
    {
     "data": {
      "text/plain": [
       "'94'"
      ]
     },
     "execution_count": 19,
     "metadata": {},
     "output_type": "execute_result"
    }
   ],
   "source": [
    "number = \"1924\"\n",
    "k = 2\n",
    "\n",
    "solution(number, k)"
   ]
  },
  {
   "cell_type": "code",
   "execution_count": null,
   "metadata": {},
   "outputs": [],
   "source": []
  },
  {
   "cell_type": "code",
   "execution_count": null,
   "metadata": {},
   "outputs": [],
   "source": [
    "def solution(citations):\n",
    "    answer = 0\n",
    "    return answer"
   ]
  },
  {
   "cell_type": "code",
   "execution_count": 27,
   "metadata": {},
   "outputs": [],
   "source": [
    "citations =[3, 0, 6, 1, 5]\n",
    "\n",
    "now_index = 0\n",
    "nxt_index = 1\n",
    "\n",
    "for i in range(len(citations)):\n",
    "    if citations[now_index] > citations[nxt_index]:\n",
    "        citations[now_index], citations[nxt_index] = citations[nxt_index], citations[now_index]\n",
    "    else:\n",
    "        now_index += 1\n",
    "        "
   ]
  },
  {
   "cell_type": "code",
   "execution_count": 28,
   "metadata": {},
   "outputs": [
    {
     "data": {
      "text/plain": [
       "[0, 3, 6, 1, 5]"
      ]
     },
     "execution_count": 28,
     "metadata": {},
     "output_type": "execute_result"
    }
   ],
   "source": [
    "citations"
   ]
  },
  {
   "cell_type": "code",
   "execution_count": 50,
   "metadata": {},
   "outputs": [
    {
     "data": {
      "text/plain": [
       "[1, 1, 1, 2, 2, 2, 3, 3, 3, 3, 5, 7, 8]"
      ]
     },
     "execution_count": 50,
     "metadata": {},
     "output_type": "execute_result"
    }
   ],
   "source": [
    "# 선택정렬\n",
    "arrays = [2,3,5,7,8,1,1,2,3,3,1,2,3]\n",
    "\n",
    "\n",
    "for i in range(len(arrays)-1):\n",
    "    array_idx = i\n",
    "    for j in range(i+1, len(arrays)):\n",
    "        if arrays[array_idx] > arrays[j]:\n",
    "            array_idx = j\n",
    "    arrays[i], arrays[array_idx] = arrays[array_idx], arrays[i]\n",
    "\n",
    "arrays"
   ]
  },
  {
   "cell_type": "code",
   "execution_count": 51,
   "metadata": {},
   "outputs": [
    {
     "data": {
      "text/plain": [
       "[1, 2, 2, 3, 5, 7]"
      ]
     },
     "execution_count": 51,
     "metadata": {},
     "output_type": "execute_result"
    }
   ],
   "source": [
    "# 삽입정렬\n",
    "arrays = [2,5,7,1,2,3]\n",
    "\n",
    "for i in range(1, len(arrays)):\n",
    "    for j in range(i,0,-1):\n",
    "        if arrays[j-1] > arrays[j]:\n",
    "            arrays[j-1], arrays[j] = arrays[j], arrays[j-1]\n",
    "    \n",
    "\n",
    "arrays\n"
   ]
  },
  {
   "cell_type": "code",
   "execution_count": 58,
   "metadata": {},
   "outputs": [
    {
     "data": {
      "text/plain": [
       "[1, 2, 2, 3, 5, 7]"
      ]
     },
     "execution_count": 58,
     "metadata": {},
     "output_type": "execute_result"
    }
   ],
   "source": [
    "# 버블정렬\n",
    "arrays = [2,5,7,1,2,3]\n",
    "\n",
    "\n",
    "for i in range(len(arrays)-1,0,-1):\n",
    "    for j in range(i):\n",
    "        if arrays[j] > arrays[j+1]:\n",
    "            arrays[j], arrays[j+1] = arrays[j+1], arrays[j]\n",
    "    \n",
    "\n",
    "arrays"
   ]
  },
  {
   "attachments": {},
   "cell_type": "markdown",
   "metadata": {},
   "source": [
    "### 예제 : BinarySearch 재귀함수 구현\n",
    "- 함수의 파라미터는 목표 값, 시작 index, 끝 index, 그리고 정렬된 iterable한 객체이다.\n",
    "- 시작 index와 끝 index를 비교하여 시작 index가 끝 index보다 클 경우 종료\n",
    "- 중앙 index를 계산\n",
    "- (1) 중앙값이 target과 같으면 해당 index 반환\n",
    "- (2) 중앙값이 target보다 작으면, (3) 중앙값이 target보다 크면, 각각 자기 자신을 다시 호출 (start, end를 mid로 대체)"
   ]
  },
  {
   "cell_type": "code",
   "execution_count": 14,
   "metadata": {},
   "outputs": [],
   "source": [
    "# 이진 탐색\n",
    "def BinarySearch(fibo_list, target_idx):\n",
    "\n",
    "    start_idx = fibo_list[0]\n",
    "    end_idx = fibo_list[-1]\n",
    "    cnt = 1\n",
    "    mid_idx = int((start_idx+end_idx)/2)\n",
    "    \n",
    "    while True:\n",
    "        if mid_idx == target_idx:\n",
    "            break\n",
    "        \n",
    "        elif mid_idx < target_idx:\n",
    "            start_idx = mid_idx\n",
    "            mid_idx = int((start_idx+end_idx)/2)\n",
    "            cnt += 1\n",
    "            # print(\"중앙값이 target보다 작음:\", mid_idx)\n",
    "\n",
    "        else:\n",
    "            end_idx = mid_idx\n",
    "            mid_idx = int((start_idx+end_idx)/2)\n",
    "            cnt += 1\n",
    "            # print(\"중앙값이 target보다 큼:\", mid_idx)\n",
    "\n",
    "    return cnt\n",
    "    "
   ]
  },
  {
   "cell_type": "code",
   "execution_count": 19,
   "metadata": {},
   "outputs": [
    {
     "data": {
      "text/plain": [
       "6"
      ]
     },
     "execution_count": 19,
     "metadata": {},
     "output_type": "execute_result"
    }
   ],
   "source": [
    "BinarySearch(list(range(1,51)), 49)"
   ]
  },
  {
   "cell_type": "code",
   "execution_count": 12,
   "metadata": {},
   "outputs": [],
   "source": [
    "def f(number):\n",
    "    if number == 1 or number == 2:\n",
    "        return 1\n",
    "    \n",
    "    else:\n",
    "        return f(number-1)+ f(number-2)\n",
    "    "
   ]
  },
  {
   "cell_type": "code",
   "execution_count": 13,
   "metadata": {},
   "outputs": [
    {
     "data": {
      "text/plain": [
       "55"
      ]
     },
     "execution_count": 13,
     "metadata": {},
     "output_type": "execute_result"
    }
   ],
   "source": [
    "f(10)"
   ]
  },
  {
   "cell_type": "code",
   "execution_count": 1,
   "metadata": {},
   "outputs": [],
   "source": [
    "def f(number):\n",
    "    fibo = [0] * (number+1)\n",
    "    if number == 1 or number == 2:\n",
    "        return 1\n",
    "    \n",
    "    if fibo[number] != 0:\n",
    "        return fibo[number]\n",
    "    fibo[number] = f(number-1) + f(number-2)\n",
    "    return fibo[number]"
   ]
  },
  {
   "cell_type": "code",
   "execution_count": 3,
   "metadata": {},
   "outputs": [
    {
     "ename": "KeyboardInterrupt",
     "evalue": "",
     "output_type": "error",
     "traceback": [
      "\u001b[1;31m---------------------------------------------------------------------------\u001b[0m",
      "\u001b[1;31mKeyboardInterrupt\u001b[0m                         Traceback (most recent call last)",
      "Cell \u001b[1;32mIn[3], line 1\u001b[0m\n\u001b[1;32m----> 1\u001b[0m f(\u001b[39m2000\u001b[39;49m)\n",
      "Cell \u001b[1;32mIn[1], line 8\u001b[0m, in \u001b[0;36mf\u001b[1;34m(number)\u001b[0m\n\u001b[0;32m      6\u001b[0m \u001b[39mif\u001b[39;00m fibo[number] \u001b[39m!=\u001b[39m \u001b[39m0\u001b[39m:\n\u001b[0;32m      7\u001b[0m     \u001b[39mreturn\u001b[39;00m fibo[number]\n\u001b[1;32m----> 8\u001b[0m fibo[number] \u001b[39m=\u001b[39m f(number\u001b[39m-\u001b[39;49m\u001b[39m1\u001b[39;49m) \u001b[39m+\u001b[39m f(number\u001b[39m-\u001b[39m\u001b[39m2\u001b[39m)\n\u001b[0;32m      9\u001b[0m \u001b[39mreturn\u001b[39;00m fibo[number]\n",
      "Cell \u001b[1;32mIn[1], line 8\u001b[0m, in \u001b[0;36mf\u001b[1;34m(number)\u001b[0m\n\u001b[0;32m      6\u001b[0m \u001b[39mif\u001b[39;00m fibo[number] \u001b[39m!=\u001b[39m \u001b[39m0\u001b[39m:\n\u001b[0;32m      7\u001b[0m     \u001b[39mreturn\u001b[39;00m fibo[number]\n\u001b[1;32m----> 8\u001b[0m fibo[number] \u001b[39m=\u001b[39m f(number\u001b[39m-\u001b[39;49m\u001b[39m1\u001b[39;49m) \u001b[39m+\u001b[39m f(number\u001b[39m-\u001b[39m\u001b[39m2\u001b[39m)\n\u001b[0;32m      9\u001b[0m \u001b[39mreturn\u001b[39;00m fibo[number]\n",
      "    \u001b[1;31m[... skipping similar frames: f at line 8 (1982 times)]\u001b[0m\n",
      "Cell \u001b[1;32mIn[1], line 8\u001b[0m, in \u001b[0;36mf\u001b[1;34m(number)\u001b[0m\n\u001b[0;32m      6\u001b[0m \u001b[39mif\u001b[39;00m fibo[number] \u001b[39m!=\u001b[39m \u001b[39m0\u001b[39m:\n\u001b[0;32m      7\u001b[0m     \u001b[39mreturn\u001b[39;00m fibo[number]\n\u001b[1;32m----> 8\u001b[0m fibo[number] \u001b[39m=\u001b[39m f(number\u001b[39m-\u001b[39;49m\u001b[39m1\u001b[39;49m) \u001b[39m+\u001b[39m f(number\u001b[39m-\u001b[39m\u001b[39m2\u001b[39m)\n\u001b[0;32m      9\u001b[0m \u001b[39mreturn\u001b[39;00m fibo[number]\n",
      "Cell \u001b[1;32mIn[1], line 1\u001b[0m, in \u001b[0;36mf\u001b[1;34m(number)\u001b[0m\n\u001b[1;32m----> 1\u001b[0m \u001b[39mdef\u001b[39;00m \u001b[39mf\u001b[39m(number):\n\u001b[0;32m      2\u001b[0m     fibo \u001b[39m=\u001b[39m [\u001b[39m0\u001b[39m] \u001b[39m*\u001b[39m (number\u001b[39m+\u001b[39m\u001b[39m1\u001b[39m)\n\u001b[0;32m      3\u001b[0m     \u001b[39mif\u001b[39;00m number \u001b[39m==\u001b[39m \u001b[39m1\u001b[39m \u001b[39mor\u001b[39;00m number \u001b[39m==\u001b[39m \u001b[39m2\u001b[39m:\n",
      "\u001b[1;31mKeyboardInterrupt\u001b[0m: "
     ]
    }
   ],
   "source": [
    "f(2000)"
   ]
  },
  {
   "cell_type": "code",
   "execution_count": 1,
   "metadata": {},
   "outputs": [],
   "source": [
    "d = [0] * 2001\n",
    "def fibo(x):\n",
    "    if x == 1 or x == 2:\n",
    "        return 1\n",
    "    if d[x] == 0:\n",
    "        d[x] = fibo(x-1) + fibo(x-2)\n",
    "    return d[x]"
   ]
  },
  {
   "cell_type": "code",
   "execution_count": 2,
   "metadata": {},
   "outputs": [
    {
     "data": {
      "text/plain": [
       "4224696333392304878706725602341482782579852840250681098010280137314308584370130707224123599639141511088446087538909603607640194711643596029271983312598737326253555802606991585915229492453904998722256795316982874482472992263901833716778060607011615497886719879858311468870876264597369086722884023654422295243347964480139515349562972087652656069529806499841977448720155612802665404554171717881930324025204312082516817125"
      ]
     },
     "execution_count": 2,
     "metadata": {},
     "output_type": "execute_result"
    }
   ],
   "source": [
    "fibo(2000)"
   ]
  },
  {
   "cell_type": "code",
   "execution_count": 4,
   "metadata": {},
   "outputs": [
    {
     "name": "stdout",
     "output_type": "stream",
     "text": [
      "4224696333392304878706725602341482782579852840250681098010280137314308584370130707224123599639141511088446087538909603607640194711643596029271983312598737326253555802606991585915229492453904998722256795316982874482472992263901833716778060607011615497886719879858311468870876264597369086722884023654422295243347964480139515349562972087652656069529806499841977448720155612802665404554171717881930324025204312082516817125\n"
     ]
    }
   ],
   "source": [
    "d = [0] * 2001\n",
    "def f(n):  \n",
    "    if n == 2 or n == 1:\n",
    "        return 1\n",
    "    if d[n] == 0:\n",
    "        d[n] = f(n-1) + f(n-2)\n",
    "    return d[n]\n",
    "\n",
    "print(f(2000))"
   ]
  },
  {
   "cell_type": "markdown",
   "metadata": {},
   "source": [
    "## 정수 삼각형\n",
    "### 문제 설명\n",
    "\n",
    "- 위와 같은 삼각형의 꼭대기에서 바닥까지 이어지는 경로 중, 거쳐간 숫자의 합이 가장 큰 경우를 찾아보려고 합니다.\n",
    "- 아래 칸으로 이동할 때는 대각선 방향으로 한 칸 오른쪽 또는 왼쪽으로만 이동 가능합니다.\n",
    "- 예를 들어 3에서는 그 아래칸의 8 또는 1로만 이동이 가능합니다.\n",
    "\n",
    "- 삼각형의 정보가 담긴 배열 triangle이 매개변수로 주어질 때, 거쳐간 숫자의 최댓값을 return 하도록 solution 함수를 완성하세요."
   ]
  },
  {
   "cell_type": "code",
   "execution_count": null,
   "metadata": {},
   "outputs": [],
   "source": []
  },
  {
   "cell_type": "markdown",
   "metadata": {},
   "source": [
    "### 예제 : 크루스칼 알고리즘 구현\n",
    "- Parent Node를 담은 자료 생성 (처음엔 자기자신으로 초기화)\n",
    "- 간선의 가중치가 작은 순서대로 정렬 (혹은 우선순위 큐 사용)\n",
    "- 하나씩 꺼내서 Union (두 노드 중 작은 노드로 부모 설정하고 간선을 추가) & Find (부모 노드 확인)\n",
    "- 사이클이 발생하면 -> 두 노드의 parent 노드가 같으면, Union 하지 않음"
   ]
  },
  {
   "cell_type": "code",
   "execution_count": 40,
   "metadata": {},
   "outputs": [
    {
     "data": {
      "text/plain": [
       "[2, 4, 1, 3, 5, 6]"
      ]
     },
     "execution_count": 40,
     "metadata": {},
     "output_type": "execute_result"
    }
   ],
   "source": [
    "parent = [[1,4,4],[1,2,6],[2,4,3],[4,5,9],[2,5,7],[2,6,8],[5,6,11],[3,6,8],[2,3,5]]\n",
    "\n",
    "parents = [0] * (len(parent)+1)\n",
    "for i in range(len(parent)+1):\n",
    "    parents[i] = i\n",
    "\n",
    "edges = []\n",
    "for x,y,z in parent:\n",
    "    x,y,z = z,x,y\n",
    "    edges.append((x,y,z))\n",
    "\n",
    "edges.sort()\n",
    "edges\n",
    "\n",
    "total_cnt = 0\n",
    "Union = []\n",
    "for x,y,z in edges:\n",
    "    if y not in Union and z not in Union:\n",
    "        Union.append(y)\n",
    "        Union.append(z)\n",
    "        total_cnt += x\n",
    "    elif y not in Union:\n",
    "        Union.append(y)\n",
    "        total_cnt += x\n",
    "    elif z not in Union:\n",
    "        Union.append(z)\n",
    "        total_cnt += x\n",
    "\n",
    "total_cnt\n",
    "Union"
   ]
  },
  {
   "cell_type": "code",
   "execution_count": 23,
   "metadata": {},
   "outputs": [
    {
     "data": {
      "text/plain": [
       "[(3, 2, 3), (4, 5, 6), (5, 3, 2), (6, 4, 1)]"
      ]
     },
     "execution_count": 23,
     "metadata": {},
     "output_type": "execute_result"
    }
   ],
   "source": [
    "edges = [(3,2,3),(4,5,6),(5,3,2), (6,4,1)]\n",
    "edges.sort()\n",
    "edges"
   ]
  },
  {
   "cell_type": "code",
   "execution_count": 15,
   "metadata": {},
   "outputs": [
    {
     "ename": "ValueError",
     "evalue": "not enough values to unpack (expected 2, got 0)",
     "output_type": "error",
     "traceback": [
      "\u001b[1;31m---------------------------------------------------------------------------\u001b[0m",
      "\u001b[1;31mValueError\u001b[0m                                Traceback (most recent call last)",
      "Cell \u001b[1;32mIn [15], line 1\u001b[0m\n\u001b[1;32m----> 1\u001b[0m v,e  \u001b[39m=\u001b[39m \u001b[39mmap\u001b[39m(\u001b[39mint\u001b[39m, \u001b[39minput\u001b[39m(\u001b[39m'''\u001b[39m\u001b[39m2개의 수를 공백으로 구분하세요.\u001b[39m\u001b[39m'''\u001b[39m)\u001b[39m.\u001b[39msplit())\n",
      "\u001b[1;31mValueError\u001b[0m: not enough values to unpack (expected 2, got 0)"
     ]
    }
   ],
   "source": [
    "v,e  = map(int, input('''2개의 수를 공백으로 구분하세요.''').split())"
   ]
  },
  {
   "cell_type": "code",
   "execution_count": 30,
   "metadata": {},
   "outputs": [],
   "source": [
    "import heapq\n",
    "inputs = '''1 4 4\n",
    "1 2 6\n",
    "2 3 5\n",
    "2 4 3\n",
    "2 5 7\n",
    "2 6 8\n",
    "3 6 8\n",
    "4 5 9\n",
    "5 6 11'''\n",
    "q = []\n",
    "for i in inputs.split('\\n'):\n",
    "    s,e,cost = map(int, i.split())\n",
    "    heapq.heappush(q, [cost,s,e])\n",
    "\n",
    "# edges = [tuple(map(int, i.split()))for i in inputs.split('\\n')]\n",
    "N= 6\n",
    "parents = [i for i in range(N+1)]"
   ]
  },
  {
   "cell_type": "code",
   "execution_count": 36,
   "metadata": {},
   "outputs": [
    {
     "data": {
      "text/plain": [
       "[7, 2, 5]"
      ]
     },
     "execution_count": 36,
     "metadata": {},
     "output_type": "execute_result"
    }
   ],
   "source": [
    "heapq.heappop(q)"
   ]
  },
  {
   "cell_type": "code",
   "execution_count": 32,
   "metadata": {},
   "outputs": [
    {
     "data": {
      "text/plain": [
       "[(1, 4, 4),\n",
       " (1, 2, 6),\n",
       " (2, 3, 5),\n",
       " (2, 4, 3),\n",
       " (2, 5, 7),\n",
       " (2, 6, 8),\n",
       " (3, 6, 8),\n",
       " (4, 5, 9),\n",
       " (5, 6, 11)]"
      ]
     },
     "execution_count": 32,
     "metadata": {},
     "output_type": "execute_result"
    }
   ],
   "source": [
    "edges"
   ]
  },
  {
   "cell_type": "code",
   "execution_count": 25,
   "metadata": {},
   "outputs": [
    {
     "data": {
      "text/plain": [
       "4"
      ]
     },
     "execution_count": 25,
     "metadata": {},
     "output_type": "execute_result"
    }
   ],
   "source": [
    "def find_parent(node):\n",
    "    parent = parents[node]\n",
    "    if parent != node:\n",
    "        return find_parent(parent)\n",
    "    return parents[node]\n",
    "\n",
    "find_parent(4)"
   ]
  },
  {
   "cell_type": "code",
   "execution_count": 26,
   "metadata": {},
   "outputs": [],
   "source": [
    "def union_nodes(s,e):\n",
    "    parent_s = find_parent(s)\n",
    "    parent_e = find_parent(e)\n",
    "    if parent_s < parent_e:\n",
    "        parents[e] = parent_s\n",
    "    elif parent_s > parent_e:\n",
    "        parents[s] = parent_e\n",
    "    elif parent_s == parent_e:\n",
    "        return False\n",
    "    return True"
   ]
  },
  {
   "cell_type": "code",
   "execution_count": 27,
   "metadata": {},
   "outputs": [
    {
     "name": "stdout",
     "output_type": "stream",
     "text": [
      "27\n"
     ]
    }
   ],
   "source": [
    "min_cost = 0\n",
    "connected = set()\n",
    "for s,e,cost in sorted(edges, key=lambda i:i[-1]):\n",
    "    if s in connected and e in connected:\n",
    "        continue\n",
    "    if union_nodes(s,e):\n",
    "        min_cost +=cost\n",
    "        connected.add(s)\n",
    "        connected.add(e)\n",
    "\n",
    "print(min_cost)"
   ]
  },
  {
   "cell_type": "code",
   "execution_count": 28,
   "metadata": {},
   "outputs": [
    {
     "data": {
      "text/plain": [
       "[0, 1, 2, 2, 1, 2, 2]"
      ]
     },
     "execution_count": 28,
     "metadata": {},
     "output_type": "execute_result"
    }
   ],
   "source": [
    "parents"
   ]
  },
  {
   "cell_type": "code",
   "execution_count": null,
   "metadata": {},
   "outputs": [],
   "source": []
  }
 ],
 "metadata": {
  "kernelspec": {
   "display_name": "base",
   "language": "python",
   "name": "python3"
  },
  "language_info": {
   "codemirror_mode": {
    "name": "ipython",
    "version": 3
   },
   "file_extension": ".py",
   "mimetype": "text/x-python",
   "name": "python",
   "nbconvert_exporter": "python",
   "pygments_lexer": "ipython3",
   "version": "3.9.12"
  },
  "orig_nbformat": 4,
  "vscode": {
   "interpreter": {
    "hash": "d7288e82646d3164eca24130947288f8779d11454649f2c02a5dfc42af7f324c"
   }
  }
 },
 "nbformat": 4,
 "nbformat_minor": 2
}
