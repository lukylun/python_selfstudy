{
 "cells": [
  {
   "cell_type": "code",
   "execution_count": null,
   "metadata": {},
   "outputs": [],
   "source": [
    "# 타이타닉 생존자 체크\n",
    "# pandas\n",
    "import pandas as pd\n",
    "import numpy as np\n",
    "import random\n",
    "\n",
    "titanic_df = pd.read_csv('train.csv', index_col = 0)\n",
    "titanic_df"
   ]
  },
  {
   "cell_type": "code",
   "execution_count": null,
   "metadata": {},
   "outputs": [],
   "source": [
    "# 1. 결측차 처리(age- 평균값적용, Cabin- N, Embarked-N)으로 적용\n",
    "\n",
    "mean_age = titanic_df['Age'].mean()\n",
    "print(mean_age)\n",
    "\n",
    "# 결측치 -> mean_age, 값을 덮어씌우기 위해 inplace = True 이용\n",
    "titanic_df['Age'].fillna(mean_age, inplace=True)\n",
    "titanic_df['Cabin'].fillna('N', inplace=True)\n",
    "titanic_df['Embarked'].fillna('N', inplace=True)\n",
    "\n",
    "titanic_df"
   ]
  },
  {
   "cell_type": "code",
   "execution_count": null,
   "metadata": {},
   "outputs": [],
   "source": [
    "# 2. 성(Sex)별 생존자 합을 구해주세요.\n",
    "titanic_df.groupby('Sex').sum()['Survived']"
   ]
  },
  {
   "cell_type": "code",
   "execution_count": null,
   "metadata": {},
   "outputs": [],
   "source": [
    "# 3. 클래스(Pclass)별 생존자 합을 구해주세요.\n",
    "titanic_df.groupby('Pclass').sum()['Survived']"
   ]
  },
  {
   "cell_type": "code",
   "execution_count": null,
   "metadata": {},
   "outputs": [],
   "source": [
    "# 4. 나이(Age)를 활용 유아 10대, 20대, 30대, 40대, 50대, 60대, 노인의 생존자합을 구해주세요.\n",
    "\n",
    "# def 함수 사용\n",
    "def age_range(age):\n",
    "    age = int(age)\n",
    "    if age >= 70:\n",
    "        return '노인'\n",
    "    elif age >= 10:\n",
    "        return str(age//10) + '0대'\n",
    "    else:\n",
    "        return '유아'\n",
    "\n",
    "# age_range 함수 사용해서 Age_Range column 생성\n",
    "titanic_df['Age_Range'] = titanic_df['Age'].apply(age_range)\n",
    "\n",
    "# 생존자 합\n",
    "titanic_df.groupby('Age_Range').sum()['Survived']"
   ]
  }
 ],
 "metadata": {
  "language_info": {
   "name": "python"
  },
  "orig_nbformat": 4
 },
 "nbformat": 4,
 "nbformat_minor": 2
}
