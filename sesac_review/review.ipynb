{
 "cells": [
  {
   "cell_type": "markdown",
   "metadata": {},
   "source": [
    "1. 사용자로부터 변수 x, 변수 y를 입력받아 더하고 곱하는 프로그램을 작성하세요.\n",
    "실행 :\n",
    "* x 값을 입력해주세요 : 20\n",
    "* y 값을 입력해주세요 : 30\n",
    "* 결과 :\n",
    "50\n",
    "600"
   ]
  },
  {
   "cell_type": "code",
   "execution_count": 3,
   "metadata": {},
   "outputs": [
    {
     "name": "stdout",
     "output_type": "stream",
     "text": [
      "50\n",
      "600\n"
     ]
    }
   ],
   "source": [
    "x = input('x 값을 입력해주세요:')\n",
    "y = input('y 값을 입력해주세요:')\n",
    "\n",
    "x = int(x)\n",
    "y = int(y)\n",
    "\n",
    "print(x+y)\n",
    "print(x*y)"
   ]
  },
  {
   "cell_type": "markdown",
   "metadata": {},
   "source": [
    "2. 사용자로부터 5개의 값을 입력 받아 리스트에 넣고 생성된 리스트에서 두번째, 네번째 값을 삭제한 뒤 출력하세요.\n",
    "* 실행:\n",
    "    * 첫번째 값을 입력해주세요 : 10\n",
    "    * 두번째 값을 입력해주세요 : 20\n",
    "    * 세번째 값을 입력해주세요 : 30\n",
    "    * 네번째 값을 입력해주세요 : 40\n",
    "    * 다섯번째 값을 입력해주세요 : 50\n",
    "    * 결과 : [10, 30, 50]"
   ]
  },
  {
   "cell_type": "code",
   "execution_count": 10,
   "metadata": {},
   "outputs": [
    {
     "data": {
      "text/plain": [
       "['10', '30', '50']"
      ]
     },
     "execution_count": 10,
     "metadata": {},
     "output_type": "execute_result"
    }
   ],
   "source": [
    "user_input1 = input('첫번째 값을 입력해주세요')\n",
    "user_input2 = input('두번째 값을 입력해주세요')\n",
    "user_input3 = input('세번째 값을 입력해주세요')\n",
    "user_input4 = input('네번째 값을 입력해주세요')\n",
    "user_input5 = input('다섯번째 값을 입력해주세요')\n",
    "\n",
    "my_list = [user_input1,user_input2,user_input3,user_input4,user_input5]\n",
    "\n",
    "my_list.pop(3)\n",
    "my_list.pop(1)\n",
    "\n",
    "my_list\n",
    "\n"
   ]
  },
  {
   "cell_type": "markdown",
   "metadata": {},
   "source": [
    "3. 다음과 같은 number = [[1,2,3],[4,5,[7,8]]] 리스트를 만들고 모든값에 직접 접근하여 값을\n",
    "모두 0으로 변경한 뒤 출력하세요.\n",
    "* 실행:\n",
    "     * [[0,0,0],[0,0,[0,0]]]"
   ]
  },
  {
   "cell_type": "code",
   "execution_count": 98,
   "metadata": {},
   "outputs": [
    {
     "data": {
      "text/plain": [
       "[[0, 0, 0], [0, 0, [0, 0]]]"
      ]
     },
     "execution_count": 98,
     "metadata": {},
     "output_type": "execute_result"
    }
   ],
   "source": [
    "number = [[1,2,3],[4,5,[7,8]]]\n",
    "\n",
    "# number[1][2]\n",
    "# for key in range(0, len(number)):\n",
    "#     print(number[key])\n",
    "#     if key >= 1:\n",
    "#         for num in range(0, len(number[key])):\n",
    "#             print(number[key])\n",
    "# number\n",
    "\n",
    "\n",
    "# for nums in number:\n",
    "#     print(nums)\n",
    "\n",
    "# for key in range(0, len(number)):\n",
    "#     if key>= 1:\n",
    "#     for num in range(0, len(number)):\n",
    "#         number[key][num] = 0\n",
    "# number\n",
    "\n",
    "number[0][0] =0\n",
    "number[0][1] =0\n",
    "number[0][2] =0\n",
    "number[1][0] =0\n",
    "number[1][1] =0\n",
    "number[1][2][0] =0\n",
    "number[1][2][1] =0\n",
    "\n",
    "\n",
    "number\n",
    "\n"
   ]
  },
  {
   "cell_type": "markdown",
   "metadata": {},
   "source": [
    "4. 다음과 같은 fruit = [\"사과\",\"배\",\"딸기\",\"옥수수\"] 리스트를 만들고 유저에게 두가지 과일을\n",
    "입력 받아 첫번째 입력한 과일을 찾아 두번째 입력한 과일로 변경한 뒤 출력하세요.\n",
    "* 실행 :\n",
    "    * 바꿀 과일을 입력하세요 : 배\n",
    "    * 어떤 과일로 바꾸실래요 : 복숭아\n",
    "    * ['사과', '복숭아', '딸기', '옥수수']"
   ]
  },
  {
   "cell_type": "code",
   "execution_count": 113,
   "metadata": {},
   "outputs": [
    {
     "data": {
      "text/plain": [
       "1"
      ]
     },
     "execution_count": 113,
     "metadata": {},
     "output_type": "execute_result"
    }
   ],
   "source": [
    "fruit= ['사과', '배', '딸기', '옥수수']\n",
    "\n",
    "user_input1 = input('바꿀 과일을 입력하세요: ')\n",
    "user_input2 = input('어떤 과일로 바꾸실래요: ')\n",
    "\n",
    "\n",
    "fruit_idx = fruit.index(user_input1)\n",
    "fruit_idx"
   ]
  },
  {
   "cell_type": "markdown",
   "metadata": {},
   "source": [
    "5. 문자를 입력받아 공백을 모두 제거하고 출력하세요.\n",
    "* 실행 :\n",
    "    * 아무 문자나 입력해주세요 : 안녕하세요 반갑습니다.\n",
    "    * 안녕하세요반갑습니다."
   ]
  },
  {
   "cell_type": "code",
   "execution_count": 3,
   "metadata": {},
   "outputs": [
    {
     "name": "stdout",
     "output_type": "stream",
     "text": [
      "안녕하세요반갑습니다.\n"
     ]
    }
   ],
   "source": [
    "user_input = input('아무 문자나 입력해주세요')\n",
    "\n",
    "user1 = user_input.replace(' ','')\n",
    "\n",
    "print(user1)\n",
    "\n"
   ]
  },
  {
   "cell_type": "markdown",
   "metadata": {},
   "source": [
    "6. 이름과 점수 3개를 입력 받아 아래와 같이 출력하세요.\n",
    "* 실행 :\n",
    "    * 이름을 입력해 주세요 : 홍길동\n",
    "    * 첫번째 점수를 입력해 주세요 : 80\n",
    "    * 두번째 점수를 입력해 주세요 : 70\n",
    "    * 세번째 점수를 입력해 주세요 : 60\n",
    "    * 저의 이름은 홍길동 이고 총점은 210 입니다."
   ]
  },
  {
   "cell_type": "code",
   "execution_count": 7,
   "metadata": {},
   "outputs": [
    {
     "name": "stdout",
     "output_type": "stream",
     "text": [
      "저의 이름은 홍길동이고 총점은 210입니다.\n",
      "저의 이름은 홍길동이고 총점은 210입니다.\n",
      "저의 이름은 홍길동이고 총점은 210입니다.\n"
     ]
    }
   ],
   "source": [
    "user_name = input('이름을 입력해 주세요')\n",
    "user_first = int(input('첫번째 점수를 입력해주세요:'))\n",
    "user_second = int(input('두번째 점수를 입력해주세요:'))\n",
    "user_third = int(input('세번째 점수를 입력해주세요:'))\n",
    "\n",
    "user_total = user_first + user_second + user_third\n",
    "\n",
    "print(f'저의 이름은 {user_name}이고 총점은 {user_total}입니다.')\n",
    "print('저의 이름은 {}이고 총점은 {}입니다.'.format(user_name, user_total))\n",
    "print('저의 이름은 %s이고 총점은 %d입니다.'%(user_name, user_total))"
   ]
  },
  {
   "cell_type": "markdown",
   "metadata": {},
   "source": [
    "7. range 함수를 이용하여 사용자가 입력한 수까지 2의 배수 값을 넣은 리스트를 만들고 리\n",
    "스트의 맨 마지막에 사용자가 입력한 추가해 주세요\n",
    "* 실행 :\n",
    "    * 숫자를 입력해주세요 : 10\n",
    "    * [2, 4, 6, 8, 10, 10]\n",
    "* 실행 :\n",
    "    * 숫자를 입력해주세요 : 20\n",
    "    * [2, 4, 6, 8, 10, 12, 14, 16, 18, 20, 20]"
   ]
  },
  {
   "cell_type": "code",
   "execution_count": 15,
   "metadata": {},
   "outputs": [
    {
     "data": {
      "text/plain": [
       "[2, 4, 6, 8, 10, 12, 14, 16, 18, 20, 20]"
      ]
     },
     "execution_count": 15,
     "metadata": {},
     "output_type": "execute_result"
    }
   ],
   "source": [
    "user_input = int(input('숫자를 입력해주세요'))\n",
    "\n",
    "result = []\n",
    "for i in range(1, user_input+1):\n",
    "    if i % 2 == 0:\n",
    "        result.append(i)\n",
    "\n",
    "\n",
    "results = result + [user_input]\n",
    "results"
   ]
  },
  {
   "cell_type": "markdown",
   "metadata": {},
   "source": [
    "8. 이름, 나이, 연락처를 입력받아 딕셔터리를 만들어 출력해주세요\n",
    "* 실행 :\n",
    "    * 이름을 입력해주세요 : 홍길동\n",
    "    * 나이를 입력해주세요 : 27\n",
    "    * 연락처를 입력해주세요 : 010-3023-1223\n",
    "    * {'이름': '홍길동', '나이': '27', '연락처': '010-3023-1223'}"
   ]
  },
  {
   "cell_type": "code",
   "execution_count": 17,
   "metadata": {},
   "outputs": [
    {
     "data": {
      "text/plain": [
       "{'이름': '홍길동', '나이': '27', '연락처': '010-3023-1223'}"
      ]
     },
     "execution_count": 17,
     "metadata": {},
     "output_type": "execute_result"
    }
   ],
   "source": [
    "name_input = input('이름을 입력해주세요: ')\n",
    "age_input = input(\"나이를 입력해주세요: \")\n",
    "phone_input = input(\"연락처를 입력해주세요: \")\n",
    "\n",
    "dict= {\"이름\": name_input, \"나이\": age_input, \"연락처\": phone_input}\n",
    "\n",
    "dict"
   ]
  },
  {
   "cell_type": "markdown",
   "metadata": {},
   "source": [
    "9. 두사람의 이름, 나이, 연락처를 입력받아 각각 딕셔너리를 만들어 리스트에 넣어주세요\n",
    "* 실행 :\n",
    "    * 이름을 입력해주세요 : 홍길동\n",
    "    * 나이를 입력해주세요 : 27\n",
    "    * 연락처를 입력해주세요 : 010-3023-1223\n",
    "    * 이름을 입력해주세요 : 이몽룡\n",
    "    * 나이를 입력해주세요 : 30\n",
    "    * 연락처를 입력해주세요 : 010-3030-4434\n",
    "    * [{'이름': '홍길동', '나이': '27', '연락처': '010-3023-1223'}, {'이름': '이몽룡', '나이': '30',\n",
    "'연락처': '010-3030-4434'}]"
   ]
  },
  {
   "cell_type": "code",
   "execution_count": 20,
   "metadata": {},
   "outputs": [
    {
     "data": {
      "text/plain": [
       "[{'이름': '홍길동', '나이': '27', '연락처': '010-3023-1223'},\n",
       " {'이름': '이몽룡', '나이': '30', '연락처': '010-3030-4434'}]"
      ]
     },
     "execution_count": 20,
     "metadata": {},
     "output_type": "execute_result"
    }
   ],
   "source": [
    "first_user = {\"이름\": input(\"이름을 입력해주세요: \"), '나이': input('나이를 입력해주세요:'), '연락처': input(\"연락처를 입력해주세요:\")}\n",
    "second_user = {\"이름\": input(\"이름을 입력해주세요: \"), '나이': input('나이를 입력해주세요:'), '연락처': input(\"연락처를 입력해주세요:\")}\n",
    "\n",
    "dict = [first_user, second_user]\n",
    "\n",
    "dict\n",
    "\n"
   ]
  },
  {
   "cell_type": "markdown",
   "metadata": {},
   "source": [
    "10. 사용자로부터 점수를 3개 입력 받아 모든 점수가 65점보다 클 경우 합격 아닐 경우 불합격\n",
    "을 출력하세요\n",
    "* 단, 0~100이 아닌 숫자가 입력된 경우 “잘못된 점수가 입력되었습니다“를 출력하세요\n",
    "* 실행 :\n",
    "    * 첫번째 점수를 입력해주세요 : 120\n",
    "    * 두번째 점수를 입력해주세요 : 90\n",
    "    * 세번째 점수를 입력해주세요 : 80\n",
    "    * 잘못된 점수가 입력되었습니다\n",
    "* 실행 :\n",
    "    * 첫번째 점수를 입력해주세요 : 80\n",
    "    * 두번째 점수를 입력해주세요 : 90\n",
    "    * 세번째 점수를 입력해주세요 : 75\n",
    "    * 합격\n",
    "* 실행 :\n",
    "    * 첫번째 점수를 입력해주세요 : 50\n",
    "    * 두번째 점수를 입력해주세요 : 60\n",
    "    * 세번째 점수를 입력해주세요 : 90\n",
    "    * 불합격"
   ]
  },
  {
   "cell_type": "code",
   "execution_count": 30,
   "metadata": {},
   "outputs": [
    {
     "name": "stdout",
     "output_type": "stream",
     "text": [
      "잘못된 점수가 입력되었습니다.\n"
     ]
    }
   ],
   "source": [
    "score1 =  int(input(\"첫번째 점수를 입력해주세요\"))\n",
    "score2 =  int(input(\"두번째 점수를 입력해주세요\"))\n",
    "score3 =  int(input(\"세번째 점수를 입력해주세요\"))\n",
    "\n",
    "if 0 <= score1 <= 100 and 0 <= score2 <= 100 and 0 <= score3 <= 100 :\n",
    "    if score1 >= 65 and score2 >=65 and score3 >= 65:\n",
    "        print(\"합격\")\n",
    "    else:\n",
    "        print(\"불합격\")\n",
    "\n",
    "else:\n",
    "    print(\"잘못된 점수가 입력되었습니다.\")"
   ]
  },
  {
   "cell_type": "markdown",
   "metadata": {},
   "source": [
    "11.\n",
    "* fruit = ['사과','오렌지’]\n",
    "* vegetable = ['당근','호박']\n",
    "* 위와 같은 리스트 두개를 만들고 유저로부터 카테고리와 상품명을 입력 받아 카테고리가 과일일때는 fruit 리스\n",
    "트에 카테고리가 채소일때는 vegetable 리스트에 상품을 추가하고 리스트의 모든 내용을 출력해주세요.\n",
    "* 단, 카테고리명이 채소나 과일이 아닐경우 “존재하지 않는 카테고리입니다.“\n",
    "이미 등록되어있는 경우 “이미 등록된 과일입니다.” or “이미 등록된 채소입니다“를 출력해주세요.\n",
    "* 실행 :\n",
    "    * 등록할 카테고리를 선택해주세요 (과일, 채소) : 채소\n",
    "    * 등록할 채소을 입력해주세요 : 당근\n",
    "    * 이미 등록된 채소 입니다.\n",
    "* 실행 :\n",
    "    * 등록할 카테고리를 선택해주세요 (과일, 채소) : 야채\n",
    "    * 등록할 야채를 입력해주세요 : 당근\n",
    "    * 존재하지 않는 카테고리입니다.\n",
    "* 실행 :\n",
    "    * 등록할 카테고리를 선택해주세요 (과일, 채소) : 과일\n",
    "    * 등록할 과일을 입력해주세요 : 바나나\n",
    "* ['사과', '오렌지', '바나나']"
   ]
  },
  {
   "cell_type": "code",
   "execution_count": 33,
   "metadata": {},
   "outputs": [
    {
     "name": "stdout",
     "output_type": "stream",
     "text": [
      "['사과', '오렌지', '바나나']\n"
     ]
    }
   ],
   "source": [
    "fruit = ['사과', '오렌지']\n",
    "vegetable = ['당근', '호박']\n",
    "\n",
    "user_category= input(\"등록할 카테고리를 선택해주세요(과일, 채소): \")\n",
    "user_input = input(\"등록할 채소를 입력해주세요: \")\n",
    "\n",
    "if user_category == '채소':\n",
    "    if user_input not in vegetable:\n",
    "        vegetable.append(user_input)\n",
    "        print(vegetable)\n",
    "    else:\n",
    "        print('이미 등록된 채소입니다.')\n",
    "        \n",
    "elif user_category == '과일':\n",
    "    if user_input not in fruit:\n",
    "        fruit.append(user_input)\n",
    "        print(fruit)\n",
    "    else:\n",
    "        print('이미 등록된 과일입니다.')\n",
    "\n",
    "else:\n",
    "    print(\"존재하지 않는 카테고리입니다.\")\n",
    "        "
   ]
  },
  {
   "cell_type": "markdown",
   "metadata": {},
   "source": [
    "12. \n",
    "* (1) x = [3, 6, 9, 20, -7, 5]의 값의 모든 요소에 10을 곱하여 저장한 뒤 출력하세요\n",
    "* 실행 :\n",
    "    * [30, 60, 90, 200, -70, 50]\n",
    "* (2) y = {“math”: 70, “science”: 80, “english”: 20} 의 값의 모든 요소에 10을 더하여 저장한 뒤 출력하세요\n",
    "    * 실행 :\n",
    "    * {'math': 80, 'science': 90, 'english': 30}\n",
    "* (3) 숫자를 입력 받고 입력 받은 수의 구구단을 출력하세요\n",
    "    * 실행 :\n",
    "    * 몇단을 출력하시겠습니까? 3\n",
    "    *  3 * 1 = 3\n",
    "    * 3 * 2 = 6\n",
    "    * ...\n",
    "    * 3 * 9 = 27"
   ]
  },
  {
   "cell_type": "code",
   "execution_count": 49,
   "metadata": {},
   "outputs": [
    {
     "name": "stdout",
     "output_type": "stream",
     "text": [
      "[30, 60, 90, 200, -70, 50]\n",
      "{'math': 80, 'science': 90, 'english': 30}\n",
      "3 * 1 = 3\n",
      "3 * 2 = 6\n",
      "3 * 3 = 9\n",
      "3 * 4 = 12\n",
      "3 * 5 = 15\n",
      "3 * 6 = 18\n",
      "3 * 7 = 21\n",
      "3 * 8 = 24\n",
      "3 * 9 = 27\n"
     ]
    }
   ],
   "source": [
    "# (1)\n",
    "x = [3,6,9,20,-7,5]\n",
    "\n",
    "for i in range(len(x)):\n",
    "    x[i] = x[i] *10\n",
    "    \n",
    "print(x)\n",
    "# (2)\n",
    "\n",
    "y = {'math': 70, 'science': 80, 'english': 20}\n",
    "for key in y:\n",
    "    y[key] = y[key] + 10\n",
    "print(y)\n",
    "\n",
    "# (3)\n",
    "user_input = int(input('몇단을 출력하시겠습니까?'))\n",
    "\n",
    "for i in range(1,10):\n",
    "    print(user_input,'*', i, '=',  user_input*i)\n"
   ]
  },
  {
   "cell_type": "markdown",
   "metadata": {},
   "source": [
    "13.\n",
    "* (1) word = [“school”, “game”, “piano”, “science”, “hotel”, “mountain”] 중 글자수가 6 이상인 문자를\n",
    "모아 새로운 리스트를 생성하세요\n",
    "* 실행 :\n",
    "    *['school', ' science', 'mountain’]\n",
    "* (2) 구구단을 1단부터 9단까지 출력하세요\n",
    "* 실행 :\n",
    "    * 1 * 1 = 1\n",
    "    * 1 * 2 = 2\n",
    "    * 1 * 3 = 3\n",
    "    * ....\n",
    "    * 9 * 9 = 81"
   ]
  },
  {
   "cell_type": "code",
   "execution_count": 8,
   "metadata": {},
   "outputs": [
    {
     "name": "stdout",
     "output_type": "stream",
     "text": [
      "['school', 'science', 'mountain']\n",
      "1 * 1 = 1\n",
      "1 * 2 = 2\n",
      "1 * 3 = 3\n",
      "1 * 4 = 4\n",
      "1 * 5 = 5\n",
      "1 * 6 = 6\n",
      "1 * 7 = 7\n",
      "1 * 8 = 8\n",
      "1 * 9 = 9\n",
      "2 * 1 = 2\n",
      "2 * 2 = 4\n",
      "2 * 3 = 6\n",
      "2 * 4 = 8\n",
      "2 * 5 = 10\n",
      "2 * 6 = 12\n",
      "2 * 7 = 14\n",
      "2 * 8 = 16\n",
      "2 * 9 = 18\n",
      "3 * 1 = 3\n",
      "3 * 2 = 6\n",
      "3 * 3 = 9\n",
      "3 * 4 = 12\n",
      "3 * 5 = 15\n",
      "3 * 6 = 18\n",
      "3 * 7 = 21\n",
      "3 * 8 = 24\n",
      "3 * 9 = 27\n",
      "4 * 1 = 4\n",
      "4 * 2 = 8\n",
      "4 * 3 = 12\n",
      "4 * 4 = 16\n",
      "4 * 5 = 20\n",
      "4 * 6 = 24\n",
      "4 * 7 = 28\n",
      "4 * 8 = 32\n",
      "4 * 9 = 36\n",
      "5 * 1 = 5\n",
      "5 * 2 = 10\n",
      "5 * 3 = 15\n",
      "5 * 4 = 20\n",
      "5 * 5 = 25\n",
      "5 * 6 = 30\n",
      "5 * 7 = 35\n",
      "5 * 8 = 40\n",
      "5 * 9 = 45\n",
      "6 * 1 = 6\n",
      "6 * 2 = 12\n",
      "6 * 3 = 18\n",
      "6 * 4 = 24\n",
      "6 * 5 = 30\n",
      "6 * 6 = 36\n",
      "6 * 7 = 42\n",
      "6 * 8 = 48\n",
      "6 * 9 = 54\n",
      "7 * 1 = 7\n",
      "7 * 2 = 14\n",
      "7 * 3 = 21\n",
      "7 * 4 = 28\n",
      "7 * 5 = 35\n",
      "7 * 6 = 42\n",
      "7 * 7 = 49\n",
      "7 * 8 = 56\n",
      "7 * 9 = 63\n",
      "8 * 1 = 8\n",
      "8 * 2 = 16\n",
      "8 * 3 = 24\n",
      "8 * 4 = 32\n",
      "8 * 5 = 40\n",
      "8 * 6 = 48\n",
      "8 * 7 = 56\n",
      "8 * 8 = 64\n",
      "8 * 9 = 72\n",
      "9 * 1 = 9\n",
      "9 * 2 = 18\n",
      "9 * 3 = 27\n",
      "9 * 4 = 36\n",
      "9 * 5 = 45\n",
      "9 * 6 = 54\n",
      "9 * 7 = 63\n",
      "9 * 8 = 72\n",
      "9 * 9 = 81\n"
     ]
    }
   ],
   "source": [
    "# (1)\n",
    "word = [\"school\", \"game\", \"piano\", \"science\", \"hotel\", \"mountain\"]\n",
    "word_list = []\n",
    "\n",
    "# for w in range(len(word)):\n",
    "#     if len(word[w]) >= 6:\n",
    "#         word_list.append(word[w])\n",
    "\n",
    "# word_list\n",
    "\n",
    "for w in word:\n",
    "    if len(w) >= 6:\n",
    "        word_list.append(w)\n",
    "\n",
    "print(word_list)\n",
    "\n",
    "# (2)\n",
    "for i in range(1,10):\n",
    "    for k in range(1,10):\n",
    "        print(i, '*', k, '=', i*k)"
   ]
  },
  {
   "cell_type": "markdown",
   "metadata": {},
   "source": []
  },
  {
   "cell_type": "markdown",
   "metadata": {},
   "source": [
    "14.\n",
    "* (1) [3, 6, 9, 20, -7, 5] 리스트를 sort 함수를 사용하지 않고 for문을 활용하여 오름차순으로 정렬해주세요.\n",
    "* 실행 :\n",
    "    * [-7, 3, 5, 6, 9, 20]\n",
    "* (2) 1-100까지 숫자 중 3과 5의 공배수일 경우 “3과 5의 공배수” 나머지 숫자 중 3의 배수일 경우 “3의 배수” 나\n",
    "머지 숫자 중 5의 배수일 경우 “5의 배수” 모두 해당되지 않을 경우 숫자 를 출력하세요\n",
    "* 실행 :\n",
    "    * 1\n",
    "    * 2\n",
    "    * 3의 배수\n",
    "    * ...\n",
    "    * 14\n",
    "    * 3과 5의 공배수\n",
    "    * 16"
   ]
  },
  {
   "cell_type": "code",
   "execution_count": 28,
   "metadata": {},
   "outputs": [
    {
     "data": {
      "text/plain": [
       "[-7, 3, 5, 6, 9, 20]"
      ]
     },
     "execution_count": 28,
     "metadata": {},
     "output_type": "execute_result"
    }
   ],
   "source": [
    "### (1)\n",
    "my_list = [3, 6, 9, 20,-7,5]\n",
    "\n",
    "result = []\n",
    "\n",
    "for i in range(len(my_list)-1):\n",
    "    min_value = my_list[i]\n",
    "    min_index = i\n",
    "    # print(min_value)\n",
    "    for j in range(i+1, len(my_list)):\n",
    "        if min_value > my_list[j]:\n",
    "            min_value = my_list[j]\n",
    "            min_index = j\n",
    "            # print(min_value)\n",
    "    \n",
    "    my_list[min_index] = my_list[i]\n",
    "    my_list[i] = min_value\n",
    "    \n",
    "my_list\n"
   ]
  },
  {
   "cell_type": "code",
   "execution_count": 31,
   "metadata": {},
   "outputs": [
    {
     "name": "stdout",
     "output_type": "stream",
     "text": [
      "1\n",
      "2\n",
      "3의 배수\n",
      "4\n",
      "5의 배수\n",
      "3의 배수\n",
      "7\n",
      "8\n",
      "3의 배수\n",
      "5의 배수\n",
      "11\n",
      "3의 배수\n",
      "13\n",
      "14\n",
      "3과 5의 공배수\n",
      "16\n",
      "17\n",
      "3의 배수\n",
      "19\n",
      "5의 배수\n",
      "3의 배수\n",
      "22\n",
      "23\n",
      "3의 배수\n",
      "5의 배수\n",
      "26\n",
      "3의 배수\n",
      "28\n",
      "29\n",
      "3과 5의 공배수\n",
      "31\n",
      "32\n",
      "3의 배수\n",
      "34\n",
      "5의 배수\n",
      "3의 배수\n",
      "37\n",
      "38\n",
      "3의 배수\n",
      "5의 배수\n",
      "41\n",
      "3의 배수\n",
      "43\n",
      "44\n",
      "3과 5의 공배수\n",
      "46\n",
      "47\n",
      "3의 배수\n",
      "49\n",
      "5의 배수\n",
      "3의 배수\n",
      "52\n",
      "53\n",
      "3의 배수\n",
      "5의 배수\n",
      "56\n",
      "3의 배수\n",
      "58\n",
      "59\n",
      "3과 5의 공배수\n",
      "61\n",
      "62\n",
      "3의 배수\n",
      "64\n",
      "5의 배수\n",
      "3의 배수\n",
      "67\n",
      "68\n",
      "3의 배수\n",
      "5의 배수\n",
      "71\n",
      "3의 배수\n",
      "73\n",
      "74\n",
      "3과 5의 공배수\n",
      "76\n",
      "77\n",
      "3의 배수\n",
      "79\n",
      "5의 배수\n",
      "3의 배수\n",
      "82\n",
      "83\n",
      "3의 배수\n",
      "5의 배수\n",
      "86\n",
      "3의 배수\n",
      "88\n",
      "89\n",
      "3과 5의 공배수\n",
      "91\n",
      "92\n",
      "3의 배수\n",
      "94\n",
      "5의 배수\n",
      "3의 배수\n",
      "97\n",
      "98\n",
      "3의 배수\n",
      "5의 배수\n"
     ]
    }
   ],
   "source": [
    "# (2)\n",
    "for i in range(1, 101):\n",
    "    if i % 3 == 0:\n",
    "        if i % 5 == 0:\n",
    "            print('3과 5의 공배수')\n",
    "        else:\n",
    "            print('3의 배수')\n",
    "    elif i % 5 == 0:\n",
    "        print('5의 배수')\n",
    "    else:\n",
    "        print(i)\n",
    "\n",
    "\n"
   ]
  },
  {
   "cell_type": "markdown",
   "metadata": {},
   "source": [
    "15. 사용자로부터 숫자를 계속 입력받다가 0을 입력하면 합계를 출력해주세요\n",
    "* 실행 :\n",
    "* 값을 입력해주세요 : 30\n",
    "* 값을 입력해주세요 : 20\n",
    "* 값을 입력해주세요 : 50\n",
    "* 값을 입력해주세요 : 40\n",
    "* 값을 입력해주세요 : 30\n",
    "* 값을 입력해주세요 : 0\n",
    "    * 170"
   ]
  },
  {
   "cell_type": "code",
   "execution_count": 56,
   "metadata": {},
   "outputs": [
    {
     "name": "stdout",
     "output_type": "stream",
     "text": [
      "194\n"
     ]
    }
   ],
   "source": [
    "total = 0\n",
    "while True:\n",
    "    user_input = int(input('값을 입력해주세요:'))\n",
    "    if user_input == 0:\n",
    "        print(total)\n",
    "        break\n",
    "\n",
    "    total += user_input\n",
    "\n"
   ]
  },
  {
   "cell_type": "markdown",
   "metadata": {},
   "source": [
    "16. 가위바위보 게임 만들기\n",
    "* 1~3 을 입력하면 게임을 진행하고, 이외의 숫자를 입력하면 게임종료하고,\n",
    "진행 횟수와 승리 횟수를 출력해주세요.\n",
    "* 실행 :\n",
    "    * 가위(1), 바위(2), 보(3) 을 입력해주세요 : 3\n",
    "    * 유저 : 보, 컴퓨터 : 보\n",
    "    * 가위(1), 바위(2), 보(3) 을 입력해주세요 : 2\n",
    "    * 유저 : 바위, 컴퓨터 : 보\n",
    "    * 가위(1), 바위(2), 보(3) 을 입력해주세요 : 1\n",
    "    * 유저 : 가위, 컴퓨터 : 보\n",
    "    * 가위(1), 바위(2), 보(3) 을 입력해주세요 : 4\n",
    "    * 게임종료 (전체:3 ,승리:1)\n",
    "* random 모듈 사용방법 - 랜덤 값 받기\n",
    "* import random #random 모듈을 가져온다\n",
    "* random.random() # 0.00202302032\n",
    "* random.randint(1,3) # 3"
   ]
  },
  {
   "cell_type": "code",
   "execution_count": 74,
   "metadata": {},
   "outputs": [
    {
     "name": "stdout",
     "output_type": "stream",
     "text": [
      "유저:보, 컴퓨터:바위\n",
      "유저:보, 컴퓨터:보\n",
      "유저:보, 컴퓨터:바위\n",
      "유저:보, 컴퓨터:가위\n",
      "유저:보, 컴퓨터:바위\n",
      "유저:보, 컴퓨터:바위\n",
      "유저:보, 컴퓨터:바위\n",
      "게임종료(전체:0, 승리:5)\n"
     ]
    }
   ],
   "source": [
    "import random\n",
    "\n",
    "rcp_dict = {1:\"가위\", 2:\"바위\", 3:\"보\"}\n",
    "\n",
    "total_count = 0\n",
    "win_count = 0\n",
    "\n",
    "while True:\n",
    "    user_input = int(input(\"가위(1),바위(2), 보(3)을 입력해주세요 :\"))\n",
    "    if user_input not in [1,2,3]:\n",
    "        print(\"게임종료(전체:{}, 승리:{})\".format(total_count, win_count))\n",
    "        break\n",
    "    total += 1\n",
    "\n",
    "    com_input = random.randint(1,3)\n",
    "    print(\"유저:{}, 컴퓨터:{}\".format(rcp_dict[user_input], rcp_dict[com_input]))\n",
    "\n",
    "    if user_input - com_input == 1 or user_input - com_input == -2:\n",
    "        win_count += 1\n",
    "    \n",
    "\n"
   ]
  },
  {
   "cell_type": "markdown",
   "metadata": {},
   "source": [
    "17. \n",
    "* (1) word = [“school”, “game”, “piano”, “science”, “hotel”, “mountian”] 중 글자수가 6 이상인 문자를\n",
    "모아 새로운 리스트를 생성하세요 (리스트 컴프리핸션을 사용해주세요)\n",
    "    * 실행 :\n",
    "    * ['school', 'science', 'mountian']\n",
    "* (2) word = [“school”, “game”, “piano”, “science”, “hotel”, “mountian”] 리스트의 글자수가 들어가있\n",
    "는 새로운 리스트를 생성하세요 (리스트 컴프리핸션을 사용해주세요)\n",
    "    * 실행 :\n",
    "    * [6, 4, 5, 7, 5, 8]"
   ]
  },
  {
   "cell_type": "code",
   "execution_count": 78,
   "metadata": {},
   "outputs": [
    {
     "name": "stdout",
     "output_type": "stream",
     "text": [
      "['school', 'science', 'mountian']\n"
     ]
    },
    {
     "data": {
      "text/plain": [
       "[6, 4, 5, 7, 5, 8]"
      ]
     },
     "execution_count": 78,
     "metadata": {},
     "output_type": "execute_result"
    }
   ],
   "source": [
    "# (1)\n",
    "word = [\"school\", \"game\", \"piano\", \"science\", \"hotel\", \"mountian\"]\n",
    "\n",
    "len_word = [w for w in word if len(w)>=6]\n",
    "print(len_word)\n",
    "\n",
    "(2)\n",
    "word = [\"school\", \"game\", \"piano\", \"science\", \"hotel\", \"mountian\"]\n",
    "new_lens = [len(w) for w in word]\n",
    "new_lens"
   ]
  },
  {
   "cell_type": "markdown",
   "metadata": {},
   "source": [
    "18. 아래 두 리스트를 곱해 새로운 리스트 C를 만드세요\n",
    "* a = [[10, 20], [30, 40], [50, 60]]\n",
    "* b = [[2, 3], [4, 5], [6, 7]]\n",
    "* 실행 :\n",
    "    * [[20, 60], [120, 200], [300, 420]]"
   ]
  },
  {
   "cell_type": "code",
   "execution_count": 88,
   "metadata": {},
   "outputs": [
    {
     "name": "stdout",
     "output_type": "stream",
     "text": [
      "[[20, 60], [120, 200], [300, 420]]\n"
     ]
    }
   ],
   "source": [
    "a = [[10, 20], [30, 40], [50, 60]]\n",
    "b = [[2, 3], [4, 5], [6, 7]]\n",
    "\n",
    "c= []\n",
    "for r in range(len(a)):\n",
    "    temp= []\n",
    "    for i in range(len(a[i])):\n",
    "        temp.append(a[r][i] * b[r][i])\n",
    "    c.append(temp)\n",
    "\n",
    "print(c)"
   ]
  },
  {
   "cell_type": "markdown",
   "metadata": {},
   "source": [
    "19. 아래의 학습코드를 가지고 a 리스트가 [[1,2],[3,4],[5,6]]와 같이 만들어지도록 수정하세요\n",
    "* --- 학습코드\n",
    "* a = []\n",
    "* for i in range(3):\n",
    "* temp = []\n",
    "* for j in range(2):\n",
    "* temp.append(0)\n",
    "* a.append(temp)\n",
    "* print(a)\n",
    "* ---\n",
    "* 실행 :\n",
    "    * [[1,2],[3,4],[5,6]]"
   ]
  },
  {
   "cell_type": "code",
   "execution_count": 92,
   "metadata": {},
   "outputs": [
    {
     "name": "stdout",
     "output_type": "stream",
     "text": [
      "[[1, 2], [3, 4], [5, 6]]\n"
     ]
    }
   ],
   "source": [
    "a = []\n",
    "for i in range(3):\n",
    "    temp = []\n",
    "    for j in range(2):\n",
    "        temp.append(2*i + j+ 1)\n",
    "    a.append(temp)\n",
    "\n",
    "print(a)"
   ]
  },
  {
   "cell_type": "markdown",
   "metadata": {},
   "source": [
    "20. 별 출력하기\n",
    "* 사각형별\n",
    "* 계단식별\n",
    "* 대각선별\n",
    "* 계단식별(역순, 왼쪽 정렬)\n",
    "* 계단식별(역순, 오른쪽 정렬)"
   ]
  },
  {
   "cell_type": "code",
   "execution_count": 118,
   "metadata": {},
   "outputs": [
    {
     "name": "stdout",
     "output_type": "stream",
     "text": [
      "*****\n",
      "*****\n",
      "*****\n",
      "*****\n",
      "*****\n",
      "*\n",
      "**\n",
      "***\n",
      "****\n",
      "*****\n",
      "*\n",
      " *\n",
      "  *\n",
      "   *\n",
      "    *\n",
      "*****\n",
      "****\n",
      "***\n",
      "**\n",
      "*\n",
      "*****\n",
      " ****\n",
      "  ***\n",
      "   **\n",
      "    *\n"
     ]
    }
   ],
   "source": [
    "# (1) 사각형별\n",
    "for i in range(5):\n",
    "    print('*' * 5)\n",
    "\n",
    "# (2) 사각형별\n",
    "for i in range(5):\n",
    "    print('*' * (i+1))\n",
    "\n",
    "# (3) 대각선별\n",
    "for i in range(5):\n",
    "    print(' '* (i)+'*')\n",
    "\n",
    "# (4) 계단식별(역순, 왼쪽)\n",
    "for i in range(5):\n",
    "    print('*'*(5-i))\n",
    "\n",
    "# (5) 계단식별(역순, 오른쪽)\n",
    "for i in range(5):\n",
    "    print(' '* i + '*' * (5-i))"
   ]
  },
  {
   "cell_type": "markdown",
   "metadata": {},
   "source": [
    "21. 아래 예시코드의 while 문을 완성하여 사용자가 입력한 숫자만큼 출력해주세요. (break 사용)\n",
    "* user = int(input(“숫자를 입력하세요:”))\n",
    "* cnt = 0\n",
    "* while True:\n",
    "* (여기 코드를 완성해 주세요)\n",
    "* 실행 :\n",
    "* 숫자를 입력하세요: 20\n",
    "* 0\n",
    "* 1\n",
    "* ...\n",
    "* 19\n",
    "* 20"
   ]
  },
  {
   "cell_type": "code",
   "execution_count": 122,
   "metadata": {},
   "outputs": [
    {
     "name": "stdout",
     "output_type": "stream",
     "text": [
      "0\n",
      "1\n",
      "2\n",
      "3\n",
      "4\n",
      "5\n",
      "6\n",
      "7\n",
      "8\n",
      "9\n",
      "10\n",
      "11\n",
      "12\n",
      "13\n",
      "14\n",
      "15\n",
      "16\n",
      "17\n",
      "18\n",
      "19\n",
      "20\n"
     ]
    }
   ],
   "source": [
    "user = int(input(\"숫자를 입력하세요:\"))\n",
    "\n",
    "cnt =0\n",
    "while True:\n",
    "    print(cnt)\n",
    "    cnt+=1\n",
    "\n",
    "    if cnt > user:\n",
    "        break\n"
   ]
  },
  {
   "cell_type": "markdown",
   "metadata": {},
   "source": [
    "22. 아래 예시코드의 for 문을 완성하여 사용하여 사용자가 입력한 숫자까지의 짝수를 출력하기 (continue 사용)\n",
    "* user = int(input(“숫자를 입력하세요:”))\n",
    "* for i in range(user+1):\n",
    "* (여기 코드를 완성해 주세요)\n",
    "* print(i)\n",
    "* 실행 :\n",
    "* 숫자를 입력하세요: 20\n",
    "* 0\n",
    "* 2\n",
    "* ...\n",
    "* 16\n",
    "* 18\n",
    "* 20"
   ]
  },
  {
   "cell_type": "code",
   "execution_count": 124,
   "metadata": {},
   "outputs": [
    {
     "name": "stdout",
     "output_type": "stream",
     "text": [
      "0\n",
      "2\n",
      "4\n",
      "6\n",
      "8\n",
      "10\n",
      "12\n",
      "14\n",
      "16\n",
      "18\n",
      "20\n"
     ]
    }
   ],
   "source": [
    "user = int(input(\"숫자를 입력하세요:\"))\n",
    "for i in range(user+1):\n",
    "    if i % 2 != 0:\n",
    "        continue\n",
    "    print(i)"
   ]
  },
  {
   "cell_type": "markdown",
   "metadata": {},
   "source": [
    "23. (가위바위보 게임 업그레이드)\n",
    "이전에 만든 가위바위보 게임을 총 게임횟수와 승리횟수를 게임을 다시 실행해도 유지되도록 수정하세요"
   ]
  },
  {
   "cell_type": "code",
   "execution_count": 41,
   "metadata": {},
   "outputs": [
    {
     "name": "stdout",
     "output_type": "stream",
     "text": [
      "게임종료(전체:7, 승리:3)\n"
     ]
    }
   ],
   "source": [
    "import random\n",
    "\n",
    "rcp_dict = {1:\"가위\", 2:\"바위\", 3:\"보\"}\n",
    "\n",
    "total_count = 0\n",
    "win_count = 0\n",
    "\n",
    "try:\n",
    "    with open('rcp.txt', 'r') as f:\n",
    "        total, win = f.readlines()\n",
    "        total_count = int(total.rstrip())\n",
    "        win_count = int(win.rstrip())\n",
    "\n",
    "except:\n",
    "    pass\n",
    "\n",
    "while True:\n",
    "    user_input = int(input(\"가위(1),바위(2), 보(3)을 입력해주세요 :\"))\n",
    "    if user_input not in [1,2,3]:\n",
    "        print(\"게임종료(전체:{}, 승리:{})\".format(total_count, win_count))\n",
    "        break\n",
    "    total_count += 1\n",
    "\n",
    "    com_input = random.randint(1,3)\n",
    "    print(\"유저:{}, 컴퓨터:{}\".format(rcp_dict[user_input], rcp_dict[com_input]))\n",
    "\n",
    "    if user_input - com_input == 1 or user_input - com_input == -2:\n",
    "        win_count += 1\n",
    "\n",
    "with open('rcp.txt', 'w') as f:\n",
    "    f.write(str(total_count) +'\\n')\n",
    "    f.write(str(win_count) +'\\n')"
   ]
  },
  {
   "cell_type": "markdown",
   "metadata": {},
   "source": [
    "24. 성적관리 프로그램 개발\n",
    "* 메뉴를 선택해주세요 1 - 입력, 2 - 조회, 3 - 삭제, 0 - 종료) : 1\n",
    "* 이름 : 최재진\n",
    "* 수학 : 30\n",
    "* 과학 : 40\n",
    "* 영어 : 50\n",
    "* 메뉴를 선택해주세요 1 - 입력, 2 - 조회, 3 - 삭제, 0 - 종료) : 2\n",
    "* [0] 이름 : 다비드, 수학 : 50, 과학 : 70, 영어 : 80\n",
    "* [1] 이름 : 최재진, 수학 : 30, 과학 : 40, 영어 : 50\n",
    "* 메뉴를 선택해주세요 1 - 입력, 2 - 조회, 3 - 삭제, 0 - 종료) : 3\n",
    "* [0] 이름 : 이민호, 수학 : 40, 과학 : 50, 영어 : 30\n",
    "* [1] 이름 : 이진범, 수학 : 30, 과학 : 40, 영어 : 50\n",
    "* 삭제할 번호를 입력해주세요 : 0\n",
    "* 메뉴를 선택해주세요 1 - 입력, 2 - 조회, 3 - 삭제, 0 - 종료) : 0\n",
    "* 종료되었습니다\n",
    "* 다음과 같이 동작하는 프로그램을 개발하세요\n",
    "* 프로그램 종료 후 다시 실행할 때 이전에 입력했던 값을 파일에서 다시 불러와주세요"
   ]
  },
  {
   "cell_type": "code",
   "execution_count": 71,
   "metadata": {},
   "outputs": [
    {
     "name": "stdout",
     "output_type": "stream",
     "text": [
      "[0]{'이름': '응', '수학': '3', '과학': '2', '영어': '1'}\n",
      "[0]{'이름': '응', '수학': '3', '과학': '2', '영어': '1'}\n",
      "종료되었습니다.\n"
     ]
    }
   ],
   "source": [
    "import json\n",
    "import pickle\n",
    "\n",
    "student_data = []\n",
    "try:\n",
    "    # with open('score.json', 'r') as f:\n",
    "    #     student_data = json.loads(f.read())\n",
    "    \n",
    "    with open('score.pickle', 'rb') as f:\n",
    "        student_data = pickle.load(f)\n",
    "\n",
    "except:\n",
    "    pass\n",
    "\n",
    "while True:\n",
    "    menu_choice=  input(\"메뉴를 선택해주세요 1-입력, 2-조회, 3-삭제, 0-종료) :\")\n",
    "\n",
    "    if menu_choice == '0':\n",
    "        print(\"종료되었습니다.\")\n",
    "        break\n",
    "    \n",
    "    elif menu_choice == '1':\n",
    "        name = input(\"이름:\")\n",
    "        math = input(\"수학:\")\n",
    "        science = input(\"과학:\")\n",
    "        english = input(\"영어:\")\n",
    "        student_data.append({\n",
    "            '이름':name,\n",
    "            '수학':math,\n",
    "            '과학':science,\n",
    "            '영어':english\n",
    "        })\n",
    "\n",
    "    elif menu_choice =='2':\n",
    "        for i, student in enumerate(student_data):\n",
    "            print(f'[{i}]{student}')\n",
    "\n",
    "    elif menu_choice =='3':\n",
    "        for i, student in enumerate(student_data):\n",
    "            print(f'[{i}]{student}')\n",
    "        \n",
    "        idx = int(input(\"삭제할 번호를 입력해주세요:\"))\n",
    "        student_data.pop(idx)\n",
    "\n",
    "# with open('score.json', 'w') as f:\n",
    "#     json.dump(student_data,f)\n",
    "\n",
    "with open('score.pickle', 'wb') as f:\n",
    "    pickle.dump(student_data, f)"
   ]
  },
  {
   "cell_type": "markdown",
   "metadata": {},
   "source": [
    "25. 리스트와 찾고 싶은 값을 모두 입력하면 입력한 값의 인덱스(위치)를 반환하는 함수 만들기\n",
    "* 실행 :\n",
    "* lis = [1, 2, 3, 1, 4, 2, 1]\n",
    "* allindex(lis, 1)\n",
    "* [0, 3, 6]"
   ]
  },
  {
   "cell_type": "code",
   "execution_count": 75,
   "metadata": {},
   "outputs": [
    {
     "data": {
      "text/plain": [
       "[0, 3, 6]"
      ]
     },
     "execution_count": 75,
     "metadata": {},
     "output_type": "execute_result"
    }
   ],
   "source": [
    "lis = [1,2,3,1,4,2,1]\n",
    "\n",
    "def allindex(list, num):\n",
    "    result = []\n",
    "\n",
    "    for i in range(len(list)):\n",
    "        if list[i] == num:\n",
    "            result.append(i)\n",
    "    return result\n",
    "\n",
    "allindex(lis,1)"
   ]
  },
  {
   "cell_type": "markdown",
   "metadata": {},
   "source": [
    "26. 가변인수와 고정인수를 사용해 모든 값을 더하거나 곱하는 함수 작성\n",
    "* 실행 :\n",
    "* calc(\"+\", 1, 2, 3, 4, 5)\n",
    "* 15\n",
    "* calc(\"*\", 1, 2, 3, 4, 5)\n",
    "* 120"
   ]
  },
  {
   "cell_type": "code",
   "execution_count": 82,
   "metadata": {},
   "outputs": [
    {
     "data": {
      "text/plain": [
       "15"
      ]
     },
     "execution_count": 82,
     "metadata": {},
     "output_type": "execute_result"
    }
   ],
   "source": [
    "def calc(gt, *args):\n",
    "    if gt == '+':\n",
    "        sum_value = 0\n",
    "        for arg in args:\n",
    "            sum_value += arg\n",
    "        return sum_value\n",
    "    \n",
    "    elif gt == '*':\n",
    "        multiply_value = 1\n",
    "        for arg in args:\n",
    "            multiply_value *= arg\n",
    "        return multiply_value\n",
    "\n",
    "calc(\"+\",1,2,3,4,5)\n"
   ]
  },
  {
   "cell_type": "markdown",
   "metadata": {},
   "source": [
    "27. \n",
    "* (1) numbers = [12, 32, 55, 12, 32, 4, 86, 50] 리스트에서 60보다 크면 합격 50~60점까지는 대기, 50보다\n",
    "작으면 불합격이 들어간 리스트를 만드세요.\n",
    "* (람다와 map 이용)\n",
    "* (2) 파일명이 들어가있는 다음 리스트에서 files = [“memo.txt”, “1.jpg”, “32.png”, “23.jpg”, “223.jpg”]\n",
    "리스트에서 확장자가 jpg 파일만 골라내 리스트를 만드세요.\n",
    "* (람다와 filter 이용)\n",
    "* find(“문자열”) 함수 사용 : 해당 문자열이 있을 경우 문자열의 인덱스, 없을 경우 -1 을 반환하는 함수"
   ]
  },
  {
   "cell_type": "code",
   "execution_count": 143,
   "metadata": {},
   "outputs": [
    {
     "name": "stdout",
     "output_type": "stream",
     "text": [
      "['불합격', '불합격', '대기', '불합격', '불합격', '불합격', '합격', '대기']\n",
      "['1.jpg', '23.jpg', '223.jpg']\n"
     ]
    }
   ],
   "source": [
    "# (1)\n",
    "numbers = [12, 32, 55, 12, 32, 4, 86, 50]\n",
    "\n",
    "pass_list = list(map(lambda x: '합격' if x> 60 else '대기' if x>=50 else '불합격', numbers))\n",
    "print(pass_list)\n",
    "\n",
    "\n",
    "# (2)\n",
    "files = [\"memo.txt\", \"1.jpg\", \"32.png\", \"23.jpg\", \"223.jpg\"]\n",
    "file_list = list(filter(lambda x: 'jpg' in x, files))\n",
    "# find 메서드의경우 특정 문자열이 있으면 첫 인덱스 번호를 반환한다.\n",
    "# 없으면 -1을 반환한다.\n",
    "# file_list = list(filter(lambda x: x.find('jpg') != -1, files))\n",
    "\n",
    "print(file_list)\n"
   ]
  },
  {
   "cell_type": "markdown",
   "metadata": {},
   "source": [
    "28. Car 클래스를 만드세요\n",
    "- 객체 생성시 차 이름, 배기량, 생산년도를 입력 받고 인스턴스 속성으로 만들어주세요\n",
    "- 차이름을 확인하는 함수와 변경하는 함수를 만드세요\n",
    "- 배기량에 따라 1000CC 보다 작으면 소형\n",
    "1000CC 이상 2000CC 이하 중형\n",
    "2000CC 보다 크면 대형을 출력하는 인스턴스 함수를 만드세요\n",
    "- 객체 생성시마다 등록된 차량 개수를 기록하는 클래스 속성을 만들어주세요\n",
    "- 총 등록된 차량개수를 출력하는 클래스 함수를 만드세요"
   ]
  },
  {
   "cell_type": "code",
   "execution_count": 153,
   "metadata": {},
   "outputs": [],
   "source": [
    "class Car:\n",
    "    total_car = 0\n",
    "    def __init__(self, name, cc, year):\n",
    "        self.name = name\n",
    "        self.cc = cc\n",
    "        self.year = year\n",
    "        \n",
    "        Car.total_car += 1\n",
    "        \n",
    "    def get_name(self):\n",
    "        return self.name\n",
    "\n",
    "    def change_name(self,name):\n",
    "        self.name = name\n",
    "        return self.name\n",
    "    \n",
    "    def size(self):\n",
    "        if self.cc < 1000:\n",
    "            return \"소형\"\n",
    "        elif self.cc <= 2000:\n",
    "            return \"중형\"\n",
    "        else:\n",
    "            return \"대형\"\n",
    "    \n",
    "    @classmethod\n",
    "    def get_total(self):\n",
    "        return Car.total_car"
   ]
  },
  {
   "cell_type": "markdown",
   "metadata": {},
   "source": [
    "29. \n",
    "- (1) Character 클래스를 만들어 주세요\n",
    "- Character 클래스는 Health 속성을 추가해주세요 (생성시 200)\n",
    "- Character 클래스는 Move() 메서드를 추가하고 메서드 사용시 Health 가 -10이 됩니다.\n",
    "- Character 클래스는 Rest() 메서드를 추가하고 메서드 사용시 Health가 +10 됩니다.\n",
    "- 현재 Health를 알수있는 checkHealth() 메서드를 추가해주세요\n",
    "- (2) Knight와 Healer 클래스를 만들어주세요\n",
    "- Knight와 Healer 클래스는 Character 클래스를 상속합니다.\n",
    "- Knight 클래스는 Move() 사용시 Health가 -5 더 소모\n",
    "- Knight 클래스는 Attack() 추가하고 실행시 공격합니다를 출력해주세요\n",
    "- Healer 클래스는 Mana속성을 추가해주세요 (생성시 100)\n",
    "- Healer 클래스는 Heal(character) 메서드를 추가하고 해당 메서드는 character를 매개변수로 받습니다.\n",
    "- Healer 클래스는 Heal(character) 메소드 실행 시 Mana가 -10되고 전달받은 character 객체의 Rest() 메\n",
    "소드를 두 번 실행합니다.\n",
    "- Healer 클래스는 현재 마나속성을 확인할 수 있는 checkMana() 메서드를 추가해주세요"
   ]
  },
  {
   "cell_type": "code",
   "execution_count": 165,
   "metadata": {},
   "outputs": [],
   "source": [
    "#(1)\n",
    "class Character:\n",
    "    def __init__(self):\n",
    "        self.Health = 200\n",
    "\n",
    "    def Move(self):\n",
    "        self.Health -= 10\n",
    "        \n",
    "    def Rest(self):\n",
    "        self.Health += 10\n",
    "\n",
    "    def checkHealth():\n",
    "        return self.Health\n",
    "# (2)\n",
    "class Knight(Character):\n",
    "    def __init__(self):\n",
    "        super().__init__()\n",
    "    def Move(self):\n",
    "        super().Move()\n",
    "        self.Health -= 5\n",
    "    def Attack(self):\n",
    "        print(\"공격합니다.\")\n",
    "class Healer(Character):\n",
    "    def __init__(self):\n",
    "        super().__init__()\n",
    "        self.Mana = 100\n",
    "    def Heal(self, character: Character):\n",
    "        self.Mana -= 10\n",
    "        character.Rest()\n",
    "        character.Rest()\n",
    "\n",
    "    def checkMana():\n",
    "        return self.Mana\n",
    "    \n",
    "\n",
    "    \n",
    "    "
   ]
  },
  {
   "cell_type": "markdown",
   "metadata": {},
   "source": [
    "30.\n",
    "- 아래의 코드를 수정하여 data3.p 파일이 없을 경우 사용자에게 name, address, email을 입력 받아 data3.p\n",
    "파일을 생성하게 코드를 수정하세요\n",
    "* import pickle\n",
    "* with open(“data3.p”,”rb”) as file:\n",
    "* name = pickle.load(file)\n",
    "* address = pickle.load(file)\n",
    "* email = pickle.load(file)\n",
    "* print(name, address, email)"
   ]
  },
  {
   "cell_type": "code",
   "execution_count": 169,
   "metadata": {},
   "outputs": [],
   "source": [
    "import pickle\n",
    "try:\n",
    "    with open(\"data3.p\",\"rb\") as file:\n",
    "        name = pickle.load(file)\n",
    "        address = pickle.load(file)\n",
    "        email = pickle.load(file)\n",
    "        print(name, address, email)\n",
    "except:\n",
    "    with open(\"data3.p\",\"wb\") as file:\n",
    "        name = input(\"이름:\")\n",
    "        address = input(\"주소:\")\n",
    "        email = input(\"이메일:\")\n",
    "        pickle.dump(name, file)\n",
    "        pickle.dump(address, file)\n",
    "        pickle.dump(email, file)\n"
   ]
  },
  {
   "cell_type": "markdown",
   "metadata": {},
   "source": [
    "31.\n",
    "- 매개변수로 전달받은 숫자의 구구단을 출력해주는 함수를 만드는데 매개변수로 1~9 이외의 숫자를 전달하면\n",
    "NotNumberException을 발생시켜 주세요\n",
    "- 실행 :\n",
    "- gugudan (2)\n",
    "- 2 X 1 = 2\n",
    "- 2 X 2 = 4\n",
    "- ...\n",
    "- 2 X 9 = 18\n",
    "- gugudan(10)\n",
    "- NotNumber Traceback (most recent call last)\n",
    "- ...\n",
    "- NotNumber: 잘못된 숫자입니다."
   ]
  },
  {
   "cell_type": "code",
   "execution_count": 184,
   "metadata": {},
   "outputs": [
    {
     "name": "stdout",
     "output_type": "stream",
     "text": [
      "2 * 1 = 2\n",
      "2 * 2 = 4\n",
      "2 * 3 = 6\n",
      "2 * 4 = 8\n",
      "2 * 5 = 10\n",
      "2 * 6 = 12\n",
      "2 * 7 = 14\n",
      "2 * 8 = 16\n",
      "2 * 9 = 18\n"
     ]
    }
   ],
   "source": [
    "def gugudan(number):\n",
    "    try:\n",
    "        if number not in range(1,10):\n",
    "            raise Exception(\"NotNumber: 잘못된 숫자입니다.\")\n",
    "        for i in range(1, 10):\n",
    "            # print(int(number), '*', i, '=', (int(number)*int(i)))\n",
    "            print(f'{number} * {i} = {number*i}')\n",
    "    except Exception as e:\n",
    "        print(e)\n",
    "\n",
    "gugudan(2)"
   ]
  },
  {
   "cell_type": "markdown",
   "metadata": {},
   "source": [
    "32.\n",
    "- 아래와 같이 동작하도록 pklist 패키지를 만드세요\n",
    "- import pklist\n",
    "- pklist.list_max([1,2,3],[5,6,7],[4,3,2,5,6])\n",
    "- 7\n",
    "- pklist.list_min([1,2,3],[5,6,7],[4,3,2,5,6])\n",
    "- 1\n",
    "- pklist.list_avg([1,2,3],[5,6,7],[4,3,2,5,6])\n",
    "- 4.0"
   ]
  },
  {
   "cell_type": "code",
   "execution_count": null,
   "metadata": {},
   "outputs": [],
   "source": [
    "import pklist\n",
    "pklist.list_max([1,2,3],[5,6,7],[4,3,2,5,6])\n",
    "7\n",
    "pklist.list_min([1,2,3],[5,6,7],[4,3,2,5,6])\n",
    "1\n",
    "pklist.list_avg([1,2,3],[5,6,7],[4,3,2,5,6])\n",
    "4.0"
   ]
  },
  {
   "cell_type": "code",
   "execution_count": 210,
   "metadata": {},
   "outputs": [],
   "source": [
    "def list_max(*args):\n",
    "    max_value = -1e9\n",
    "    for arg in args:\n",
    "        for i in arg:            \n",
    "            if i > max_value:\n",
    "                max_value = i\n",
    "    return max_value\n",
    "\n",
    "def list_min(*args):\n",
    "    min_value = 1e9\n",
    "    for arg in args:\n",
    "        for i in arg:            \n",
    "            if i <= min_value:\n",
    "                min_value = i\n",
    "    return min_value\n",
    "\n",
    "def list_avg(*args):\n",
    "    sum_value = 0\n",
    "    len_value = 0\n",
    "    for arg in args:\n",
    "        for i in arg:            \n",
    "            len_value += 1\n",
    "            sum_value += i\n",
    "    \n",
    "    avg_value = sum_value / len_value\n",
    "\n",
    "    return avg_value\n",
    "\n"
   ]
  },
  {
   "cell_type": "code",
   "execution_count": 221,
   "metadata": {},
   "outputs": [
    {
     "data": {
      "text/plain": [
       "4.0"
      ]
     },
     "execution_count": 221,
     "metadata": {},
     "output_type": "execute_result"
    }
   ],
   "source": [
    "import pklist\n",
    "pklist.list_avg([1,2,3],[5,6,7],[4,3,2,5,6])"
   ]
  }
 ],
 "metadata": {
  "kernelspec": {
   "display_name": "Python 3.10.4 ('study')",
   "language": "python",
   "name": "python3"
  },
  "language_info": {
   "codemirror_mode": {
    "name": "ipython",
    "version": 3
   },
   "file_extension": ".py",
   "mimetype": "text/x-python",
   "name": "python",
   "nbconvert_exporter": "python",
   "pygments_lexer": "ipython3",
   "version": "3.10.4"
  },
  "orig_nbformat": 4,
  "vscode": {
   "interpreter": {
    "hash": "0366d95cfe3e294a9405a60bcbbb3d4cd1344975bbb420614b4c3178f22fa862"
   }
  }
 },
 "nbformat": 4,
 "nbformat_minor": 2
}
